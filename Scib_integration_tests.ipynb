  {
   "cell_type": "code",
   "execution_count": 55,
   "metadata": {},
   "outputs": [],
   "source": [
    "import os\n",
    "import tempfile\n",
    "import scanpy as sc\n",
    "import scvi\n",
    "import seaborn as sns\n",
    "import torch\n",
    "from rich import print\n",
    "from scib_metrics.benchmark import Benchmarker\n"
   ]
  },
  {
   "cell_type": "code",
   "execution_count": 56,
   "metadata": {},
   "outputs": [],
   "source": [
    "Colonic_Stroma = sc.read_h5ad(\"/Users/andson/Mouse_Atlas_Intestine/Colonic_Stroma.h5ad\")\n",
    "Epi_Imm_Stro_colon = sc.read_h5ad(\"/Users/andson/Mouse_Atlas_Intestine/Epi_Imm_Stro_colon.h5ad\")\n",
    "Stromal_Colon = sc.read_h5ad(\"/Users/andson/Mouse_Atlas_Intestine/Stromal_Colon.h5ad\")\n",
    "Fibroblasts_DSS = sc.read_h5ad(\"/Users/andson/Mouse_Atlas_Intestine/Fibroblasts_DSS.h5ad\")\n",
    "Fibroblasts_ctrl = sc.read_h5ad(\"/Users/andson/Mouse_Atlas_Intestine/Fibroblasts_ctrl.h5ad\")"
   ]
  },
  {
   "cell_type": "code",
   "execution_count": 57,
   "metadata": {},
   "outputs": [
    {
     "data": {
      "text/html": [
       "<pre style=\"white-space:pre;overflow-x:auto;line-height:normal;font-family:Menlo,'DejaVu Sans Mono',consolas,'Courier New',monospace\"><span style=\"color: #800080; text-decoration-color: #800080; font-weight: bold\">Index</span><span style=\"font-weight: bold\">([</span><span style=\"color: #008000; text-decoration-color: #008000\">'Colonic_Stroma_M1_Distal_H2O_AAACATACCGAGAG'</span>,\n",
       "       <span style=\"color: #008000; text-decoration-color: #008000\">'Colonic_Stroma_M1_Distal_H2O_AAACGGCTGGTAGG'</span>,\n",
       "       <span style=\"color: #008000; text-decoration-color: #008000\">'Colonic_Stroma_M1_Distal_H2O_AAAGACGAGCAGAG'</span>,\n",
       "       <span style=\"color: #008000; text-decoration-color: #008000\">'Colonic_Stroma_M1_Distal_H2O_AAAGACGATGCCTC'</span>,\n",
       "       <span style=\"color: #008000; text-decoration-color: #008000\">'Colonic_Stroma_M1_Distal_H2O_AAAGAGACTGTTCT'</span>,\n",
       "       <span style=\"color: #008000; text-decoration-color: #008000\">'Colonic_Stroma_M1_Distal_H2O_AAAGCCTGTCCGTC'</span>,\n",
       "       <span style=\"color: #008000; text-decoration-color: #008000\">'Colonic_Stroma_M1_Distal_H2O_AAATTGACTTCGCC'</span>,\n",
       "       <span style=\"color: #008000; text-decoration-color: #008000\">'Colonic_Stroma_M1_Distal_H2O_AACAGCACCTCTAT'</span>,\n",
       "       <span style=\"color: #008000; text-decoration-color: #008000\">'Colonic_Stroma_M1_Distal_H2O_AACAGCACGCATCA'</span>,\n",
       "       <span style=\"color: #008000; text-decoration-color: #008000\">'Colonic_Stroma_M1_Distal_H2O_AACCAGTGAGAGGC'</span>,\n",
       "       <span style=\"color: #808000; text-decoration-color: #808000\">...</span>\n",
       "       <span style=\"color: #008000; text-decoration-color: #008000\">'Fibroblasts_ctrl_TTTGGTTAGTACACCT-3'</span>,\n",
       "       <span style=\"color: #008000; text-decoration-color: #008000\">'Fibroblasts_ctrl_TTTGGTTAGTTCGATC-3'</span>,\n",
       "       <span style=\"color: #008000; text-decoration-color: #008000\">'Fibroblasts_ctrl_TTTGGTTCACCTTGTC-3'</span>,\n",
       "       <span style=\"color: #008000; text-decoration-color: #008000\">'Fibroblasts_ctrl_TTTGGTTCACGGCGTT-3'</span>,\n",
       "       <span style=\"color: #008000; text-decoration-color: #008000\">'Fibroblasts_ctrl_TTTGGTTCATGGTAGG-3'</span>,\n",
       "       <span style=\"color: #008000; text-decoration-color: #008000\">'Fibroblasts_ctrl_TTTGTCAAGAGACTTA-3'</span>,\n",
       "       <span style=\"color: #008000; text-decoration-color: #008000\">'Fibroblasts_ctrl_TTTGTCAGTATCAGTC-3'</span>,\n",
       "       <span style=\"color: #008000; text-decoration-color: #008000\">'Fibroblasts_ctrl_TTTGTCAGTCAGAATA-3'</span>,\n",
       "       <span style=\"color: #008000; text-decoration-color: #008000\">'Fibroblasts_ctrl_TTTGTCATCGCTTGTC-3'</span>,\n",
       "       <span style=\"color: #008000; text-decoration-color: #008000\">'Fibroblasts_ctrl_TTTGTCATCGTCCAGG-3'</span><span style=\"font-weight: bold\">]</span>,\n",
       "      <span style=\"color: #808000; text-decoration-color: #808000\">dtype</span>=<span style=\"color: #008000; text-decoration-color: #008000\">'object'</span>, <span style=\"color: #808000; text-decoration-color: #808000\">length</span>=<span style=\"color: #008080; text-decoration-color: #008080; font-weight: bold\">57678</span><span style=\"font-weight: bold\">)</span>\n",
       "</pre>\n"
      ],
      "text/plain": [
       "\u001b[1;35mIndex\u001b[0m\u001b[1m(\u001b[0m\u001b[1m[\u001b[0m\u001b[32m'Colonic_Stroma_M1_Distal_H2O_AAACATACCGAGAG'\u001b[0m,\n",
       "       \u001b[32m'Colonic_Stroma_M1_Distal_H2O_AAACGGCTGGTAGG'\u001b[0m,\n",
       "       \u001b[32m'Colonic_Stroma_M1_Distal_H2O_AAAGACGAGCAGAG'\u001b[0m,\n",
       "       \u001b[32m'Colonic_Stroma_M1_Distal_H2O_AAAGACGATGCCTC'\u001b[0m,\n",
       "       \u001b[32m'Colonic_Stroma_M1_Distal_H2O_AAAGAGACTGTTCT'\u001b[0m,\n",
       "       \u001b[32m'Colonic_Stroma_M1_Distal_H2O_AAAGCCTGTCCGTC'\u001b[0m,\n",
       "       \u001b[32m'Colonic_Stroma_M1_Distal_H2O_AAATTGACTTCGCC'\u001b[0m,\n",
       "       \u001b[32m'Colonic_Stroma_M1_Distal_H2O_AACAGCACCTCTAT'\u001b[0m,\n",
       "       \u001b[32m'Colonic_Stroma_M1_Distal_H2O_AACAGCACGCATCA'\u001b[0m,\n",
       "       \u001b[32m'Colonic_Stroma_M1_Distal_H2O_AACCAGTGAGAGGC'\u001b[0m,\n",
       "       \u001b[33m...\u001b[0m\n",
       "       \u001b[32m'Fibroblasts_ctrl_TTTGGTTAGTACACCT-3'\u001b[0m,\n",
       "       \u001b[32m'Fibroblasts_ctrl_TTTGGTTAGTTCGATC-3'\u001b[0m,\n",
       "       \u001b[32m'Fibroblasts_ctrl_TTTGGTTCACCTTGTC-3'\u001b[0m,\n",
       "       \u001b[32m'Fibroblasts_ctrl_TTTGGTTCACGGCGTT-3'\u001b[0m,\n",
       "       \u001b[32m'Fibroblasts_ctrl_TTTGGTTCATGGTAGG-3'\u001b[0m,\n",
       "       \u001b[32m'Fibroblasts_ctrl_TTTGTCAAGAGACTTA-3'\u001b[0m,\n",
       "       \u001b[32m'Fibroblasts_ctrl_TTTGTCAGTATCAGTC-3'\u001b[0m,\n",
       "       \u001b[32m'Fibroblasts_ctrl_TTTGTCAGTCAGAATA-3'\u001b[0m,\n",
       "       \u001b[32m'Fibroblasts_ctrl_TTTGTCATCGCTTGTC-3'\u001b[0m,\n",
       "       \u001b[32m'Fibroblasts_ctrl_TTTGTCATCGTCCAGG-3'\u001b[0m\u001b[1m]\u001b[0m,\n",
       "      \u001b[33mdtype\u001b[0m=\u001b[32m'object'\u001b[0m, \u001b[33mlength\u001b[0m=\u001b[1;36m57678\u001b[0m\u001b[1m)\u001b[0m\n"
      ]
     },
     "metadata": {},
     "output_type": "display_data"
    },
    {
     "data": {
      "text/html": [
       "<pre style=\"white-space:pre;overflow-x:auto;line-height:normal;font-family:Menlo,'DejaVu Sans Mono',consolas,'Courier New',monospace\">Colonic_Stroma_M1_Distal_H2O_AAACATACCGAGAG      Colonic_Stroma\n",
       "Colonic_Stroma_M1_Distal_H2O_AAACGGCTGGTAGG      Colonic_Stroma\n",
       "Colonic_Stroma_M1_Distal_H2O_AAAGACGAGCAGAG      Colonic_Stroma\n",
       "Colonic_Stroma_M1_Distal_H2O_AAAGACGATGCCTC      Colonic_Stroma\n",
       "Colonic_Stroma_M1_Distal_H2O_AAAGAGACTGTTCT      Colonic_Stroma\n",
       "                                                     <span style=\"color: #808000; text-decoration-color: #808000\">...</span>       \n",
       "Fibroblasts_ctrl_TTTGTCAAGAGACTTA-<span style=\"color: #008080; text-decoration-color: #008080; font-weight: bold\">3</span>            Fibroblasts_ctrl\n",
       "Fibroblasts_ctrl_TTTGTCAGTATCAGTC-<span style=\"color: #008080; text-decoration-color: #008080; font-weight: bold\">3</span>            Fibroblasts_ctrl\n",
       "Fibroblasts_ctrl_TTTGTCAGTCAGAATA-<span style=\"color: #008080; text-decoration-color: #008080; font-weight: bold\">3</span>            Fibroblasts_ctrl\n",
       "Fibroblasts_ctrl_TTTGTCATCGCTTGTC-<span style=\"color: #008080; text-decoration-color: #008080; font-weight: bold\">3</span>            Fibroblasts_ctrl\n",
       "Fibroblasts_ctrl_TTTGTCATCGTCCAGG-<span style=\"color: #008080; text-decoration-color: #008080; font-weight: bold\">3</span>            Fibroblasts_ctrl\n",
       "Name: dataset_origin, Length: <span style=\"color: #008080; text-decoration-color: #008080; font-weight: bold\">57678</span>, dtype: object\n",
       "</pre>\n"
      ],
      "text/plain": [
       "Colonic_Stroma_M1_Distal_H2O_AAACATACCGAGAG      Colonic_Stroma\n",
       "Colonic_Stroma_M1_Distal_H2O_AAACGGCTGGTAGG      Colonic_Stroma\n",
       "Colonic_Stroma_M1_Distal_H2O_AAAGACGAGCAGAG      Colonic_Stroma\n",
       "Colonic_Stroma_M1_Distal_H2O_AAAGACGATGCCTC      Colonic_Stroma\n",
       "Colonic_Stroma_M1_Distal_H2O_AAAGAGACTGTTCT      Colonic_Stroma\n",
       "                                                     \u001b[33m...\u001b[0m       \n",
       "Fibroblasts_ctrl_TTTGTCAAGAGACTTA-\u001b[1;36m3\u001b[0m            Fibroblasts_ctrl\n",
       "Fibroblasts_ctrl_TTTGTCAGTATCAGTC-\u001b[1;36m3\u001b[0m            Fibroblasts_ctrl\n",
       "Fibroblasts_ctrl_TTTGTCAGTCAGAATA-\u001b[1;36m3\u001b[0m            Fibroblasts_ctrl\n",
       "Fibroblasts_ctrl_TTTGTCATCGCTTGTC-\u001b[1;36m3\u001b[0m            Fibroblasts_ctrl\n",
       "Fibroblasts_ctrl_TTTGTCATCGTCCAGG-\u001b[1;36m3\u001b[0m            Fibroblasts_ctrl\n",
       "Name: dataset_origin, Length: \u001b[1;36m57678\u001b[0m, dtype: object\n"
      ]
     },
     "metadata": {},
     "output_type": "display_data"
    }
   ],
   "source": [
    "import anndata as ad\n",
    "import pandas as pd\n",
    "\n",
    "# Create a dictionary with the dataset names and corresponding AnnData objects\n",
    "adatas = {\n",
    "    \"Colonic_Stroma\": Colonic_Stroma,\n",
    "    \"Epi_Imm_Stro_colon\": Epi_Imm_Stro_colon,\n",
    "    \"Stromal_Colon\": Stromal_Colon,\n",
    "    \"Fibroblasts_DSS\": Fibroblasts_DSS,\n",
    "    \"Fibroblasts_ctrl\": Fibroblasts_ctrl\n",
    "}\n",
    "\n",
    "# Update the observation names with the dataset name prefix\n",
    "for key in adatas:\n",
    "    adatas[key].obs_names = [f\"{key}_{obs}\" for obs in adatas[key].obs_names]\n",
    "\n",
    "for key in adatas:\n",
    "    adatas[key].obs['dataset_origin'] = key\n",
    "\n",
    "\n",
    "# Merge the datasets, preserving the unique observation names\n",
    "adatas = ad.concat(adatas, label=\"LI_merged\", join=\"outer\")\n",
    "\n",
    "# Ensure no further duplicates\n",
    "adatas.obs_names_make_unique()\n",
    "\n",
    "# If desired, print the updated observation names to check\n",
    "print(adatas.obs_names)\n",
    "\n",
    "print(adatas.obs['dataset_origin'])\n"
   ]
  },
  {
   "cell_type": "code",
   "execution_count": 42,
   "metadata": {},
   "outputs": [
    {
     "data": {
      "text/html": [
       "<pre style=\"white-space:pre;overflow-x:auto;line-height:normal;font-family:Menlo,'DejaVu Sans Mono',consolas,'Courier New',monospace\"><span style=\"color: #800080; text-decoration-color: #800080; font-weight: bold\">Index</span><span style=\"font-weight: bold\">([</span><span style=\"color: #008000; text-decoration-color: #008000\">'M1_Distal_H2O_AAACATACCGAGAG_0_0'</span>, <span style=\"color: #008000; text-decoration-color: #008000\">'M1_Distal_H2O_AAACGGCTGGTAGG_0_0'</span>,\n",
       "       <span style=\"color: #008000; text-decoration-color: #008000\">'M1_Distal_H2O_AAAGACGAGCAGAG_0_0'</span>, <span style=\"color: #008000; text-decoration-color: #008000\">'M1_Distal_H2O_AAAGACGATGCCTC_0_0'</span>,\n",
       "       <span style=\"color: #008000; text-decoration-color: #008000\">'M1_Distal_H2O_AAAGAGACTGTTCT_0_0'</span>, <span style=\"color: #008000; text-decoration-color: #008000\">'M1_Distal_H2O_AAAGCCTGTCCGTC_0_0'</span>,\n",
       "       <span style=\"color: #008000; text-decoration-color: #008000\">'M1_Distal_H2O_AAATTGACTTCGCC_0_0'</span>, <span style=\"color: #008000; text-decoration-color: #008000\">'M1_Distal_H2O_AACAGCACCTCTAT_0_0'</span>,\n",
       "       <span style=\"color: #008000; text-decoration-color: #008000\">'M1_Distal_H2O_AACAGCACGCATCA_0_0'</span>, <span style=\"color: #008000; text-decoration-color: #008000\">'M1_Distal_H2O_AACCAGTGAGAGGC_0_0'</span>,\n",
       "       <span style=\"color: #808000; text-decoration-color: #808000\">...</span>\n",
       "       <span style=\"color: #008000; text-decoration-color: #008000\">'TTTGGTTAGTACACCT-3_0_0'</span>, <span style=\"color: #008000; text-decoration-color: #008000\">'TTTGGTTAGTTCGATC-3_0_0'</span>,\n",
       "       <span style=\"color: #008000; text-decoration-color: #008000\">'TTTGGTTCACCTTGTC-3_0_0'</span>, <span style=\"color: #008000; text-decoration-color: #008000\">'TTTGGTTCACGGCGTT-3_0_0'</span>,\n",
       "       <span style=\"color: #008000; text-decoration-color: #008000\">'TTTGGTTCATGGTAGG-3_0_0'</span>, <span style=\"color: #008000; text-decoration-color: #008000\">'TTTGTCAAGAGACTTA-3_0_0'</span>,\n",
       "       <span style=\"color: #008000; text-decoration-color: #008000\">'TTTGTCAGTATCAGTC-3_0_0'</span>, <span style=\"color: #008000; text-decoration-color: #008000\">'TTTGTCAGTCAGAATA-3_0_0'</span>,\n",
       "       <span style=\"color: #008000; text-decoration-color: #008000\">'TTTGTCATCGCTTGTC-3_0_0'</span>, <span style=\"color: #008000; text-decoration-color: #008000\">'TTTGTCATCGTCCAGG-3_0_0'</span><span style=\"font-weight: bold\">]</span>,\n",
       "      <span style=\"color: #808000; text-decoration-color: #808000\">dtype</span>=<span style=\"color: #008000; text-decoration-color: #008000\">'object'</span>, <span style=\"color: #808000; text-decoration-color: #808000\">length</span>=<span style=\"color: #008080; text-decoration-color: #008080; font-weight: bold\">57678</span><span style=\"font-weight: bold\">)</span>\n",
       "</pre>\n"
      ],
      "text/plain": [
       "\u001b[1;35mIndex\u001b[0m\u001b[1m(\u001b[0m\u001b[1m[\u001b[0m\u001b[32m'M1_Distal_H2O_AAACATACCGAGAG_0_0'\u001b[0m, \u001b[32m'M1_Distal_H2O_AAACGGCTGGTAGG_0_0'\u001b[0m,\n",
       "       \u001b[32m'M1_Distal_H2O_AAAGACGAGCAGAG_0_0'\u001b[0m, \u001b[32m'M1_Distal_H2O_AAAGACGATGCCTC_0_0'\u001b[0m,\n",
       "       \u001b[32m'M1_Distal_H2O_AAAGAGACTGTTCT_0_0'\u001b[0m, \u001b[32m'M1_Distal_H2O_AAAGCCTGTCCGTC_0_0'\u001b[0m,\n",
       "       \u001b[32m'M1_Distal_H2O_AAATTGACTTCGCC_0_0'\u001b[0m, \u001b[32m'M1_Distal_H2O_AACAGCACCTCTAT_0_0'\u001b[0m,\n",
       "       \u001b[32m'M1_Distal_H2O_AACAGCACGCATCA_0_0'\u001b[0m, \u001b[32m'M1_Distal_H2O_AACCAGTGAGAGGC_0_0'\u001b[0m,\n",
       "       \u001b[33m...\u001b[0m\n",
       "       \u001b[32m'TTTGGTTAGTACACCT-3_0_0'\u001b[0m, \u001b[32m'TTTGGTTAGTTCGATC-3_0_0'\u001b[0m,\n",
       "       \u001b[32m'TTTGGTTCACCTTGTC-3_0_0'\u001b[0m, \u001b[32m'TTTGGTTCACGGCGTT-3_0_0'\u001b[0m,\n",
       "       \u001b[32m'TTTGGTTCATGGTAGG-3_0_0'\u001b[0m, \u001b[32m'TTTGTCAAGAGACTTA-3_0_0'\u001b[0m,\n",
       "       \u001b[32m'TTTGTCAGTATCAGTC-3_0_0'\u001b[0m, \u001b[32m'TTTGTCAGTCAGAATA-3_0_0'\u001b[0m,\n",
       "       \u001b[32m'TTTGTCATCGCTTGTC-3_0_0'\u001b[0m, \u001b[32m'TTTGTCATCGTCCAGG-3_0_0'\u001b[0m\u001b[1m]\u001b[0m,\n",
       "      \u001b[33mdtype\u001b[0m=\u001b[32m'object'\u001b[0m, \u001b[33mlength\u001b[0m=\u001b[1;36m57678\u001b[0m\u001b[1m)\u001b[0m\n"
      ]
     },
     "metadata": {},
     "output_type": "display_data"
    }
   ],
   "source": [
    "#import pandas as pd\n",
    "#adatas.obs_names = pd.Index(adatas.obs_names + '_' + adatas.obs_names.duplicated().cumsum().astype(str))\n",
    "#print(adatas.obs_names)\n",
    "\n"
   ]
  },
  {
   "cell_type": "code",
   "execution_count": 62,
   "metadata": {},
   "outputs": [
    {
     "data": {
      "text/html": [
       "<pre style=\"white-space:pre;overflow-x:auto;line-height:normal;font-family:Menlo,'DejaVu Sans Mono',consolas,'Courier New',monospace\">Matrix shape:\n",
       "<span style=\"font-weight: bold\">(</span><span style=\"color: #008080; text-decoration-color: #008080; font-weight: bold\">57678</span>, <span style=\"color: #008080; text-decoration-color: #008080; font-weight: bold\">18811</span><span style=\"font-weight: bold\">)</span>\n",
       "</pre>\n"
      ],
      "text/plain": [
       "Matrix shape:\n",
       "\u001b[1m(\u001b[0m\u001b[1;36m57678\u001b[0m, \u001b[1;36m18811\u001b[0m\u001b[1m)\u001b[0m\n"
      ]
     },
     "metadata": {},
     "output_type": "display_data"
    },
    {
     "data": {
      "text/html": [
       "<pre style=\"white-space:pre;overflow-x:auto;line-height:normal;font-family:Menlo,'DejaVu Sans Mono',consolas,'Courier New',monospace\">Number of non-zero elements: <span style=\"color: #008080; text-decoration-color: #008080; font-weight: bold\">109803089</span>\n",
       "</pre>\n"
      ],
      "text/plain": [
       "Number of non-zero elements: \u001b[1;36m109803089\u001b[0m\n"
      ]
     },
     "metadata": {},
     "output_type": "display_data"
    },
    {
     "data": {
      "text/html": [
       "<pre style=\"white-space:pre;overflow-x:auto;line-height:normal;font-family:Menlo,'DejaVu Sans Mono',consolas,'Courier New',monospace\">Observations <span style=\"font-weight: bold\">(</span>cells<span style=\"font-weight: bold\">)</span>:\n",
       "<span style=\"font-weight: bold\">(</span><span style=\"color: #008080; text-decoration-color: #008080; font-weight: bold\">57678</span>, <span style=\"color: #008080; text-decoration-color: #008080; font-weight: bold\">33</span><span style=\"font-weight: bold\">)</span>\n",
       "</pre>\n"
      ],
      "text/plain": [
       "Observations \u001b[1m(\u001b[0mcells\u001b[1m)\u001b[0m:\n",
       "\u001b[1m(\u001b[0m\u001b[1;36m57678\u001b[0m, \u001b[1;36m33\u001b[0m\u001b[1m)\u001b[0m\n"
      ]
     },
     "metadata": {},
     "output_type": "display_data"
    },
    {
     "data": {
      "text/html": [
       "<pre style=\"white-space:pre;overflow-x:auto;line-height:normal;font-family:Menlo,'DejaVu Sans Mono',consolas,'Courier New',monospace\">Variables <span style=\"font-weight: bold\">(</span>genes<span style=\"font-weight: bold\">)</span>:\n",
       "<span style=\"font-weight: bold\">(</span><span style=\"color: #008080; text-decoration-color: #008080; font-weight: bold\">18811</span>, <span style=\"color: #008080; text-decoration-color: #008080; font-weight: bold\">6</span><span style=\"font-weight: bold\">)</span>\n",
       "</pre>\n"
      ],
      "text/plain": [
       "Variables \u001b[1m(\u001b[0mgenes\u001b[1m)\u001b[0m:\n",
       "\u001b[1m(\u001b[0m\u001b[1;36m18811\u001b[0m, \u001b[1;36m6\u001b[0m\u001b[1m)\u001b[0m\n"
      ]
     },
     "metadata": {},
     "output_type": "display_data"
    },
    {
     "data": {
      "text/html": [
       "<pre style=\"white-space:pre;overflow-x:auto;line-height:normal;font-family:Menlo,'DejaVu Sans Mono',consolas,'Courier New',monospace\">Layers: Layers with keys: \n",
       "</pre>\n"
      ],
      "text/plain": [
       "Layers: Layers with keys: \n"
      ]
     },
     "metadata": {},
     "output_type": "display_data"
    },
    {
     "data": {
      "text/html": [
       "<pre style=\"white-space:pre;overflow-x:auto;line-height:normal;font-family:Menlo,'DejaVu Sans Mono',consolas,'Courier New',monospace\">AnnData object with n_obs × n_vars = <span style=\"color: #008080; text-decoration-color: #008080; font-weight: bold\">57678</span> × <span style=\"color: #008080; text-decoration-color: #008080; font-weight: bold\">18811</span>\n",
       "    obs: <span style=\"color: #008000; text-decoration-color: #008000\">'orig.ident'</span>, <span style=\"color: #008000; text-decoration-color: #008000\">'nCount_RNA'</span>, <span style=\"color: #008000; text-decoration-color: #008000\">'nFeature_RNA'</span>, <span style=\"color: #008000; text-decoration-color: #008000\">'Sample'</span>, <span style=\"color: #008000; text-decoration-color: #008000\">'percent.mito'</span>, <span style=\"color: #008000; text-decoration-color: #008000\">'Site'</span>, <span style=\"color: #008000; text-decoration-color: #008000\">'Treatment'</span>, <span style=\"color: #008000; text-decoration-color: #008000\">'batch'</span>, \n",
       "<span style=\"color: #008000; text-decoration-color: #008000\">'Celltype_Stroma_Atlas'</span>, <span style=\"color: #008000; text-decoration-color: #008000\">'Celltype_Endothelium_Atlas'</span>, <span style=\"color: #008000; text-decoration-color: #008000\">'Celltype_Fibroblast_Atlas'</span>, <span style=\"color: #008000; text-decoration-color: #008000\">'percent.mt'</span>, <span style=\"color: #008000; text-decoration-color: #008000\">'percent_ribo'</span>, \n",
       "<span style=\"color: #008000; text-decoration-color: #008000\">'celltype'</span>, <span style=\"color: #008000; text-decoration-color: #008000\">'unintegrated_clusters'</span>, <span style=\"color: #008000; text-decoration-color: #008000\">'seurat_clusters'</span>, <span style=\"color: #008000; text-decoration-color: #008000\">'harmony_clusters'</span>, <span style=\"color: #008000; text-decoration-color: #008000\">'cellType'</span>, <span style=\"color: #008000; text-decoration-color: #008000\">'celltype_general'</span>, \n",
       "<span style=\"color: #008000; text-decoration-color: #008000\">'celltype_integration'</span>, <span style=\"color: #008000; text-decoration-color: #008000\">'covariate'</span>, <span style=\"color: #008000; text-decoration-color: #008000\">'dataset_origin'</span>, <span style=\"color: #008000; text-decoration-color: #008000\">'exptCond'</span>, <span style=\"color: #008000; text-decoration-color: #008000\">'tissueLayer'</span>, <span style=\"color: #008000; text-decoration-color: #008000\">'condition'</span>, <span style=\"color: #008000; text-decoration-color: #008000\">'nCount_SCT'</span>, \n",
       "<span style=\"color: #008000; text-decoration-color: #008000\">'nFeature_SCT'</span>, <span style=\"color: #008000; text-decoration-color: #008000\">'SCT_snn_res.0.5'</span>, <span style=\"color: #008000; text-decoration-color: #008000\">'SCT_snn_res.0.4'</span>, <span style=\"color: #008000; text-decoration-color: #008000\">'cellType_integration'</span>, <span style=\"color: #008000; text-decoration-color: #008000\">'celltype_intergation'</span>, \n",
       "<span style=\"color: #008000; text-decoration-color: #008000\">'celltype_integration_2'</span>, <span style=\"color: #008000; text-decoration-color: #008000\">'LI_merged'</span>\n",
       "    var: <span style=\"color: #008000; text-decoration-color: #008000\">'highly_variable'</span>, <span style=\"color: #008000; text-decoration-color: #008000\">'means'</span>, <span style=\"color: #008000; text-decoration-color: #008000\">'dispersions'</span>, <span style=\"color: #008000; text-decoration-color: #008000\">'dispersions_norm'</span>, <span style=\"color: #008000; text-decoration-color: #008000\">'highly_variable_nbatches'</span>, \n",
       "<span style=\"color: #008000; text-decoration-color: #008000\">'highly_variable_intersection'</span>\n",
       "    uns: <span style=\"color: #008000; text-decoration-color: #008000\">'hvg'</span>, <span style=\"color: #008000; text-decoration-color: #008000\">'pca'</span>\n",
       "    obsm: <span style=\"color: #008000; text-decoration-color: #008000\">'X_harmony'</span>, <span style=\"color: #008000; text-decoration-color: #008000\">'X_pca'</span>, <span style=\"color: #008000; text-decoration-color: #008000\">'X_umap.harmony'</span>, <span style=\"color: #008000; text-decoration-color: #008000\">'X_umap.unintegrated'</span>, <span style=\"color: #008000; text-decoration-color: #008000\">'X_umap'</span>\n",
       "    varm: <span style=\"color: #008000; text-decoration-color: #008000\">'PCs'</span>\n",
       "</pre>\n"
      ],
      "text/plain": [
       "AnnData object with n_obs × n_vars = \u001b[1;36m57678\u001b[0m × \u001b[1;36m18811\u001b[0m\n",
       "    obs: \u001b[32m'orig.ident'\u001b[0m, \u001b[32m'nCount_RNA'\u001b[0m, \u001b[32m'nFeature_RNA'\u001b[0m, \u001b[32m'Sample'\u001b[0m, \u001b[32m'percent.mito'\u001b[0m, \u001b[32m'Site'\u001b[0m, \u001b[32m'Treatment'\u001b[0m, \u001b[32m'batch'\u001b[0m, \n",
       "\u001b[32m'Celltype_Stroma_Atlas'\u001b[0m, \u001b[32m'Celltype_Endothelium_Atlas'\u001b[0m, \u001b[32m'Celltype_Fibroblast_Atlas'\u001b[0m, \u001b[32m'percent.mt'\u001b[0m, \u001b[32m'percent_ribo'\u001b[0m, \n",
       "\u001b[32m'celltype'\u001b[0m, \u001b[32m'unintegrated_clusters'\u001b[0m, \u001b[32m'seurat_clusters'\u001b[0m, \u001b[32m'harmony_clusters'\u001b[0m, \u001b[32m'cellType'\u001b[0m, \u001b[32m'celltype_general'\u001b[0m, \n",
       "\u001b[32m'celltype_integration'\u001b[0m, \u001b[32m'covariate'\u001b[0m, \u001b[32m'dataset_origin'\u001b[0m, \u001b[32m'exptCond'\u001b[0m, \u001b[32m'tissueLayer'\u001b[0m, \u001b[32m'condition'\u001b[0m, \u001b[32m'nCount_SCT'\u001b[0m, \n",
       "\u001b[32m'nFeature_SCT'\u001b[0m, \u001b[32m'SCT_snn_res.0.5'\u001b[0m, \u001b[32m'SCT_snn_res.0.4'\u001b[0m, \u001b[32m'cellType_integration'\u001b[0m, \u001b[32m'celltype_intergation'\u001b[0m, \n",
       "\u001b[32m'celltype_integration_2'\u001b[0m, \u001b[32m'LI_merged'\u001b[0m\n",
       "    var: \u001b[32m'highly_variable'\u001b[0m, \u001b[32m'means'\u001b[0m, \u001b[32m'dispersions'\u001b[0m, \u001b[32m'dispersions_norm'\u001b[0m, \u001b[32m'highly_variable_nbatches'\u001b[0m, \n",
       "\u001b[32m'highly_variable_intersection'\u001b[0m\n",
       "    uns: \u001b[32m'hvg'\u001b[0m, \u001b[32m'pca'\u001b[0m\n",
       "    obsm: \u001b[32m'X_harmony'\u001b[0m, \u001b[32m'X_pca'\u001b[0m, \u001b[32m'X_umap.harmony'\u001b[0m, \u001b[32m'X_umap.unintegrated'\u001b[0m, \u001b[32m'X_umap'\u001b[0m\n",
       "    varm: \u001b[32m'PCs'\u001b[0m\n"
      ]
     },
     "metadata": {},
     "output_type": "display_data"
    }
   ],
   "source": [
    "#Explore merged data\n",
    "print(\"Matrix shape:\", adatas.X.shape)\n",
    "print(\"Number of non-zero elements:\", adatas.X.nnz)\n",
    "print(\"Observations (cells):\", adatas.obs.shape)\n",
    "print(\"Variables (genes):\", adatas.var.shape)\n",
    "print(\"Layers:\", adatas.layers)\n",
    "print(adatas)"
   ]
  },
  {
   "cell_type": "code",
   "execution_count": 58,
   "metadata": {},
   "outputs": [],
   "source": [
    "adatas.write('/Users/andson/Mouse_Atlas_Intestine/merged_LI.h5ad')"
   ]
  },
  {
   "cell_type": "code",
   "execution_count": 59,
   "metadata": {},
   "outputs": [
    {
     "name": "stderr",
     "output_type": "stream",
     "text": [
      "/Users/andson/miniconda3/envs/mouseatlas/lib/python3.12/site-packages/scanpy/preprocessing/_pca.py:385: FutureWarning: Argument `use_highly_variable` is deprecated, consider using the mask argument. Use_highly_variable=True can be called through mask_var=\"highly_variable\". Use_highly_variable=False can be called through mask_var=None\n",
      "  warn(msg, FutureWarning)\n"
     ]
    }
   ],
   "source": [
    "sc.pp.highly_variable_genes(adatas, n_top_genes=2000, flavor=\"seurat\", batch_key=\"dataset_origin\")\n",
    "sc.tl.pca(adatas, n_comps=30, use_highly_variable=True)"
   ]
  },
  {
   "cell_type": "code",
   "execution_count": 76,
   "metadata": {},
   "outputs": [],
   "source": [
    "adatas = adatas[:, adatas.var.highly_variable].copy()\n",
    "adatas.obsm[\"Unintegrated\"] = adatas.obsm[\"X_pca\"]\n"
   ]
  },
  {
   "cell_type": "code",
   "execution_count": 64,
   "metadata": {},
   "outputs": [
    {
     "name": "stdout",
     "output_type": "stream",
     "text": [
      "Found 18811 genes among all datasets\n",
      "[[0.00000000e+00 7.99730049e-02 6.62291496e-01 2.19748022e-01\n",
      "  5.72153612e-01]\n",
      " [0.00000000e+00 0.00000000e+00 1.07738584e-01 6.12364489e-02\n",
      "  1.77973270e-01]\n",
      " [0.00000000e+00 0.00000000e+00 0.00000000e+00 6.48619087e-01\n",
      "  2.73448182e-04]\n",
      " [0.00000000e+00 0.00000000e+00 0.00000000e+00 0.00000000e+00\n",
      "  6.44594199e-02]\n",
      " [0.00000000e+00 0.00000000e+00 0.00000000e+00 0.00000000e+00\n",
      "  0.00000000e+00]]\n",
      "Processing datasets (0, 2)\n",
      "Processing datasets (2, 3)\n",
      "Processing datasets (0, 4)\n",
      "Processing datasets (0, 3)\n",
      "Processing datasets (1, 4)\n",
      "Processing datasets (1, 2)\n"
     ]
    }
   ],
   "source": [
    "#Scanorama\n",
    "import scanorama\n",
    "import numpy as np\n",
    "\n",
    "# List of adata per batch\n",
    "batch_cats = adatas.obs.dataset_origin.cat.categories\n",
    "adata_list = [adatas[adatas.obs.dataset_origin == b].copy() for b in batch_cats]\n",
    "scanorama.integrate_scanpy(adata_list)\n",
    "\n",
    "adatas.obsm[\"Scanorama\"] = np.zeros((adatas.shape[0], adata_list[0].obsm[\"X_scanorama\"].shape[1]))\n",
    "for i, b in enumerate(batch_cats):\n",
    "    adatas.obsm[\"Scanorama\"][adatas.obs.dataset_origin == b] = adata_list[i].obsm[\"X_scanorama\"]"
   ]
  },
  {
   "cell_type": "code",
   "execution_count": 66,
   "metadata": {},
   "outputs": [
    {
     "name": "stdout",
     "output_type": "stream",
     "text": [
      "\tInitialization is completed.\n",
      "\tCompleted 1 / 10 iteration(s).\n",
      "\tCompleted 2 / 10 iteration(s).\n",
      "\tCompleted 3 / 10 iteration(s).\n",
      "\tCompleted 4 / 10 iteration(s).\n",
      "\tCompleted 5 / 10 iteration(s).\n",
      "\tCompleted 6 / 10 iteration(s).\n",
      "\tCompleted 7 / 10 iteration(s).\n",
      "\tCompleted 8 / 10 iteration(s).\n",
      "Reach convergence after 8 iteration(s).\n"
     ]
    }
   ],
   "source": [
    "from harmony import harmonize\n",
    "\n",
    "adatas.obsm[\"Harmony\"] = harmonize(adatas.obsm[\"X_pca\"], adatas.obs, batch_key=\"dataset_origin\")\n"
   ]
  },
  {
   "cell_type": "code",
   "execution_count": 65,
   "metadata": {},
   "outputs": [
    {
     "data": {
      "text/plain": [
       "<Compressed Sparse Row sparse matrix of dtype 'float64'\n",
       "\twith 109803089 stored elements and shape (57678, 18811)>"
      ]
     },
     "execution_count": 65,
     "metadata": {},
     "output_type": "execute_result"
    }
   ],
   "source": [
    "adatas.X"
   ]
  },
  {
   "cell_type": "code",
   "execution_count": 68,
   "metadata": {},
   "outputs": [
    {
     "name": "stderr",
     "output_type": "stream",
     "text": [
      "/Users/andson/miniconda3/envs/mouseatlas/lib/python3.12/site-packages/scvi/data/fields/_base_field.py:64: UserWarning: adata.layers[counts] does not contain unnormalized count data. Are you sure this is what you want?\n",
      "  self.validate_field(adata)\n",
      "GPU available: True (mps), used: False\n",
      "TPU available: False, using: 0 TPU cores\n",
      "IPU available: False, using: 0 IPUs\n",
      "HPU available: False, using: 0 HPUs\n",
      "/Users/andson/miniconda3/envs/mouseatlas/lib/python3.12/site-packages/lightning/pytorch/trainer/setup.py:201: UserWarning: MPS available but not used. Set `accelerator` and `devices` using `Trainer(accelerator='mps', devices=1)`.\n",
      "  rank_zero_warn(\n",
      "python(55267) MallocStackLogging: can't turn off malloc stack logging because it was not enabled.\n"
     ]
    },
    {
     "name": "stdout",
     "output_type": "stream",
     "text": [
      "Epoch 139/139: 100%|██████████| 139/139 [2:03:45<00:00, 40.05s/it, v_num=1, train_loss_step=4.43e+3, train_loss_epoch=4.54e+3] "
     ]
    },
    {
     "name": "stderr",
     "output_type": "stream",
     "text": [
      "`Trainer.fit` stopped: `max_epochs=139` reached.\n"
     ]
    },
    {
     "name": "stdout",
     "output_type": "stream",
     "text": [
      "Epoch 139/139: 100%|██████████| 139/139 [2:03:45<00:00, 53.42s/it, v_num=1, train_loss_step=4.43e+3, train_loss_epoch=4.54e+3]\n"
     ]
    },
    {
     "ename": "NameError",
     "evalue": "name 'adata' is not defined",
     "output_type": "error",
     "traceback": [
      "\u001b[0;31m---------------------------------------------------------------------------\u001b[0m",
      "\u001b[0;31mNameError\u001b[0m                                 Traceback (most recent call last)",
      "\u001b[1;32m/Users/andson/Scib_integration_tests.ipynb Cell 15\u001b[0m line \u001b[0;36m6\n\u001b[1;32m      <a href='vscode-notebook-cell:/Users/andson/Scib_integration_tests.ipynb#X14sZmlsZQ%3D%3D?line=3'>4</a>\u001b[0m vae \u001b[39m=\u001b[39m scvi\u001b[39m.\u001b[39mmodel\u001b[39m.\u001b[39mSCVI(adatas, gene_likelihood\u001b[39m=\u001b[39m\u001b[39m\"\u001b[39m\u001b[39mnb\u001b[39m\u001b[39m\"\u001b[39m, n_layers\u001b[39m=\u001b[39m\u001b[39m2\u001b[39m, n_latent\u001b[39m=\u001b[39m\u001b[39m30\u001b[39m)\n\u001b[1;32m      <a href='vscode-notebook-cell:/Users/andson/Scib_integration_tests.ipynb#X14sZmlsZQ%3D%3D?line=4'>5</a>\u001b[0m vae\u001b[39m.\u001b[39mtrain()\n\u001b[0;32m----> <a href='vscode-notebook-cell:/Users/andson/Scib_integration_tests.ipynb#X14sZmlsZQ%3D%3D?line=5'>6</a>\u001b[0m adata\u001b[39m.\u001b[39mobsm[\u001b[39m\"\u001b[39m\u001b[39mscVI\u001b[39m\u001b[39m\"\u001b[39m] \u001b[39m=\u001b[39m vae\u001b[39m.\u001b[39mget_latent_representation()\n",
      "\u001b[0;31mNameError\u001b[0m: name 'adata' is not defined"
     ]
    }
   ],
   "source": [
    "import scvi\n",
    "adatas.layers[\"counts\"] = adatas.X.copy()\n",
    "scvi.model.SCVI.setup_anndata(adatas, layer=\"counts\", batch_key=\"dataset_origin\")\n",
    "vae = scvi.model.SCVI(adatas, gene_likelihood=\"nb\", n_layers=2, n_latent=30)\n",
    "vae.train()\n",
    "adatas.obsm[\"scVI\"] = vae.get_latent_representation()"
   ]
  },
  {
   "cell_type": "code",
   "execution_count": 69,
   "metadata": {},
   "outputs": [],
   "source": [
    "adatas.obsm[\"scVI\"] = vae.get_latent_representation()"
   ]
  },
  {
   "cell_type": "markdown",
   "metadata": {},
   "source": [
    "If you want to finetune parameters:"
   ]
  },
  {
   "cell_type": "code",
   "execution_count": 74,
   "metadata": {},
   "outputs": [
    {
     "name": "stderr",
     "output_type": "stream",
     "text": [
      "/var/folders/3h/p1kf8x4n11lfvm53slv8wr340000gp/T/ipykernel_51461/420869213.py:2: FutureWarning: A value is trying to be set on a copy of a DataFrame or Series through chained assignment using an inplace method.\n",
      "The behavior will change in pandas 3.0. This inplace method will never work because the intermediate object on which we are setting values always behaves as a copy.\n",
      "\n",
      "For example, when doing 'df[col].method(value, inplace=True)', try using 'df.method({col: value}, inplace=True)' or df[col] = df[col].method(value) instead, to perform the operation inplace on the original object.\n",
      "\n",
      "\n",
      "  adatas.obs['celltype_integration'].fillna('unknown', inplace=True)\n",
      "/Users/andson/miniconda3/envs/mouseatlas/lib/python3.12/site-packages/scvi/data/fields/_base_field.py:64: UserWarning: adata.layers[counts] does not contain unnormalized count data. Are you sure this is what you want?\n",
      "  self.validate_field(adata)\n"
     ]
    },
    {
     "name": "stdout",
     "output_type": "stream",
     "text": [
      "\u001b[34mINFO    \u001b[0m Training for \u001b[1;36m20\u001b[0m epochs.                                                                                   \n"
     ]
    },
    {
     "name": "stderr",
     "output_type": "stream",
     "text": [
      "GPU available: True (mps), used: False\n",
      "TPU available: False, using: 0 TPU cores\n",
      "IPU available: False, using: 0 IPUs\n",
      "HPU available: False, using: 0 HPUs\n",
      "/Users/andson/miniconda3/envs/mouseatlas/lib/python3.12/site-packages/lightning/pytorch/trainer/setup.py:201: UserWarning: MPS available but not used. Set `accelerator` and `devices` using `Trainer(accelerator='mps', devices=1)`.\n",
      "  rank_zero_warn(\n"
     ]
    },
    {
     "name": "stdout",
     "output_type": "stream",
     "text": [
      "Epoch 20/20: 100%|██████████| 20/20 [27:04<00:00, 78.85s/it, v_num=1, train_loss_step=4.54e+3, train_loss_epoch=4.54e+3]"
     ]
    },
    {
     "name": "stderr",
     "output_type": "stream",
     "text": [
      "`Trainer.fit` stopped: `max_epochs=20` reached.\n"
     ]
    },
    {
     "name": "stdout",
     "output_type": "stream",
     "text": [
      "Epoch 20/20: 100%|██████████| 20/20 [27:04<00:00, 81.24s/it, v_num=1, train_loss_step=4.54e+3, train_loss_epoch=4.54e+3]\n"
     ]
    }
   ],
   "source": [
    "adatas.obs['celltype_integration'] = adatas.obs['celltype_integration'].cat.add_categories('unknown')\n",
    "adatas.obs['celltype_integration'].fillna('unknown', inplace=True)\n",
    "\n",
    "lvae = scvi.model.SCANVI.from_scvi_model(\n",
    "    vae,\n",
    "    adata=adatas,\n",
    "    labels_key=\"celltype_integration\",\n",
    "    unlabeled_category=\"unknown\",\n",
    ")\n",
    "lvae.train(max_epochs=20, n_samples_per_label=100)\n",
    "adatas.obsm[\"scANVI\"] = lvae.get_latent_representation()"
   ]
  },
  {
   "cell_type": "code",
   "execution_count": 77,
   "metadata": {},
   "outputs": [
    {
     "name": "stderr",
     "output_type": "stream",
     "text": [
      "/Users/andson/miniconda3/envs/mouseatlas/lib/python3.12/site-packages/scanpy/preprocessing/_pca.py:385: FutureWarning: Argument `use_highly_variable` is deprecated, consider using the mask argument. Use_highly_variable=True can be called through mask_var=\"highly_variable\". Use_highly_variable=False can be called through mask_var=None\n",
      "  warn(msg, FutureWarning)\n",
      "Computing neighbors: 100%|██████████| 5/5 [00:38<00:00,  7.79s/it]\n",
      "Embeddings:   0%|\u001b[32m          \u001b[0m| 0/5 [00:00<?, ?it/s]"
     ]
    },
    {
     "name": "stdout",
     "output_type": "stream",
     "text": [
      "\u001b[34mINFO    \u001b[0m ActNeutrophil consists of a single batch or is too small. Skip.                                           \n"
     ]
    },
    {
     "name": "stderr",
     "output_type": "stream",
     "text": [
      "/Users/andson/miniconda3/envs/mouseatlas/lib/python3.12/site-packages/scib_metrics/_kbet.py:181: FutureWarning: pandas.value_counts is deprecated and will be removed in a future version. Use pd.Series(obj).value_counts() instead.\n",
      "  comp_size = pd.value_counts(labs)\n"
     ]
    },
    {
     "name": "stdout",
     "output_type": "stream",
     "text": [
      "\u001b[34mINFO    \u001b[0m Bcell_IgM consists of a single batch or is too small. Skip.                                               \n",
      "\u001b[34mINFO    \u001b[0m DC consists of a single batch or is too small. Skip.                                                      \n",
      "\u001b[34mINFO    \u001b[0m EnteroEnd1 consists of a single batch or is too small. Skip.                                              \n",
      "\u001b[34mINFO    \u001b[0m EnteroEnd2 consists of a single batch or is too small. Skip.                                              \n",
      "\u001b[34mINFO    \u001b[0m Enterocyte consists of a single batch or is too small. Skip.                                              \n"
     ]
    },
    {
     "name": "stderr",
     "output_type": "stream",
     "text": [
      "/Users/andson/miniconda3/envs/mouseatlas/lib/python3.12/site-packages/scib_metrics/_kbet.py:181: FutureWarning: pandas.value_counts is deprecated and will be removed in a future version. Use pd.Series(obj).value_counts() instead.\n",
      "  comp_size = pd.value_counts(labs)\n",
      "/Users/andson/miniconda3/envs/mouseatlas/lib/python3.12/site-packages/scib_metrics/_kbet.py:181: FutureWarning: pandas.value_counts is deprecated and will be removed in a future version. Use pd.Series(obj).value_counts() instead.\n",
      "  comp_size = pd.value_counts(labs)\n"
     ]
    },
    {
     "name": "stdout",
     "output_type": "stream",
     "text": [
      "\u001b[34mINFO    \u001b[0m Goblet consists of a single batch or is too small. Skip.                                                  \n"
     ]
    },
    {
     "name": "stderr",
     "output_type": "stream",
     "text": [
      "/Users/andson/miniconda3/envs/mouseatlas/lib/python3.12/site-packages/scib_metrics/_kbet.py:181: FutureWarning: pandas.value_counts is deprecated and will be removed in a future version. Use pd.Series(obj).value_counts() instead.\n",
      "  comp_size = pd.value_counts(labs)\n"
     ]
    },
    {
     "name": "stdout",
     "output_type": "stream",
     "text": [
      "\u001b[34mINFO    \u001b[0m InjuryMono consists of a single batch or is too small. Skip.                                              \n"
     ]
    },
    {
     "name": "stderr",
     "output_type": "stream",
     "text": [
      "/Users/andson/miniconda3/envs/mouseatlas/lib/python3.12/site-packages/scib_metrics/_kbet.py:181: FutureWarning: pandas.value_counts is deprecated and will be removed in a future version. Use pd.Series(obj).value_counts() instead.\n",
      "  comp_size = pd.value_counts(labs)\n",
      "/Users/andson/miniconda3/envs/mouseatlas/lib/python3.12/site-packages/scib_metrics/_kbet.py:181: FutureWarning: pandas.value_counts is deprecated and will be removed in a future version. Use pd.Series(obj).value_counts() instead.\n",
      "  comp_size = pd.value_counts(labs)\n"
     ]
    },
    {
     "name": "stdout",
     "output_type": "stream",
     "text": [
      "\u001b[34mINFO    \u001b[0m Macrophage consists of a single batch or is too small. Skip.                                              \n"
     ]
    },
    {
     "name": "stderr",
     "output_type": "stream",
     "text": [
      "/Users/andson/miniconda3/envs/mouseatlas/lib/python3.12/site-packages/scib_metrics/_kbet.py:181: FutureWarning: pandas.value_counts is deprecated and will be removed in a future version. Use pd.Series(obj).value_counts() instead.\n",
      "  comp_size = pd.value_counts(labs)\n",
      "/Users/andson/miniconda3/envs/mouseatlas/lib/python3.12/site-packages/scib_metrics/_kbet.py:181: FutureWarning: pandas.value_counts is deprecated and will be removed in a future version. Use pd.Series(obj).value_counts() instead.\n",
      "  comp_size = pd.value_counts(labs)\n",
      "/Users/andson/miniconda3/envs/mouseatlas/lib/python3.12/site-packages/scib_metrics/_kbet.py:181: FutureWarning: pandas.value_counts is deprecated and will be removed in a future version. Use pd.Series(obj).value_counts() instead.\n",
      "  comp_size = pd.value_counts(labs)\n"
     ]
    },
    {
     "name": "stdout",
     "output_type": "stream",
     "text": [
      "\u001b[34mINFO    \u001b[0m Plasma_IgA consists of a single batch or is too small. Skip.                                              \n"
     ]
    },
    {
     "name": "stderr",
     "output_type": "stream",
     "text": [
      "/Users/andson/miniconda3/envs/mouseatlas/lib/python3.12/site-packages/scib_metrics/_kbet.py:181: FutureWarning: pandas.value_counts is deprecated and will be removed in a future version. Use pd.Series(obj).value_counts() instead.\n",
      "  comp_size = pd.value_counts(labs)\n"
     ]
    },
    {
     "name": "stdout",
     "output_type": "stream",
     "text": [
      "\u001b[34mINFO    \u001b[0m SmoothMuscle consists of a single batch or is too small. Skip.                                            \n",
      "\u001b[34mINFO    \u001b[0m StemCell consists of a single batch or is too small. Skip.                                                \n",
      "\u001b[34mINFO    \u001b[0m TA consists of a single batch or is too small. Skip.                                                      \n",
      "\u001b[34mINFO    \u001b[0m Tcell2 consists of a single batch or is too small. Skip.                                                  \n",
      "\u001b[34mINFO    \u001b[0m TcellCD8_NK consists of a single batch or is too small. Skip.                                             \n",
      "\u001b[34mINFO    \u001b[0m Tuft consists of a single batch or is too small. Skip.                                                    \n",
      "\u001b[34mINFO    \u001b[0m VascEndo consists of a single batch or is too small. Skip.                                                \n"
     ]
    },
    {
     "name": "stderr",
     "output_type": "stream",
     "text": [
      "/Users/andson/miniconda3/envs/mouseatlas/lib/python3.12/site-packages/scib_metrics/_kbet.py:181: FutureWarning: pandas.value_counts is deprecated and will be removed in a future version. Use pd.Series(obj).value_counts() instead.\n",
      "  comp_size = pd.value_counts(labs)\n",
      "/Users/andson/miniconda3/envs/mouseatlas/lib/python3.12/site-packages/scib_metrics/_graph_connectivity.py:30: FutureWarning: pandas.value_counts is deprecated and will be removed in a future version. Use pd.Series(obj).value_counts() instead.\n",
      "  tab = pd.value_counts(comps)\n",
      "/Users/andson/miniconda3/envs/mouseatlas/lib/python3.12/site-packages/scib_metrics/_pcr_comparison.py:49: UserWarning: PCR comparison score is negative, meaning variance contribution increased after integration. Setting to 0.\n",
      "  warnings.warn(\n",
      "Embeddings:  20%|\u001b[32m██        \u001b[0m| 1/5 [03:31<14:07, 211.76s/it]"
     ]
    },
    {
     "name": "stdout",
     "output_type": "stream",
     "text": [
      "\u001b[34mINFO    \u001b[0m ActNeutrophil consists of a single batch or is too small. Skip.                                           \n"
     ]
    },
    {
     "name": "stderr",
     "output_type": "stream",
     "text": [
      "/Users/andson/miniconda3/envs/mouseatlas/lib/python3.12/site-packages/scib_metrics/_kbet.py:181: FutureWarning: pandas.value_counts is deprecated and will be removed in a future version. Use pd.Series(obj).value_counts() instead.\n",
      "  comp_size = pd.value_counts(labs)\n"
     ]
    },
    {
     "name": "stdout",
     "output_type": "stream",
     "text": [
      "\u001b[34mINFO    \u001b[0m Bcell_IgM consists of a single batch or is too small. Skip.                                               \n",
      "\u001b[34mINFO    \u001b[0m DC consists of a single batch or is too small. Skip.                                                      \n",
      "\u001b[34mINFO    \u001b[0m EnteroEnd1 consists of a single batch or is too small. Skip.                                              \n",
      "\u001b[34mINFO    \u001b[0m EnteroEnd2 consists of a single batch or is too small. Skip.                                              \n",
      "\u001b[34mINFO    \u001b[0m Enterocyte consists of a single batch or is too small. Skip.                                              \n"
     ]
    },
    {
     "name": "stderr",
     "output_type": "stream",
     "text": [
      "/Users/andson/miniconda3/envs/mouseatlas/lib/python3.12/site-packages/scib_metrics/_kbet.py:181: FutureWarning: pandas.value_counts is deprecated and will be removed in a future version. Use pd.Series(obj).value_counts() instead.\n",
      "  comp_size = pd.value_counts(labs)\n"
     ]
    },
    {
     "name": "stdout",
     "output_type": "stream",
     "text": [
      "\u001b[34mINFO    \u001b[0m Goblet consists of a single batch or is too small. Skip.                                                  \n"
     ]
    },
    {
     "name": "stderr",
     "output_type": "stream",
     "text": [
      "/Users/andson/miniconda3/envs/mouseatlas/lib/python3.12/site-packages/scib_metrics/_kbet.py:181: FutureWarning: pandas.value_counts is deprecated and will be removed in a future version. Use pd.Series(obj).value_counts() instead.\n",
      "  comp_size = pd.value_counts(labs)\n",
      "/Users/andson/miniconda3/envs/mouseatlas/lib/python3.12/site-packages/scib_metrics/_kbet.py:181: FutureWarning: pandas.value_counts is deprecated and will be removed in a future version. Use pd.Series(obj).value_counts() instead.\n",
      "  comp_size = pd.value_counts(labs)\n"
     ]
    },
    {
     "name": "stdout",
     "output_type": "stream",
     "text": [
      "\u001b[34mINFO    \u001b[0m InjuryMono consists of a single batch or is too small. Skip.                                              \n"
     ]
    },
    {
     "name": "stderr",
     "output_type": "stream",
     "text": [
      "/Users/andson/miniconda3/envs/mouseatlas/lib/python3.12/site-packages/scib_metrics/_kbet.py:181: FutureWarning: pandas.value_counts is deprecated and will be removed in a future version. Use pd.Series(obj).value_counts() instead.\n",
      "  comp_size = pd.value_counts(labs)\n",
      "/Users/andson/miniconda3/envs/mouseatlas/lib/python3.12/site-packages/scib_metrics/_kbet.py:181: FutureWarning: pandas.value_counts is deprecated and will be removed in a future version. Use pd.Series(obj).value_counts() instead.\n",
      "  comp_size = pd.value_counts(labs)\n"
     ]
    },
    {
     "name": "stdout",
     "output_type": "stream",
     "text": [
      "\u001b[34mINFO    \u001b[0m Macrophage consists of a single batch or is too small. Skip.                                              \n"
     ]
    },
    {
     "name": "stderr",
     "output_type": "stream",
     "text": [
      "/Users/andson/miniconda3/envs/mouseatlas/lib/python3.12/site-packages/scib_metrics/_kbet.py:181: FutureWarning: pandas.value_counts is deprecated and will be removed in a future version. Use pd.Series(obj).value_counts() instead.\n",
      "  comp_size = pd.value_counts(labs)\n",
      "/Users/andson/miniconda3/envs/mouseatlas/lib/python3.12/site-packages/scib_metrics/_kbet.py:181: FutureWarning: pandas.value_counts is deprecated and will be removed in a future version. Use pd.Series(obj).value_counts() instead.\n",
      "  comp_size = pd.value_counts(labs)\n"
     ]
    },
    {
     "name": "stdout",
     "output_type": "stream",
     "text": [
      "\u001b[34mINFO    \u001b[0m Plasma_IgA consists of a single batch or is too small. Skip.                                              \n"
     ]
    },
    {
     "name": "stderr",
     "output_type": "stream",
     "text": [
      "/Users/andson/miniconda3/envs/mouseatlas/lib/python3.12/site-packages/scib_metrics/_kbet.py:181: FutureWarning: pandas.value_counts is deprecated and will be removed in a future version. Use pd.Series(obj).value_counts() instead.\n",
      "  comp_size = pd.value_counts(labs)\n"
     ]
    },
    {
     "name": "stdout",
     "output_type": "stream",
     "text": [
      "\u001b[34mINFO    \u001b[0m SmoothMuscle consists of a single batch or is too small. Skip.                                            \n",
      "\u001b[34mINFO    \u001b[0m StemCell consists of a single batch or is too small. Skip.                                                \n",
      "\u001b[34mINFO    \u001b[0m TA consists of a single batch or is too small. Skip.                                                      \n",
      "\u001b[34mINFO    \u001b[0m Tcell2 consists of a single batch or is too small. Skip.                                                  \n",
      "\u001b[34mINFO    \u001b[0m TcellCD8_NK consists of a single batch or is too small. Skip.                                             \n",
      "\u001b[34mINFO    \u001b[0m Tuft consists of a single batch or is too small. Skip.                                                    \n",
      "\u001b[34mINFO    \u001b[0m VascEndo consists of a single batch or is too small. Skip.                                                \n"
     ]
    },
    {
     "name": "stderr",
     "output_type": "stream",
     "text": [
      "/Users/andson/miniconda3/envs/mouseatlas/lib/python3.12/site-packages/scib_metrics/_kbet.py:181: FutureWarning: pandas.value_counts is deprecated and will be removed in a future version. Use pd.Series(obj).value_counts() instead.\n",
      "  comp_size = pd.value_counts(labs)\n",
      "/Users/andson/miniconda3/envs/mouseatlas/lib/python3.12/site-packages/scib_metrics/_graph_connectivity.py:30: FutureWarning: pandas.value_counts is deprecated and will be removed in a future version. Use pd.Series(obj).value_counts() instead.\n",
      "  tab = pd.value_counts(comps)\n",
      "Embeddings:  40%|\u001b[32m████      \u001b[0m| 2/5 [09:47<15:24, 308.10s/it]"
     ]
    },
    {
     "name": "stdout",
     "output_type": "stream",
     "text": [
      "\u001b[34mINFO    \u001b[0m ActNeutrophil consists of a single batch or is too small. Skip.                                           \n"
     ]
    },
    {
     "name": "stderr",
     "output_type": "stream",
     "text": [
      "/Users/andson/miniconda3/envs/mouseatlas/lib/python3.12/site-packages/scib_metrics/_kbet.py:181: FutureWarning: pandas.value_counts is deprecated and will be removed in a future version. Use pd.Series(obj).value_counts() instead.\n",
      "  comp_size = pd.value_counts(labs)\n"
     ]
    },
    {
     "name": "stdout",
     "output_type": "stream",
     "text": [
      "\u001b[34mINFO    \u001b[0m Bcell_IgM consists of a single batch or is too small. Skip.                                               \n",
      "\u001b[34mINFO    \u001b[0m DC consists of a single batch or is too small. Skip.                                                      \n",
      "\u001b[34mINFO    \u001b[0m EnteroEnd1 consists of a single batch or is too small. Skip.                                              \n",
      "\u001b[34mINFO    \u001b[0m EnteroEnd2 consists of a single batch or is too small. Skip.                                              \n",
      "\u001b[34mINFO    \u001b[0m Enterocyte consists of a single batch or is too small. Skip.                                              \n"
     ]
    },
    {
     "name": "stderr",
     "output_type": "stream",
     "text": [
      "/Users/andson/miniconda3/envs/mouseatlas/lib/python3.12/site-packages/scib_metrics/_kbet.py:181: FutureWarning: pandas.value_counts is deprecated and will be removed in a future version. Use pd.Series(obj).value_counts() instead.\n",
      "  comp_size = pd.value_counts(labs)\n",
      "/Users/andson/miniconda3/envs/mouseatlas/lib/python3.12/site-packages/scib_metrics/_kbet.py:181: FutureWarning: pandas.value_counts is deprecated and will be removed in a future version. Use pd.Series(obj).value_counts() instead.\n",
      "  comp_size = pd.value_counts(labs)\n",
      "/Users/andson/miniconda3/envs/mouseatlas/lib/python3.12/site-packages/scib_metrics/_kbet.py:181: FutureWarning: pandas.value_counts is deprecated and will be removed in a future version. Use pd.Series(obj).value_counts() instead.\n",
      "  comp_size = pd.value_counts(labs)\n"
     ]
    },
    {
     "name": "stdout",
     "output_type": "stream",
     "text": [
      "\u001b[34mINFO    \u001b[0m Goblet consists of a single batch or is too small. Skip.                                                  \n"
     ]
    },
    {
     "name": "stderr",
     "output_type": "stream",
     "text": [
      "/Users/andson/miniconda3/envs/mouseatlas/lib/python3.12/site-packages/scib_metrics/_kbet.py:181: FutureWarning: pandas.value_counts is deprecated and will be removed in a future version. Use pd.Series(obj).value_counts() instead.\n",
      "  comp_size = pd.value_counts(labs)\n"
     ]
    },
    {
     "name": "stdout",
     "output_type": "stream",
     "text": [
      "\u001b[34mINFO    \u001b[0m InjuryMono consists of a single batch or is too small. Skip.                                              \n"
     ]
    },
    {
     "name": "stderr",
     "output_type": "stream",
     "text": [
      "/Users/andson/miniconda3/envs/mouseatlas/lib/python3.12/site-packages/scib_metrics/_kbet.py:181: FutureWarning: pandas.value_counts is deprecated and will be removed in a future version. Use pd.Series(obj).value_counts() instead.\n",
      "  comp_size = pd.value_counts(labs)\n",
      "/Users/andson/miniconda3/envs/mouseatlas/lib/python3.12/site-packages/scib_metrics/_kbet.py:181: FutureWarning: pandas.value_counts is deprecated and will be removed in a future version. Use pd.Series(obj).value_counts() instead.\n",
      "  comp_size = pd.value_counts(labs)\n"
     ]
    },
    {
     "name": "stdout",
     "output_type": "stream",
     "text": [
      "\u001b[34mINFO    \u001b[0m Macrophage consists of a single batch or is too small. Skip.                                              \n"
     ]
    },
    {
     "name": "stderr",
     "output_type": "stream",
     "text": [
      "/Users/andson/miniconda3/envs/mouseatlas/lib/python3.12/site-packages/scib_metrics/_kbet.py:181: FutureWarning: pandas.value_counts is deprecated and will be removed in a future version. Use pd.Series(obj).value_counts() instead.\n",
      "  comp_size = pd.value_counts(labs)\n",
      "/Users/andson/miniconda3/envs/mouseatlas/lib/python3.12/site-packages/scib_metrics/_kbet.py:181: FutureWarning: pandas.value_counts is deprecated and will be removed in a future version. Use pd.Series(obj).value_counts() instead.\n",
      "  comp_size = pd.value_counts(labs)\n"
     ]
    },
    {
     "name": "stdout",
     "output_type": "stream",
     "text": [
      "\u001b[34mINFO    \u001b[0m Plasma_IgA consists of a single batch or is too small. Skip.                                              \n"
     ]
    },
    {
     "name": "stderr",
     "output_type": "stream",
     "text": [
      "/Users/andson/miniconda3/envs/mouseatlas/lib/python3.12/site-packages/scib_metrics/_kbet.py:181: FutureWarning: pandas.value_counts is deprecated and will be removed in a future version. Use pd.Series(obj).value_counts() instead.\n",
      "  comp_size = pd.value_counts(labs)\n"
     ]
    },
    {
     "name": "stdout",
     "output_type": "stream",
     "text": [
      "\u001b[34mINFO    \u001b[0m SmoothMuscle consists of a single batch or is too small. Skip.                                            \n",
      "\u001b[34mINFO    \u001b[0m StemCell consists of a single batch or is too small. Skip.                                                \n",
      "\u001b[34mINFO    \u001b[0m TA consists of a single batch or is too small. Skip.                                                      \n",
      "\u001b[34mINFO    \u001b[0m Tcell2 consists of a single batch or is too small. Skip.                                                  \n",
      "\u001b[34mINFO    \u001b[0m TcellCD8_NK consists of a single batch or is too small. Skip.                                             \n",
      "\u001b[34mINFO    \u001b[0m Tuft consists of a single batch or is too small. Skip.                                                    \n",
      "\u001b[34mINFO    \u001b[0m VascEndo consists of a single batch or is too small. Skip.                                                \n"
     ]
    },
    {
     "name": "stderr",
     "output_type": "stream",
     "text": [
      "/Users/andson/miniconda3/envs/mouseatlas/lib/python3.12/site-packages/scib_metrics/_kbet.py:181: FutureWarning: pandas.value_counts is deprecated and will be removed in a future version. Use pd.Series(obj).value_counts() instead.\n",
      "  comp_size = pd.value_counts(labs)\n",
      "/Users/andson/miniconda3/envs/mouseatlas/lib/python3.12/site-packages/scib_metrics/_graph_connectivity.py:30: FutureWarning: pandas.value_counts is deprecated and will be removed in a future version. Use pd.Series(obj).value_counts() instead.\n",
      "  tab = pd.value_counts(comps)\n",
      "Embeddings:  60%|\u001b[32m██████    \u001b[0m| 3/5 [10:29<06:13, 186.53s/it]"
     ]
    },
    {
     "name": "stdout",
     "output_type": "stream",
     "text": [
      "\u001b[34mINFO    \u001b[0m ActNeutrophil consists of a single batch or is too small. Skip.                                           \n"
     ]
    },
    {
     "name": "stderr",
     "output_type": "stream",
     "text": [
      "/Users/andson/miniconda3/envs/mouseatlas/lib/python3.12/site-packages/scib_metrics/_kbet.py:181: FutureWarning: pandas.value_counts is deprecated and will be removed in a future version. Use pd.Series(obj).value_counts() instead.\n",
      "  comp_size = pd.value_counts(labs)\n"
     ]
    },
    {
     "name": "stdout",
     "output_type": "stream",
     "text": [
      "\u001b[34mINFO    \u001b[0m Bcell_IgM consists of a single batch or is too small. Skip.                                               \n",
      "\u001b[34mINFO    \u001b[0m DC consists of a single batch or is too small. Skip.                                                      \n",
      "\u001b[34mINFO    \u001b[0m EnteroEnd1 consists of a single batch or is too small. Skip.                                              \n",
      "\u001b[34mINFO    \u001b[0m EnteroEnd2 consists of a single batch or is too small. Skip.                                              \n",
      "\u001b[34mINFO    \u001b[0m Enterocyte consists of a single batch or is too small. Skip.                                              \n"
     ]
    },
    {
     "name": "stderr",
     "output_type": "stream",
     "text": [
      "/Users/andson/miniconda3/envs/mouseatlas/lib/python3.12/site-packages/scib_metrics/_kbet.py:181: FutureWarning: pandas.value_counts is deprecated and will be removed in a future version. Use pd.Series(obj).value_counts() instead.\n",
      "  comp_size = pd.value_counts(labs)\n"
     ]
    },
    {
     "name": "stdout",
     "output_type": "stream",
     "text": [
      "\u001b[34mINFO    \u001b[0m Goblet consists of a single batch or is too small. Skip.                                                  \n"
     ]
    },
    {
     "name": "stderr",
     "output_type": "stream",
     "text": [
      "/Users/andson/miniconda3/envs/mouseatlas/lib/python3.12/site-packages/scib_metrics/_kbet.py:181: FutureWarning: pandas.value_counts is deprecated and will be removed in a future version. Use pd.Series(obj).value_counts() instead.\n",
      "  comp_size = pd.value_counts(labs)\n",
      "/Users/andson/miniconda3/envs/mouseatlas/lib/python3.12/site-packages/scib_metrics/_kbet.py:181: FutureWarning: pandas.value_counts is deprecated and will be removed in a future version. Use pd.Series(obj).value_counts() instead.\n",
      "  comp_size = pd.value_counts(labs)\n"
     ]
    },
    {
     "name": "stdout",
     "output_type": "stream",
     "text": [
      "\u001b[34mINFO    \u001b[0m InjuryMono consists of a single batch or is too small. Skip.                                              \n"
     ]
    },
    {
     "name": "stderr",
     "output_type": "stream",
     "text": [
      "/Users/andson/miniconda3/envs/mouseatlas/lib/python3.12/site-packages/scib_metrics/_kbet.py:181: FutureWarning: pandas.value_counts is deprecated and will be removed in a future version. Use pd.Series(obj).value_counts() instead.\n",
      "  comp_size = pd.value_counts(labs)\n",
      "/Users/andson/miniconda3/envs/mouseatlas/lib/python3.12/site-packages/scib_metrics/_kbet.py:181: FutureWarning: pandas.value_counts is deprecated and will be removed in a future version. Use pd.Series(obj).value_counts() instead.\n",
      "  comp_size = pd.value_counts(labs)\n"
     ]
    },
    {
     "name": "stdout",
     "output_type": "stream",
     "text": [
      "\u001b[34mINFO    \u001b[0m Macrophage consists of a single batch or is too small. Skip.                                              \n"
     ]
    },
    {
     "name": "stderr",
     "output_type": "stream",
     "text": [
      "/Users/andson/miniconda3/envs/mouseatlas/lib/python3.12/site-packages/scib_metrics/_kbet.py:181: FutureWarning: pandas.value_counts is deprecated and will be removed in a future version. Use pd.Series(obj).value_counts() instead.\n",
      "  comp_size = pd.value_counts(labs)\n"
     ]
    },
    {
     "name": "stdout",
     "output_type": "stream",
     "text": [
      "\u001b[34mINFO    \u001b[0m Plasma_IgA consists of a single batch or is too small. Skip.                                              \n"
     ]
    },
    {
     "name": "stderr",
     "output_type": "stream",
     "text": [
      "/Users/andson/miniconda3/envs/mouseatlas/lib/python3.12/site-packages/scib_metrics/_kbet.py:181: FutureWarning: pandas.value_counts is deprecated and will be removed in a future version. Use pd.Series(obj).value_counts() instead.\n",
      "  comp_size = pd.value_counts(labs)\n"
     ]
    },
    {
     "name": "stdout",
     "output_type": "stream",
     "text": [
      "\u001b[34mINFO    \u001b[0m SmoothMuscle consists of a single batch or is too small. Skip.                                            \n",
      "\u001b[34mINFO    \u001b[0m StemCell consists of a single batch or is too small. Skip.                                                \n",
      "\u001b[34mINFO    \u001b[0m TA consists of a single batch or is too small. Skip.                                                      \n",
      "\u001b[34mINFO    \u001b[0m Tcell2 consists of a single batch or is too small. Skip.                                                  \n",
      "\u001b[34mINFO    \u001b[0m TcellCD8_NK consists of a single batch or is too small. Skip.                                             \n",
      "\u001b[34mINFO    \u001b[0m Tuft consists of a single batch or is too small. Skip.                                                    \n",
      "\u001b[34mINFO    \u001b[0m VascEndo consists of a single batch or is too small. Skip.                                                \n"
     ]
    },
    {
     "name": "stderr",
     "output_type": "stream",
     "text": [
      "/Users/andson/miniconda3/envs/mouseatlas/lib/python3.12/site-packages/scib_metrics/_kbet.py:181: FutureWarning: pandas.value_counts is deprecated and will be removed in a future version. Use pd.Series(obj).value_counts() instead.\n",
      "  comp_size = pd.value_counts(labs)\n",
      "/Users/andson/miniconda3/envs/mouseatlas/lib/python3.12/site-packages/scib_metrics/_graph_connectivity.py:30: FutureWarning: pandas.value_counts is deprecated and will be removed in a future version. Use pd.Series(obj).value_counts() instead.\n",
      "  tab = pd.value_counts(comps)\n",
      "Embeddings:  80%|\u001b[32m████████  \u001b[0m| 4/5 [11:10<02:09, 129.13s/it]"
     ]
    },
    {
     "name": "stdout",
     "output_type": "stream",
     "text": [
      "\u001b[34mINFO    \u001b[0m ActNeutrophil consists of a single batch or is too small. Skip.                                           \n"
     ]
    },
    {
     "name": "stderr",
     "output_type": "stream",
     "text": [
      "/Users/andson/miniconda3/envs/mouseatlas/lib/python3.12/site-packages/scib_metrics/_kbet.py:181: FutureWarning: pandas.value_counts is deprecated and will be removed in a future version. Use pd.Series(obj).value_counts() instead.\n",
      "  comp_size = pd.value_counts(labs)\n"
     ]
    },
    {
     "name": "stdout",
     "output_type": "stream",
     "text": [
      "\u001b[34mINFO    \u001b[0m Bcell_IgM consists of a single batch or is too small. Skip.                                               \n",
      "\u001b[34mINFO    \u001b[0m DC consists of a single batch or is too small. Skip.                                                      \n",
      "\u001b[34mINFO    \u001b[0m EnteroEnd1 consists of a single batch or is too small. Skip.                                              \n",
      "\u001b[34mINFO    \u001b[0m EnteroEnd2 consists of a single batch or is too small. Skip.                                              \n",
      "\u001b[34mINFO    \u001b[0m Enterocyte consists of a single batch or is too small. Skip.                                              \n"
     ]
    },
    {
     "name": "stderr",
     "output_type": "stream",
     "text": [
      "/Users/andson/miniconda3/envs/mouseatlas/lib/python3.12/site-packages/scib_metrics/_kbet.py:181: FutureWarning: pandas.value_counts is deprecated and will be removed in a future version. Use pd.Series(obj).value_counts() instead.\n",
      "  comp_size = pd.value_counts(labs)\n"
     ]
    },
    {
     "name": "stdout",
     "output_type": "stream",
     "text": [
      "\u001b[34mINFO    \u001b[0m Goblet consists of a single batch or is too small. Skip.                                                  \n"
     ]
    },
    {
     "name": "stderr",
     "output_type": "stream",
     "text": [
      "/Users/andson/miniconda3/envs/mouseatlas/lib/python3.12/site-packages/scib_metrics/_kbet.py:181: FutureWarning: pandas.value_counts is deprecated and will be removed in a future version. Use pd.Series(obj).value_counts() instead.\n",
      "  comp_size = pd.value_counts(labs)\n"
     ]
    },
    {
     "name": "stdout",
     "output_type": "stream",
     "text": [
      "\u001b[34mINFO    \u001b[0m InjuryMono consists of a single batch or is too small. Skip.                                              \n"
     ]
    },
    {
     "name": "stderr",
     "output_type": "stream",
     "text": [
      "/Users/andson/miniconda3/envs/mouseatlas/lib/python3.12/site-packages/scib_metrics/_kbet.py:181: FutureWarning: pandas.value_counts is deprecated and will be removed in a future version. Use pd.Series(obj).value_counts() instead.\n",
      "  comp_size = pd.value_counts(labs)\n",
      "/Users/andson/miniconda3/envs/mouseatlas/lib/python3.12/site-packages/scib_metrics/_kbet.py:181: FutureWarning: pandas.value_counts is deprecated and will be removed in a future version. Use pd.Series(obj).value_counts() instead.\n",
      "  comp_size = pd.value_counts(labs)\n"
     ]
    },
    {
     "name": "stdout",
     "output_type": "stream",
     "text": [
      "\u001b[34mINFO    \u001b[0m Macrophage consists of a single batch or is too small. Skip.                                              \n"
     ]
    },
    {
     "name": "stderr",
     "output_type": "stream",
     "text": [
      "/Users/andson/miniconda3/envs/mouseatlas/lib/python3.12/site-packages/scib_metrics/_kbet.py:181: FutureWarning: pandas.value_counts is deprecated and will be removed in a future version. Use pd.Series(obj).value_counts() instead.\n",
      "  comp_size = pd.value_counts(labs)\n",
      "/Users/andson/miniconda3/envs/mouseatlas/lib/python3.12/site-packages/scib_metrics/_kbet.py:181: FutureWarning: pandas.value_counts is deprecated and will be removed in a future version. Use pd.Series(obj).value_counts() instead.\n",
      "  comp_size = pd.value_counts(labs)\n"
     ]
    },
    {
     "name": "stdout",
     "output_type": "stream",
     "text": [
      "\u001b[34mINFO    \u001b[0m Plasma_IgA consists of a single batch or is too small. Skip.                                              \n"
     ]
    },
    {
     "name": "stderr",
     "output_type": "stream",
     "text": [
      "/Users/andson/miniconda3/envs/mouseatlas/lib/python3.12/site-packages/scib_metrics/_kbet.py:181: FutureWarning: pandas.value_counts is deprecated and will be removed in a future version. Use pd.Series(obj).value_counts() instead.\n",
      "  comp_size = pd.value_counts(labs)\n"
     ]
    },
    {
     "name": "stdout",
     "output_type": "stream",
     "text": [
      "\u001b[34mINFO    \u001b[0m SmoothMuscle consists of a single batch or is too small. Skip.                                            \n",
      "\u001b[34mINFO    \u001b[0m StemCell consists of a single batch or is too small. Skip.                                                \n",
      "\u001b[34mINFO    \u001b[0m TA consists of a single batch or is too small. Skip.                                                      \n",
      "\u001b[34mINFO    \u001b[0m Tcell2 consists of a single batch or is too small. Skip.                                                  \n",
      "\u001b[34mINFO    \u001b[0m TcellCD8_NK consists of a single batch or is too small. Skip.                                             \n",
      "\u001b[34mINFO    \u001b[0m Tuft consists of a single batch or is too small. Skip.                                                    \n",
      "\u001b[34mINFO    \u001b[0m VascEndo consists of a single batch or is too small. Skip.                                                \n"
     ]
    },
    {
     "name": "stderr",
     "output_type": "stream",
     "text": [
      "/Users/andson/miniconda3/envs/mouseatlas/lib/python3.12/site-packages/scib_metrics/_kbet.py:181: FutureWarning: pandas.value_counts is deprecated and will be removed in a future version. Use pd.Series(obj).value_counts() instead.\n",
      "  comp_size = pd.value_counts(labs)\n",
      "/Users/andson/miniconda3/envs/mouseatlas/lib/python3.12/site-packages/scib_metrics/_graph_connectivity.py:30: FutureWarning: pandas.value_counts is deprecated and will be removed in a future version. Use pd.Series(obj).value_counts() instead.\n",
      "  tab = pd.value_counts(comps)\n",
      "Embeddings: 100%|\u001b[32m██████████\u001b[0m| 5/5 [11:51<00:00, 142.30s/it]\n"
     ]
    }
   ],
   "source": [
    "bm = Benchmarker(\n",
    "    adatas,\n",
    "    batch_key=\"dataset_origin\",\n",
    "    label_key=\"celltype_integration\",\n",
    "    embedding_obsm_keys=[\"Unintegrated\", \"Scanorama\", \"Harmony\", \"scVI\", \"scANVI\"],\n",
    "    n_jobs=6,\n",
    ")\n",
    "bm.benchmark()"
   ]
  },
  {
   "cell_type": "code",
   "execution_count": 78,
   "metadata": {},
   "outputs": [
    {
     "name": "stderr",
     "output_type": "stream",
     "text": [
      "/Users/andson/miniconda3/envs/mouseatlas/lib/python3.12/site-packages/scib_metrics/benchmark/_core.py:268: FutureWarning: Setting an item of incompatible dtype is deprecated and will raise an error in a future version of pandas. Value 'Aggregate score' has dtype incompatible with float64, please explicitly cast to a compatible dtype first.\n",
      "  df.loc[_METRIC_TYPE, per_class_score.columns] = _AGGREGATE_SCORE\n",
      "/Users/andson/miniconda3/envs/mouseatlas/lib/python3.12/site-packages/scib_metrics/benchmark/_core.py:268: FutureWarning: Setting an item of incompatible dtype is deprecated and will raise an error in a future version of pandas. Value 'Aggregate score' has dtype incompatible with float64, please explicitly cast to a compatible dtype first.\n",
      "  df.loc[_METRIC_TYPE, per_class_score.columns] = _AGGREGATE_SCORE\n",
      "/Users/andson/miniconda3/envs/mouseatlas/lib/python3.12/site-packages/scib_metrics/benchmark/_core.py:268: FutureWarning: Setting an item of incompatible dtype is deprecated and will raise an error in a future version of pandas. Value 'Aggregate score' has dtype incompatible with float64, please explicitly cast to a compatible dtype first.\n",
      "  df.loc[_METRIC_TYPE, per_class_score.columns] = _AGGREGATE_SCORE\n"
     ]
    },
    {
     "data": {
      "image/png": "iVBORw0KGgoAAAANSUhEUgAABP8AAAFuCAYAAAD+nL0aAAAAOXRFWHRTb2Z0d2FyZQBNYXRwbG90bGliIHZlcnNpb24zLjkuMSwgaHR0cHM6Ly9tYXRwbG90bGliLm9yZy/TGe4hAAAACXBIWXMAAA9hAAAPYQGoP6dpAAEAAElEQVR4nOzdd3xN5x8H8M+5I3vvWAkiMWOPUEKNoDVqVM2YHRRt7aqtLUoV1VK1i1JK0VpVewuJkUiCECQRGUb2Hd/fH/ndIzf3JoIk9+b6vvvKq3LOc5/znCfPPeN7nvM8AhERGGOMMcYYY4wxxhhjJkdi6AIwxhhjjDHGGGOMMcZKBgf/GGOMMcYYY4wxxhgzURz8Y4wxxhhjjDHGGGPMRHHwjzHGGGOMMcYYY4wxE8XBP8YYY4wxxhhjjDHGTBQH/xhjjDHGGGOMMcYYM1Ec/GOMMcYYY4wxxhhjzERx8I8xxhhjjDHGGGOMMRPFwT/GGGOMMcYYY4wxxkwUB/8YY4wxxhhjjDHGGDNRHPxjjDHGGGOMMcYYY8xEcfCPMcYYY4wxxhhjjDETxcE/xhhjjDHGGGOMMcZMFAf/GGOMMcYYY4wxxhgzURz8Y4wxxhhjjDHGGGPMRHHwjzHGGGOMMcYYY4wxE8XBP8YYY4wxxhhjjDHGTBQH/xhjjDHGGGOMMcYYM1Ec/GOMMcYYY4wxxhhjzERx8I8xxhhjjDHGGGOMMRPFwT/GGGOMMcYYY4wxxkwUB/8YY4wxxhhjjDHGGDNRHPxjjDHGGGOMMcYYY8xEcfCPMcYYY4wxxhhjjDETxcE/xhhjjDHGGGOMMcZMFAf/GGOMMcYYY4wxxhgzURz8Y4wxxhhjjDHGGGPMRHHwjzHGGGOMMcYYY4wxE8XBP8YYY4wxxhhjjDHGTBQH/xhjjDHGGGOMMcYYM1Ec/GOMMcYYY4wxxhhjzERx8I8xxhhjjDHGGGOMMRPFwT/GGGOMMcYYY4wxxkwUB/8YY4wxxhhjjDHGGDNRHPxjjDHGGGOMMcYYY8xEcfCPMcYYY4wxxhhjjDETxcE/xhhjjDHGGGOMMcZMFAf/GGOMMcYYY4wxxhgzURz8Y4wxxhhjjDHGGGPMRHHwjzHGGGOMMcYYY4wxE8XBP8aYyblz5w4EQUBoaKihi2JSWrdujc8++8zQxWCMMfaK1q1bBwcHB0MXo9TNnDkT9erVM3QxGGOMMYPh4B9jrEwZPHgwBEEQf5ydndGxY0dcuXJFTFOxYkXEx8ejdu3aBixp2XX06FEIgoDHjx9rLf/zzz8xZ84cwxSKMcZMRFHOY0XBAS39BEHArl27tJaNHz8ehw8fNkyBGGMGc/r0aUilUnTs2NHQRSkx+o55jOnDwT/GWJnTsWNHxMfHIz4+HocPH4ZMJsO7774rrpdKpfDw8IBMJjNgKUtfTk5Oiebv5OQEW1vbEt0GY4y9CV50HjN1CoVCZ1lJnsNsbGzg7OxcYvkzxozTmjVrMHr0aJw8eRKxsbGlsk19xzemTaVSQa1WG7oYbxwO/jHGyhxzc3N4eHjAw8MD9erVw6RJk3Dv3j08evQIgP7Xfo8dO4YmTZrA3Nwcnp6emDx5MpRKZaHbOXXqFAIDA2FlZQVHR0cEBQUhNTUVAJCdnY0xY8bAzc0NFhYWeOutt3DhwgXxs5rec4cPH0ajRo1gZWWF5s2bIzIyUkwTFhaGNm3awNbWFnZ2dmjYsCEuXrworj99+jRatWoFS0tLVKxYEWPGjEF6erq43tvbG3PnzsXgwYNhb2+PESNGICAgAJMnT9baj0ePHkEul+PIkSMAgN9++w2NGjWCra0tPDw80K9fPyQmJop116ZNGwCAo6MjBEHA4MGDAei+9puamopBgwbB0dERVlZW6NSpE6Kjo8X1mtfLDhw4gBo1asDGxka84WWMsTfZi85jADBp0iT4+vrCysoKVapUwbRp08SbynXr1mHWrFkICwsTexCuW7cOAPD48WN8+OGHcHd3h4WFBWrXro29e/dqbf9lj8vXr1/HO++8Azs7O9ja2qJly5a4desWAECtVmP27NmoUKECzM3NUa9ePezfv1/8rOacvG3bNrRu3RoWFhb47bffMHjwYHTv3h3ffvstypUrB19fXwDAgwcP0KdPHzg6OsLZ2RndunXDnTt3tMqzZs0a1KpVSzynf/rppwByz4sA8N5770EQBPH3/L0ki1rmP//8E23atIGVlRXq1q2LM2fOFFpPjDHjkZ6ejm3btuGTTz7Bu+++Kx4j89q9ezeqVasGS0tLtGnTBuvXr9d5+2XVqlWoWLEirKys8N577+H777/XGj5Bc3xZs2YNqlSpAnNzcxARnjx5gg8//BBubm6ws7PD22+/jbCwMK3tz507F25ubrC1tcXw4cMxefJkrWPVhQsX0L59e7i4uMDe3h6BgYG4dOmSuL6gYx4A7NmzBw0bNoSFhQWqVKmCWbNmFXrvc/ToUTRp0gTW1tZwcHBAixYtcPfuXa26atSoESwsLODi4oIePXqI64p6T7B3717UrFkT5ubmuHv3LnJycjBx4kSUL18e1tbWaNq0KY4ePVpgGdnr4eAfY6xMS0tLw6ZNm+Dj41PgU/0HDx6gc+fOaNy4McLCwvDzzz9j9erVmDt3boH5hoaGom3btqhVqxbOnDmDkydPokuXLlCpVACAiRMnYseOHVi/fj0uXboEHx8fBAUFISUlRSufqVOnYtGiRbh48SJkMhmGDh0qruvfvz8qVKiACxcuICQkBJMnT4ZcLgcAXL16FUFBQejRoweuXLmCrVu34uTJk+INjsZ3332H2rVrIyQkBNOmTUP//v2xZcsWEJGYZuvWrXB3d0dgYCCA3N4Vc+bMQVhYGHbt2oWYmBgxwFexYkXs2LEDABAZGYn4+HgsWbJEbx0NHjwYFy9exO7du3HmzBkQETp37qz1xDMjIwMLFy7Exo0bcfz4ccTGxmL8+PEF1jtjjL1pCjqP2draYt26dQgPD8eSJUuwatUqLF68GADQp08fjBs3DrVq1RJ7EPbp0wdqtRqdOnXC6dOn8dtvvyE8PBzz5s2DVCoV833Z4/KDBw/QqlUrWFhY4L///kNISAiGDh0q3kQuWbIEixYtwsKFC3HlyhUEBQWha9euWjd+QG4wc8yYMYiIiEBQUBAA4PDhw4iIiMChQ4ewd+9eZGRkoE2bNrCxscHx48dx8uRJMUCp6Rn4888/Y9SoUfjwww9x9epV7N69Gz4+PgAgPoRbu3Yt4uPjtR7K5VXUMk+dOhXjx49HaGgofH190bdv3xc+OGSMGYetW7fCz88Pfn5+GDBgANauXat1fXznzh306tUL3bt3R2hoKD766CNMnTpVK49Tp07h448/xtixYxEaGor27dvj66+/1tnWzZs3sW3bNuzYsUPsfPDOO+8gISEB//zzD0JCQtCgQQO0bdtWvFfYtGkTvv76a8yfPx8hISGoVKkSfv75Z618nz17huDgYJw4cQJnz55FtWrV0LlzZzx79gxAwce8AwcOYMCAARgzZgzCw8OxcuVKrFu3Tm/ZAUCpVKJ79+4IDAzElStXcObMGXz44YcQBAEA8Pfff6NHjx545513cPnyZbFzg0ZR7wm+/fZb/Prrr7h+/Trc3NwwZMgQnDp1Cr///juuXLmC3r17o2PHjjrHYlZMiDHGypDg4GCSSqVkbW1N1tbWBIA8PT0pJCRETBMTE0MA6PLly0RE9OWXX5Kfnx+p1WoxzfLly8nGxoZUKpXe7fTt25datGihd11aWhrJ5XLatGmTuCwnJ4fKlStHCxYsICKiI0eOEAD6999/xTR///03AaDMzEwiIrK1taV169bp3cbAgQPpww8/1Fp24sQJkkgk4ue9vLyoe/fuWmkSExNJJpPR8ePHxWUBAQE0YcIEvdshIjp//jwBoGfPnmmVPTU1VStdYGAgjR07loiIoqKiCACdOnVKXJ+UlESWlpa0bds2IiJau3YtAaCbN2+KaZYvX07u7u4FloUxxkxdUc5j+ixYsIAaNmwo/j5jxgyqW7euVpoDBw6QRCKhyMhIvXm8ynF5ypQpVLlyZcrJydG7vly5cvT1119rLWvcuDGNHDmSiJ6fk3/44QetNMHBweTu7k7Z2dnistWrV+ucr7Ozs8nS0pIOHDggbm/q1KkFlhcA7dy5U2tZ/roqapl//fVXcf3169cJAEVERBS4bcaY8WjevLl43FEoFOTi4kKHDh0S10+aNIlq166t9ZmpU6dqXQP36dOH3nnnHa00/fv3J3t7e/H3GTNmkFwup8TERHHZ4cOHyc7OjrKysrQ+W7VqVVq5ciURETVt2pRGjRqltb5FixY6x/W8lEol2dra0p49e8Rl+o55LVu2pG+++UZr2caNG8nT01NvvsnJyQSAjh49qnd9QEAA9e/fX++6l7knCA0NFdPcvHmTBEGgBw8eaOXXtm1bmjJlit5tsdfDPf8YY2VOmzZtEBoaitDQUJw7dw4dOnRAp06dtLqm5xUREYGAgADx6RUAtGjRAmlpabh//77ez2h6/ulz69YtKBQKtGjRQlwml8vRpEkTREREaKX19/cX/+3p6QkA4iu2X3zxBYYPH4527dph3rx54itUABASEoJ169bBxsZG/AkKCoJarUZMTIyYLu9TNwBwdXVF+/btsWnTJgBATEwMzpw5g/79+4tpLl++jG7dusHLywu2trZo3bo1ALzUWCgRERGQyWRo2rSpuMzZ2Rl+fn5adWBlZYWqVatq1YFm/xlj7E1VlPPY9u3b8dZbb8HDwwM2NjaYNm3aC4/ToaGhqFChgvgKrT4ve1wODQ1Fy5YtxZ7peT19+hRxcXFa50Mg9xyb/3yY/3wFAHXq1IGZmZn4e0hICG7evAlbW1vx3Ofk5ISsrCzcunULiYmJiIuLK/D8XBQvU+bCzuGMMeMVGRmJ8+fP44MPPgAAyGQy9OnTB2vWrNFK07hxY63PNWnSRCef/Mvy/w4AXl5ecHV1FX8PCQlBWloanJ2dta7lY2JixOv9ouSdmJiIjz/+GL6+vrC3t4e9vT3S0tJeeC4ICQnB7NmztbY9YsQIxMfHIyMjQye9k5MTBg8ejKCgIHTp0gVLlizRGg6isPuiot4TmJmZaR1TL126BCKCr6+vVjmPHTumdU/Eis+bNRo+Y8wkWFtbi6/4AEDDhg1hb2+PVatW6X2Vl4i0An+aZQB0lmtYWloWuP2CPqtvO3lvljTrNAPczpw5E/369cPff/+Nffv2YcaMGfj999/x3nvvQa1W46OPPsKYMWN0tl+pUiXx39bW1jrr+/fvj7Fjx2LZsmXYvHkzatWqhbp16wLIHf+kQ4cO6NChA3777Te4uroiNjYWQUFBLzXYOuV5baKwOsh/sygIQoGfZYyxN8WLzmNnz57FBx98gFmzZiEoKAj29vb4/fffsWjRokLzLezcpfGyx+Wi5FmU86G+81X+ZWq1Gg0bNhQfYOXl6uoKiaT4+i287jmcMWa8Vq9eDaVSifLly4vLiAhyuRypqalwdHQs9P4g7+8vSgPoP5Z5enrqHb8u73iBL8p78ODBePToEX744Qd4eXnB3NwcAQEBL7xmV6vVmDVrlta4fBoWFhZ6P7N27VqMGTMG+/fvx9atW/HVV1/h0KFDaNasWZHui/Qtz7t/lpaWWr+r1WpIpVKEhIRoDU0B5E7SxIof9/xjjJV5giBAIpEgMzNT7/qaNWvi9OnTWien06dPw9bWVuuiIC9/f38cPnxY7zofHx+YmZnh5MmT4jKFQoGLFy+iRo0aL1V2X19ffP755zh48CB69OiBtWvXAgAaNGiA69evw8fHR+cnby8Jfbp3746srCzs378fmzdvxoABA8R1N27cQFJSEubNm4eWLVuievXqOr0YNPlrxjfUp2bNmlAqlTh37py4LDk5GVFRUS9dB4wx9qbLfx47deoUvLy8MHXqVDRq1AjVqlXT6d1uZmamc5z29/fH/fv3ERUVVWxl8/f3x4kTJ/TOYGlnZ4dy5cppnQ+B3HPsq5wLGjRogOjoaLi5uemc++zt7WFrawtvb+8Cz89AbsCusPNXcZeZMWZclEolNmzYgEWLFok9rENDQxEWFgYvLy/x4UL16tV1xgXNO/GeJs358+cLTaNPgwYNkJCQAJlMpnMsc3FxAQD4+fm9MO8TJ05gzJgx6Ny5szjJUVJSklYafce8Bg0aIDIyUu99RGEPUerXr48pU6bg9OnTqF27NjZv3gyg8PuiV70nqF+/PlQqFRITE3XK6OHhUeDn2Kvj4B9jrMzJzs5GQkICEhISEBERgdGjRyMtLQ1dunTRm37kyJG4d+8eRo8ejRs3buCvv/7CjBkz8MUXXxR4ApwyZQouXLiAkSNH4sqVK7hx4wZ+/vlnJCUlwdraGp988gkmTJiA/fv3Izw8HCNGjEBGRgaGDRtWpH3IzMzEp59+iqNHj+Lu3bs4deoULly4IJ4kJ02ahDNnzmDUqFEIDQ1FdHQ0du/ejdGjR78wb2tra3Tr1g3Tpk1DREQE+vXrJ66rVKkSzMzMsGzZMty+fRu7d+/GnDlztD7v5eUFQRCwd+9ePHr0CGlpaTrbqFatGrp164YRI0bg5MmTCAsLw4ABA1C+fHl069atSHXAGGNvqhedx3x8fBAbG4vff/8dt27dwtKlS7Fz506tPLy9vRETE4PQ0FAkJSUhOzsbgYGBaNWqFXr27IlDhw4hJiYG+/bt05rJ9mV9+umnePr0KT744ANcvHgR0dHR2Lhxozh7/YQJEzB//nxs3boVkZGRmDx5MkJDQzF27NiX3lb//v3h4uKCbt264cSJE4iJicGxY8cwduxYcZiOmTNnYtGiRVi6dCmio6Nx6dIlLFu2TKteDh8+jISEBKSmpurdTnGWmTFmXPbu3YvU1FQMGzYMtWvX1vrp1asXVq9eDQD46KOPcOPGDUyaNAlRUVHYtm2bOCOwpofa6NGj8c8//+D7779HdHQ0Vq5ciX379hX45pBGu3btEBAQgO7du+PAgQO4c+cOTp8+ja+++koM8I0ePRqrV6/G+vXrER0djblz5+LKlStaefv4+GDjxo2IiIjAuXPn0L9/f51eePqOedOnT8eGDRswc+ZMXL9+HREREWJvPn1iYmIwZcoUnDlzBnfv3sXBgwe1gnczZszAli1bMGPGDERERODq1atYsGABgFe/J/D19UX//v0xaNAg/Pnnn4iJicGFCxcwf/58/PPPP4XWL3tFpTvEIGOMvZ7g4GACIP7Y2tpS48aNafv27WKa/BN+EBEdPXqUGjduTGZmZuTh4UGTJk0ihUJR6LaOHj1KzZs3J3Nzc3JwcKCgoCBxAODMzEwaPXo0ubi4kLm5ObVo0YLOnz8vflbfpBmXL18mABQTE0PZ2dn0wQcfUMWKFcnMzIzKlStHn376qTiZB1HuRBzt27cnGxsbsra2Jn9/f60Byr28vGjx4sV6y66ZXKRVq1Y66zZv3kze3t5kbm5OAQEBtHv3bp36mj17Nnl4eJAgCBQcHExE2hN+EBGlpKTQwIEDyd7eniwtLSkoKIiioqLE9WvXrtUaEJmIaOfOncSnHsbYm6wo5zEiogkTJpCzszPZ2NhQnz59aPHixVrH1KysLOrZsyc5ODgQAFq7di0R5Q7cPmTIEHJ2diYLCwuqXbs27d27l4he/bgcFhZGHTp0ICsrK7K1taWWLVvSrVu3iIhIpVLRrFmzqHz58iSXy6lu3bq0b98+8bP6zsmaeujWrZvOtuLj42nQoEHi+bVKlSo0YsQIevLkiZhmxYoV5OfnR3K5nDw9PWn06NHiut27d5OPjw/JZDLy8vIiIt0JP16lzKmpqQSAjhw5UmhdMcYM691336XOnTvrXRcSEkIAxAmW/vrrL/Lx8SFzc3Nq3bo1/fzzz1qT8xER/fLLL1S+fHmytLSk7t2709y5c8nDw0Ncr2/yJSKip0+f0ujRo6lcuXIkl8upYsWK1L9/f4qNjRXTzJ49m1xcXMjGxoaGDh1KY8aMoWbNmonrL126RI0aNSJzc3OqVq0a/fHHHzrX//qOeURE+/fvp+bNm5OlpSXZ2dlRkyZN6JdfftFbLwkJCdS9e3fy9PQkMzMz8vLyounTp2tNjLhjxw6qV68emZmZkYuLC/Xo0UNc9yr3BES5EyZOnz6dvL29SS6Xk4eHB7333nt05coVveVkr0cg4sGXGGOMMcYYY4wx9ub6+uuvsWLFCty7d6/ANCNGjMCNGzdw4sSJYt9++/bt4eHhgY0bNxZ73ozxhB+MMcYYY4wxxhh7o/z0009o3LgxnJ2dcerUKXz33Xf49NNPtdIsXLgQ7du3h7W1Nfbt24f169fjp59+eu1tZ2RkYMWKFQgKCoJUKsWWLVvw77//4tChQ6+dN2P6cM8/xhhjjDHGGGOMvVE+//xzbN26FSkpKahUqRIGDhyIKVOmQCZ73kfq/fffx9GjR/Hs2TNUqVIFo0ePxscff/za287MzESXLl1w6dIlZGdnw8/PD1999ZXeGXoZKw4c/GOMMcYYY4wxxhhjzETxbL+MMcYYY4wxxhhjjJkoDv4xxhhjjDHGGGOMMWaiOPjHGGOMMcYYY4wxxpiJ4tl+mdHIyclBbGysoYvBGGPMSFSqVAlmZmaGLsYL8fmLMcZYfsZyDuNzFGPGrzSOF9zzjzHGGGOMMcYYY4wxE8Wz/TLGGGOMMcYYY4wxZqK45x9jjDHGGGOMMcYYYyaKg3+MMcYYY4wxxhhjjJkoDv4xxhhjjDHGGGOMMWaiOPjHGGOMMcYYY4wxxpiJ4uAfY4wxxhhjjDHGGGMmioN/jDHGGGOMMcYYY4yZKA7+McYYY4wxxhhjjDFmojj4xxhjjDHGGGOMMcaYieLgHyvz7ty5A0EQEBoaapDtDx48GN27dzfIthkzJYIgYNeuXQB0v9dHjx6FIAh4/PixwcrHWH7cZhljxq5169b47LPPDF0Mxl5o3bp1cHBwMHQxjJ6h731Z2cXBP2YwhgyamXrATt/+bd++HRYWFliwYAFmzpwJQRDQsWNHnc8uWLAAgiCgdevWpVPYMobr9tUlJibio48+QqVKlWBubg4PDw8EBQXhzJkzAID4+Hh06tTJwKV8MX03UhzoMU3cZhljryshIQFjx46Fj48PLCws4O7ujrfeegsrVqxARkaGoYtnkgYPHgxBECAIAuRyOapUqYLx48cjPT1dTLNjxw60bt0a9vb2sLGxgb+/P2bPno2UlBQAuYEoTR6CIMDd3R1dunTB9evXDbVbpSZv/QmCAGdnZ3Ts2BFXrlwpch4zZ85EvXr1Sq6QJuxF9V+xYkXEx8ejdu3aBi4pK2s4+MfYG+DXX39F//798eOPP2LixIkAAE9PTxw5cgT379/XSrt27VpUqlTJEMUsk7hui65nz54ICwvD+vXrERUVhd27d6N169bihbaHhwfMzc0NXErGnuM2yxh7Hbdv30b9+vVx8OBBfPPNN7h8+TL+/fdffP7559izZw/+/fdfvZ9TKBSlXFLT07FjR8THx+P27duYO3cufvrpJ4wfPx4AMHXqVPTp0weNGzfGvn37cO3aNSxatAhhYWHYuHGjmIednR3i4+MRFxeHv//+G+np6XjnnXeQk5NjqN0qNZr6i4+Px+HDhyGTyfDuu+8aulhvjMLqXyqVwsPDAzKZzMClZGUOMWYgwcHB1K1bNyIi+uOPP6h27dpkYWFBTk5O1LZtW0pLSyMiIpVKRbNmzaLy5cuTmZkZ1a1bl/bt2yfmExMTQwDo8uXLRESkVCpp6NCh5O3tTRYWFuTr60s//PCDmH7GjBkEQOvnyJEjRER0//59ev/998nBwYGcnJyoa9euFBMTI35WqVTS559/Tvb29uTk5EQTJkygQYMGifthLPLW7fz588nc3Jy2b98urp8xYwbVrVuX3n33XZo7d664/NSpU+Ti4kKffPIJBQYGauW5Zs0aql69Opmbm5Ofnx8tX75ca/3EiROpWrVqZGlpSZUrV6avvvqKcnJydLa5YcMG8vLyIjs7O+rTpw89ffpUTFNYOzAWXLevJjU1lQDQ0aNHC0wDgHbu3ElEut/rI0eOEAD6999/qWHDhmRpaUkBAQF048YNrTx++uknqlKlCsnlcvL19aUNGzaI6/LnmbdcmmMAEdH169epU6dOZG1tTW5ubjRgwAB69OgREeX+/fMfPzT55v0JDg4mIiK1Wk3z58+nypUrk4WFBfn7+9Mff/zx6hXJSg23WW6zjL2uoKAgqlChQoHnW7VaTUS5x5Kff/6ZunbtSlZWVjR9+vQXXs8SPb8mmTlzJrm6upKtrS19+OGHlJ2dLaYJDAyk0aNH04QJE8jR0ZHc3d1pxowZJbbPxiDvtZrG8OHDycPDg86dO0cAdOpSIzU1lYiI1q5dS/b29lrrdu/eTQDoypUrJVBq46Gv/o4fP04AKDExkYgKvzZdu3atzjlm7dq1RJRbvyNGjCA3NzcyNzenWrVq0Z49e8TP2dvb0/79+6l69epkbW1NQUFBFBcXV2r7bgxeVP/6rg2OHj1KjRs3JjMzM/Lw8KBJkyaRQqEo3YIzo8c9/5jBxcfHo2/fvhg6dCgiIiJw9OhR9OjRA0QEAFiyZAkWLVqEhQsX4sqVKwgKCkLXrl0RHR2tNz+1Wo0KFSpg27ZtCA8Px/Tp0/Hll19i27ZtAIDx48fj/fff13qi0rx5c2RkZKBNmzawsbHB8ePHcfLkSdjY2KBjx47iE75FixZhzZo1WL16NU6ePImUlBTs3LmzdCrqFUyePBlz5szB3r170bNnT531Q4cOxbp168Tf16xZg/79+8PMzEwr3apVqzB16lR8/fXXiIiIwDfffINp06Zh/fr1YhpbW1usW7cO4eHhWLJkCVatWoXFixdr5XPr1i3s2rULe/fuxd69e3Hs2DHMmzcPwIvbgbHhun05NjY2sLGxwa5du5Cdnf3K+UydOhWLFi3CxYsXIZPJMHToUHHdzp07MXbsWIwbNw7Xrl3DRx99hCFDhuDIkSNFzj8+Ph6BgYGoV68eLl68iP379+Phw4d4//33AeQejwICAjBixAjx+FGxYkXs2LEDABAZGYn4+HgsWbIEAPDVV19h7dq1+Pnnn3H9+nV8/vnnGDBgAI4dO/bKdcBKB7dZbrOMvY7k5GQcPHgQo0aNgrW1td40giCI/54xYwa6deuGq1evYujQoS+8ntU4fPgwIiIicOTIEWzZsgU7d+7ErFmztNKsX78e1tbWOHfuHBYsWIDZs2fj0KFDxb/TRszS0hIKhQKbNm2CjY0NRo4cqTddQWPOPX78GJs3bwYAyOXykiqmUUpLS8OmTZvg4+MDZ2dnAIVfm/bp0wfjxo1DrVq1xPNOnz59oFar0alTJ5w+fRq//fYbwsPDMW/ePEilUnFbGRkZWLhwITZu3Ijjx48jNjZW7LH5ptJX/3k9ePAAnTt3RuPGjREWFoaff/4Zq1evxty5cw1QWmbUDBx8ZG8wzVONkJAQAkB37tzRm65cuXL09ddfay1r3LgxjRw5koj094zIb+TIkdSzZ0+dbee1evVq8vPzE5/CEhFlZ2eTpaUlHThwgIiIPD09ad68eeJ6hUJBFSpUMMqef2ZmZgSADh8+rLNe01MsJyeH3Nzc6NixY5SWlka2trYUFhZGY8eO1eqdVrFiRdq8ebNWHnPmzKGAgIACy7BgwQJq2LCh1jatrKy0eqNNmDCBmjZtSkT0wnZgLLhuX9327dvJ0dGRLCwsqHnz5jRlyhQKCwsT16OIvag0/v77bwJAmZmZRETUvHlzGjFihNY2e/fuTZ07d9abJ5FuL6pp06ZRhw4dtPK4d+8eAaDIyEgiyu1FMXbsWK00mvJpegwQEaWlpZGFhQWdPn1aK+2wYcOob9++L64wZnDcZnNxm2Xs5Z09e5YA0J9//qm13NnZmaytrcna2pomTpxIRLnHks8+++yFeeq7nnVycqL09HRx2c8//0w2NjakUqmIKPf7/9Zbb2nl07hxY5o0adIr75uxy3+df+7cOXJ2dqb333+fOnXqRP7+/i/MQ9N7zdramqysrMQebF27di3BkhuH4OBgkkqlYjsFQJ6enhQSElLgZ/Rdm9atW1crzYEDB0gikYjnpvw0dX7z5k1x2fLly8nd3f31dqiMeVH95782+PLLL3XuYZcvX651HGCMiHv+MSNQt25dtG3bFnXq1EHv3r2xatUqpKamAgCePn2KuLg4tGjRQuszLVq0QERERIF5rlixAo0aNYKrqytsbGywatUqxMbGFlqOkJAQ3Lx5E7a2tmKPDycnJ2RlZeHWrVt48uQJ4uPjERAQIH5GJpOhUaNGr7H3Jcff3x/e3t6YPn06nj17pjeNXC7HgAEDsHbtWvzxxx/w9fWFv7+/VppHjx7h3r17GDZsmFgvNjY2mDt3Lm7duiWm2759O9566y14eHjAxsYG06ZN06lzb29v2Nrair97enoiMTERQOHtwNhw3b6anj17Ii4uDrt370ZQUBCOHj2KBg0aaPWQfJG8dejp6QkA4n5GRES89LEiv5CQEBw5ckTr71G9enUA0PqbFEV4eDiysrLQvn17rfw2bNjw0nkxw+A2y22WsdeVt3cfAJw/fx6hoaGoVauWVq9ifdeTRbmerVu3LqysrMTfAwICkJaWhnv37onL8l9/5L1GMFV79+6FjY0NLCwsEBAQgFatWmHZsmUgIp2/SUFsbW0RGhqKkJAQrFixAlWrVsWKFStKuOTGoU2bNggNDUVoaCjOnTuHDh06oFOnTrh79y6Aol2b5hcaGooKFSrA19e3wDRWVlaoWrWq+Pub0Fb1eVH95xUREYGAgACtdt2iRQukpaXpjD/O3mw8SiQzOKlUikOHDuH06dM4ePAgli1bhqlTp+LcuXNi1+b8J+nCTtzbtm3D559/jkWLFiEgIAC2trb47rvvcO7cuULLoVar0bBhQ2zatElnnaur6yvuneGUL18eO3bsQJs2bdCxY0fs379fKzikMXToUDRt2hTXrl3Teh1NQ61WA8h9PbVp06Za6zTd9M+ePYsPPvgAs2bNQlBQEOzt7fH7779j0aJFWunzvyYhCIKYf2HtoHLlyq9eESWA6/bVWVhYoH379mjfvj2mT5+O4cOHY8aMGRg8eHCRPp93PzXHAM1+5l2mkfdYIZFIxGUa+QdVV6vV6NKlC+bPn6+zbU3gpqg05fr7779Rvnx5rXU8SUTZwW02F7dZxl6Oj48PBEHAjRs3tJZXqVIFQO5rqHnlfzX4Va9nNfIeWwq7RjBVbdq0wc8//wy5XI5y5cqJdeDr64uTJ09CoVC88PVdiUQCHx8fAED16tWRkJCAPn364Pjx4yVefkOztrYW9x0AGjZsCHt7e6xatQrvvvtuka5N88vf5vXR11bJSIcAKkmF1f/w4cO10uq7L9bUWVED3ezNYNI9/zTTY7/ME/qXkXcK+Dt37pTINt4UgiCgRYsWmDVrFi5fvgwzMzPs3LkTdnZ2KFeuHE6ePKmV/vTp06hRo4bevE6cOIHmzZtj5MiRqF+/Pnx8fHR6LJiZmUGlUmkta9CgAaKjo+Hm5gYfHx+tH3t7e9jb28PT0xNnz54VP6NUKhESElJMtVD8KlWqhGPHjiExMREdOnTA06dPddLUqlULtWrVwrVr19CvXz+d9e7u7ihfvjxu376tUy+awNGpU6fg5eWFqVOnolGjRqhWrZreJ1MvUlA7MEZct8WjZs2aSE9PL5a8atSoUeixQhPEj4+PF9eHhoZqpW/QoAGuX78Ob29vnb+J5sZM3/FDM5Zj3uU1a9aEubk5YmNjdfKqWLFisewzK33cZo1T69at8dlnnxm6GIyJnJ2d0b59e/z444+vdMwoyvUsAISFhSEzM1P8/ezZs7CxsUGFChVeq/xlnSZ44uXlpRVQ6tevH9LS0vDTTz/p/dzjx48LzPPzzz9HWFiYUVw/lTZBECCRSJCZmVmka1N95x1/f3/cv38fUVFRpVl0k5C3/vOrWbMmTp8+rRUkPX36NGxtbXUe5LGS4+3tjR9++MHQxShUqQX/WrduLQbK6tatq7UuOTkZlpaW4vrJkycXOd+8AThWNp07dw7ffPMNLl68iNjYWPz555949OiRePMzYcIEzJ8/H1u3bkVkZCQmT56M0NBQjB07Vm9+Pj4+uHjxIg4cOICoqChMmzYNFy5c0Erj7e2NK1euIDIyEklJSVAoFOjfvz9cXFzQrVs3nDhxAjExMTh27BjGjh0rdpkeO3Ys5s2bh507d+LGjRsYOXJkoRcJxqBChQo4evQokpOT0aFDBzx58kQnzX///Yf4+PgCBzmeOXMmvv32WyxZsgRRUVG4evUq1q5di++//x5Abp3Hxsbi999/x61bt7B06dKXvjB6UTswRly3RZecnIy3334bv/32G65cuYKYmBj88ccfWLBgAbp161Ys25gwYQLWrVuHFStWIDo6Gt9//z3+/PNPcaBoS0tLNGvWDPPmzUN4eDiOHz+Or776SiuPUaNGISUlBX379sX58+dx+/ZtHDx4EEOHDhUvYr29vXHu3DncuXMHSUlJUKvV8PLygiAI2Lt3Lx49eoS0tDTY2tpi/Pjx+Pzzz7F+/XrcunULly9fxvLly7UmdCkrBEHArl279K47evQoBEHQOh6uXLkSdevWhbW1NRwcHFC/fn2t3mkzZ85EvXr1SrbQr4HbbNlqs3/++SfmzJkD4MWBwPxt+ciRI2jTpg2cnJxgZWWFatWqITg4GEqlEoD+9m2qBg8ejO7du2st2759OywsLLBgwQLMnDlTvO4WBAH29vZo2bKlzoQw3t7eWuk0P/PmzdPJQ9+PqTxU/+mnn6BUKtGoUSNs3boVERERiIyMxG+//YYbN25oTXSQX1GuZwEgJycHw4YNQ3h4OPbt24cZM2bg008/FXsOM21NmzbFxIkTMW7cOEycOBFnzpzB3bt3cfjwYfTu3bvQY52dnZ3Y+9vUe6NlZ2cjISEBCQkJiIiIwOjRo5GWloYuXboU6drU29sbMTExCA0NRVJSErKzsxEYGIhWrVqhZ8+eOHToEGJiYrBv3z7s37/fQHtpvAqr//xGjhyJe/fuYfTo0bhx4wb++usvzJgxA1988cUbeRx40fnlRW9uFHa9W+aV1uCCgYGBWtN9Hzt2TFw3b948rXUvMwBt3qnE89Ms10wtXtzybjsmJqZEtmHKNIPxhoeHU1BQELm6upK5uTn5+vrSsmXLxHQqlYpmzZpF5cuXJ7lcTnXr1qV9+/aJ6/MPepqVlUWDBw8me3t7cnBwoE8++YQmT56sNehsYmIitW/fnmxsbLQGTo+Pj6dBgwaRi4sLmZubU5UqVWjEiBH05MkTIsqd4GPs2LFkZ2dHDg4O9MUXX9CgQYOMcsKP/GWKi4sjPz8/aty4MY0dO1ZnEN688k9KQUS0adMmqlevHpmZmZGjoyO1atVKaxDrCRMmkLOzM9nY2FCfPn1o8eLFZG9vL67XN/Dv4sWLycvLi4johe3AWHDdvpqsrCyaPHkyNWjQgOzt7cnKyor8/Pzoq6++ooyMDCIq2uQJeScnuHz5ss7x96effqIqVaqQXC4nX19f2rBhg1Y5wsPDqVmzZmRpaUn16tWjgwcPah0DiIiioqLovffeIwcHB7K0tKTq1avTZ599Jg6kHBkZKeaRd/uzZ88mDw8PEgSBgoODiYhIrVbTkiVLyM/Pj+RyObm6ulJQUJDWObCsyPv3yS//3+fXX38lKysr+vXXXyk6OpquXbtGmzdvpq+++kr8jL52a0y4zZbdNqtvgpO88v7drl27Rubm5jRhwgS6evUq3bx5k/bt20fDhg2j7OxsItL/tzRV+c9xq1atIjMzM1q1ahUR5X5va9WqRfHx8RQfH0/Xr1+nIUOGkI2NDT1+/Fj8nJeXF82ePVtMp/lJS0ujZ8+eaS2rUKGCTlqlUlnau15i4uLi6NNPP6XKlSuTXC4nGxsbatKkCX333XfiRB36jq9FuZ7V/L2mT58uXicMHz6csrKyxDT6vg/dunUTv/OmSN+1Wn5bt26lVq1aka2tLVlbW5O/vz/Nnj1b/J6vXbtW61pL4+7duySTyWjr1q3FX3AjERwcrHVvbmtrS40bN6bt27eLaV50bZqVlUU9e/YkBwcHrfvx5ORkGjJkCDk7O5OFhQXVrl2b9u7dS0T663znzp167/NN2YvqX99kYEePHqXGjRuTmZkZeXh40KRJk0ihUBhoDwwr77nkhx9+IDs7O61lec9V+hR2vVsYLy8vWrx48asVupSUevBPLpcTAOrVqxcRESmVSqpUqZK4PG/w7/HjxzRmzBhxffny5enzzz8XT5T5vxianxkzZuTu3P9//+GHHyg4OJhsbW2pXLlyNGfOHK2yJScn08iRI6lChQokk8nIzc2NBgwYQHfv3tVKt3TpUipXrhxZW1tTv3796IcffuDgH2OMMZOhUqlo3rx5VLVqVTIzM6OKFSvS3Llziejlgn/dunWjwYMHF7otYw/+sbIlb4DjZYJ/ixcvJm9v70LzflODf/Pnzydzc3OtG35939vY2FgCQOfPnxeXvcxNUFm4YTJWRQlyMcbYm0pfQLmwh65eXl5acSVNR4qbN29S165dyc3NjaytralRo0Z06NAhrXzLwrms1PuB1qtXD1WqVMGuXbtw//597N69G7GxsejVq5dWuuzsbLRu3RpLly5FYmIiatSogeTkZCxevBhdunQBEaFq1arioLlAbjfupk2b6oxxMWXKFBw8eBDm5uaIi4vDtGnTcOjQIQBAVlYWAgMD8dNPPyEhIQG+vr54+vQpfvvtNwQEBODRo0cAgD179mDMmDGIi4uDlZUVTpw4galTp5ZwbTHGGGOlZ8qUKZg/fz6mTZuG8PBwbN68Ge7u7i+dj4eHB86ePftK41MyVpo8PDwQHx//Rgzg/zImT56MOXPmYO/evejZs2eB6bKzs7Fu3To4ODjAz8+vFEvIGGOMvZydO3di7NixGDduHK5du4aPPvoIQ4YMwZEjRwBAHFph7dq1iI+PF39PS0tD586d8e+//+Ly5csICgpCly5dXjjDtbEp9eCfRCLBqFGjoFQq8fPPP2PZsmUAgNGjR2ul+/333xEaGgozMzNcuXIFYWFh4kQL//33H/777z9MmzYN06ZNEz9z9uxZnD17VmcGnLp16+LOnTuIiIgQB3w9fPgwAGDLli24du0aAOCPP/7A9evXcerUKUgkEsTFxeHHH38EACxYsAAAULVqVdy+fRsxMTFo3LhxcVcPY4wxZhDPnj3DkiVLsGDBAgQHB6Nq1ap46623dM6pRTFjxgw4ODjA29sbfn5+GDx4MLZt22bys0uysqd3797o27cvAgMD4enpiffeew8//vij3kmc3hT79u3D/Pnz8ddff6Fdu3Y6669evQobGxvY2NjA0tISCxcuxJYtW2BnZ6eVbtKkSWI6zc/Ro0dLaS8YY4wxbQsXLsTgwYMxcuRI+Pr64osvvkCPHj2wcOFCAM8nWnNwcICHh4f4e926dfHRRx+hTp06qFatGubOnYsqVapg9+7dBtuXV2GQESCHDh0Ka2trLFu2DEeOHEHDhg0REBCgleb8+fMAcgex9fX1hSAIWgOD551x9UX69OkDMzMzuLi4wM3NDQDw8OFDAM+ju1ZWVuIAxw0aNBCfXl68eBEAcP36dQBAUFAQbGxsIJVK0aNHj5fcc8YYY8w4RUREIDs7G23btn3tvDw9PXHmzBlcvXoVY8aMgUKhQHBwMDp27MgBQGZUpFIp1q5di/v372PBggUoV64cvv76a9SqVUtrluU3ib+/P7y9vTF9+nQ8e/ZMZ72fnx9CQ0MRGhqKkJAQfPLJJ+jdu7d4zawxYcIEMZ3mp2nTpqW1G2+EdevWme7A9IwxVswiIiLQokULrWUtWrRAREREoZ9LT0/HxIkTUbNmTTg4OMDGxgY3btzgnn9F4eDggAEDBogXFPl7/QEQZ1AyMzMTX+fN++Po6PhS29OQyWRa+b+svLMKv2oejDHGmLGxtLQs9jxr166NUaNGYdOmTTh06BAOHTqkMysoY8agfPnyGDhwIJYvX47w8HBkZWVhxYoVhi6WQZQvXx7Hjh1DfHw8OnbsqBMANDMzg4+PD3x8fFC/fn3MmzcP5cuXxw8//KCVzsXFRUyn+SmJ4wxjjDFWVHnjOUBuTCf/svwmTJiAHTt24Ouvv8aJEycQGhqKOnXqICcnpySLWuwMNvfzp59+CiD3wuCDDz7QWd+kSRMAgEqlwk8//SS+0nv06FFMmDAB/fr1A5DbY08jPT39pcuheXU3IyNDfHJ26dIlREZGAgAaNWoEAKhVqxYA4ODBg0hPT4dKpeInbSWodevW+Oyzz4qU9ujRoxAEAY8fP36tbXp7e+tcuDLGjAsfG0pOtWrVYGlpKQ6LUdxq1qwJ4NXO1WXRy7TV4nLnzh0IgoDQ0NBS3a6pcXR0hKen5xvTVvWpVKkSjh07hsTERHTo0OGFr0FLpVJkZmaWUunYy5g5c6bW21MvohnDkRXuTbk2MCRBEPh+20BM9XqiRo0aOHnypNay06dPo0aNGuLvcrkcKpVKK82JEycwePBgvPfee6hTpw48PDxw586d0ihysTJY8K927dpITk7GrVu3YG5urrO+b9++8Pf3h0qlQuPGjVG7dm34+fnBwcEBvXr1Em/mqlevLn6mZs2aaNasGU6dOlXkcvTt21cM7PXu3Ru1atVCixYtoFarUa5cOTFIOX78eABAdHQ0qlSpgipVquD06dOvuvuMGaXBgwdDEATMmzdPa/muXbvEJyKagIqjoyOysrK00p0/fx6CIGg9PSmuAIwpOX36NKRSKTp27Ki1XHOi1fzY29ujWbNm2LNnj1Y6vjBnJcHCwgKTJk3CxIkTsWHDBty6dQtnz57F6tWrxTQxMTE6r/GlpaXp5PXJJ59gzpw5OHXqFO7evYuzZ89i0KBBcHV11Rnmg+nHx87X8+jRI522mpCQoJNu5cqV+OSTT3Dw4EHcunUL169fx6RJk3D9+nV06dLFACU3HhUqVMDRo0eRnJyMDh064MmTJwAApVKJhIQEJCQkIDo6GnPnzkV4eDi6deum9flnz56J6TQ/b/JYiqVBX7Bk/PjxL/VQp0+fPoiKihJ/f9ng4ZviwoUL+PDDDw1dDJNQUBuLj49Hp06dSr9Ab5jBgweLw59pVKxYEfHx8ahdu7ZhClVCJkyYgHXr1mHFihWIjo7G999/jz///FOM9QC5gf3Dhw8jISEBqampAAAfHx/8+eefCA0NRVhYGPr161cmh7ExWPAPAJycnHQGB9YwNzfHsWPHMGbMGFSsWBFRUVFITU1Fo0aN8PXXX4uzD/r7+2PatGlwd3dHbGwszp07J/6RisLCwgLHjx/HyJEj4eHhgaioKNjZ2WHAgAE4c+aMOMhjt27dsHjxYnh4eODZs2do1KgR5s6d+/qVwJiRsbCwwPz581/4PbK1tcXOnTu1lq1ZswaVKlUqyeKZhDVr1mD06NE4efKk3rEi/v33X8THx+PcuXNo0qQJevbsKU5MxFhJmjZtGsaNG4fp06ejRo0a6NOnDxITE8X1X3zxBerXr6/1k3+cLwBo164dzp49i969e8PX1xc9e/aEhYUFDh8+DGdn59LcJfaG2rx5s05b1fcab5MmTZCWloaPP/4YtWrVQmBgIM6ePYtdu3YhMDDQACU3LppXgB8/foz27dvj8ePHuH79Ojw9PeHp6Yl69eph27Zt+PnnnzFo0CCtz06fPl1Mp/mZOHGigfbkzWVjY/NSx11LS0txjHSmS/Oan6urq9YbaKauoNcbFQpFiW3Tw8NDbychlvuqqlKpLLH8pVIpPDw8xCHTTEX37t2xZMkSfPfdd6hVqxZWrlyJtWvXonXr1mKaRYsW4dChQ6hYsSLq168PAFi8eDEcHR3RvHlzdOnSBUFBQWjQoIGB9uI1EGNGKDAwkMaOHUtERBs3bqSGDRuSjY0Nubu7U9++fenhw4di2iNHjhAA2rt3L/n7+5O5uTk1adKErly5opXnqVOnqGXLlmRhYUEVKlSg0aNHU1pamrjey8uLFi9eLP4+Y8YMqlixIpmZmZGnpyeNHj26RPfZGAQHB9O7775L1atXpwkTJojLd+7cSZrDhaa+v/rqK2rXrp2YJiMjg+zt7WnatGmU99CiSZ+amlpq+2HM0tLSyNbWlm7cuEF9+vShWbNmietiYmIIAF2+fFlc9vTpUwJAS5cuFZetXbuW7O3tS7HUxsMYjg2MFUVgYCCNGjWKRo0aRfb29uTk5ERTp04ltVpNRIW3X82xIO9PcHAwERGpVCqaN28eVa1alczMzKhixYo0d+5crc/t2LGDWrduTZaWluTv70+nT582SB0wVpYU9t26cuUKtWnThiwsLMjJyYlGjBhBz549Ez8bHBxM3bp1o++++448PDzIycmJRo4cSTk5OWIaLy8v+vrrr2nIkCFkY2NDFStWpJUrV2qV4f79+/T++++Tg4MDOTk5UdeuXSkmJkYrzerVq6lmzZpkZmZGHh4eNGrUKDH/vMcMLy8vIsq9nq1bty4REe3fv5/Mzc11rslGjx5NrVq1IiLta4y1a9fqHIvWrl1LQ4YMoXfeeUcrD4VCQe7u7rR69eoSq9+vv/6a3NzcyN7enmbOnEkKhYLGjx9Pjo6OVL58ea1ta46HW7ZsoYCAADI3N6eaNWvSkSNHxDRKpZKGDh1K3t7eZGFhQb6+vvTDDz9olVuz7W+++YY8PT3Fen2Z+4aUlBQaOHAgOTg4kKWlJXXs2JGioqLE9Zo6379/P1WvXp2sra0pKCiI4uLi9NZlURVHnefdb02dbt26lQIDA8nc3JzWrFlDRERr1qyh6tWrk7m5Ofn5+dHy5cu1ynLv3j3q06cPOTo6kpWVFTVs2JDOnj1bYBsjIgJAO3fuFPMoju9hSddXYdtevnw5+fj4kLm5Obm5uVHPnj3FdWq1mubPn0+VK1cmCwsL8vf3pz/++ENcr7mm3b9/PzVs2JDkcjmtWLGCAFBERITWfixatIi8vLxIrVa/sI3PmDFDp/6PHDmi957k6NGj1LhxY/HYM2nSJFIoFOL6wMBAGj16NE2YMIEcHR3J3d2dZsyYUaS6Z6WDg3/MKOW9wV+9ejX9888/dOvWLTpz5gw1a9aMOnXqJKbVHAxr1KhBBw8epCtXrtC7775L3t7e4gH3ypUrZGNjQ4sXL6aoqCg6deoU1a9fnwYPHizmk/ck/scff5CdnR39888/dPfuXTp37hz98ssvpbb/hqI5cf35559kYWFB9+7dIyL9wb/IyEgyNzenu3fvElHujWzdunW10uZNz8G/XKtXr6ZGjRoREdGePXvI29tbDAbkP9Hm5OTQokWLCAD9/PPPYh4c/BtLRIY5NjBWVIGBgWRjY0Njx46lGzdu0G+//UZWVlbiuaSw9qtUKmnHjh3isTY+Pp4eP35MREQTJ04kR0dHWrduHd28eZNOnDhBq1atIqLnx5Dq1avT3r17KTIyknr16kVeXl5aF+iMMV0FfbfS09OpXLly1KNHD7p69SodPnyYKleuLAbkiXKvn+zs7Ojjjz+miIgI2rNnj9b3nSj3XOLk5ETLly+n6Oho+vbbb0kikYg37unp6VStWjUaOnQoXblyhcLDw6lfv37k5+dH2dnZRET0008/kYWFBf3www8UGRlJ58+fF89PiYmJYuAkPj6eEhMTiUg7+KdUKsnd3Z1+/fVXsVyaZZpAZN5rjIyMDBo3bhzVqlWL4uPjKT4+njIyMujUqVMklUq1glN//fUXWVtbawVEirN+bW1tadSoUXTjxg1avXo1AaCgoCD6+uuvKSoqiubMmUNyuZxiY2OJ6PnxsEKFCrR9+3YKDw+n4cOHk62tLSUlJRFR7nXW9OnT6fz583T79m3xOL1161atbdvY2NDAgQPp2rVrdPXqVfHvWdT7hq5du1KNGjXo+PHjFBoaSkFBQeTj4yNei6xdu5bkcjm1a9eOLly4QCEhIVSjRg3q16+f3rosqtet8/z7ralTb29v2rFjB92+fZsePHhAv/zyC3l6eorLduzYQU5OTrRu3ToiInr27BlVqVKFWrZsSSdOnKDo6GjaunUrnT59usA2RqQd/Cuu72FJ1ldh275w4QJJpVLavHkz3blzhy5dukRLliwRP//ll19S9erVaf/+/XTr1i1au3YtmZub09GjR4no+TWtv78/HTx4kG7evElJSUnUsGFD+uqrr7T2o2HDhjRlyhQienEbf/bsGb3//vvUsWNHsf6zs7N17knu379PVlZWNHLkSIqIiKCdO3eSi4uLVnAvMDCQ7OzsaObMmRQVFUXr168nQRDo4MGDRap/VvI4+MeMUt4b/PzOnz9PAMSLC83B8PfffxfTJCcnk6WlpXhgGzhwIH344Yda+Zw4cYIkEgllZmYSkfZJfNGiReTr61vkJ0WmQhP8IyJq1qwZDR06lIj0B/9SU1Ope/fuYs+1Nm3a0JIlSzj49wLNmzcXn7gpFApycXGhQ4cOEdHzC1VLS0uytrYmiUQiXmQlJyeLeXDwb6zedaVxbGCsqAIDA6lGjRpicJ+IaNKkSVSjRg296Qtqv3mPnU+fPiVzc3Mx2Jef5hiS98b++vXrensGMMaeK+y79csvv5Cjo6NWj/C///6bJBIJJSQkEFHu9ZOXlxcplUoxTe/evalPnz7i715eXjRgwADxd7VaTW5ubuLDvdWrV5Ofn5/WMSM7O5ssLS3pwIEDRERUrlw5mjp1aoH7kb+nFJF28I+IaMyYMfT222+Lvx84cIDMzMwoJSWFiHSvMfJ/XqNmzZo0f/588ffu3btrPTjLq7jqV6VSiWn8/PyoZcuW4u9KpZKsra1py5YtRPT8eDhv3jwxjUKhoAoVKmiVO7+RI0dq9cgKDg4md3d3MQCrUdT7hqioKAJAp06dEpclJSWRpaUlbdu2jYie97C8efOmmGb58uXk7u5eYDlfpDjqPP9+a+o0f+/IihUr0ubNm7WWzZkzhwICAoiIaOXKlWRra6t1LZtXQW0sb3suru9hQUr6GLBjxw6ys7Ojp0+f6uSflpZGFhYWOr30hw0bRn379iWi59cEu3bt0krz/fffU5UqVcTfIyMjCQBdv369wH3V18Y1938a+YN/X375pc7xafny5WRjYyN+LwMDA+mtt97Syqdx48Y0adKkAsvCSpdBx/xjrCguX76Mbt26wcvLC7a2tuI7+fnHSss7iLyTkxP8/PwQEREBAAgJCcG6detgY2Mj/gQFBUGtViMmJkZnm71790ZmZiaqVKmCESNGYOfOnSU6roIxmj9/PtavX4/w8PAC0wwdOhTr1q3D7du3cebMGfTv378US1j2REZG4vz58+IM5zKZDH369MGaNWu00m3duhWXL1/G7t274ePjg19//RVOTk6GKLJRM8SxgbGX0axZM60JkAICAhAdHQ2VSlXk9ptXREQEsrOz0bZt20K36+/vL/7b09MTALTGbmSMaSvsuxUREYG6devC2tpaXKaZHDAyMlJcVqtWLUilUvF3T09Pne9d3u+mIAjw8PAQ04SEhODmzZuwtbUVz0dOTk7IysrCrVu3kJiYiLi4uBd+/1+kf//+OHr0KOLi4gAAmzZtQufOneHo6PhS+QwfPhxr164FkHt8+fvvvzF06FC9aYurfiWS57eu7u7uqFOnjvi7VCqFs7OzTp3nvQaQyWRo1KiReA0AACtWrECjRo3g6uoKGxsbrFq1Suc4XKdOHZiZmRVYF4XdN0REREAmk6Fp06ZiemdnZ61rEQCwsrJC1apVxd/1tZ+XURx1XtB+N2rUSPz3o0ePcO/ePQwbNkzrWmru3Lm4desWACA0NBT169d/rWvZ4vweFpR/SR4D2rdvDy8vL1SpUgUDBw7Epk2bkJGRAQAIDw9HVlYW2rdvr1WHmsnX8spb9wDwwQcfiBOrAbnf53r16qFmzZpimqK08aLUT0BAgNY1TYsWLZCWlob79++Ly/Ie4/LXATM80xrBkZmc9PR0dOjQAR06dMBvv/0GV1dXxMbGIigoqMCBZ/PSHKDUajU++ugjjBkzRieNvgkqKlasiMjISBw6dAj//vsvRo4cie+++w7Hjh2DXC5//R0rA1q1aoWgoCB8+eWXGDx4sN40nTt3xkcffYRhw4ahS5cuPJD/C6xevRpKpRLly5cXlxER5HK51gQrFStWRLVq1VCtWjXY2NigZ8+eCA8P5wG48zDUsYGx4pCVlfVK7dfS0rJI+ec9T+Vt64wx/Qr7bhGR1g1vXnmX578+FARB53tXWBq1Wo2GDRti06ZNOttxdXXVCny9jiZNmqBq1ar4/fff8cknn2Dnzp1iEO9lDBo0CJMnT8aZM2dw5swZeHt7o2XLlnrTllT9FqXOC8t327Zt+Pzzz7Fo0SIEBATA1tYW3333Hc6dO6eVPm/QR5/C7huISO9n8u+3vn0p6LNFURx1XtB+512uqe9Vq1ZpBTgBiIGwop67ClOc30N9SvoYYGtri0uXLuHo0aM4ePAgpk+fjpkzZ+LChQtimr///lvrHgGAzoQn+f8mnp6eaNOmDTZv3oxmzZphy5Yt+Oijj8T1RW3jL6KvDjTtszjqn5UO7vnHjNqNGzeQlJSEefPmoWXLlqhevXqBTw80TzwAIDU1FVFRUahevToAoEGDBrh+/Tp8fHx0fgp6kmdpaYmuXbti6dKlOHr0KM6cOYOrV68W/04asXnz5mHPnj04ffq03vVSqRQDBw7E0aNHC3zay3IplUps2LABixYtQmhoqPgTFhYGLy8vvRf7ABAYGIjatWvj66+/LuUSGzdDHhsYK6q8bU/ze7Vq1YrUfjXtT6VSicuqVasGS0tLHD58uOQLz9gbpLDvVs2aNREaGor09HRx2alTpyCRSODr61tsZWjQoAGio6Ph5uamcz6yt7eHra0tvL29C/3+y+VyrWNGQfr164dNmzZhz549kEgkeOeddwpMa2ZmpjdPZ2dndO/eHWvXrsXatWsxZMiQAvMwZP3mPQ4rlUqEhISI1wAnTpxA8+bNMXLkSNSvXx8+Pj46Pa2KqqD7hpo1a0KpVGoFW5KTkxEVFYUaNWq83s4VorTq3N3dHeXLl8ft27d12m3lypUB5PYGCw0NRUpKit48CmpjJVVmfUqjvmQyGdq1a4cFCxbgypUruHPnDv777z/UrFkT5ubmiI2N1anDihUrvjDf/v37Y+vWrThz5gxu3bolvmEEFK2NF7X+T58+rRWQPn36NGxtbXUClsx4cfCPGbVKlSrBzMwMy5Ytw+3bt7F7927MmTNHb9rZs2fj8OHDuHbtGgYPHgwXFxd0794dADBp0iScOXMGo0aNQmhoKKKjo7F7926MHj1ab17r1q3D6tWrce3aNdy+fRsbN26EpaUlvLy8SmpXjVKdOnXQv39/LFu2rMA0c+bMwaNHjxAUFFSKJSt79u7di9TUVAwbNgy1a9fW+unVqxdWr15d4GfHjRuHlStX4sGDB6VYYuNmqGMDYy/j3r17+OKLLxAZGYktW7Zg2bJlGDt2bJHar5eXFwRBwN69e/Ho0SOkpaXBwsICkyZNwsSJE8XXgc6ePVvo8YMx9mKFfbf69+8PCwsLBAcH49q1azhy5AhGjx6NgQMHwt3dvdjK0L9/f7i4uKBbt244ceIEYmJicOzYMYwdO1Z8rW7mzJlYtGgRli5diujoaFy6dEnrGk0THExISNB6o0Dfti5duoSvv/4avXr1goWFRYFpvb29ERMTg9DQUCQlJSE7O1tcN3z4cKxfvx4REREIDg4uMA9D1u/y5cuxc+dO3LhxA6NGjUJqaqr4wNrHxwcXL17EgQMHEBUVhWnTpuHChQsvvY3C7huqVauGbt26YcSIETh58iTCwsIwYMAAlC9fHt26dXvt/StIadb5zJkz8e2332LJkiWIiorC1atXsXbtWnz//fcAgL59+8LDwwPdu3fHqVOncPv2bezYsQNnzpwBUHgb0yjpdlLS9bV3714sXboUoaGhuHv3LjZs2AC1Wg0/Pz/Y2tpi/Pjx+Pzzz7F+/XrcunULly9fxvLly7F+/foX5t2jRw88ffoUn3zyCdq0aaMVjCtKG/f29saVK1cQGRmJpKQkKBQKnW2MHDkS9+7dw+jRo3Hjxg389ddfmDFjBr744oti65XMSh7/pZhRc3V1xbp16/DHH3+gZs2amDdvHhYuXKg37bx58zB27Fg0bNgQ8fHx2L17t9hzwt/fH8eOHUN0dDRatmyJ+vXrY9q0aeJYSPk5ODhg1apVaNGiBfz9/XH48GHs2bPnjXytdc6cOYW+dmBmZgYXF5cCu8OzXKtXr0a7du1gb2+vs65nz56FPhF999134e3tzb3/8jDUsYGxlzFo0CBkZmaiSZMmGDVqFEaPHo0PP/ywSO23fPnymDVrFiZPngx3d3d8+umnAIBp06Zh3LhxmD59OmrUqIE+ffrweDqMFYOCvltWVlY4cOAAUlJS0LhxY/Tq1Qtt27bFjz/+WKzbt7KywvHjx1GpUiX06NEDNWrUwNChQ5GZmQk7OzsAQHBwMH744Qf89NNPqFWrFt59911ER0eLeSxatAiHDh1CxYoVUb9+/QK3Va1aNTRu3BhXrlx54XjNPXv2RMeOHdGmTRu4urpiy5Yt4rp27drB09MTQUFBKFeuXKH5GKp+582bh/nz56Nu3bo4ceIE/vrrL7i4uAAAPv74Y/To0QN9+vRB06ZNkZycjJEjR770Nl5037B27Vo0bNgQ7777LgICAkBE+Oeff0p8KKHSqvPhw4fj119/xbp161CnTh0EBgZi3bp1Ys8/MzMzHDx4EG5ubujcuTPq1KmDefPmia8FF9bGNErje1iS9eXg4IA///wTb7/9NmrUqIEVK1Zgy5YtqFWrFoDc+63p06fj22+/RY0aNRAUFIQ9e/aIdVgYOzs7dOnSBWFhYTrf56K08REjRsDPz08cF/DUqVM62yhfvjz++ecfnD9/HnXr1sXHH3+MYcOG4auvvipyHTDDE+h1BhNgjDHGGGOMMfbGycjIQLly5bBmzRr06NHD0MXRcufOHVSuXBmXL19GvXr1DF0cxhgzOJ7wgzHGGGOMMcZYkajVaiQkJGDRokWwt7dH165dDV0kxhhjL8DBP8YYY4wxxhhjRRIbG4vKlSujQoUKWLduHWQyvqVkjDFjx6/9MsYYY4wxxhhjjDFmonjCD8YYY4wxxhhjjDHGTBQH/xhjjDHGGGOMMcYYM1Ec/GOMMcYYY4wxxhhjzERx8I8xxhhjjDHGGGOMMRPFwT/GGGOMMcYYY4wxxkwUB/8YY4wxxhhjjDHGGDNRHPxjjDHGGGOMMcYYY8xEyV4mcUZGBm7cuFFSZWGMMcYYY4wxxpgemZmZuHPnDry9vWFpaWno4jDGDKx69eqwsrIqUtqXCv7duHEDDRs2fKVCMcYYY4wxxhhjjDHGXl9ISAgaNGhQpLQCEVFRM+aef4wxxhhjjDHGWOmLiIjAgAED8Ntvv6FGjRqGLg5jzMBKrOeflZVVkaOKjDHGGGOMMcYYK141atTg+3LG2EvhCT8YY4wxxhhjjDHGGDNRL9Xzj7GyICXjMSIeRuNO8j1kKrKgUqtgJjODo5U9arhVQxUXL8il3PRflprUeJL9GElZj5CpzICSVBAgQCaRwd7MHs4WrrCWWxu6mGXSs+w0RCfdRkxKLDIVmVCqVZBL5bAzt4GPc2VUcfaGuczM0MUsc4gImcoMPFU8QbYqG2pSAQCkghQWMkvYyu1hIbWAIAgGLmnZQ0RQkxqkJhCejx4iQIAgESARJFyvr4CIntdtvlFZBOF5vXLdvjyxbtVq3TYrCJBIuM2+Kk29qkmttZzb7OtRqVV4lPkID9Mf5l53qZWQCBLIJXI4W7rAw9oDVvKiverFtKlJ/f82q0LeQ61EECCRSPkcxhgzSRwBYWUeEeFCbCh2hP2DS/evICk9FUDuCVwQJBAAEAGq/9/4yyRSVHXxRlvft/BenU5wsXEyYOmNW7YqG9GPb+D2k1tIyU4W61D4/3+aGyjN/82lFnC38oCfQ3VUsKkEicCdi/UhItxIjMbu8AMIeRCGxLQkALn1KhEkyG20z9usRJCgkkN5NPdugi41OsDTzt2ApTduSrUSDzPjkZARh2eKp2LAL7d2c+W98ZcJMtiZ2cPTqgJcLd25zRZCrVZDqVJCrdIOnhREgACJVAKZVAaJhOu1IEQElVoFpVKpEzwpiETIrVepVMo3qIVQq9VQqVRQqVU6wVR9BOQGAWUybrOF0QT7lCol1OqitVlBELjNFkFaThrCHoUiMiUSSZlJ4jFBE6QG5Z7DNMdga7kNKtlWQj23eqhkV4nrtgCa46xCmZN7PCjCOSz3OCuHXCbnawPGmEl4qQk/GDMmmYos7LyyD1su7cL9x/GQChKoinjjBOQGBwEBbX3fQv+GPVC3fM2SK2wZk5KVjGvJV3DraXSRb0Y1NEFBK5k1ajrVQnXHWjCXmpdQScsWpUqJg9FHsePqXtxKvvMKbVYCNanRtFJD9KrzLhpXrF+CpS1bMpQZuJ92F3EZ9/ME/F6OTJCjvE1FVLD24jb7f5qbfIVSUaTgSUEkwvOACt+c5iIiKJQKKFXK18pHJpVxgDUflUr1UoEpfThYpYuIoFQpoVS+XpuVSqQcYM3n/rP7uJBwAVEpkQBQpOCUhua6y9HCEY3cG8HfrS7kEnlJFbVMISIoVDnIUea81jlMJpHBTG4GqcTw/WYuXbqEhg0bvtQMn4wxBnDwj5VRl+9fw7R/FiDuyUMAL3eRlJ8mANOr7jv4rPUIWJu9ua9QqNQqXE66iLCk0P93Pnvdw4MAC6kFWpZrjUq2XsVRxDLrdvIdfP3fD7iVfEer1+Sr0AQBA6s0x+ctP4KDpX0xlrRsISLcS7uDW0+jcn9/7Tab+1qwr0NNeFiWe6Nv+tVqNRQKxUs/ACiMRJBAbvZm96LQ9EDJUeQUa75ymRwyqeyNbrNEhBxFzmsF/fITBAFmcrM3PlClUhV/m5VJZZDJ3uw2m63Mxn+x/yHsUSgkkECN12+7DuYOeLdqF1SwrVAMJSy7lColshSZrxX0y08ulcNcbtjhQjj4xxh7VRz8Y2VKliIbP55Yg00hO8UASHGRCBK4WDthTucJaOL15vWoSsp8hKMPDuNJzuMSyd/H3hfNPFq8cT2qlGoVtlz+E+subgGAl+rp9yISQQJrMyuMazUSras2L7Z8y4oMRTrCU6/gqeJJieTvbO6C6o61YS61KJH8jRURQaVSQaFUlNg25DL5G9mjSk3qYg9O5SURJG9soEqpUkKhKLk2K5PJ3sjgakkEVPN6k4Ord57EYO+tvUhXpBfLgysNzQPGJh5N0LJiqzeuFyARIVuRDYWqeIPVGgIEWJhZQmag8cM5+McYe1Uc/GNlxrOsNIzc/iXCEyKhLqFmKxEEEAHTgj7De/6dSmQbxujusxj8d++Q1jgyxU2AAFszO3T26vrGTAySrczBzEMLcObuxRLbhuYif2jjfhjYoPcbc2P6ODsVYckXcydGKME2K5fIUd+lCazlNiWyDWNDRFAoFFCpX+3V6ZchlUghl8vfmDarVquRlZNVKtsyNzOHVCItlW0ZGhFBqVS+9uvTRSGR5AZX35Q2S0TIzsku1p5TBTGTm0EqfTPaLABcfngZB+7sf+03AQojQEA5m3Lo7fc+LGRvxkMsIkJGdnqxdg4oiIXcAnIDTMbGwT/G2Kt68x6zsTLpWVYahv0+DuEJUSUW+AMANeUGv2YfWIxtl/eU2HaMSczT2zh87yDUKLkgCpD7OuaznKfYc2cn0hXpJbYdY5GjUmDKvrk4ezekRLej+ZutubAZqy9sLtFtGYvU7BRcTroAFRVt0O5XRSAo1AqEPDqHdEVaiW3HWGh6+JRG4A+A+Orrm/AMsjQDfwCQnZNdan9HQyrNwB+Q+3fMyXkz2iwRISs7q9T2NUeRA5XK9NssAFxMuIgDd/YDKJ6hKgpCIMSlxWFLxGZkK7NLbDvGojQDfwCQpchCjrJkehcyxlhJMPyopYy9QI4yB5/umIpbSXdL7YQOAN/+uwz2lrYIqt661LZZ2uLSH+DI/UMlevGZF4GQoUjHvrt70LXyezAz0VeA1aTG7EMLcfnB1VKrWwD47dIfsDe3Re+6XUttm6XtmeIpwpJDQMUwLlJREAhKUuJy0nk0cg2AhcyyVLZrCAqlosRe7SuIZjIRM3np954oLWoq3cCfRnZONizMLEz6dUqlqvQCfxqaV7dNuQegpsdfactR5MAMpt0D8HrSNfx791CpbY9ASMxIxLbIbehXo5/J9gjODfxllOp9AgBkK7Jy3xKQGebVap/uGwyyXWNyc9egYs/T2mtgsef5Jkq/u1FnWUX/2QYoSdl078r0Ys/TdK8ImclYdWYTrsbdKPUTOgDM3LcI8U8TS327pSFblV2qgT8NAuFpzhOcTThdqtstTXvCD+LknXOlXrcA8PPZdYhOul3q2y0NalLjekrYK8/m++oIOWoFIh5fNdkePyqVymC9bgy57ZJGRMjJMVzPkGxF6byyaQhqtfq1Z519nW2bapsFYNAeuabcG/hx1mPsu72v1LdLIDxIu4/TcadKfdulJUeZbYBrg1xZisxSf3DGGGOvgoN/zKhdT4jCmnO/GySIAgAKlQIz9y00yQvRMwknka0yzGsgBEL0k0jcexZrkO2XpPinD/HT6TUGLcPXhxdDoSq5ge8NJebpTWQoDfXKOCE1OwXxGfcNtP2So3nd15BM9YZfqVIa5MGVBhGV6MQthmIMbVahLN6ZsI2FSqUyeCCjJCduMRQiwt+390JloAAVAJx+cBoJ6QkG235JUalVBn/9trhnFWaMsZLAwT9mtBQqBb76ez4EGO61GhWpcT42FDuvlP6T2pIU++wubj2JNlhQNZeAE3FHkGOgAGRJICLMP7IMSrVheqMAub3j7qbex2+XthusDCXhac4T3E0zfI/GqCcRyFJmGroYxcrQQRQNU7vh17zSbGhKldLgwZziplQqjeJGW5GjMIpyFBdjCKoCucEcU+tZGZp4Gfee3TPwdRew99YekxoPlIiQmWP4c7JKrTLJh66MMdPCwT9mtA7cOIY7KfegMoIn68tProOilMcVKilEhIuJ5wxdDACETFUmbqSGG7ogxSY07hpC468ZvM0SCFtC/8SzbNOZpCLmaTRgwAcBGkSE2LQYQxej2KjVaqMJDKnUhu9xVJxKeyy6whi6V0xxIiKjqVs1qU2q95+x1CsAowicFxeVWoXj948buhggEJIykxCZcsPQRSk2SpUCZCTfwRwTHmaBMWYaOPjHjNbvl3ZBYiSDaadkPMbxW2cNXYxikZj5EKnZKYYuhig85ZrJ3DztvPYPpIJxHFYVKiUORh01dDGKRaYyA8nZSYCBe0wA/589MeOBQXt3FidjutkHYDK9fYwpQAX8P8hrIsdZY6pXAAYbd7C4aWZONhZEZDIPA6JSo5BpJD3GBQi4+DDE0MUoNsb0YINAJnNtwBgzTcZxl8pYPhEPo3E9IQpqI3mCJhEk+P3SX4YuRrGISLlu0Fep80tXpuNB2j1DF+O1JaWn4MSdswbv9adBIOy4utcknkLHpRtX+1CTCg8z4w1djNdGREYXbFOqjON1ztdlbAEqwDSCVMYWoAJyA6um0GaNMdBmbH/rVxWScNForrsIhLi0B0jMKPuT2anUKqN7qKEwomAkY4zlx8E/ZpR2XzsIqURq6GKI1KTGxXthiHvy0NBFeS0KtQK3n94y+JgzeQkQEPm47L+CcijqqNFc3GvEPU3A9YeRhi7GayEixBnhJBvGFpB8FcY67pOxlutlGGXwzwQCq8Z2o69hjH/vl2WM+6BSq8p8m32clYr7afeN6rpLAgmuPLpi6GK8NmMMtJna8BWMMdNS5oJ/RIQqVapAEAQIgoAhQ4bopJk5c6a4vn379lrrPDw8IAgCBg8eDCJC5cqVIQgC3n77bZ18jh07Juazfv163LlzR/x95syZJbWLDMDl+9d0bgAbVKiDH96bjYOfbMHlCQfR2qf5C/NpWKEONg1cjrOf78WeEevRq+47Omna+r6FHUNW4dzne7FjyCq0qdaiwPyuxZftIFVyVhIIuhclURejsXTkTxjXejKG1/oElw+HvjCvyAtRmN37G3xcfzQmB32Fo1t1x7MJOXgJ07rMwsf1RmNal1m49K9uvgTCw4yyP/tcbpBN++Le37Mmvuk4FdsHrsHRj3fhLe+mL8ynrmctrOy5CAeHb8PmfivQtWaQTppWlQOw7v1lODjiD6x7f1mB+QqCgPAyHvzLUmVCodY/9tNf6/eif8BgdKzaFR93Go0r564VmteudXswpPWH6FS1G4JbDcfB7f8WmPa/v46ibYVOmDZstt71aYpnRhuIKKqCblBOnjyJnj17okrlKrCytMLu3btfmNeJEyfQvHlzODo4omaNmli1apVOml07d6FB/QZwsHdAg/oN8Ndf+ntTl/UbJyIqMGDxy8pfULN6TTg5OKFF8xY4dfJUoXmtXLESDeo1gLOjM+r518OmTZu01isUCnz7zbeoXbM2nByc0LRJUxw8eLDgshlRAOJVFNY2Vq5ciRrVa8DRwRHNmzcvtG7j4+MxOHgw6vrXhbWVNSaMn6A33ePHj/HZZ5+hcuXKcHRwRP169bF///6XKldZ8KJXbF+mbgHg9y2/o2mTpnB2ckblypXx4YcfIjk5WSvNj8t+RF3/unBydEI1n2qYOGEisrKydPIq68fZuLQ4vctjLsdg/bgN+ObdbzGl2Ze4fuzF4x/fvnQby4J/xLRW07Ggx3c496fu+M3X/ruGxR8sxlctp2HxB4tx/eh1nTRqqHH/mWk/wFq1chXq1KgDV0c3tGreCqdPnS40r19WrEKj+o3h5uSOBnUbYvOmLQWm3f7HdthZ2aPv+/30l8uAMzob0pOYw7h7aBxu7xmOe0enIzO54OvPxEurcOuvYJ2f2P+miGlIrURK5C7cPTQ+N88jXyHjYdkPWpc2xbNIZD7YiYzYzciM/weqrMJ7/SqeRSIzbjcy7m1BZtxfUOabbI9IDcWTK8iM2/X/PPdClan/OGcq0pLPI/7GYty/NgcPo1cgO/3uC9KfQ0LUMty/NgcJkUuRnhqqtV6RlYjku7/n5nl1Bp4lnSnB0msrc8G/o0ePIibm+WDr27dvR3p6eoHp//33X/z333961wmCgEGDBon53runfSLcuHEjAMDGxga9evV63aKzIlKoFLiVdEdnuaXcAlGPbmPevz8WKZ9y9h5Y1vNrXL5/FX3Xf4I1Z7dgYtuRaOv7lpjGv1wNzOsyFX+HH0af9Z/g7/DDmN9lKmp7VtfJTyaRIuJh9CvvlzFIynykd3l2ZjYq+pVHv6l9ipTPo/tJWPLJcvg28MH07V+i84iO2PLNNoQcvCSmuRV6GyvHr0ZA16aY8edUBHRtipXjVuH2Fd3JErJUmchUZrzaThmJ8MRIndfULWQWuJUcgyUnfylSHh62bpjXeRquxodj+PYvsOnSdoxuMRytKgeIaWq6+2FG+/E4GH0Uw//4DAejj2Jm+wmo4VZNJz8BAqIe3Xq9HTOwZ4qnepcf2X0MP81ciX6jP8DK/T+iTpNamDJwGh4+0H9Rs3vDXqyetxaDvuiP1f+tQPC4AVg69SecPqQ7lufD+w+xcs6vqNO0doHlIhDSFM9ebaeMREE3++np6ahTpw6+X/x9kfK5c+cO3uv+Hlo0b4EzZ89gwsQJGD9uPHbt3CWmOXf2HAYOHIi+/fri3Plz6NuvLwYOGIjz588XuVxlRUHBiu1/bMfECRMxcdJEnD57Gs2bN8d73d/DvVj9N+GrflmFGdNn4MupX+LipYuY+tVUfPHZF/jn73/ENLNmzsLqX1dj4fcLEXI5BMOHD0ffPn0RGhqqv2xlvW4LKH/euj1z9gxaNG+B7t27F1i3OTk5cHFxwcRJE1HHv06Bad59513cvXsXmzdtRlhYGJYvX45y5coVuVym4GXr9vSp0xg+fDiCg4MRcikEm37bhEshlzDyk5Fimt+3/I5p06bhyy+/xOXQy/h5xc/Yvn07pk+brpMfqct2wDo+PQESPWMB52TmwLOaB7qO61KkfFLiUrDui/XwrueN0es/RZvg1tjz/V5c++/5Q6+7V2OxZdrvqN+pPsZsHI36nepj89QtiL2m+7d6lPGoTAdWiajA8u/YvgOTJ07B+InjcfLMCQS0aI6e3Xvp3Odp/PrLr5g1YxamTJ2McyFn8eVXUzD+8/HY9/c+nbSxsbH4aso0NG9RcAcEtQn0Xn9ZaQ/OIenqJjj6dkGF1rNh6eyH+DOLoMhI1pveuU5/eAUtef7TYTEkcmvYlGsipkmJ2IGnd47AxX8gKr79Dey82yDh/FJkPy488MKeU6bfgSI1BHL72rDwfAdSCzdkP/oPaqX+2IniWRQUj0Mht/eHhee7kNvXRU7qeSjzvIGjeBwKZVo0zBwbw6JcF8hsfJGddAzqHOMZT744ZTy+hsfx+2Hn1gruPh/D3NoLSXd+gzLnsd70acnn8SThMOzc2sDDdxTs3NvgcdzfyHz6PBhOagWkZo6w92gHicymlPYkV6kG//755x8EBATAwcEBlpaWqFy5Mnr37o3U1FQAwKFDh9CuXTvY29vDwsIC1atXx2+//aaVx7p16wAAderUgbm5OdLS0rB9+/ZCtztlypQC1w0ePBiCIICItJ6oZ2Vlifn26tUL1tbWr7LL7BXcSroLpZ4T56mYC/jp5Dr8F134E2eNXnXfQfyzRCw8sgIxKfew8+p+/HX1AAY1fh7I7dfwPZy7cwlrzv2OOyn3sObc7zgfexn9G76nk59SrcK1+LLdiyop65HeV1PrtKyN98Z2Q8P29YuUz7GtJ+Dk6YQPpryPclU90arXW3irR3McWPe8J9Whjf+hZkB1dB7REZ5VPNB5REdUb1od/27QH4wvKDBZFjzOfIKUjMc6y8/fu4TVFzbjREzRJovpWrMjEtMe4cfTqxH7+D7+vvEv9t04jD51u4lpetXpgov3Q7H58g7EPn6AzZd34NKDK+hVR/cGQk1qXE8s2232Wc4TvW12+y870emDDninX0d4VauEUbM+hls5V+zZ8LfefA7t+A/v9u+MNl0DUc7LE293a41OH3TA1p/+0EqnUqnwzegFCB43EJ6VPAovWwGBybKgsN5pQUFBmDlzJrp3716kvH5d9SsqVqyI7xZ+h+rVq2PIkCEYFDwIP/zwg5jmxx9/xNtt38aECRPg5+eHCRMmoHWb1lj+4/KXKltZUFAgaNnSZQgeHIzBQwajevXq+G7hd6hQoYLeXpIAsGXzFgwdNhS9evfKvV56vzcGBQ/C94u+10ozYeIEdOzYEZUrV8aID0egXbt2WLpk6UuVrawoqPxLly5F8OBgDBkypEh16+XlhYWLFqJ///6wt7PXm2b9+vVITU3Ftm3bENA8AJW8KqF5i+bw9/fXm94U2yzw8nV7/vx5eHl5YeSokfD29kbzFs0xbNgwXLr0/OHguXPnEBAQgD4f9IGXlxfatWuH999/XyuNWLYyHKACgPi0OL374NfcDx0+7oDabQp+yJTXuT/Pw8HdAV0+fxduld3QuFtjNOzSEMc3nxDTnPr9FHwa+6B1cGu4ebuhdXBrVG1cFae26l43q0iFpMykV98xAyusXfy4dDkGBQ9E8JBg+FX3w/zv5qF8hfJYvWq13vS/b9mKIcMGo2evnqhcuTJ69e6FgcEDsfj7H7TSqVQqDB8yAl9+NQXelb0L3L4pDF3xsh7f3A87r1aw82oNM9tycKnTHzJLJzy9c1hveqncCjILB/En+3EM1IoM2FZqKaZ5du80HKt1gbV7Xcit3WBfuS0s3erg8S3doCzTT/ksAjKbqpDZVINEbg8zx0YQpFZQpkXpTa9Kvw2ZjQ9k1t6QyGwhs/aGzMYHymfPexCrMmIgs6sNqWV5SGS2kNv6QmrhCcXTF/deLoueJZ2GtWN9WDs1hNzCFQ7lOkEqt0N6ygW96TMeX4G1U0NYOdSGzMwJVg51YO3YAM8enRTTmFmVh4NnEKwc6kAQZKW1KwBKMfj36NEjvPfeezh79izs7e3h6+uLx48fY/v27Xjy5An++OMPBAUF4fDhw1AoFKhWrRri4+Nx8eJFMY+0tDTs2LEDAPDxxx+jS5fcm11NQFCf+vXr4/z589i5c6fe9ZUrV0bLlrkHGk1PPwD466+/8OTJEwC5AUJWemJTHxRLPnXL1cTZO9ozmp2+E4Ia7r6Q/X88Qf9yNXEmX5ozMSGoW66m3jxjUmKLpWyG8jg7tVhe+7oVdhu1mtfQWlarRU3cvX4XSkXuRc/t0Nuo2bymTpqbodrdx3MJeJLz5LXLZSj3nxTP5A+13P1w4X6o1rLz9y7Dz9VHHANTb5r7l1HLQ7e3KgAkPH1Ypm9KM5QZOm1WkaNA1NVoNGrVQGt5w1YNcP2i/osPRY4CZhZmWsvMLcxxIzQKSsXzsa42Lt4Meyd7dO6r+7p1XgIEZBTw5LQsKM7XP8+dO4e2bdtqLWvXrh0uXboEhUIhpmnXtp1Wmvbt2uPsWdOYRT0vfd+3nJwcXL58Waee3m77Ns6d1X11DwCyc7JhYWGhtczS0hIXL14U6zUnJ0cnjYWlBc6c1v8KSVk+FhRU9oLqtm3btq/Vvv7++280bdoUn332Gby9vNGoYSMsWLCgwElyynLdFhRIeZW6bdasGR48eID9+/eDiPDw4UPs3LkTHTt1FNM0b94cly9fxoULuTdPMTExOHDgADp27KiTX1kPWKdkFU9vmNhrsajW1EdrmW/TangQ8QAqparQNLFX9V+7FlfZDKGgdpGTk4PQy6F4u632cE65x1rdnuYAkJOdDXPz/MdaC4RcDBGPtQAw75v5cHFxwaDBg16pbKaK1EpkP7kDS1ftQLaVW21kpdwsUh5P7x6HpWtNyK1c8uSrgCCVa6WTSOXISi7bb2GVFiIV1DkpkFh4ai2XWnhCna2/wwWRGhDyjbkvSKHOTs5d9/98Bb1pym4njoKQWglFZjwsbLSPqxY2VZGdob8nMamVOgE9QSJDTuYDkBEMCVBqwb/Y2Fjk5OTAysoKERERCAsLQ0pKCi5cuABXV1dMmjQJRISqVavi9u3buHr1KhITEzFixAgxjz/++APp6emQy+Xo06cPBg4cCCB3bL47d+7o3e4333wDAPjqq68KPBhrgnvh4eEICckNBGkCgZUrV0arVq2KowpYEWUps4slH2drRySnp2otS0lPhVwqg4Nl7pN+F2tHJGdop0nOSIWztaPePHOMcHDhl6FUF8+A3k+TnsLO2VZrmZ2zLVRKNdIepwEAniQ9hX2+NPbOtniapNtbSgCgIuMbbLyoiqvNOlk5IDVDOwiamvkYMqkM9hZ2BafJeAInK/1tlgAoiunvbgj6xs55kvIUapUajq7a++zo6oCUR6k66QGgUWBD/LNlP6KuRIOIEBkWhX1bD0KpUOJJSm6bvHbhOvb9fgDjvhtbpLKV6R4pxRinePjwIdzc3bSWubu5Q6lUIikp6XkaN+00bm5uePhQ/yRKZTmQok9yUjJUKpVOHbi7uxdYB+3atcO6detw+dJlEBEuhVzChg0boFAoxHpt264tli1dhps3b0KtVuPw4cP4e+/fSEgo++OoFlVSUhJUKhXc3dy1lru5F9y+iuJOzB3s3LkTKpUKf+78E5MmTcLSJUsxf/58venL+niK+rxK3TYLaIa1a9di0MBBsLezR2XvyrB3sMf33z/vsdr7/d6YPn062rVtBztbO9SqWQutAlth/ITxJbo/hlBc113Pkp/Bxkn7msrGyQZqlRrpj3MfRKUlp8HGyUYnzbNk/UNUqMrwtUFBJzHxWOue/3zjWmCbbduuLTas26B1rN244TcoFAokJ+W+tnr2zFlsXL8Ry5br71WtXTLTOxYURpX9DCA1ZBbavail5vZQZb34wb4y6zEyEq/AzitQa7mVWx08vrUfOWkJIFIjI/Ea0hMuQ5n9uDiLb7JIlQ2AIEgttZYLUkuQKlPvZ6SWnlCm3YQ6JxlEBFV2MpRptwCoAXXumKxSi3JQPIuAWvE0N01mPFSZ9wvMsyxTqzIAqCGRab8BKpHZQK1I0/sZC1sfpKdeQk5mHIgIORkPkJ56GSAV1EYwxFWpBf9q1aqFKlWqICMjA25ubmjQoAEGDx6MuLg4ZGRkiOP4DRkyBB4eua9amZubo1atWmIemh5+nTt3hrOzMzp16gQXFxcQEdavX693u61bt0aHDh0QHh6u1bMvr969e4uv9W7cuBGPHj3CgQMHAADBwcEQBOOawdPUlegN9f//lFon5nw3mQKEAk/b+cd0K2uK84Ik//dCUzWCdqJ828+f4LmyXLdUjG02/99IrOc89aObBjrtOK+y/BS60Dab/9hMVODxeuDYvmjSphE+7fo5Oni/i2lDZyOod25PNIlUgoy0DHw75jt8sWAs7J30vwaoU7Yy3GaLm+7xgHSW60tjiufXwtrsy9TB5CmT0aFDB7QObA17W3u83/t9DBgwAAAgleY+df9u4XeoWrUq6tetDwc7B4z7fBwGDhoorn+ZspV1xd2+1Go1XF1dsXz5cjRo0AC93++NiRMnFvi6qwlX7UvVbUREBMaNG4cpU6bg1OlT+Gv3X7h75y5Gjx4tpjl+/DjmL5iPH5b8gNNnTmPL71uw7599+Pbbb0t0PwyheK+78uWtue7Ku0LPtVlBf6syfd31ogQv0WYnTpmI9h3ao23rdnCyc0bf9/uh/4DcyTykUimePXuGEUNHYOnypXB2cS6G0psqPQ20CMfgZ7EnIJFbwdqzodZylzr9Ibf2wL3Dk3F7zzAkXdkI24otIegZQ5O9DEJBN2NyuzqQWpZHVsJ+ZN7bjJyko5BZV/n/2tx6N3NsBInMFlnxe3LTpJ6HzLpqkf7WZVf+fSu4bdu5BcLCthoSb67Cg2uzkXR3C6wc6v0/G8PXUam9ZGxhYYGQkBBs3LgR586dE4NxGzZswLZt2174+ZiYGJw4kTuuxYEDB+Dg4AAA4mQf69evx/Tp0/Ue2L/55hscOnQIM2bM0Oq+rWFjY4OePXtiw4YN2LJlCypWrAilUqk1IQgrPeZSsxcnKoLkdN0efE5WjlColHiSmdvTJyk9Fc7WTvnSOCAlX49BDbN83c/LGmn+btqvyM7FDk/y9eB7lvIMUpkE1g65T53t9aR5mvwMds52evOUSUp3zIPiZFZMbTYl4zGcrBy0ljlY2EOpUuJJ9rOC01jaIyXzccHlk5Xddquvzdo72UEilSA1UfuVpdSkJ3B0cdCbj7mlOSYs+gKfzxuD1EepcHJ3wt+b9sHKxhL2Tna4HRGDhHsP8dWQmeJnNAPNt/d6B+uPrUI5b+2B/qV8AQrg/73XErR7VCQ+SoRMJoOzs/PzNPl6XTx69EinJ5zI8NdHr0zfGJXOLs6QSqU6dZCYmFhgHVhaWmLFyhVY9uMyJD5MhIenB9asXgNbW1u4uOS+GuXq6oqtf2xFVlYWUpJT4FnOE9O+mgZvb+8il62sc3FxgVQqRcJD7d6OjxILaV9F4OHhAblcrhVI9avuh4cJD5GTkwMzs3zHfdOr2leq24XfLURAQAA+/+JzALljdFtbWaNdu3aYMWMGPD09MXvWbPTr2w9DhgwBANSuXRsZGRn4dNSnmDRpEiQS0zm2SgUpFNA/Y/3LsHW21enBl56aBolUAit7KwCAjbMN0vSkyd8bUKMsX3cVdCzTHGsTE/Kfb5IKPdb+tHI5lvz4g3isXbt6LWxtbeHs4oxrV6/h7t1Y9On1fFI8zUNVR1snhIRdRJUqVcR1pnicLYzU3BYQJFBmPdZarsp5Cqm5/mt+DSLCs9gTsK3QHEK+9ig1t4Nn07FQq3KgzkmD1MIRKeHbIMvzajArmCA1ByDo9MgjVRYEqYX+z0hkMHcOADk1BakyIUgtoUy7CQhyQGL+/3wtYO7aGkQqkCobgtQSiseXIZTyxBWlQSK1AiCBWqndy0+tTNfpDaghSORwqtAdjuW7QKVMg1Rmi/SUixAk5v/Pz7BK7ez69OlT3LhxA59++il+++03XLp0CW3atAGQ+wSwcuXKAHJ79yUm5s7WqFAoEB4eLi7X9CTIysrCkydP8OTJEyiVuV3WY2JicPz4cb3bbtiwIXr16oW7d+8iJUX/+BaaV38TExMxc+ZMAEBgYKBYLlZ6XGycXpyoCMLiwtHMS3tMsADvBoh4GCVOKHIlLhzNvPOnaYiwOP3jhhVX2QzFRl48B+aqdasg/HSE1rLrp8PhVcsLMnnujVKVelUQfkY7TfjpcPjUq4L8CARLmaXO8rLCuYBXbl/W9YeRaFS+ntayxhXrIfLRTXEA6esPI9GoQr40FerhesINvXnamtvonWmwrDCXmutcSMvN5PCtUw0hJy5rLQ85cQm1Gukfr1NDJpfBtZwrpFIpjvx1DM3aNoVEIkGlqhXx678/45cDy8WfgA7NUK+5P345sByu5Vy18iEQzKTmxbOTBlCcPe6aNm2K//7Tnsjn8OHDaNCgAeRyuZjm8H/aA3//e/hfNGvWTH/5yvDNk766NTMzQ/369XXq6ch/R9C0WdNC85PL5ShfoTykUim2/7EdHTt11AmOWFhYoFz5clAqlfhr11945913ily2sq6guv3vv/8KbF9F0SygGW7duqXVc/pm9E14eHjoBv5gem0WeLW6zcjI0GmfmgCq5jo+I1NPGolU72Q/Zb3NWpsVz3VXpdqVcPO89vhp0eeiUb5GeUhlUjFNtE6am6hUp5L+ssnL7mSGhbXZevXr4b//jmgtzz3WNtH7GY28x9od2/9EUKcgSCQS+Pr54uyFMzh19qT40/mdzmgV2BKnzp5EhQoVilQ2UyVIZDC390bmo+tayzMSr8PCyaeAT+XKSr4BRfpD2OZ75TcvidQMMksngFRIi78Ia48GBaZlzwmCFBIzJ6iztB/eqLISIDF3LeBTms9KIJFZQxAkUGXcgdSyvE67FgQpJDIrAARVZiyklhX0Z1aGCRIZ5JaeyEq7pbU8K+02zK0qFv5ZQQqZ3B6CIEHGk2uwsPU1il6rpVaCxMREBAQEwNnZGf7+/qhevbp4MeHv74/58+dDEATcvHkTlStXhr+/P1xdXfHLL7+AiMRXdnv06CFeHBCR1hg6hU38MWfOnAJfgwFyXw/WPClPS8uN7vJEH4ZR3U3/icJSbgFftyrwdcsNHpW394CvWxV42OYewEa3HIo5nSeI6beH/Q1PO3eMa/MRKjtVRLfaQehepyM2XHg+O/SWkF1o5t0Qg5u8D2+nihjc5H008aqPTSG6E8TIJFL4e9bQWV6WuFi46r1ByUrPQmzEPcRG5A5e+uh+MmIj7iE5LjdYvmPxLqyesk5MH9inJZLjU7B1/nbE3YrHyT9P4+SO0wga/HxA/3YD2iD8dAT2/XoA8bcTsO/XA4g4ewPtBmkPwvy8bK/eQ8PQytl7wEKmGwiylFnAx7kyfJxzHyJ42LnBx7ky3Gxyn1qOaDIAU9o8H19ud/h+uNu6YmTAEFRyqIBOfm3RuXo7bA37S0yz4+oeNK5QD33rvYdKDuXRt957aFi+LrZf3aOzfQECarhVK+7dLVW2cju9r031+vA9/LPlAPb9fgB3o2Px08yVSHzwCF0GdgYA/PrtWswbu1BMf+/2fRza8R/u336AG5cjMWfkt4iJvIthkwcDAMwszFC5urfWj42dNSxtrFC5ujfkZrq9J23lhT/RNmaCIBQYrEhLS0NYWBjCwsIAAHfv3EVYWBjuxeYeH6ZPm47hw4aL6YePGI7Y2FhMmjgJN27cwPr167F+3Xp89tlnYppRo0bh8L+HsWjhIkRGRmLRwkU48t8RjPp0lP6yleGbp4KC7aPHjMa6teuwfv163LhxAxMnTMS9e/cwfHhuXeav1+joaGzZsgU3b97ExQsXETwwGOHh4Zg1e5aY5sL5C/hr11+IiYnBqZOn0K1rN6jVarHXVVHLVhYIglBg+ceMGfNSdQtAbONp6WlISkpCWFgYIiKeP7D6cMSHSElJwfhx4xEdHY19+/bhu+++w0cff1Rg+cqqwtrFy9Zt53c646+//sIvv/yCmJgYnDl9BuPGjUOjRo1Qrlxu7+nOnTtj1apV+GPbH7hz5w4OHz6M2bNn45133tG5Vi/rvQDL25SDRM/tVnZGNuKi4hAXFQcASI1LQVxUHB4nPAYA7P/pALbNej4bfdMeTZCa8Bh7f/gbiTGJuLjnIi7uCUGrfs9nR23Rpzlunr+JYxuOIfFOIo5tOIabF26iRZ8Wesvmbu2ud3lZoJkETZ9Px4zChnUbsHH9RkTeiMTkiVNw/959DB0+FAAwc/pMfDj8+fc4Ovomft+yFTdv3sLFCyEYPGgIwsPDMWPWdAC5D1dq1qqp9WPvYA8bG1vUrFVT52FAYWUzVQ4+HfH07jE8vXscOc/ikHR1E5SZybDzzr3mTw7fhochK3U+9/TucZg7VoW5nW7gKCvlFtLiLkKRnojM5EjEn1kEEMGhWucS3x9TIbOtAWXazdxx/BRPkJN6EaRKh8wm994g5/FlZCc9nw1crXgKZfptqBVPocpOQnbSCagVjyHXvLYKQJWdBGVGLNTKZ1BlJSI78T+AALldrfybNwm2Ls2RnnoJ6SmXoMh6hMdx+6BSPIG1U2MAwJOEQ0i596eYXpGdhPTUMCiyk5GTcR/JsX9AmZUIe4/nE2eRWomczHjkZMaDSAWV4ilyMuOhzE4u8f0ptf7ezs7OGDx4MM6dO4eYmBio1WpUr14dgwYNwvDhwyEIAhwcHDBv3jxcvHgRUVFR8PLyQqNGjXDs2DFxTMBevXpp5SuRSNC9e3f88ssv2L59O3788Ue92/fz88PgwYOxerX+ad4FQUBwcDBmzcq9qLa2ttbZFisdthY28LRzQ/zTRK3lNT188esHz2/mx7/9MQBg97WDmLFvIVxsnOBh+zyAFPckAaN3TMW4tz/G+/W64FFaChYc/gmHo55PtR0WF44pe77ByLcGY+Rbwbj3OB6T93yNa/G6vaiUahVqeJTtQIqLpaveQMqd67FYOGSx+Pu2BbkB0ubdmmHoN8F48ugJkuOf95p1reCCsT+Pwtb523FkyzE4uNmj75fvo2GH50/jfOpXxYffDcOuZbuxa9keuFZyxYcLh6OKv25vWpkgg71Z0cZZM0YSQQJf16q4Eq/dY9TPzQc/dJ0r/v5p82EAgP2R/2HekaVwtnaCu+3zp28JzxIx+Z85GNV8KLrX7ozk9BQsO/Urjsc8n7nz+sNIzP53IYY17o+hjfsh7mkCZv27EBGJurOfSQQJqpf54J/+dtGmayCepj7Dxh82IyUxBd5+3vh2w2y4V8i9mUlOTEHig+fHELVKje2/7MC9Ww8gk0tRt3ldLPvre3hUfPWbH1uzshv8A3LPn5oepXldunQJHYOez7o5adIkAMCAAQPwy6pfkJCQgHv3ns9y5u3tjZ27dmLixIlYuXIlPD09sXDRQnR/r7uYpllAM2zYsAGzZs3C7NmzUaVKFWzYuAFNmuj2xCjrN/sFlb9X715ISUnBvG/mISEhATVr1cSfu/5EJa/cXjkJCQm4f+++mF6lUmHpkqWIjoqGXC5Hq1atcPjIYXh5eYlpsrKzMHvWbMTExMDGxgYdgjpg9erV4tAoRS1bWSGRSKBW6Y5h2qt3LySnJOPbb74V63bnrp1adZu3zQJAQLMA8d+XL13G1q1bUalSJdyIzD3/V6hYAXv27MHEiRPRpHETlCtXDiNHjcS4ceN0yyVIynTwr7Cyv2zdDhw4EGnP0rByxUpMmTwF9vb2aN26NebMnSOmmTx5MgRBwKxZsxAXFwcXFxd0fqez+OZNXmU5YA0AHtYeuPLois7yBxEPsGrUr+Lvfy/5BwDQoHMD9J7eC8+SnomBQABwKueEwd8H4+8f/sHZHWdh52KHLl+8i9pvP59h1cvfCx/M6YNDKw/h0C//wqm8E/rO/QCVauv2UHEwd4B5Ge+9njtGt+41bc9ePZGSnIL53y7IbbM1a2D7zj9QqZKmzT7UOtaqVSr8uGQZoqNvQi6Xo2Wrlvj3v0Nax9qXIXkDg3825ZtClZOG1Mi/oMx+DDPb8vBs9oU4e68q6wmUmdpv36kUGUiPvwiX2v315klqBVIidkCZ8QiCzBxWbv5wa/AhpGW4x2ppk1l7g9TZUDy5mvsar9wB5q5tIPn/K7qkygSp0vN8gqB4GgFSPgUggdTCHRbuQWL6/38IisdhIOUzQCKH1KIczJybQ5AUzxBIxsbKoTbUqgw8TTwGlfIZ5OZucPHuD5mZAwBApUiDUpFnYhsipCWdzg3kCRKY21SGa9XhkJk9f0tMpXyGxJsrxN/Tkk4jLek0zKy94VZlSInuj0A8YjkzQpP3fINDkceNbjbNTQN/RE0PX0MX45WlK9Lxe7T+iW8Myc3SA10qdzd0MV7Lz2fWYfuVPXpnpzWkuUFT8Fblwl8rNGZqUuNY3CGjm6jAXGKBFp6tDV2M16JUKqFQvv5YVMVNLpNDJiu7Y1EBQEaW4Wd008fS3LJMB6lUKhVyFDmGLoYOmVQmvuJeVmVlZxnlJEYW5hZlus3GpcVhw3X9kxIaigABNZ1rootPV0MX5bVkZmcU22zKxcnK3LpEe/9dunQJDRs2REhICN6ffa3EtlNW3NxV/OPzW3sNLPY830Tpd3XvOSv6zzZAScqme1emF3ueZftxGjNZ7XxbGl3gz8PWDdXdCx+7wthZy63hauFmdGMTVbUv2/UKAIFVmhtd4M9SZoGGFeoauhivRSJI4GKEbdbdytPQRXhtEqlxXgIUNkRHWSGTGl/wUiqRlukgCmC8PRe5zZaMsj4EAJDb86+4xlsuLgSCn1N1QxfjtcmMcDIzAQUPT8AYY4bGRydmlAJ9AnRmNDUkAQL6NuhmEif0ms61jaoXlVSQwse+bL+aCgA13KqhipO30QSpJIIEnWu0g6Vc/4xeZUkFGy+jarMAUN668IF+ywKJIDG6YIpEUrZfn9QwxkBKWe9NCeQGg4wt0CYIgtF9j16FsdUrYBptViJI0NCjkdFcGwCAtdwGPo5l/6GrTCIzqnoFADOZmUmcwxhjpqnsX60wkySXyvB+vS5GE2yTSqToWifI0MUoFpVtq8LMSMZlECCgmoNfmZ41VUMQBPSs847RBKnUpEa3Wp0MXYxi4WDmCEuZlaGLIXIydzGq8rwOYwtSGVt5XpVEIjGa8xdQ+GQZZY2xtRFTCFAB/w+sGtlYZcZWnlfl7+pvNAEhAQIaujcwieOBIAiQG1nvP2MrD2OM5VX2j/zMZPWo2xlmUsOfRCWCBN3rBMHBsmwP7q8hlUhR29l4XgWt6VT7xYnKiLY+reBoaW/wJ9FSQYKmFRugkkN5g5ajuAiCAC+bKoYuhsjLVnfSmrLKmHramUoPKg1jugmUy+RG83d+XcYWWDWVABVgXIFMmUxmMm3WWm6NOi51DH5tAOT2lqvrVs/QxSg2cplxPMwGAJlUDsGIjk2MMZYfH6GY0XK1cRZn9DUUiSDA0coeYwKHG7Qcxc3fpR4czBwNfiFaz6UBHM2dDFqG4mQhN8fE1qMN3vtPLpVjXOAnBi1DcfO0Kg8HMyeDt1lPq/JwNHc2aBmKkyAIMJMbx82Tmdy0XpeSSqVGERiSCBKjKEdxMpbJNUytzUokEqPoWSkIglGUozi1qdQGljJLg5/D2nm1h7UJzZYqESQwN4LhTQQIsDCCcjDGWGE4+MeMWg//zmhcqS6kgmFuXNREmN1pAmzNTedCCcgdZy+w/NsG274AAQ7mjqjr2sBgZSgpAV6NEOTbxqA9U0a3GA43G1eDbb8kCIKAGo51DHqjbSYxQzX7sj9Ien7GcMMvk8pMqtefhjEEVs3MTCtABeS2WUP3rJRKpEY5Tt7rMoYed6YWVAUAC5klOlcx3NAgAgR421eGv6u/QbZfkuRSucEfcFiYle2Z1BljbwbTu9JmJkUQBMzsOB4WcvNSD6YIENCzbmc0r9yoVLdbWlwsXVHPtaFBti0IAlqXb2uwoG5J+7TFMDhZOkBaym1W8v/XfTtXb1eq2y0tljJL+NrXNNj2azj6QyYxjh5Hxc2QN/yCIBjV64bFSRAEmMsNN6apmdzMqF6RLU5SqdSg+2YsvQ+Lm6F7A8tkpvkgAAB8HH3+H3wr3WOtAAFmUjN0rtzZJANUgiDAQm5psO3LpHKDP0BjjLGiEIjIOEanZ6wQV+Ii8OHWCVColFCTusS3JxEEtKjcGIu6z4TchE/oRISTcccQ9eRGqW1TgID2FTuioq1XqW3TEO49foCROychPSejlNqsBNVcqmBx1zmwMuBFcGm4/TQad57dKtVtVneojXLWFUp1m6WNiJCVnVWq2xQEAeZm5iZ5Q5qXUqlEjjKnVLcpl8kN3juupBERsnOyUdqXsuZm5iYboNJQqVTIUZRum5VKpJDLTWd8Sn1UahW2R23HnScxpdILUEDuRC79a/SHp025Et+eIanUSmRkZ5TqNqUSGSxLudffpUuX0LBhQ4SEhKBBA9N7g4YxVnJM+8qFmQz/cjXwc+95MJeVfC8GAQLeqtIE33WbbtKBPyD3xrtFuVbwLYVXGYX//9e2YgeTD/wBQEWH8lja7RvYmduUeA9AiSCBn6sPFr470+QDfwBQ2dYH3rZVS217fg61TD7wB/w/EGdeeoG4NyXwB+T2ZirNQJxc9mb0RDFEG3oTAn9Abs/K0uwB+CYE/oDc/ezh2wOV7Ut+4igBAmQSGT6o3tfkA3+AJhBnVcrb49d9GWNlh+lfvTCTUb9Cbaztuxjl7NxL5ESrCSr2adAVC7vNgLkRzSBWkiSCBG+VC0QD10ZigK64CRBgIbVAJ68uJjVT6otUdqqEn3osQGXnkgl2av5WgVWa4/sus2FrblMi2zE2giCgil01+DnUhAAJSuYVKgFSQYY6TvVR3rpiCeRvnCSCJDe4UQoB6zcl8Kchl8lLJZhiJjMzqdl9X0QTACzpgFxpbceYlFYAUCaTvRGBPw25RI6evr3QwC2311ZJTQLiYO6AgbUGoYKt6T+80pBJZbAyty7xtiSXmnHgjzFW5vBrv6zMyVJk46eT6/Hbxe0QBEmxvFIpEQS42rhgbueJaFSpbjGUsmxKynyEYw/+w+Oc1GLJT4AAAqGavR+aeTSHmdRwY18ZklKtwtbQnVhzYQsAgqpY2qwENmbWmNB6FFpWbvb6hSyjMpTpCE+5iqeKx8War7OFK6o71Ib5G9pmiQgqlQoKpaLY85b/j73zDo+qaPvwfc7Zlt4Teu+9NwUF7BVU7Cj21/qqr6J+FhR77w1FKSp2xd4oIh1C770mpPdkyynfH0s2hOxiAsm2zH1d4bo4Z3aeObOzc2Z+88wzJjOKojTaSZNhGDhcDnS9fsMByJLsjvHXiMSpo2moraomkwmTEviDMAKFYRi4XC40XavXfCvjCzbmNrunaA8/7fyJMldpvWwDrhx3DW46hOEthmOSw98D2BuGYeBQHbjqOdyChITNEhFQz2qx7VcgEBwvQvwThCxrDm7kjb+nsvrgBhRJrrOgUjlAijDbuLTP+dw87GoiLeG/ZfLf0AyNdblr2JC3Dqfu8NRTXaj8TKItiYGpg2kR3aqBShta7M7fx3tLprFs/yrk4xSu3dt4FM7qPIobB19NnC22AUoaWhiGwcGyfewp2YVTd+D2BKzrq839mQglkraxHUiLaNpoJ/pHohs6LperXoQqWZYxm81hewBFXTAMA013i6v1MQyr3OYr2mz9ClWVpwo3ZnHqSCoXBOqjzTZ2QfVIHJqDRQcWsjp7NS79+BZcKsddLWJaMqrVSJpFN6/nUoYmmqZidznQjRPvDywmCxZT4D3WhfgnEAiOFyH+CUKenbl7+GrNT8xe/zt21QG4Y6ocPfCXkJBl2XO9Q3Ibrug/lrO7nEqEEP1qoOkae0p2sSl/A9kVWQA+hcAjr8uSTPvYDnRN7EFKRKpfyxwqZBZn8cOm3/hx0x+UOssA72326OtNY9K4uOd5nNl5ZKPZ4lsXDMMg157DgbK9FDjy/iV1dYEwxZZGi+hWxFsSAz6wD0YMw0DVVFRVrfNnxSTfN4ZhoOs6Lq3uAqssy5gVtzAl6rYmld6rqqbWWawyKSb3acJC9KuBYRhugVWte5utPNlbkRuv5++xcGpONuVtYuWhFeRW5AIgI6NTs56PvG6WzfRK6UXf1H4kRyb7tcyhgnuxxYlLq5u4KksyZpMFsxI829KF+CcQCI4XIf4Jwgan6mR77h42H9rG5qztbM/ZTYXLjqprWE0WkqMS6NqkE93SOtI1rSNpMSlB8yIPdsrVcnIrcsiz55BTkUO5Woaqq+6BvGQiwZpAckQqSbZkkmxJmOTwPmGyvlA1lb2FB9ias4NtOTvZkbebcmcFLl3FqliItcXQOaU9nZLb0zm1A01jGibeZTji0pyUuIopdhVT4izCrlWgGZp7EUCSiTRFEWOOJcYSR4w5ttFujaorlRN/3dDRdR1DN6otCEhISLJ7oUWW3KKUaLO148h61XW9hmewJLlP7ZQlWQh+deDINmvobrH16EWsyvZaWa+ibmvH0fXqrc0eXbeCf8cwDEqcJWSWZZJVdojMskOUuUpRdRVFUjArZlIiUmkS1YSm0U1IjkgR77BaUtlmNV1D1zU0XYfDPYLEEf2srKBISlD2B0L8EwgEx4sQ/wQCgUAgEAgEAoFAIAhyhPgnEAiOF7GfQSAQCAQCgUAgEAgEAoFAIAhThPgnEAgEAoFAIBAIBAKBQCAQhClC/BMIBAKBQCAQCAQCgUAgEAjClDqLf5mZmaxfv97n/YqKClatWkVpaanPNJs2beLAgQPChrAhbAgbwoawIWwIG8KGsCFsCBvChrAhbAgbwoawIWwcp41aYdSRSZMmGc2bN/d5f8OGDQZgLF682Geabt26Gffcc4+wIWwIG8KGsCFsCBvChrAhbAgbwoawIWwIG7WwkZ6ebgBGenp6SD+HsCFsCBv1a6M21Fn8y8jIMNatW+fzfnl5uZGenm6UlJT4TLNx40Zj//79woawIWwIG8KGsCFsCBvChrAhbAgbwoawIWzUwoY38S8Un0PYEDaEjfq1URskwzCME/MdFAgEAoFAIBAIBAKBQNCQrFq1iv79+5Oenk6/fv0CXRyBQBBCiAM/BAKBQCAQCAQCgUAgEAgEgjDFFOgCCAT1ieHeyo6u6xiagYHbsVVCAglkRUaWZSRJCnBJQw/DMNANHV3X3PV8+LoEyLKMLClIkiTq9jjQDR1NV9EO1y2Au8lKKLIJk2wS9Xoc6IZOqauEQmcBFWo5mqEBoEgKUaZo4q0JRJmiRd0eB55+1jjczxp42qwkSaKfPU487zDDXbdHdrSSJCFLsuhnjxNDN1CdKqpTw9ANONzXSrKEYlYwWU3IilgTryuGYWAvdVKaX05FsQNN08EwkBUZS4SZ6KRIouJsom6PA83QKHOVUuoqxqW70A0dSZJQJIVIUxTR5lisijXQxQw5DMPAXuakKKuEkvxyNFXH0A1kRcISYSE+NZrYlCgUkxLoogoEAkG9IsQ/QchjGAa6puNyutA1vVafkWQJxaRgMpuQZTEg9YVh6LhUF6qmohu1q1tFVjCbzChCsPKJYRiouopDtaNqLqqkVN/IkoxZsWA12VBkMSD1hUt3sr90L/tL91LkLETH3W4lqrfFyjpXJIUESyKtYtrSPLKlqNtjoOs6quoWqWuLoiiYFNHPHgvDMNA0DU3Tat3PSpKESTGhKIroZ4+B5tKwl9hxlrvQ1X+vW0mRMNvM2GKsmKziHeYLXTfI219I5o48inNK0VyH61aq7Gvd/atnLUuCqPgIUtom0LR9MmabmH74wq7ZOVR+kFx7NuVqmef6ke+wI8cMJslMnCWeplEtSLAkijbrA8MwyN6Tz94NmeQdLMJlVwF32+SIOjP0qgXYmIRImnZMoXWPpkTECJFVIBCEPiLmnyBkMQwD1aWiOlVOpBnLiozZYhYrfEeg6RpOlxNNV487DwkJs8mM2WQRg9HDGIaBU3VgV+3oRu0FlKMxySas5gjMslnU7WFKXMXsLNrGvrI9tRZQjsYkmWkT0472sR2JMEXWcwlDE8Mw0HQNVT2xflaSJEwmE4osxKpKdENHUzVU7fj7WRAC69EYhoGrwkVFsR3Vfvx1q5hlbLE2rNFW0WYP47KrHNyaTcbWXFwOlSN0vlojyRIpreNp0S2NmETRz1ZS6MjnQNk+8h25x/Fp9xdhVWw0j2xJ08gWYiHrMKpTY8/6DHavOUhFiQNJqhKla8Xhn36Tdkm079eCpObxDVHMOiFi/gkEguNFiH+CkERTNZx25wlNRo9GMSlYbI1bqKoUp1yqq17ztVlsmBRzveYZaqi6Spmj9IREv6Mxy2YirdHIUuOd9OuGzo6irWwu3ABQKy/KYyHh3lrZM7EvraPbNur+QNd1nK767WclScJitjRqoarS06+++1mTyYRJadzearqqU5pXhqui/upWMctEJ0djsjZub7WcvQVsW7oP1aXVWfA7mkoBpmX3NNr0btqotwSruoudxdvIqsjkuNRUL1hlG53juxNvTTjhvEKZ3P0FrPp9K/ZSxwnnJUkShmHQqnsTuo9ojzmA/YEQ/wQCwfEixD9BSGEYBk6HE81VfwJKNSSw2qyN0gtQ0zXszop6negfiSKbsFlsjW5iahgGdlcFdrWigSxIRFmisJga35aUYmcR6bnLKHIWNkj+KbZU+iUPanRegA0lTh2J2WRulFtWdeNwiIrj9E79NxqzuOoodVCWV1Y3r546EBEfQURc43uHuewq25fvI2dvYYPkHxFjpcvJbYhNjmqQ/IOZfHsuW4s24dKdDZJ/s8iWtI3tgCI1rjGt6tTYtHAne9Zl1peeWoUE1ggLfc/sTGrrxHrMuPYI8U8gEBwvjW90KAhZDMPAXm5vOOEPwABHhQOXs+EmvcGIqrmocJQ3mPAHoOkq5Y4ydL1hJr3BiGEYlDpKGlD4AzAoc5ZS4WzY7y/YyLVn83fmXxQ7ixrQRg7zMv5sUBvBhmEYuFyuBhX+AFyqC5fL1ajarK7rOByOBhP+wP39OZyOOsVlDHUMw6CsoJzS3IYT/gAqCisoyS6tignWCLCXOlj16xZy9hU2mI2KUgdrfttKbgPaCEYOlu1jQ8GaBhP+ADLK97MuLx2X3njGtM4KF4u+WsOe9ZnuC/X9czXAUeFk6Xfr2bMuo54zFwgEgoZFiH+CkKBS+PPXoNvlcDUaAdClurA77X6xZRgGFY7yRiEAuoW/YlQ/DbrtagUVrsYhAOZUZLH40AI0Qzvhbb7HwsDApTtZkDm3UQiAhmEcjvXpH+GoMrZoY2izuq7jcJ741rPa4nT673sMJIZhUF5Qjr3IP+8wV4WL4qySRiEA2sucrP5tG/YyZ/0LKEdy+ODljX/vImdvQQMaCh4OlO5lZ/E2v9gqcRWzNm+l38YigcRpd7HwqzUU55Y2eJsFWDd3O7tWH2hAQwKBQFC/NO4AJoKQwN/CXyUuh8sdpN4cvj8TVVNxuPwzaarEwKDCWU6kNSpst09VevypJ3BgyvHgUO3IkozNHOFXu/6k0FHA0uyFnlN8GxoDA81QWXhoPqc2O41IU/huTXO5XH4X5nVdx+VyYbFY/GrXn/hb+KvE6XRitVjDegtwRZEde7F/61Z1qJTklBKTGh227zCXQ2XtH9tw2l0NK6IcxeZ/dmOyKCQ0jfWfUT9zqDyDXSXb/WqzXC1jff5qeicNCNsYwZqqs+TbdZQVlDeoB/DRbPh7J5YIMy26pPnP6BGc9N3CgNg9HhaNPTnQRag1rZ/6M9BFaBD2PnJ6oItA+3cXBLoI9cLOW0cEugjHRXi+AQRhhcvpCtgqu9PuDFsvNcMwsDsbcjvqsW07/ORtGAgcqj1gq+wVrvITPj00WNF0jRU5S9AacNukNyo9ANNzloetl5qmaQHzFNN0DU0LTy+1Sm/KQBHOnpUuu0pFYWDeYa4KF44S/wu6/mL7sv0N7/HnBcOAzf/scZ8kHIZUqOVsL9ocENslrmL2luwKiG1/sHXJHoqyS/0q/FWy5q9tlPvJ+1ggEAhOBCH+CYIaTdNQnYEdBNb3qcLBgr+2+vpC1dWwFKk0XaPCVR7QMpQ5S8KyzW4p3ECZWorfZ6S4BcA8Rw57Snb63XZDE2iBCsJXpNI0LaDPZRgGqhp+/ayhG5Tmlga0DGUF5Q0bgzhA5O4rdG+/DVCzdTlVdqwIv62UhmGwtXBjoKoVgP1leyhxFgewBA1DfmYxO9L3B8y+oems/mNLWL7DBAJBeCHEP0HQYhgGzorATkgBdE1HdYXX5EnVXGh+3pLqDYfTHlaDJcNwH74RaHRDx+4KjEdMQ1HgyGN78dZAF4MNBWspc5UFuhj1SqCFv0qCpRz1ha7rDX5wSm1QNTXsPNjLCyvQ1QA/k8HhQ0bC5x3mcqhsXbI3sIUwIHt3PnkHwivOakb5AYpdRQRMVT3MlsINDXrokL/RVJ3Vv20mkDvwDQPyDhaxt/KQEYFAIAhShPgnCFo0NbAeE0ficobPqZSGYeAIkkm2gYFLDY6y1AeqrgaFqAruA0DCaYC/uXAjEoGPr6UbOjuCQISsL3RdDxphKJjKUh8Ek2dzMIiQ9YWu6diLg2OLnepQUcNoi2rG1hzUIPFm3L36YNiMu3RDD5ottxVaOTn2rEAXo944uDWbsiJ7QLb7Hs2WJXvQtfB5hwkEgvBDiH+CoCWoTts13GJkOKDrGkYQiUIuNXyEVUeQeds51fCISVXmKiW74lCDnuxbWwwM9pXuxhUmJycGk0AFhE3sP8MwgupZdF0Pm8UAR2lw9WvBIkSeKIZucHBrTqAd0zyUFdopyQ1sCI36IteejWoEzzsjoyxwW2Trm91rDga6CB6cFS4O7coLdDEEAoHAJ0L8EwQlmqYF7JAPX4TL1l9nkHmAGBgBO2igPtF1LegEIYcaHtuq95TsDAqvv0o0Q+NAaYC3xtUDwSZQgVuMDIc2G2z1CuGxgGUYRtCJbc5yV+C3INcDeQeKcNmDZ5wjSXBwW06gi1EvBJvYVuIqptRVEuhinDAFh4opygl8qBUPUnCJkQKBQHA0QvwTBCXBGERb10J/S5phGEGzLfVIwmHrr1MLvmfQDT0ov++6YBgGe0p3B4XX35HsKQ2OLVwnQrCK7sFarroQbB6VEB7CqmpX0bXgewZHWXB5Ix4PmTtyCaI1FgwDcvYUBOV4sC5UqOWHY/0FDxISWeUZgS7GCbN/UxaSHEyN1h37rzzIFigEAoGgEr+Jf06nk2effZZu3boRFRVFbGwsHTp0YOzYsaxdu9ZfxRCECMfympjywRS69exGYkoiJ404iUWLF/lMO/uH2Zx34Xm0btuaJs2bMHL0SP78689qaVwuF88+9yw9evUgMSWRwcMG88eff3jNL9RjeejHmFR/8P4H9Ojak+SEFIYPG8GiRYuPmZfD4eCJSZPp1rk7SfHJ9OreixnTZ3rub960mauuuJruXXoQExnL22+97TMvLcRFVQCX5tvrb+qUj+jTrR9NE5sz8qRRLFm0xGfapYuXctboc2jfsiPNklowuO8Q3nnz3eq2XC5eePZF+vUYQNPE5gwffAp//THHa35qiIt/5WoZLr2msLpx2SaevuF5rh/8H8a2vYxlf6z417w2LN3E/85/kEs7X81/RtzJb5/+WSPNkl+Xcefp9zKu81Xcefq9LP19ude8ip1FIS9S+VrMWLhwIRdffDHt2rYjMiKSH3744V/z+ueffxg2bBgJ8Ql069qNDz74oEaa77/7nn59+xEfF0+/vv2YPXt2ncoVKhiG4VNke//99+napSsJ8QkMGzaMRQt9v78A3nvvPfr26UtiQiK9e/Xm008/rXb/zDPOJDIissbf2LFjvZctyET0unKs+HofzZxKv+F9ad65GaPOH8WS5b77WYBFSxcx6vxRNO/cjP4j+vHxpx9Xuz9j1gzOG3cu7Xu3o33vdlx09VhWrUn3mpcrxOP+GYZBcU6Zzy2/3//1JZffez6n3zCUmx+7inVbV9cq3/Xb1jBqwiBueOQKn2nmLP2dU6/pz8Ov3VuzXLpBaUFwhdOoK8cS/r6b9gOXDR7P6W3P4aYzb2PtsvXHzOvPb+dw/Wm3cEa78xjb5zKevftFivKrTu/98dNfuGPMPZzbdSzndh3LvZdOZPPqLTXyMTAochUe9zMFC3kZRT53Cf2y8HtuevJyLrn/dO59+WY27lznM59Nu9bxwOt3cPXDFzBu4hnc9ux4Zs//qka6H/7+ilufGc+4iWdw/RPj+PC7t3C6agr/BYeC+0TlzF+/I/0/l7LkstGsve8Gijf5nocXbVjN4ouG1/grP1C1+yFv6d+svf9Gll19NkuvOJ01915H9vzf/PEoIUvJsh84+PJ49j1xLpnv3oZ9z7F/+4bqpPDPjzn40tXse/xcMl65ltL06nWsV5SS/+ObHHj+cvY9cS4Zr99AxTbvY9hwoejv79j36GXsvut0Djx7ExU7jq0pGS4n+bM/YN8jl7LrrtPY99gVFC/+2XPfmbGbQ1MeZd8jl7HrtlMomluzHwh1/Cb+3X///fzf//0fmzdvpnnz5rRp04bs7Gy+//57tm/f7q9i1BtOZ/B5+YQLhmH4fJl//c3XTHxwIhPvm8jihYsZNnQYYy8ey/793rdULFy0kFEjR/Ht19+y8O+FjBgxgnGXjWPN2jWeNE88+QRTP57KSy++RPrydG68/kauuOqKamkqCXXxT/MR8+mbr7/hgYkPct/E+1i4ZCHDThrKxWMu9lmvANdcfS3z58/n7XffYtXadD6a9hGdOnfy3C8vL6dN2zY88eTjpKWl/UvJjJCPR+XLw+7br7/j/yY+zL0T72H+4nkMGTaUS8dezoH9B7ymj4yM5KZbbuCn339k6arF/G/ivTwz+VmmfTTdk+bpJ55h+tTpPP/SsyxJX8R1N17LNVdcy7o1NQe3oS7+FToLvF63Vzho07U1Nz1xXa3yydqfzVPXP0e3gV14+efnuPi2MUx94mOW/LrMk2bLqm28dOdrnDp2OK/+8gKnjh3OS3e8xrbVNd9RBkbQeXPUFV8iW1lZGT179uSVV1+pVT579uxh7JixnDTsJJYsXcL9E+/nvv/dx/fffe9Js2zpMsaPH88VV17BsuXLuOLKKxh/9XiWL685MA118c9XX/b1V18z8f6JTHxgIkuWLuGkYScxZswY9u/z3s9OmTKFSY9N4uGHHyZ9VTqPPPII99x9Dz//XDVQnfX5LHbt3uX5W5m+EkVRuOiii7zmGWzhNOqKy+m9P/vup+94+MmHuef2e5n38zyGDhzC5dddxoGD3vvZvfv3csX1lzN04BDm/TyPu2+7h/974iF+/LVK6F60bBEXXXAR38+azW/f/kaLZi245JpLyDxU02NKC3Hxz1HuQnV6X8yYu/QP3vr0Za6+4Ho+nPwZPTv1ZeJLd5KVe+yTTUvLS3h2ymP07zbQZ5pDuZm8O+s1enXu6zuf/NCO+1fqKvEatmLu7Pm8Neldxt91BR/88S69Bvfggav+j6wD2V7zWbdsA8/c9QLnXH4W0+d/wBPvP8rWtdt44b6qfnrN4rWMHjOS1756kXd+eJ3U5qncd8WD5GTm1sivzFUaVPGf64qm6pTmeW8b/6yey9Tv32Lc6Vfz6n0f0q1dTyZPmUhOgfeDTmyWCM4dPpZn7nidtx6czqWnj+fTX6fy++IfPWnmp//JjJ+mcPmZ1/LWg9O587KJLFwzjxk/VV/okmSJoqwg2op8FLkL57Dn4zdocfF4er88ldiuvdn01P04co59CEzftz5lwNTvPX8RTVt47pmiY2lx8TX0fO5d+rw6jdRR57DjrecoWL3sGDk2XsrWz6fg1/eIO+VKmt76LrbWPcmZ+TBqofffPkDuF09j37WapLH30uy/U0m69CHMKS099w3VRfb0B1ELs0i5/FGa/fcjEsfcgxKT5IcnCgylK+eS9/VbxJ81nuYPfYCtQy8Ovf0Aar7vtpw19XEqtq4i+eqJtJw0k9TrH8OS1tpzX3faMSc3I3HMzSixif54DL/jN/Hviy++AOCxxx5j27ZtrFu3jqKiIhYuXEjv3r096QzD4J133qFv375EREQQExPDoEGDWLNmDQC//fYbw4cPJzU1FYvFQmxsLCNGjOC336rU7z179iBJEpIkMW3aNM477zwiIyNp27YtU6dOrVauffv2cc0119CkSRMsFgstW7bktttuIz8/35NmwoQJSJLEqaeeygsvvECLFi2w2WwAzJw5k0GDBpGcnIzZbCYhIYEzzzyz2oRm/vz5nvJ8+OGHjBgxgoiICIYNG8bOnTuZPXs2nTp1Ii4ujssvv5zi4qoVo5deeok+ffqQmJiI2WwmNTWViy66iG3bttXflxNkHGty8uZbb3LtNdcy4doJdOnchReff5EWzVvwwdSaXiYALz7/IvfefS/9+/enQ4cOPDHpCTq078Cvv/7qSTPr81nc/7/7OevMs2jbti033XgTp40+jTfefKNGfiE/KfXhqfTWG29xzbXXMOG6a+nSpTPPv/g8zVs058MPpnpN/+cff7Jo4SK++e5rRo4aSevWrRkwcABDhgz2pOk/oD9PP/MUl4y7BKvVWouyhW7d6obu06PmnTff5eprr+KaCePp3KUTz774NM1aNOOjDz72mr5Xn15cfOnFdO3WhVatW3HpFZcy6rSRLF201JPmy1lfcs/993D6WafTpm0brr/pekadNpK333inRn6hvu230FHgdeLU/9S+XHXf5Qw9a7CXT9Xk90//JLlZEjc8NoGWHVpw+uWjGTVuJN9/UDW4/+mjX+h9ci8uvm0sLdo35+LbxtJrWA9+/PgXH2XL93o9FDiWd9qZZ57J448/zpgxY2qV14cffEjLli158aUX6dKlC9dddx3XXHsNr732mifNW2+9xajRo7j//vvp3Lkz999/P6eOPNWrR/CxyhYK+HqHvfHGG1w74Vquu+46unTpwosvvUiLFi28ekkCzPpsFjfccAOXjLuEtm3bMu7ScVx77bW88nLVZD8xMZEmTZp4/ubOmUtkZKRP8S+U+1nwLbK9++E7XHXpVYy/fDydOnTm6ceeoVnTZnz86Ude00/79GOaN2vO0489Q6cOnRl/+XiuHHcVb39Q1R7ff+19rh9/Az279aRj+068+uxr6IbOgkULauSna0ZILw76ElEAvvrtE8455ULOO3UsrZu35c6r7yM1MY3Zc78+Zp4vf/wMo4ecRbcOvbze13SNp959mOsuuoWmKc29ppEkKDlG2UKBEmeR1/HBl1O+4ZwrzuK8q86hTcfW3Dn5NlKapTB7xo9ecoFNqzbTpGUal9w4lqatmtJrcA/Ov/pctq6tmg88+vZDjJ1wAR17dKB1x1bc/9I96LpB+sKanpoGBmVqWf09qJ8pySvz+Z6YPf8rTht8DmcMOY+Waa25ceydJMen8usi797m7Vp0ZES/0bRq2pa0xKacOuAM+nYeyKZdVQuqW/dspGvbnpzS/zTSEpvSt8tARvQbzc79W6vlZegGBVnB6/mX8eMXpI4+l7TTzyeyRRva3nAX1qRUDv3+3TE/Z45LwJKQ5PmTFMVzL65HX5KGjCCyRRtsTZrT7LxxRLVuR8nmY3uzNVZKFn9DdL+ziB5wNubUViSccytKbAqly73/9iu2r8C+Zx0p45/C1r4fpoQmWFt0wdqquydN6arf0ctLSLnycaytu2OKT8PWugeWpu399Vh+p2jul8QMO4fYk87D0rQNyePuxBSfQvEC77/z8o3LsG9fS5PbnyeyywDMSU2xtemKrX0PTxpbm64kXXQr0QNGI5ks/noUv+I38a9ywPnHH3/w448/kpWVhSRJnHTSSXTs2NGT7q677uL2229nzZo1REVF0bp1a9auXcuePXsA2LBhA8uWLSMmJoYePXpgGAb//PMP559/vtftwzfffDMbN27EbDazZ88ebr75ZrZscbvAZ2dnM3ToUGbOnElhYSEdO3bk0KFDvPvuu5xyyinY7dVjNixZsoSHHnqI2NhYkpOTAVi2bBnr168nKSmJ7t27U1FRwR9//MFpp53GoUOHapTnjjvuICsrC13XWbJkCWeddRaXXXYZiqJQUlLCF198wbPPPutJP3/+fHbs2EGTJk3o0qUL+fn5fPfdd5x22mk1yhcu+JqcOJ1OVq9ZzehRo6tdHzVqFMuW1W51Sdd1SkpLSEhIqMrX4fSIuZXYbDaWLK25ZSjUJ07eyu90Olm9eg2jRo+qdn306FEsW+q9Xn/5+Rf69uvLa6++Tqf2nenTqy//99DDVFQc//acUPb88yWqOp1O1q5ey8jRI6tdHzlqJMuX1c4Vf92adSxfuoJhw4d5rjmcTqy26oKqzWZj6ZKa35du6CEtpJSqJfWyVXHrqm30Gd672rW+I3qzc/0uz2E+W1dvo8/w6hPVPiN6szW95mKLhESpGryr+/9GfW7/XLZsGaNHV++XTzvtNFatWoXL5fKkOW30adXSnH7a6SxdupRww1tf5u5nV9eop9GjR/usA4fTUeN3HhERwcqVKz31ejTTp0/nknGXEBUV5fV+KPcFhmF4jffndDpZu2EtI4cf1c8OH8nydO/hAFasWlkj/agRI1mzfo3Pui2vKEd1qcTHJ3i9r4XwoR8VJQ6v8f5cqoute7YwsMeQatcH9hzCxu2+t1H+uuAHMrIPcO3Ym32mmfH9B8THJnDuKWN8pjEMKC8K7bFuuVZTvHQ5XWxbt42Bp/Svdn3gKf3ZsHKj13x6DOhGTmYuS+cswzAM8nMK+PvnBQw9bZBP244KB6qqEhsf4/V+hRq6wmpZoffxpkt1sfPAVvp0ru5x2qfzQLbs8V63R7PrwHa27NlA9w5VY4aubXuyc/9Wtu3dDMCh3AzSNy2lf7chNT4frN6qustF6c5txPeu3mbi+wykZMuGY3527f9uYMX1F7Jx0n8pWr/KZzrDMChct5KKjP3EduvtM11jxVBdODO2Y+vQr9p1W4f+OPZv8vqZii1LsDTrRMnCrzj4whVkvHYdBb9NQT9iy3nFliVYWnYl/6c3OfDcpWS+eRNFf8/CCPHwNL4wVBeOfduI7Fr9dx7RdSD2Xd7bcvm6RVhbdabwz1nsfehi9j9+FXnfvIPuDP2YvXXBb+LfbbfdBsDSpUu54IILPGLWk08+6RGx9uzZw9tvu1ddL7roIjIyMtiwYQMHDhygf3/3C/KSSy4hOzubnTt3smrVKvbt20dMTAyqqvL11zVXIS+44AJ27drFP//8A7jFj/nz5wPw9ttvk5GRgSzLLF68mI0bN/LVV+693Rs2bGDWrFnV8nI6ncyePZtNmzaRmene7nDnnXeSl5fH1q1bWbNmDRs2uBtcSUlJta05lYwfP56tW7dy//33A7Bjxw4effRRNm/ezFVXXQXAvHnzPOmff/55CgoK2LRpE+vXr/d4OO7fv59Fi44dKyjcyMvLQ9M0UlNTq11PS00jK+vY7uqVvP7m65SXlVfzihg9ejRvvvUmO3bsQNd15sydw8+//OxVvA3xcEleJ/x5uYfrNa16vaakpvqs1z2797Bk8RI2bdzEZ59/yvMvPMfs72Zz793/O4HChW7l+hJSKttsSmpKteupaSlkZ/l27wfo3rEnTRKaMWr4adxwy/VcM2G8596o0SN558132bljJ7quM2/OfH79+TeyDtXudxBKaEb9DFwKcoqIT46rdi0+OQ5N1SgucJ96WJhT6DVNQW6h1zz1eipbQKjHn1tWVlaN/iMtNQ1VVcnNza1Kc1TfnXqMPiaURSpv5ObmomkaaanVQyCkpvmug9NOO41p06axatUqDMMgPT2dGTNm4HK5PPV6JCtWrGDjxo1MmDDBZzlCOuafj6LnFRzuZ5OPeoclp5DtYytbdk42KckpR6VPRVVV8gryvH7myecn07RJU045+RQf5QvdutU13etZH0Ulhei6RkJc9a1jCbFJ5Bd5r6cDh/Yx5cs3eeQ/T2FSTF7TrN+2hp//ns191z9Sq7KFMt621hblF6FpOonJ1YXkhJQE8rO9h7roMbA7j7z1II//52lGtz6bsb0vJTo2mv8+dYdP2+8//SEpTZLpP7yf1/s6oVu3vsT24rIidF0nPqZ63cbHJFBQfGxv/esfv4SL7zud/71yC+ecPJYzhpznuTei32iuPPsGHnrzTi7632huefpKenbsyyWnXVUjn2A8lAhALSkCXcN81AKGOS4BZ6H3urEkJNH+1vvpfP+TdHngaWzNWrHx8bsp2rimet5lpSy98gyWXjqSzU8/QNsb7ya+j+8t/40VrbwYdB0luvp3oEQnoJV4/+2r+Ydw7NuAM2sPyVdOIuGcWynf+A8FP71VlaYgk/JN/4Cukzr+KWJPuZKSRV9T/Pcsr3mGOlqpuy0rMdW35iqxCWg+fueuvEzsO9fjythN2i1PkXTJnZSt/pvcL171R5GDBu9v5Qbg8ccfp3fv3nz88cf8/fffFBcXs3XrVh577DF27tzJtGnTWLFihWfAf++992KxuN0tU1KqBmhOp5MJEyawePFi8vLyqnkyZWTUjMNy9dVXI0kS3bp181yrHGivWOFeEe7cuTP9+rlfjGPGjCEyMpLy8nJWrlzJdddVxZPq1KkT553nfhEoh92di4qKuOOOO0hPT6ewsLDahMVbec4//3wA2rRpU+Nau3btqpUP3NuSb7nlFtatW0dpaem/5t8YOHoLoGEYSNK/n/b15Vdf8syzz/DFrC9ITamaJLz4wovccecd9B3QF0mSaNe2HeOvGs/MT2ceI7fwo0YVHqNedUNHkiSmfvwhcXFuseSZ5xyMv2o8r7z2MhEREQ1c2tDi6HqsTZv95c+fKCstY8WKlUx+7EnatWvLxZdeDMCzLz7D3Xfcw+C+Q5Ekibbt2nDl+Cv4bGYYvuTrcUJ9dJVX9qdHfhdevysfR2CGm0B1Inirt6OvH8/vINyoSx089NBDZGVlceopp2IYBqmpqVx99dW88sornjHIkUyfPp3u3bszcGDjnHDVtX3Vps1W8sZ7b/Dtj98ye9YP2Ky2GvfdGdSxwEGE+9ElfD1EjXEXhldPQU3XePLdh5lw0S20bNq6ZgKgvKKMp997lPuvf6SGQOO7bKHLMQX3mi8ln212z7a9vPHo21x7z9UMOnUAedl5vPvkB7z8wOs88ErNhdfP3v6CObPn8/rXL2G1+di+FsKV+2/v3xq/b4ya49yjePbON6lwVLBt7yZm/DSFpsnNGdHP7a29fsdqvvprJrdccjedWnUjM/cgH373JgmxSVx2xjV1Klug8dbGfLW7iOatiGjeyvP/mM49cOZlkzH7c+K69/FcVyIi6f3yR+j2CgrXpbPn47ewpTUjrofveJ6Nm5q/fZ+nrRs6EhLJ4x5Etrm9+hPOuoXcL54k4bw7kM1WMAyUqHgSL7wbSVawNO+EVpJH8cKviRt5dcM+SiCpMXfFy4T2MLoOEqRe9whyRDQASRffTtaHj5F82T3Iln8PURUO+E38Axg7dixjx45F13XS09O54YYbWL9+vc8T/7xx3nnnsX37dkwmEz179sRms7F69WqcTqfXE2Lj4+MBMJmqHvXoTtnXAPBomjRpUu3/paWlnHnmmRQWFmKz2ejbty9ms9mzBdVbeWJjY2uUp/JaZTkq7e/atYsxY8bgdDqJiYmhf//+qKrqiX94rBNxw5GkpCQURSEru/pKfnZOdg2PkqP5+puvue2O2/hk+ieMGll9e2tKcgpfzPoCu91Ofn4+TZs25dFJj9KmdZuaGYX4PFVCqjEQTUo+XK+Hqnui5eTk+KzXtCZNaNasqUf4A+jcpTOGYXDw4EE6dOhwXKULXbyXvbLNHu3ll5OdW8Mb8Ghat3FPnLr16EZOdg7PP/OCR/xLTknmky9mHm6zBTRt2oQnHp1MqzatjpVlSKLI9fOaSkiJoyCn+gEdRXnFKCaFmHj3ICA+JZ6CnMIaaY72BqwqW00BpjGSlpZWw+s0Oycbk8lEUlJSVZqjPNyO1ceEdHfgheTkZBRF4VBWdY/ynGzfdRAREcH777/PW2+9RVZWFk2bNmXq1KnExMR4Qo9UUl5eztdffc2jjz7aYM8QcHy0iaSEw/3sUV5+uXm5NbwBK0lNSSU7J/uo9DmYTCYS46t7Erw15S1ee+dVvvnkW7p37Y5PQrjNykrNsQFAXEw8sqyQX1Td07SwOJ/E2JqB5Msrytm6exPb927l9RkvAG7PN8MwGDVhEC9NfIuYqDgO5Wbw0Kv3eD5X6R03asIgZj7/Dc3TqgLZy0oIVywgI9fwsItLjENRZPJzqnuoFOQWkpAS7zWfT96cRY+B3bnitksBaN+tHbaICO4cew83PjCBpLSq7+Pzd7/i0zdn8fIXz9O+WzvfZZNC9x2mmLxvXouNikOW5RpefkUlhcTHHDuAf1pSUwDaNGtHYUk+s36b5hH/PvvlI04dcIbHG7BNs3Y4nBW8/eXLjDvtamS5qjyy4reNdXXCFBMHsoKzoHrduIoKMMf9uxBfSUyn7uT8/Ue1a5Isew4BiWrbkYoDezj47Uwh/h2FEhkLsoxWWv070MoKa3gDej4Tk4gSm+wR/gDMKa3AMNCKc5GTmrs94GQT0hHjUnNKK/TSfAzVhWQyN8wDBQgl2t2Wj/by00oKUHwsKilxSSjxKR7hD8Dc5HA9FuYgp7bw+rlww6+n/VaKYrIsM3DgQDp1cp8MWil+DRw40COAvfbaa54TdfPy8jhw4AB5eXmek4EnT57MmjVr+Pzzz4/bc6BydXzLli2sWuWOX/D999974pYNGDCgWvqj7WzdupXCwkIAPvroI9LT06sFOD9RKkVNgN9//50VK1bwwAMP1Fv+wYqv79NisdC3T1/mzp1b7fq8efMYPNh30P8vv/qSW269hY+nfsxZZ53lM53NZqNZs2aoqsrs2bM599xza122UMFb+S0WC3379mHeUfU6d+48Bg/xXq9DhgwhM/MQpaVVMc92bN+BLMs0b+49cPfxlC1UkCXvXanFYqF3397Mnzu/2vX58+YzaLDvOD1HYxgGDkfNE8bdbbYpqqry4+yfOOfcs2ukkZBCum5tis2n511d6NyvE2sXVo9RteafdbTv2Q6T2S0wdu7rPU3n/p04GgMDmxK6Hq712SYGDx5co1+eM2cO/fr1w2w2e9LMmTunWpq/5vzFkCE14yVBTU+jUMJ3P1vz/TV37lyfdVCJ2WymRYsWKIrC1199zdlnn11tognwzTff4HA4uPyKy+tctlDCV9327tGb+QvnV7s+f+F8BvX37gU5sN+AGunn/TOPPj37eNoswJvvv8nLb73El9O/pG+vY09ig3XCXxuskWavTn9mk5nObbqwckP1eLIrNyyje8eaB3lERUTx0TNf8OFTn3n+Lhh5MS2btubDpz6ja/uetGrapkaaYX1H0LfrAD586jNSk6ovtFujQjvoukWp6U1itpjp1KsTKxdUj522csEqegzwLjA7Khw1xhqVbe5Ip4VZ73zJjNc+4YVPn6FL7851LluoYPPRLswmM+1bdGbttpXVrq/ZtpIubY4h3h+FAahq1bjL4fJS/7KCezRQ/cdjiw7ONiubzUS370Th2uqxUAvXriCmSw8fn6pJ6a5tmBP+/RRZ3Uf81MaMZDJjadYR+87qv337zlVYW3bz+hlrq+5oJXnojqo4l668AyDJKLHJnjRqfgbGETsiXXkHUWISw074A3c9Wlt1omJz9d95xZaV2Np5b8u29j3QCnPR7VUxOV3Zh+sx/tgOGeGE30YqM2fOZMiQIcTExNC7d29atmzJN998A8CVV14JuLfC3n777QB8/fXXNG/enJ49e9K8eXNWrlxJYmIiLVq4VdlJkybRs2dP+vXr53X7S224/fbbadq0KbquM2zYMHr06MG4ceMA6NGjB1dcccUxP9+uXTtPUO0bbriBXr161fp0xNrQvXt3z7OdddZZ9OzZkzvvvLPe8g9WjjWAvvOOO5k2YxrTZ05ny9YtTHxwIvsP7OfG628E4LHHH+PGm2/0pP/yqy+56ZabePbpZxk4cCCHsg5xKOsQRUVVHkArVqxg9g+z2b17N4sWL+LCiy5EN3Tu+e89Newfb1sLFnx5Kt1x1x1MnzaDGdNnsmXLVh6c+CAH9h/ghhuvB2DSY49z841VgbsvvWwciYmJ3HrLbWzZvIWFCxfxyMOPMP6a8Z4tv06nk3Vr17Fu7TqcTicZGZmsW7uOnTt31qlsoYAv8Q/gtjtvZea0T/hk+qds3bKN/5v4MAf3H+S6GycAMPmxJ7n1xts86T98fyq//fIbO3fsZOeOnXw64zPeev1tLr18nCfNyhXp/Dj7J3fsxUVLGHfhpei6zl331Owf6stzLlDEWRK8eqRUlNnZvWkPuzftASBrfza7N+0h56DbQ2XmC5/x+r1V8VDOvOp0cg7m8tFTM9i/4wB/fTmPOV/OZcxN53vSnHfd2az5Zx3fvjebAzsP8u17s1m3aD3nX3eO17LFW2q/Uh5sVJ5A743S0lLWrl3rOURr7569rF27lv379gPw2KOPceMNVf3sjTfdyL59+3hg4gNs2bKF6dOnM33adO6++25Pmttvv505f83h5ZdeZuvWrbz80svMmzuP2++4vU5lCwV89Qd33XUX0z6exvTp09myZQsT75/I/v37ufHGw++vo+p1+/btzJo1ix07drBixQquGX8NmzZt4onJT9TIe/q06Zx//vkeT0ufZZNDV6CSJAnF6v09ceuNt/HJF5/w6Zefsm3HVh5+8mEOZhxkwpXu0C1PvjCZ2+691ZN+wlXXceDgAR556hG27djKp19+yqdffsrtN1W1xzfee4NnX3mGN55/g5YtWpGVk0VWThalZTUP+pEkCdmHJ1IoEJ0Y6fPeuLOu5ue/v+eXv2ez9+Bu3vr0ZbLyDnHBqEsAmPLlmzzz/mOAu321a9Gh2l98bCIWs5V2LToQYY3AarHWSBMdGUOELZJ2LTpgPnKiKkFMku+yhQKx5jivixmX3nwxP3/2Kz/P+o092/fy1qR3yT6YzQXXuD3Lpjwzlafvet6TftjpQ1jw60K+n/4jGXszWb98A288+jZd+3YhuYlbAPjs7S+Y+sI0HnjlPpq0bEJedj552fmUl3k/HCPaFO31eigQl+r9EBOAC08dx59Lf+avZb+wP2svH373FrkFWZw17AIAZvw0hVc/fcaT/ueF37F8w2Iycg6QkXOAv5b9yvfzvuCUAad70gzsPpRfF81mwao5ZOVlsmbrSj79dSoDu59UbfwqyRIJTWIb4Inrh2bnX0b2nJ/ImvMz5Qf2sPujN3DkZpN2xhgA9n7yHttff8qTPuPHL8lbtoCKjP2U79vN3k/eI3/p3zQ9pyp2+oFvZlK4ZgX2QxmUH9hLxg+fkzP/N1JGnOHvxwsJYoZdTGn6b5Sm/4Yrex8Fv7yLVpRN9CD3b7/wj6nkfv2CJ31kr1HIETHkffcSruy92Peso/D3D4jqd6Z7yy8QPeg89PJiCn55F1fuASq2LqP471lED7ogIM/oD+JGXUrx4p8pXvwzzsw95H79FmpBNjHD3c+c//0Usqc97UkfPeA05KhYcmY+hzNzDxXb15L/3bvEDDvbs+XXUF049m/HsX87huZCLczFsX+7WyQME/w2K3zqqaf46aefWLt2LTt27EBVVTp37szll1/OI49UBfx944036Nq1Kx988AFbtmxh9+7d9OrVizZt2iBJEt988w233347GzZsQNM0Pv30U2699Vb27t1b5zKlpqaydOlSHn74Yf744w+2bt1KWloaF1xwAU899VSNE2CPJiEhga+++or77ruPnTt3YrFY+PHHHxk0qPYePceiS5cufPTRRzz++ONkZmaSnJzMq6++yumnn/7vHw5hKid+3rZfX3LxJeTn5/Pc889x6NAhunXrxrdff0urVu7tjocOHeLAgaof6Ecff4Sqqtzzv3u4539VYt5VV17FlPemAGB32Jn85GR279lNdFQ0Z5xxBlOnTPVsGT+SUJ44QeUqZU0uvuRi8vPyef7Z5z31+vV3X1er1/37q+o1Ojqa2T/N5v7/3c+Ik08hMTGRsReP5bFJVVvOMjMzOWnoyZ7/v/HaG7zx2hucPPxkfv39lxplCOXJviRJmGQTqq7WuHfRJWMpyC/gxedeIutQFl27deGLb2fRspV7W1PWoaxqbVbXdSY/9hT79u5DMSm0bduGSZMfZcINEzxpHHY7T09+hr279xIVHcXpZ5zGu1PfIS6+5vZUU4iLf74Etp3rd/LoFZM9///4qRkAjLz4FO566TYKsgvJyagKSJ/WMpVHPnqQj5+azq8zfycxNYEbJl3H0LOrvFu79O/M/974L5+9/AWzXvmCtFZp/O/N/9Kpb9WJ9EcSF8LiH7hFKm8HqqxatYqzzqzykq70OL/66quZ8sGUw/3Bfs/9Nm3a8N333zFx4kTef/99mjZtyksvv8SYsWM8aYYMHcKMGTN44oknmDx5Mu3atWPGzBle35eh3896L/8l4y4hLz+PZ5951t3Pdu/Gd99/R6vWR/azVfWqaRqvv/4627dtx2w2M2LECObOm0vr1tVjqW3fvp3Fixfz408//nvZjrFQEQqYrSZUe81+dux5YykoyOelN14kKyeLLp26Muujz2nZ4nA/m53FgYyDnvStW7Zm1kef88hTj/DRzKk0SW3CM5Oe5fyzqyZKH3/yEU6nk+tuu66arfv/O5EH7q6+C0OxKiH9DouMtSHJEoZec9w1asgZFJcWMn32B+QX5tK2RXue/98bNEl2b5HMK8wlK8/LAWn1gQExxxAmQ4FocyyHKmrG6B514akUFRQz49VPyMvOp23nNjz/ydM0aeE+FCgvO4/sg1Vb08++7EzKSyv47uPZvPPE+0THRdHvpL7c8nDVgsHs6T/icrp47KbJ1WxNuHc8191XPS6dTYkI6cVBs9VERIzVfVL1UQzvO4qSsmK++H06+cX5tG7alsdufp7URLdXaUFxHrkFVWECDN1g5s9TyMo/hCIrNElqxjXn3cyZQ6sWBy89fTwSEp/+OpX8olxio+IZ2H0YV597QzXbhm4Qn+ZbmAw0ySePxlVSzIEvp+EsyCOyVVu6PvwCtlR33TgL8nDkHlE3qou909/BmZ+DbLES0dKdPqH/UE8a3WFn1wev4MzLdqdp3pqO/32U5JNH17AvgKiep6KXF1M0/1O0knzMaa1JGf8Upnj3b18rzUcrqvrty9YIUic8R8HPb3PovTuQI2KI7HEKcadN8KQxxaWSeu2zFPz6Hplv34IpJpmYoWOJHX6pvx/Pb0QPGIVWVkThLzNQi/OwNG1Lk9uex3zYe1wtzkMtOKIebZE0vetl8r58nYPP3YwcFUt0/5EknF/Vh6pFuRx8tur/RX99TtFfn2Pr2Idm97zuv4drQCQj2KOSCholjgoHmhp8MQ1tkbaQ3tqjGzrl9rJAF6MGsiQTeUQsi1Ck3FmGQ7UHuhg1iLLEYDEF5xaU2qAbOj/t/TboTiWMUCI4s+X5/54wiFFVFZcafNtyzCZztbi4oUiF3bunTaCxWW0hLVI5ypyU5tT0vAs0tjgbUQmhLVKt+nULJbnl/57Qzwwd1xOLLXS3rZU4i1idt+LfE/oVidSINLrE136rZzCy8pdNZG7PCbpzS065st8xPRNPlFWrVtG/f3/S09O5c2/w/WZ9sWjsyf+eKEho/dSfgS5Cg7D3kcA7ELV/d0Ggi1Av7Lx1RKCLcFyEroohCGsUU/BtAZUkCUkO3UkTuEW2YPT8MIdBPIpgjZ1jVkK7bmVJpmlk86CKASch0TLa+0mWoUSwhjEI1nLVBZMSfOKlLMshLfwBWCLMQXmwhjUydBdYKkltc+zDEPyOBHGp0SEt/IHb888qB9v4wCDFlhboQpwwzTulBp3wFxlnIzYldLdTCwSC8Cb4VACBgMPiX5AN8E0WU8hPnADMQegFZgpxgQrck30lyE7Os5pC28unknaxHbzG/QsUBgZtYtoHuhgnjCRJQbfFNhwEKghOATMcFlkkWcIWHVxCimJRMFmDT+ytK03aJwbXAqcBzbuEfhB2SZJoFtXy3xP6EYtsJdGa/O8Jg5y0dknuw2qCiLa9m4fFO0wgEIQnwTXqFwgOI0lStRP3goHKE0FDnWDzSDEr5rAZKFnNx44T6m+spuAqz/GSaE0m2hwcMXQkJNIimhJpCu1t6pUEW38QbOU5XmRZDiphNdQPUTkSa0xw9WsRscFVnuPFZDGR1i4xaBZezVYTSS3jA12MeqFJZLOg8l5vFtUyLPoDWZZo07t50LRZWZFo2S30PSoFAkH4EjwjU4HgKIJJbFPMoR3M+0gkSQqqGHDh4I1SiUWxBs0A3yybQ/oE5SORJIlOcV0DXQzA7fXXMa5LoItRbwSTp10weiKeCMEkZJpM4eG5DmCyKJiDZCuopEhYwmDLbyUtuqYGuggeWnRPRQ4mT8QTwCxbSItoFuhiACBLCk2CpCz1QeseTVGC4aRtyV2WUN+mLhAIwpsg6C0FAu9IsoTFFgSDagks1iAoRz1iNlmCIvafxWTxeQJxKCJJElHW4Ij1EmkJD8+0SlpGtSbFlhZwcbVNdDuSbaG/Fa0SSZKwmIOjf7OYLWEjUIF7628wCPCyLAdFOeqTqOTIoPD2iU6ODq6tsidIVHwErXs2CWgZJAmiEiJo0TW8PKjaxXbELAe+r+0Q2xmLEvhy1Be2KAs9TukQ2EJI7nJ0PaltYMshEAgE/0LgZ/8CwTFQTErAT9e12qxhNSEF94TfagnsViVZkoMy/uCJYlYsAT/8I9ISFVaiKrjbbN/kgQEUrSVsio3uib0DZL/hkGU54F5qJpMprLz+KgmG8BXhJqqCe2wQlRjY03Wt0Rb3ASRhRqseTYiMswVUXO1yUpuw8fqrxCSb6BzXLYAlkEiwJpEW0TSAZWgYWnVvQkqreALWzRnQ94wumCzB4+0tEAgE3gi/kbYgrJCkwHr/KWYlKE8erg8UWQno9l+rJTwOo/BGpCUSKUAilVk2B1x8bCgiTZH0TuofIOsG/ZMHY5bDb7IPgd0WKklSwMXHhiLQnpVmc/jEVD0aa7Q1YNt/ZUUmKjG8vKsrkRWZrie3CVi7adO3GdEJEQGx3dAk2pJpEtE8ILZNkkKnuG5h2R9IkkSf0zujWAJzWGDb3s1IaZXgf8MCgUBQRyTDCLZD0gWCmmiahqPc4VebsiJjjQg/r78jMQwDh8uOqql+tWuzRITtZL8STdcosRf59ZRaRTYRY40N6zYLsLVwE5sLN/jVZv/kwbSMbu1Xm/7GMAwcTgf+HBa4vZDDu58FUFUVl+ryq02TyRRWMVW9YegGRYeK0Zya32xKskRc01gUc3guDFaSf7CIDfN24s9ZQrPOyXQYGB6HUfjCMHQ2Fqwj35HrN5uypNAnqT/R5li/2QwEhVklLPpqDZqm46+hV5P2SQw4t7tfPVVXrVpF//79SU9Pp1+/fn6zKxAIQh/h+ScICRRFwRrpP2+mxiD8weGJt9mGSfHfBLExCH/g9qyMscX5LUadW/iLCfs2C9Apritd43v4zV6/5EFhL/yB/4W4xiL8gf+FuMYg/IFbiIttEoPJ6p93iqQ0DuEPILF5HN1Pbe+3mIbNOqeEvfAHIEky3RJ6kWT1R+xYCUVS6JXYL+yFP4D4tBiGXtwbk0nxyxbgph2SGXBOt7Dboi4QCMIXIf4JQgZFUbBFNvxWUZPZ1CiEv0rcAqC1wbcAS0hEWCIbhfBXiSIrxNriGjzYvkWxHPb4axxduiRJdI7vRt+kgSiS0iACq4SEWTYzJPVkWkW3qff8g5VKQa6h4+/JstxohL9KTCaTX7YAm83mRiH8VSLLMrFpMViiGrZuTVZToxH+KklqEUfv0zu6Yxs2xE9Vch/w0a5fczoMbNFo+gNZkumW0JPmUa0a1E6kEkmfpIHEWuIa1E4wkdg0lpMv60NkfMNsHa9soh36t3QLfwGOSy4QCAR1QWz7FYQchmHgcrpQnfW7VVWSJCwRFhSl8Qzsj0bTNRxOO7qh12u+JsWE1Ry+Mf7+DcMwcKh2Klzl9ZqvhPt0YXMYndxXV8pcZazKXU6eI6de820W2YLeSf2wKoE9GCdQGIaBpmu4XPW/VdVsNqPISqPuD5wuJ7pev/2sLMmYLeagOMk9UDjLnZTmlmHo9Tu0jUyMxBbTuMTqI1FdGrvSD5C5Pa9e841KiKDryW2IaiChJhQochaypXADDs1er/m2im5Lq+i2jbY/0FSdbcv2sn3lPiSon+3rEkTG2uh3ZhcSmwVOUBXbfgUCwfEixD9ByKJpGi6HC1078QmUyWLCbAnfwOh1wTAMXKoLl+o84Xh1siRjMVsblbffsdB0jQpnGS79xAUVq8mGzRzRaAf2R2IYBntLd7GtaDPlajkSUp3bbuVnYsyxdI3vQbOoFg1U2tCiPoUqRVbC+gCKuqJpGi7VdcIxFisPTFGUxiuoHomu6VQUVmAvdZxw3C9zpJmohMhG5e13LAoyi9m9OoOSvHK3J2Bd6/fwZ8w2Ey27p9GiS6rfthUHM5qhsa9kNxnl+9GME4tfGW9JpG1sB2IawTbf2lBwqJjNi3aTu78QSToOEbCyzVpNtO3TjI4DWwX8IEAh/gkEguNFiH+CkEfXdVSniuqqmyegJEuYLWYUk5gwecPt+aPiVF3oet0GoybFve2sobe7hiq6ruFQHThUe51EKlmSsZkisJgarwfKsTAMgxx7FruKt3OoItNz3ZsYeOQ1CYnmUS1pF9OBBGuSqFsvGIaBqqmoat09rk0mEyYlcKcJBzOGYaAbOqqq1llglWUZk2JClmVRt17QdQNnqYOKYju6Wvu6lWQJW4wVa4wNxSQWV7xRml9OxrZcsnbmoR/2svQqrFQ2y8PX49Oiad4llaQWcUL084JmaORWZHGwbD+lasnhq95V1iPfYYqk0DSyOU0jWxBhivRfgUOI0oJy9qzPZN/6TFSXe0wryVJNL2GJap6C8WkxtO3TnGYdU4KmPxDin0AgOF6E+CcIGwzDwNANdF1H13R0Xfd4VEiH3+aKoiArsnuyJAaetaZyC6Cua2i6jnHktmBJQpZkFFlGlhVkSUxEa4tn4q+raIf/DAz3OF8CCRmTbEKRTZhkBUnUba1x6S6KnIUUOvIpdBZQrpah6Zq7H5BMRJujibckEG9JJM4ShyIL79TaYBiG50/XD/ezR0xMJSRkWfYIUpV/gn+nWr0aeg0xUJaq3l2in609hmGgawaaU0V1qKhOzb1joLKflSVMFhMmi4LJakI2ibqtLbqmU1ZopySvnNL8csqLKtBUHcMAxSRjiTATkxxJTGIk0YmRmP10MEs44NQclLpKKHEVU+oqwak70A0dCQlFNhFliiLaHEuMOZZIU2Sjifl7oui6QWl+GYVZpRRml1CSW4bq0jB0A8UkY42yEJ8aQ1xqNPFpMVgjgy+sihD/BALB8SLEP4FAIBAIBAKBQCAQCIIcIf4JBILjRSwTCQQCgUAgEAgEAoFAIBAIBGGKEP8EAoFAIBAIBAKBQCAQCASCMEWIfwKBQCAQCAQCgUAgEAgEAkGYUmfxLzMzk/Xr1/u8X1FRwapVqygtLfWZZtOmTRw4cEDYEDaEDWFD2BA2hA1hQ9gQNoQNYUPYEDaEDWFD2BA2hI3jtFErjDoyadIko3nz5j7vb9iwwQCMxYsX+0zTrVs345577hE2hA1hQ9gQNoQNYUPYEDaEDWFD2BA2hA1hoxY20tPTDcBIT08P6ecQNoQNYaN+bdSGOot/GRkZxrp163zeLy8vN9LT042SkhKfaTZu3Gjs379f2BA2hA1hQ9gQNoQNYUPYEDaEDWFD2BA2hI1a2PAm/oXicwgbwoawUb82aoNkGIZxYr6DAoFAIBAIBAKBQCAQCBqSVatW0b9/f9LT0+nXr1+giyMQCEIIceCHQCAQCAQCgUAgEAgEAoFAEKaYAl0AgaA+MQwDl+6kQivHodnRDR0DA1mSUSQTEUokNlMEiqQEuqghh+EOE4Cu61RzGJZAkiRkSUaSJCRJClwhQ5DKutR1Hd3Q4UhfbAlkSUaWZVGvx4FhGGhODdWpomtH1K0EiklBsSgoZkXU7XFQVlBO5rZssnbl4ihzoLl0FLOMNcpKWvtkmnZKJSo+MtDFDDkMw0A39Kr+4IhGK0sSsqx4+lpB3dANHZfmxKU7PWMDCfc7yyybMcsWZEn0B3XFMAw0Q8WluVANFcPQAZBwt9fKuhX1Wncq+wNDN2qMu44cc4m6rRuV9arqLjRdxcBwd7WHx7Im2YRJNiFJwkdGIBCEF0L8E4Q8hmFQ4ioi35FLuVqKjn7E3coBUfXd7RbZQqw5gURrMhbF6reyhhqGYaBqKpqmUdsIAbIku4UVWUyifFEpoqqaiq7r//6BwyiKgkkxIctiQOoLXdNxlDlwljrRXFqtPmOymrBEWbBGWZFk0Wa9YRgGGVuyWPnDOnau2EtZfjkAkixVqzNDNzB0d18RnRhJ+0FtGHBBT5p1aRKQcocC7n7WhUt1HRb8/h1ZkjGZzJgVs+hnj4FLc1KmlmJXK9CNf+8PJGSsipUocwwWxSrq1geGYWBXKyh3leLUXRw9xvKGSTJhM0cSaYpCkcUCrC90XUfTNPe4qxb1CiDLsmdsINqsdwzDwKk5sLsqUHVXrepWlhSsJis2U6RoswKBICwQMf8EIYtmaOTZc8h35KAaruPOJ9oUS7ItlWhzbD2WLrTRdd09Ea2DMOUNk2LCZDKJwehhDMNA0zRUTa21mOoN98RfDPSPRHWq2IvtOMucx5+JBNZoK7ZYG4pJDPTBLaau+2Mzy79dQ9bOXGRFQtdq33Yr06d1SGHwRX3oeXoXZEWI11DZzzpxacf//gJ3P2sxWZDF5BQ4LExpFZQ6i3Hpx98fKJKJKHMMUeZo0c8eRtM1ylyllLtKay1MecOmRBBlicGiWOqxdKFN5djghMddJhMmRYy7KtENHburArtaXuvFFW+YZQsRlsigcBgQMf8EAsHxIsQ/QUhS4irmYNkeVEOttzzjzAk0jWyJSW68DrGGYeBSXWha7TymaovZbG70noC6ruN0OU9I9DsaWZaxmBv3dirDMLAX2akoqqi/TCWITIjEGt24PX9y9+Xz/bN/kLk1y+1EfQJNV5LAMKBZlzQufPBMklsl1Fs5Qw3DMHBpLpwuR73mazFZMJsad3+g6SqFjjwcWv3VrSKZSLAlBcWkP1BUevoVOQpOSPQ7mihzNDGW2Ea9vdIwDJwu5wmLfkdjMVtQlMa9IOBUHZQ4iz1b0esDq2IjyhqDHMA2K8Q/gUBwvAjxTxBSaIZGZvkBCp15DZK/Iik0j2xDrCWuQfIPZjRdw+k8Aa+pf6GxClWGYaCqKqpWf0L10ZjNZkxK4xOtVadKWW5Zrbf31hWT1URUclSj8wI0dIMlX65i3keL3bE+6+Dp92/Iijs+1cgbT2LIJX0b3TZrXdexu+zoesO0WVmSsVpsjW6LmmEYVKhl9S5OHUm0OZYYS1yje4dpukaRowCHZm+Q/BVJId6W2CjFVU3TcLoabtylyApmc+MLDaAbOmWOkgZrsxISMdY4LKbAtFkh/gkEguOl8S61CUIOVXexq3hbgwl/4BYX95XtJNee3WA2ghFVUxtU+IPDk16Hvd5Xt4MZwzBwOp0NKvwBuFwuXC5XvXoVBjuuChfFh4obTPgDUB0qxZnFqM6G/f6CCU3V+O6Z35gzZSG6qter8AegawaaqvPXe/8w+7nf3QexNBI0XaPcUdZgwh+4J70VjvIG73OCCcMwKHYWUujIbzDhD6DUVUy+PeeEtg6GGqqukluR3WAiChwO4VKRQ4WrvMFsBCMu1dWgwh+4+xyH09Goxga6oVNU0XBiNYCBQbGjsNG1WYFAEPoI8U8QEqi6yq6SbTj0etzadwwOVRwg157lF1uBRtVUXK4TizlVFxxOR6OYPBmG4ddnVTUVl9o4BEBXhYuS7JIT2oZaWwzdoPhQ4xAAdU3nm8m/sHHeNr/YWz9nK988+WujEAA1XaPC4b+Jot1Z0SgEQMMwKHIUUOYq8Ys9h2YnryK7XrcRBiuqrpJXkV2rg1Lqg0JHfqMRU1yqC1X1z++zcizSGMYGbuEvH60eQwIdizJnCeWuMr/YEggEgvqg8e0TE4QcuqGzp3Q7Tr1+4yP9G4cqDrpj/ViT/GrXn2ia5lfhrxKn04nVEr7x1Cpj+Ph7sK1pGpIkYTaZ/WrXn6gO1S38+RMDSrJKiG0Si2IO3+2UP78yh62LdvlFVAXAgC3/7ODX1+dx7r2j/WTU/+i67lfhrxK7s4IIa3ifUlniLKJcLfWrTZfuJN+eS6ItJWzfYZXeeP5eqCt05Lu3rptsfrXrT1RV9ZvwV0mlABju464iewGan8TqSsqdpcjI2MwRfrVbSfsrZwXEbjCw87MrGizvh1bOabC8a8OzA8J3TDToq4WBLkKdWD7u5EAXoV4Rnn+CoCerIgO75h+Pv6PJKN9Xr4HDg4lKgaqx2fYHmqYFbHuzqp74aYHBiqEblOb4d6J/pO2yvLKw9Z7YNH87a37d5D/hrxIDVv20gS3/7PCzYf9gGAZ2Z2DeX+AWAMO1zTo0O6Wu4oDZLnMFpi/yB0X2Ar95/B1NgT0/YLYbGvcJ3/5fcIWq+MPhSpmzFE0PzPOVOosDZlsgEAjqghD/BEFNmVpKniNw8fcMDA6W7QnLyVOgxTdd1+v9VOFgIJCD+0oC4XXoD8oLywO6RVR1qDhKwm8xoKygnJ9fmeM+0TcQSPDTy3Mor88Tm4MEl+oKaJgDwzBwquHXZnVDp9DecPF/a0OxswBVD2xf3xBUuMobNF7av2GgU2QvDJj9hiIYFj1VLTwXB12aE7sa2C3jJY7isBx3CQSC8EKIf4KgRTd0DpTtCXQxKNfKyHfkBLoY9UogPdOOJNxEqmAY3FeWI9xW+F12V1AIb+UF5Q16yEgg+PX1eTjKnf73+qvEAHupg9/emB+gAjQMuq4HhfDmUl1oDXjISCAocRb5fXufNwrseWH1DtMM98m+gcauVWBXw2sxQNO0oGgr4TjuKnEUBboYqLor7NqsQCAIP4T4Jwhaipz5uPTACykA2fbMsDmkwjCMgHumHUk4BaXXdT1oBtWqpgZNWeqDiiDyCrMXB84rpr7J3p3H5gU7MPTAthVDN9g4bxu5+/IDWo76JBiEv0qcruApy4mi6ZrfDvj4N1y6E2cYhQYpd5Y26InJdaHEURQ277BgGncZhhFWiwEO1R404/NyZ2nYtFmBQBCeCPFPEJQYhkGuPXi87TRDo8RVGOhi1Au6ETwCFbhj1AVTeU6EYBMyg608x4vm0lDtwfMsjjJHUHjO1gfpP6xDVoIjALwkS6T/sD7QxagXDMMIqt+fpgeHt3d94O8DPv6NYBEiTxTDMChXg+fkUtVQg2YB+EQJNrEtXHYGGIYRVCdEGxhhtRggEAjCDyH+CYKSCq0chx48nj4AeUEkRp4IwTjoC4dJqW7oQfcc4SKsOkqDbDBtgLM09CeljnIna3/bhK4FRxsxdIM1v27EWREcHjIngksLvmcIxjLVFcMwgu6gDbtWERbB/u1aRdB4UFVS5gyu7/p4CbZxl2EYQTdeOR5UXUUzgqtug0mMFAgEgqMR4p8gKCl0BjaQtzfKtbKQX9EL1gFfMHnIHC/BenhJsE3m6ophGMEn/hGEguRxsGXhTlyO4PrtOStcbF28M9DFOGGCZYvfkbjU0I/15dQcQXkSbHmADxuoDypcweP1V0kwCpJ1JZjCgRxJOIy7HEEYY0/Vwy/GqkAgCB9CQvybN28ekiQhSRIzZsyocf+6665DkiRiYmIoKyvj8ccf96Tfs2eP/wssOGGOtbL/+dQvOavP+fRvOpRLR15F+pLVPtOuWLiSnon9a/zt2rbbk+avH+dy2airGdbmFAa1OIlLRlzBj1/87DW/ci34Bsd14ViD6Pfff5+uXbqSEJ/AsGHDWLRwkc+0CxYsIDIissbf1q1bq6V768236N2rN4kJiXTs0JGJ90/Ebq8ZLy0YBcm6cqxnqEvdLl60mFEjR9GieQsSExLp07sPb77xZrU033//PSeddBJNmzQlOSmZwYMH89lnn9W5XKGAruo+49FNnTmVvif3pVmnZow6bxRLli/xmc/CJQtJapNU42/bjm3V0v3w6w8MPW0oTTs1ZehpQ/npt5+85qe5giN4+4mQsfkQsuJ9GND/gl7c8ekEHvrtdm5873Ja9mx2zLxa9WrOje9dzkO/3c4dn0yg3/k9a6TpMrwD//noah767Xb+89HVdD65fY00siKTsTnr+B4oSDAMA8NLX7tw4SLGXXwpHdt1IiYylh9/8N62qn3mn4UMHzaC5IQUenbrxdQPptZIM/v72QzoN5Ck+GQG9BvID7N/PGbZQhmn7lt0n/bBDIb0OIl2yZ04a/i5LFu03GfaX2b/yuUXXEXPNn3p3Kw7548aw/y//q6WxuVy8epzrzOs13DaJXfitKFnMe/P+V7zc4XBwqBTq+nNvHThUq4Zdx19O/anWUxLfv3xt3/Na8nCJZw5/BzaJndgSM+TmDF1Zo00P8/+hVMGjKJNUntOGTCKX3/41Wd+oX6isr/HXZV89eVXREZEcum4S72XK8THBuA+5fdoFi9cwlXjxtOjQ29Sopvwy4++21Yli/5ZzOiTz6BFUmsG9BjEtA+n10jz4/c/cVL/4TRPbMVJ/Yfz8w+/+Mwv1NtsXSna/if7fvgvu7+4lgO//R8V2Vt8ps1e+h67Zl1Z42//z/d70mTMedJrmsy/X/DH4wQt77zzDm3btsVms9G/f3/++ecfn2kXLlzISSedRFJSEhEREXTp0oVXX321WhqXy8XkyZNp3749NpuN3r1789tv/97HB4rs379j7e2XsvKq0Wx84AZKNq/1mbZ442pWXDq8xl/Fwb1e0+ct+osVlw5n+wsPNVTxg4aQEP9OPfVU2rRpA8DMmdUHERUVFXzzzTcAXHLJJURFRfm7eIJ6Rjd0HLr3gPq/ffsHz//fy9x07/V8Nf8z+g/py62X3knmgcxj5vnj8m+Zt/l3z1/r9q089+ISYrn53uv55PdpfPPP54y58nweveMJFs1ZXCMfe4iv7vsa7H391ddMvH8iEx+YyJKlSzhp2EmMGTOG/fv2HzO/tevWsmv3Ls9fhw4dPPc+n/U5jz76KP/3f//H6jWrefe9d/n666957NHHvOYV6pPS+qrbyKhI/vOf//DHn3+wes1qHnjwAZ544gmmTq2a9CcmJjJx4kTmzZ/H8hXLuWb8Ndxy8y38+eeftS5XqKA6vXsnfPfjdzw8+WHuveNe5v0yjyEDh3DZhMs4cPDAMfNbNncZm5Zv8vy1b1slQK1IX8GNd9zIpWMv5e9f/ubSsZdywx03sHL1Sq95ac7QXt0/uPkQulazfXQ7tSNn3j6ChZ+u4IObP2Pf+gyufO5CYlNjvOYT3ySWK569kH3rM/jg5s9Y+NkKzrrjFLoMr+oPmndrwsWPnc36P7cw5abPWP/nFi5+7GyadUmrlpeu6RzcfKh+H9TP+PrNlZeV0bNnD1565aVa5bNnzx4uHnsJw04aysIlC/nf/f/j/vsmMvv72Z40y5Yt49rxE7j8istZvGwxl19xOdeOv5YVy1d4L1sQes3VBW+TfYDZ3/zI4w9M5q777uD3hT8zaNggrr74Wg7uP+g1/dLFyxkxcjgzv5nGrwt+YtiIYUy49AY2rN3gSfPC5Jf45KNPefLFJ5i34i/G33AVN155c7U0lThDPDadbmheD/ooL6+ge8+uPP3SU7XKZ9+efVx98bUMHjaIPxb+yp3/u4NH75/Ez7OrhJKVy9L5z7W3ccnlF/Hn4t+55PKLuOXa21i1wvtCrq/vPFTw57irkn179/HQQw9x0kkn+czHvUgRuuMuwzC8nvhdXl5O9x7dee7lZ2qVz949e7ny4qsYMmwwcxf9yX/v+y//d/8j/Ph91eLMimUruenaWxh3xTjmL5nDuCvGceM1N5O+YpXXPBuT+Fe6dwl5q2YQ330Mzc96BltKFw79/TxqWa7X9Mn9rqHVmHeq/i58E9kSTVSrwZ40aSffUy1Ni3NeAEkmuuVgr3k2Br744gvuvvtuHn74YVavXs3w4cM5++yz2bdvn9f0UVFR3HHHHSxYsIDNmzfzyCOP8MgjjzBlyhRPmkceeYT333+fN998k02bNvGf//yHsWPHsnq1b6eaQJG3eA77pr1Bs4vG0/35qcR07c22Z+7HkXvsxeKer31Knynfe/5sTVvUSOPIOcT+me8Q3bV3QxU/qJAMP/b8v/zyC08++SSbN2/G4XDQpEkTBgwYwJQpU0hISODPP//k+eefZ8WKFTgcDtq0acMjjzzC1VdfzaRJk5g8eTKyLLNv3z6aN28OwKxZs7jyyisBmD9/PqeccgqPP/44TzzxBAC7d+/2CIeC0KBCLWdnifdVoytPu4auvbvw6Mv/57l2weCLGXXuqdz92J010q9YuJLrL7iFRbvnExvnfeLqjUtPvZLhp5/MnQ/fVu16pCmKdjGda51PsOF0Or1uRxgxfAR9+vbhjTfe8Fzr26cv559/PpOfnFwj/YIFCzjrzLPIyMwgPj7eq6177r6HrVu38suvVYP+Bx94kJUrV/LXnL9qpLeYLSiKchxPFXgMw8Du8C5Y17VuvXH5ZZcTFRXF1I9qev1UMnToUM466ywmTZpU7bqEhM1mq5WdYKS8oNzr6bqnX3g6vXr04uWnX/ZcGzJ6COeccQ6PPVBTYF64ZCEXXnEhu9buIi4uzqutG26/gZLSEr6c/qXn2rhrxhEfF88Hb35QI31kYiS2mNCsW03VeP6cd9DUmhPT69++jMzt2fz62jzPtVs/Hs/WRTuZ+2HNRZHRN51Ep2HtePe6qsW5c+4eRVr7ZD6+012XFz16NtZIC7MeqhKurnjuQuylDr57qvpKs2JRePDn23x6JQY7TtX5r6frxkTG8tnnn3H+Bef5TPPoI4/xy8+/kH6E+PzfO+9m/fr1zJ0/B4Brx0+gpLiYb2d/60kz9oKxxCfE8/H0j2vkaTZZsJqtdX2koOFQ2UGvAuZ5Iy+kR+8ePPfa055rp/QfxVnnnclDTzxQq7xHDjyNCy4+n3se/C8A/ToO5K7772DCzdd60lx/+U1ERUfy5oev1/h8WlRzFCk032F2tYIC+7HDrTSLacnUzz7g7PPP8pnmqUef4Y9f/mRBelXf8cB/H2LT+k38ONf927/l2lspLSnl02+r+osrx15NXHwc7378do08I0yRxNsS6/pIQYPdYfcqsjXEuAvcIUjOOP0Mxl8znsWLFlNYWMiXX33pNa3VYkWWQ7OfdWkuiuzHPh0+JboJ02d9zDnnn+0zzeRHn+S3n/9g8aoqL6r77prIxg0b+XWuexfQjdfcTElJCV98N8uT5tIxVxAfH8eUae/VyNMkm4mPaLg2u2rVKvr37096ejrjXvLu+ekvDv7xKJaENqQMvMFzbf/P9xHVfACJfS7/18+XHVhB1j+v0fKC1zBHpXhNU7TlV/LXf03rsW8jm6rGXDs/u+LEH8AHD62c02B514ZnB4yu9v/BgwfTr18/3n33Xc+1rl27MmbMGJ599tla5XnRRRcRFRXlcaRq1qwZDz/8MLfffrsnzZgxY4iOjuaTTz6ph6fwzqCvFtb5M5v+72Yi23aizU33ea6tv+dq4geeTMsr/1MjffHG1Wx94i76fvwLpijf839D19gy6U6SR55Dyea1aGWldJxYvT6Xjzu5zuUNZvzW4+fk5DB27FiWLl1KXFwcnTp1orCwkK+//pqioiK++uorzjzzTObMmYPL5aJjx45kZmaycqV70DthwgQkSULXdT799FNPvpXbgNu2bcuIESP89TiCBsTpw+vP5XSxae0Who0cUu36sJFDWLN83THzvPSUKxnZ9QxuHPMflv/j3SMC3CLO0r+Xs2fHXvoP61fjviPEt/Z4237idDpZvXo1o0dXf9GMHj2apUuXHjO/oUOG0rZtW845+xz+/rv6lqlhw4axevVqVqxw1/fu3bv5/fffOess7xOHUF6B9rWt50TqtpI1a9awdNlSTh7u/eVjGAbz5s1j+7btnHxyzTQGob26r6k1J/pOp5O1G9YycvjIatdHDh/JinTfv2+AU889lW4DuzHmyjH8s7j6lokVq1fUyHPUiFEsX+V9+6DuCl2vypLcMq/Cn2ySadoplV0rq68m71y5lxbdm3rNq3n3puxcubdG+qadUz0CXotuTdmVXj3PXSv3ec1Tc2qU5oeul7VRT962y5ctZ/ToUdWujT5tNKtXrcblcnnSjDrtqDSnj2bZUu9t1tt25FDBMAyvwp/T6WTd6vWcMmp4teunjB7BymXptcpb13VKS8uIT6haGHA4nFit1YVSW4SN5Ut8eAKH8KEfaj2VPX15OqeMrj4WP3X0CNauXudps+nLV3HKqKPTnOLzuwp1Lypv79+GGncBPPPMMyQnJzNhwoTjKluoUF9ezCuWpXPq6FOqXRt52qmsWbXW02ZXLk9n5OhTq6UZddqprFjmfbzhzSMxHDE0FUf+biKb9Kp2PaJJT+y523x8qjolO+cT0aSHT+EPoHjXfKJbD6km/DUmnE4n6enpnHHGGdWun3HGGSxeXHNB1hurV69m8eLFnHJKVVt3OBw1nAMiIiJYuLDu4lxDoqsuynZtI673oGrXY3sNpGxrTU/8I9k48QbW3HwhWyb/l+INNT11M76ehik2npRRvhdiww2Tvwzt27cPp9NJZGQkmzdvJjIyEsMwSE9PJyUlhQceeADDMGjfvj0LFy6kSZMmOBwOduzYAbjFveHDh7NgwQJmzpzJxIkTycrK8mxzu/baa5EkyV+PI2hAdB+DkYK8QjRNIyklqdr1pNQk8rK9r1gnpyUz6dWH6danK06Hi5++/Jkbx9zKRz9OYcAR4l5JcQmju5+Ny+FEVhQeefHBGiIjgEHoTpx8kZubi6ZppKVW336XmpZKVpZ3d+omTZrw1ttv0bdvX5wOJ5/N+oxzzj6H3//43SNAjbt0HLm5uZw2+jQMw0BVVW66+Sbuu/8+r3l623IUMvgo+vHUbSUd2ncgNzcXVVV5+JGHue6666rdLyoqokP7DjgcDhRF4bXXX6sxkQgHvMX7yyvIQ9M0UlNSq11PSUkhy8cWgLTUNF599lV69+yN0+Hki+++YOxVY/nh8x8YNngYANk52aSkVB+ApqSkkJ2T7b1sITxx8rWdOjIuAlmRKSuoLr6VFVQQneg9rEZ0QiRlBRVHpS9HMSlExtkozS8nOjGSsqMEvbL8cqITIutUvlCgvlpFVlYWKanV23hqWiqqqpKXm0eTpk3Iysoi9eg0qb77l1Bus77eEfl5BWiaRnJqcrXrySnJZGfl1Crv99+YQnlZOedfVDUBOPW0EUx560MGnzSYNu1as3D+In7/+Q+vW+UhPOu2ruRk5ZCSctT3kJqCqqrk5+WT1iSNnKycmt9VajI5Pr6rUK5XXzTUuGvJ4iVMnzadpctqt7gYyuOu+moX2dnZpKQe9d4/3Gbz8vJp0iSN7CzvaXz2L2HYZr2hOUrA0FFs1XdTKLY4NHvRv35erSigPHMtqcPu8JnGnrcDV9F+UgbfdMLlDVU8/UVa9f4iLS2NQ4eOHSalRYsW5OTkoKoqjz/+ODfeeKPn3plnnskrr7zCiBEjaN++PXPmzGH27NlBd4ChWlwEuoYpLqHadXNcAsWF3r1/zQlJtLn5fiLbdcZQXeQu+J2tT95Nl0lvENOtDwAlW9aRM/dnur/wUUM/QlDhN/Gve/futGvXjl27dpGamkqnTp3o2bMnF198Ma1bt2b3bvcBDNdddx1NmjQBwGq10r17d08eEyZMYMGCBWzYsIE1a9Ywb948NE1DkiSuueYafz2KoMH5l5fmUSKvYRjgQ/dt27ENbTu28fy/z6BeHDqYxfS3ZlYT/6Kio/j671mUl5Wz7O/lvPjIK7Ro05yBJw+oU9FCmaPFc8MwfArqnTp1olOnTp7/Dx4ymAMHDvDaa695BqELFizg+Ree57XXX2PgwIHs3LmT+++7nyZNmvDQQ+EfUPVI6lK3lfw15y9KS0tZvnw5jz36GO3btefSy6oCd8fExLB02VJKS0uZP28+Dz7wYKPzgJbwUq8+OoOO7TvSsX1Hz/8H9h9IRmYGb3/wtkf8q2ueocy/zU2OnlhJ0r9MtnzcO/JyjYnmMarV1yEvjQ1vfcfR14+nfwlHatQDtauH77+azcvPvsZHn39I8hHC1eTnH+f+Ox/klP6jkCSJ1m1bc9nV4/jik6/qvezhxPG0WQwv1xoB9TnuKikp4frrr+ftd94mOTnZax4C79SqzXobGzTCNuuV46yGkl0LkM2RRDUf4DvNzvmY41piS6oZ27KxcTzv+n/++YfS0lKWLl3Kgw8+SIcOHbjiCvd26ddff52bbrqJLl26IEkS7du357rrruPjj2uGDAkGvD6rj+ePaNaKiGZV8f2jO/XAmZvNoR8/J6ZbH7SKcna9+RRtbpmIOTa+gUocnPhN/LPZbKSnpzNz5kyWLVvGpk2bmDlzJjNmzODLL73HojiacePGceedd1JWVsaMGTOYN88dU+SUU06hbdu2DVl8gR+RJO+70ROS4lEUhbzs6kFk83Pya3gDHoteA3ry05fVT+mSZZlW7VoC0KVnZ3Zt282Hr35cQ/zzVbZQJjk5GUVROJRVffUoJzunhkfJsRg0aBCfz/rc8//JT0zmyiuu9His9ejRg/Lycu64/Q4eeOCBkI0z4xUf794TqdvKWKU9evQgOzubp59+upr4J8sy7du7D6vo3bs3W7Zu4aUXXwo78c/byz4pIQlFUcjKqe4hkZubS2py7dts/779+eq7qol8akpqDS+/3NzcGt6AVYWrtamgw2TxHpusvKgCXdNrePlFxkfU8AaspLSgnKjE6h58UQmRaKpGxeF4jW7vv6gaaUp95Gmy+m14Uu/UV7NIS0sj+ygvoJzsHEwmE4lJiZ40R3sK5eQcq38J3UbrS4RPTEpAUZQanmN5OXmkpB5bBJn9zY/87/aJvD/jHUaMrB42ISkliY8+/wC73U5BfiFNmqbxzGPP0ap1S+/lC2EhoL5KnpKWQnb20d9DLiaTiYTEBE+ao7+r3JzcGt6AVYUL3Xr1RUOMu3bt2sXevXu55OJLPPcrDxuJiY5h7bq1tGvXrtrnQ3phq56KnpqaSnbWUe/9w2028XCbTU1LJTu7Zpp/61/CHcUaA5KMVlHdy0+zF9XwBjwawzAo2TWf6LbDkRTv73tddVC6bwmJPS/xer+x4OkvjvLyy87OruENeDSV+kjPnj3Jysri8ccf94h/KSkpfP/999jtdvLy8mjWrBkPPvhg0Gkqptg4kBVcR3n5uYoKMB/lDXgsojt1J++fPwBwZB3EmZPJ9ucfrEpwOCzKistPpedrn2Jr0vzECx+E+G32XVxczJYtW7jjjjv45JNPWLVqFSNHumMrLViwwNPQpk2b5ulgXS4XmzZt8uQRHR3NxRdfDMCHH37ImjVrAGoV10IQOpgls/frFjPdendhyfxl1a4vmb+MPoN6ef2MN7as20pKk2O/sA0DnM6acWbMsveyhQreJicWi4W+ffsyd+7catfnzp3LkCE1tz77Yu2atR6vXYDyivIaAp8iKz5PmAvtiZP3stdX3RqGgcNx7HiTx0oTynXr7dAHi8VC7x69mb9wfrXr8xfOZ2D/gbXOe/3G9dW2XQ3sO7BGnvP+mcegfoPwRqgeSAHurbremq2u6mRuy6Zd/1bVrrfr34oDG72fqn5wY2bN9ANakbk127NF8sCmTNrWMk9JloiKj6jL4wQV9fV7GzR4EHPnzqt2be6cufTt1xez2exJM2/OUWn+msvgIT7abAj3BeC9r7VYLPTq25MF86rH8Fww9x8GDO7vM6/vv5rNvf/5H29PfYPTzvIdMsFms9G0WRNUVeWXH37ljHPP8JpODtHDPqD+yt5/UH8WzK3+Pfw9dwG9+/bytNn+g/rV+K7+nrvA53cVqoeoVOKvcVfnzp1ZsXIFS5ct9fyde+65nHLKKSxdtpQWLWqechnK2l99tdmBg/vz99zqsRPnz5lPn369PW12wKD+zD8qzbw58xk42Pt4Q5ZDu83WFkkxYU1sS8Wh9dWuVxzagC25k49PubFnb0YtzSK23ak+05TtWwqaSnSb8Dpwoa5YLBb69+/vCXVWyZ9//smwYcN8fKomvuYJNpuN5s2bo6oq33zzDRdeeOEJl7k+kU1motp1omhd9RibxetWENW5R63zKd+9DXO821nI1qwV3V+aTvcXPvL8xfc/iZjufen+wkdY6uBIEGr4bWk9OzuboUOHkpCQQIsWLXA6nWzd6j6hqFevXowYMYLLLruMHTt20LZtW9q3b8++ffuYMGECr732miefCRMmMGPGDEpKSgC3IHjJJY17RSDcsJm8x4ACuOa2q3no1kfp3qcbvQf24qvp35J58BCXXuduA69NfpPszByeedd9UtrMdz+jWaumdOjSHpfTxU9f/cKfP87h1ekvevL88NWP6NanGy3btsDldPHPn4v48YufeOSlo7emSkQq3mNehQqyLHtWgo/krrvu4oYbbqBfv34MHjyYj6Z+xP79+z2xIR579DEyMjL4cOqHALz15lu0at2Kbt264XQ6+XzW53z//fd8NuszT57nnHMOb77xJr1792bgIPe238mTJ3Puued6PdVXDmGvymNN9utat++99x4tW7akc2f3qdKLFy/m9dde5z+3Vp1m9eKLL9KvXz/atWuH0+nk999+57NPP+P1N2qeQBnqHpYmqwlHac3Bym033sat995K3159GdBvADM+m8HBjINcd5Xb03Ty85PJzMrk3VfcJ6O9N/U9WrZoSZdOXXC5XHz53Zf8+OuPTHtvmifPW66/hfMuPY/X332ds08/m1///JW/F/3Nz1/97LNsoYrZZiaxeTz5Bwpr3Fv61SrGPHQmGVuzOLgpk77n9SQuLYb0H90D/FE3DiMmOZrZz7lXUNN/XM+AMb05/dbhrP55A827NaXv2d359ohTfJd/u4ZrX7uEYZf3Z+uiXXQ+qR1t+7dk2l01t1Amt0rEZAnduvU18SstLWXXzl2e/+/du4d1a9eRkJhAy5YtmfTY42RmZDDlwykA3HDj9Ux5bwoPPvAQE66bwPJly5kxfQYfT6+KT3Pr7bdy1uln8crLr3Lueefy808/M2/efP746/c6lS0UkCQJi2LFodU8FOymO27kvzfdQ+++veg/qB+fTJvFwQMZjL/hKgCenfQ8mZmHeGPKq4Bb+PvvzffyxAuT6Deor8fzx2azERsXC8CqFas5lHGI7r26cyjjEC8/+yq6rnPb3bfULBtSSItUZsXi9XpZaRm7d+3x/H//3v1sWLeR+IR4WrRszjOTnuNQ5iHemPIaANfccDUfT5nG4w8+wVUTrmTl8nRmzfiCdz5+y5PHjbfewEVnXcJbr7zDmeeewe8//8E/8xby/R/f4g2Lj7KFCrIse42hVd/jLpvNVi1UEuA5Ffjo656yhfC4yyR7f0eUlpaxe9duz//37d3H+nUbSEiIp0XLFjw56WkOZWTy9gfuNnntDdcw9f2PePTBSYyfcBUrlq/k0xmzeP/jqlNVb77tJi44cwxvvPImZ597Fr/+/BsL5v3DT3/+4LUMoe4oUBfiOp9D9tJ3sCS2w5bckeKdc1HLc4np6F5QyV/zOWpFPqlDb6v2uZJd87EmdcAS792TujJNZIv+bg/DRs69997L+PHjGTBgAEOHDmXKlCns27eP//zHPTd46KGHOHjwoOcg1LfffptWrVrRpUsXABYuXMhLL73EnXfe6clz2bJlHDx4kD59+nDw4EEef/xxdF1n4sSJ/n/AfyHtvMvY/eZTRLXrQnSn7uT89QPO3GxSTx8DwP7P3sOVn0u7Ox4B4NDPX2JNaUJEy7YYqkruP79TsOxv2v/vKQBki5XIVtU9oZWoaIAa18MNv42uk5KSmDBhAsuWLWP37t3ouk6XLl245ppruPHGG5Ekifj4eJ577jlWrlzJtm3baN26NQMGVN92eeqpp9K2bVtPjMBLLrmEqKjQFmQE1VEkBbNswaU7a9w766IzKCwo5L0XPyAnK5cOXdvzzhdv0Kyl+8TInKxcMg9UuUW7XC5efuw1sjNzsNqsdOjSjre/eJ0Rp1etIpWX23n6/ufIysjGarPStmMbnn3vKc666OjVfeOYwmQo4Gugd8m4S8jLz+PZZ57l0KFDdOveje++/45Wrd2eOocOHWL//v2e9E6nk/976P/IyMggIiKCrl278u1331Y7yffBBx9EkiSeeOIJMjIySE5O5pxzz+Hxxx/3WoZQ9k6TJAlZkr2e+lvXujV0g0mPTWLPnj2YTCbatmvL5CcnVwvSW1ZWxt3/vZuDBw8SERFBp06d+Oijj7hkXM2FkFAe3AMoPranjj1/LPmF+bz4+otk5WTRtVNXPv/4c1q2cA8ks7KzOHjwoCe90+Vk0jOTyDyUic1mo0unLnz+8eecPvJ0T5pB/Qfx4Zsf8vRLT/PsK8/SplUbPnzrQwb09R6PxlfZQoUW3ZpSmFmErlX3xN00fzsRsRGMuGYw0YmR5OzJY9ZDsynKOrzolhhFbGrVYLzwUDGzHprNGbePYMCFvSjJK+O3t/5myz87PGkObMzk2yd/5dTrh3LqdUMpyCji2yd/JWNL9S2rsiLTvFsTQhnFh8C2etVqzjnrXM//H3rg/wC48uoreX/Ke4f7ggOe+23atOGb777mwYkP8cH7H9C0aVNefOkFLhxTtSo/ZMhgps34mMlPPMlTk5+ibbu2TJsxjYGDfHmkhHZ/YJYtXsW/Cy8+n4L8Al59/g2yD2XTuVsnZn49jRat3N5OWYeyydif4Un/yUefuQ9TuvdRHr73Uc/1cVdewmvvvwy4T0J84cmX2LdnP5FRkYw6cyRvfPAacfE1t7OZFWtIv8NMkvfpwNrV67jknKpwE48/5F5YvfTKS3jt/VfJPpTFwf1V/WyrNq345JvpTHpwMtM+mEFa0zSefPEJzr3wHE+agUMG8O60t3l+8ou8+NRLtG7bmvemvUO/gX29lsEsh7j4J8lo1BT/GmLcVRckSQrpNitLstdx19pVaxhzzsWe/z/64CQALrvqUt56NUzUkwAAkLVJREFU/w2yDmVx4Ig227pNaz775lMefXASH0352L29/8WnOH9M1eE/g4YMZMq093h28vM89+QLtGnbhg+mv0//gVWxw4/E1IjEv+jWQ9GcpRRu/Ba1ohBLXAuanDLRc3qvai9ELa9+KKPuLKds/3KS+vmO1+8szsSes5UmpzauGOG+uOyyy8jLy2Py5MlkZmbSo0cPfvnlF1q3bg1AZmYm+/bt86TXdZ2HHnqI3bt3YzKZaN++Pc899xy33FK1eGW323nkkUfYtWsX0dHRnHPOOcycOdOzaBBMJA0bjVZSTMY303AV5BHRsi2dHnoBa4p7vOgqyMN5xIF/hupi/8x3cObnIFusRLRsS8cHXyC+39BAPULQIBnheIyWIOTZX7abImdBoItRg/YxXYgIYQHQMAzsjpoTp0AjSzJWqzXQxTghXC4XqhZ8J5RazBavnpahgmEYFOwLvr5AVmTiW8QHuhgnxPJv1/DH238H18GEEpx910gGXFj7UA7BSFlFaVCepBlliw7pCX+FWk6BPfffE/qZaHMssdb4QBfjhMgtz/a66Bpo0qKahvSWal3XcTiPHbYjECiygsUS2sJqib3I62JAoIm3JWJSGk4AXLVqFf379yc9PZ1xL21tMDvBzs7PrmiwvB9aOafB8q4Nzw7wHYoi1Bn01cJAF6FOLB8XXtvOQ3sJWBC2xJlrH8DTX1hkCzYldONQQfCu9IayOFVJsD5DqHv6SJKEJTL4JiiWqOArU13pMrwDwRb0SZIkugxvH+hinDAmU/B5fphkU1D2/3XBqtiC8pCCUF4UrCQYn8EiW0Ja+IPg3dUQrGOWumAxBd+isSwpKD62JAsEAkGgCe1ZoSBsiTHHYfJx8EegSLSmBu0gri6YTME3KAmHQagsy0HXPkxK6E/2AawxwTfAD8Yy1ZXYlGg6n9wOWQmONiIrEl1HdKhxKnAoYm5Ar4/jxWwOfcFalmQizdGBLkY1zLLFZ8y8UCLCHHziX6Ql9GN9SZIUlOOuUF8YBLAoVqQgC20SYY4Mi3GXQCAIT4KrxxQIDiNJEonWlEAXw4OERIIlMdDFqBd8xaMKFIqihM1AKdgG+OEgqoL7YA3ZHDyvK3OEGcUUHnU74MLeNWL+BQpdMxhwYe9AF6NekGU5qPrayvhY4UBUkIl/UebQF6jgsLBqCh7hXZZkbIot0MWoF0xKcI0NTKbwWBiUJIkIU3DtyLGawqPNCgSC8CQ8RoKCsCTRmoQcJE00wZIcNm78wbYKHWyD4hMhqCb7shwWK/tweIAfFzwDfFts+Azu2/RtQVqHlIB7/8myRNNOqbTq1Syg5ahPLKbg8QYzmyxhMdkHdzB9a5CE4JAlJSi3yx4vUZbgEVajzDFh02YlSQqq8UE4jbts5kiCJXyFzRQZNossAoEgPBE9lCBoMclmmkb6PgLeX5glM2mR4TMhheDZDmoymcJGoILD8emCZGtdsJSjvrBEWjDbAr+V0hptDYpy1BeSJHHhg0efbB6QgnDhg2cERb9UXyiKKSgm2YqsBEU56pN4a0JQxP5LsCaFVZs1yWaiLbGBLgYm2Rx0Hp4nitkcHO8Ns9kcVm1WlmSig2B7uCzJQSWeCwQCgTfCZ9YtCEviLYlEmwI7EG0e1QYlxANOH00wiFSSJIXdhBTcW20DvcIfboN7cLeXqKSogC7wS4pEZEL4ePlUktYumRHXDgloGU69figpbZICWoaGwGoO/AEVVost7PoDRTYRZw3swWCRpuiw3OIXbY7BFOCdDvG2xLBrs8Ew7gq2cAT1hdVkwywHtm5jrHFh12YFAkH4IcQ/QVAjSRLNo1oFTHxLsqYQHSbxfI5GluWAbv+1mMNnG9rRBFJ8C9fBPYBskt0CYICITo5GksOzzQ67vD/NuqT5/fkkWaJ51yYMvbSfX+36C0mSsFoCJxBZzbaw3YYWYYoK2PZfRTIRa40PiO2GRpIk4q2BE+JjLHGY5eDwkqtvFEUJaCzecB13SZJEtDU2YAstNlNkWBz6IxAIwh/JMIzgiPQtEByDCrWc3SXb0NH9ZjPWHE/LqLZhOVCqxDAMXKoLTdP8atditoTNYRS+0A0dh8PhV5uyJGOxhOfg/kgqiiqoKKzwq82o5CisUaF/wu+xKC+qYNpdX5GfUYjhh0NAJEUiqXkCE94cR0RM+HlQHYlLdeFw2f1q02K2BlXcwYZAN3TyKrJx6U6/2ZQlmeSIJgH3jmtoHKqdfHuuX21GmaOJsYS3B5VhGDhdTnTdf+NZAKvFGlZhVryhai4K7QWA/6a2FsXqd6+/VatW0b9/f9LT0+nXLzwXzgQCQcMQ3m8BQdgQYYqkbUwnZD95AMaZE8Je+AP3aqnZZParENcYhD9wTxCtFv+JRY1F+AOIiIsgIt5/Hj+NQfgDiIyL4JpXLya5ZWKDewBKskRK60SuefXisBf+AMwmM1az/57TYgp/4Q/c/V5SRCoW2T+/T1lSGoXwB+6tlIm2ZL/ZawzCH1Rt//WnENcYhD8Ak2Imzua/eKCBEP4EAoHgRAj/N4EgbIgwRdI+pjNWuWEnUCm2NFpEtWk0L/NKAdBsavhtNlaLtVEIf5XIsozN2vDxthRZaTTCXyURcRENHgNQkiWiU6MbhfBXSXRiFBPeGEfHoW3dF+q7fg/n12lYO659bRxRYRhD0RdmkxmbpeFFa6vZFvDYYv6kUgCMMDVsSACLbCUlIq1RCH+VWE02kiJSGnzhNdYS1yiEv0oqBcCGjnvsDjvQOIS/SsyKmbiIxAYPFxRhjhLCn0AgCDnEtl9ByGEYBjn2Q2TbM+s1X4tspUVUGyIbeAIRzOi6jtPlpL67BUVRMJvC7xCK2mIYBpqm4VJd9Z53Y/Gk9IWmapTllaHa1XrN1xJpITIxEllpPJOmIzEMg41zt/HLa3NxVrgw9BPvEyRZwhJh4dx7R9Ht1I6Nuj+wO+1oev22WUVWsFrCN8ZfbbCrFRQ68tCN+txSKRFnjSfSFN1o26xu6JQ4iyl3ldZrvmbZTLwtEVOYxvirDQ017jKZ3KeNN9Y2axgGFa4yyl1l9ZqvIilEW+MwK4Frs2Lbr0AgOF4az/KlIGyQJInUiKbEmOPIqsigVC0+ofwUSSHJmkqyLa1RT5rA7almtVjrTaiSJRmT2RS2B1DUFkmSMJlMyLKMS3XVS6wfk2LCZGq8A/tKFJNCTGoMzjInFUUV6OqJ1a1iVoiIj8AS2Xg8p7whSRI9RnemTd8WzPtoCev/3IKmascXSklyf0+9zujKyOuHNipvP29IkkSENQJVU3G6HCcsVEmShMVkbdQT/UpspghSlWaUOIsod5VinGDsL5sSSaw1vlF5+3lDlmTirPHYTBGUOIpOOMaiLClEm2OINEc1+jZbOe5SNRVVPfEFAVmWMZvMjcrbzxuSJBFpicaiWClzlp5wm5WQiDBHEiHarEAgCGGE558g5HFqDvKdueQ7ctGN2h9cEaFEkWxLIcYc3+hFP28YhoGu66iaWmexSlEUTIqp0Q8+fWEYxnEN9CVJwqSYUBRFDD69YBgGqkPFXmzHVVE38doSZcEWY8NkbdyTfF9UlNhZ9/tmVny/loKMIgBkRULXjeqCoASyLKEfPjAkoVkcgy7qQ68zumKLbjzbp+uCpmu4VCeqVrf+QJFNWExmZFn0B97QDZ0KtZwyVwmqXvv+QJYUoszRRJqiG/3ClS9cmotytZQKV3mdBFarYiXSHI1VafhwGKGIYRhouoaqqnX2BDQpJhSTIsazPtB0Dbtajt1VUac2a5LNRJgjsSjWoGmzwvNPIBAcL0L8E4QNhmHg1B1UaOVUqOU4tAp0Q8fAQJJkTJKJCFMkEYr7T2nkK/l1wTAMd13qbkHQMAzP4ElCQpIlZFlGlmQkSQqaAVKwYxiG50/XdXcdG1X16hZS3PUqy7Ko1zpg6AaaS0N1qqgOFV09om5lCcWkoFgUTBYTikWIJ7XFMAxKckvJ3JZN5rZsDu3IwV7qQHVqmCwKtmgrTTqm0LRjGk07pRKTLLwkaktlP6vrGtrh/oDKIZokIUsSsqygyIqnrxXUDk3XcOlO95/m9IwNwO3VZpYtmBULZtmCIon+oLYYhoGqq566VfVK0cpAQkKWTVhkM2bFgkk2C2GqDhw5LtB1HQyqxl2S5O4DZEmMu+qIYRhohoaqu1A1FU1XD9erAbjr0ySb3bsrgrTNCvFPIBAcL0L9EIQNkiRhVWxYFRvxlsRAFyeskCTJHTw5+MZAIc2RA/bGHLevIZBkCZPV5Pbkiwl0acIHSZKITYkhNiWGzie1D3RxworKflaRFRpvBLSGQZEVFDkCG/47JbwxIEkSZsV8OP5Z442X3BBIkoSiKCiIsUF9IkkSJsnk3sovZsECgaCRIabyAoFAIBAIBAKBQCAQCAQCQZgixD+BQCAQCAQCgUAgEAgEAoEgTBHin0AgEAgEAoFAIBAIBAKBQBCm1Fn8y8zMZP369T7vV1RUsGrVKkpLS32m2bRpEwcOHBA2hA1hQ9gQNoQNYUPYEDaEDWFD2BA2hA1hQ9gQNoQNYeM4bdQKo45MmjTJaN68uc/7GzZsMABj8eLFPtN069bNuOeee4QNYUPYEDaEDWFD2BA2hA1hQ9gQNoQNYUPYqIWN9PR0AzDS09ND+jmEDWFD2KhfG7WhzuJfRkaGsW7dOp/3y8vLjfT0dKOkpMRnmo0bNxr79+8XNoQNYUPYEDaEDWFD2BA2hA1hQ9gQNoQNYaMWNryJf6H4HMKGsCFs1K+N2iAZhmGcmO+gQCAQCAQCgUAgEAgEgoZk1apV9O/fn/T0dPr16xfo4ggEghBCHPghEAgEAoFAIBAIBAKBQCAQhCmmQBdAIKhPDMPAXuqkvMiOvdSBruoYBkiyhNmqEBlnIzIuApNFCXRRQw6n3UVeRhF5BwopL7GjuTQkWcJkVohNjia5RTzxqTHIilhTqAuGYeAsd1FWZKei2F6tzZosCpGxViLjIzBbRXddV1wOlbwDBWTvzaessALVqYJ0uM2mRJPaKpHE5nEoJtEf1AXDMCjJLSVzWzZZu3JxlDrRVA3FpGCNtpDWLpmmnVKJSY5GkqRAFzekMHQDl13FVeFCdaoYuntzhiRJKBYFS4QZc4QZSRb1WldySvJYd2ALGzK2UVRejFNzYZIVoq1RdGnSnl4tutAysZlos3XEMAw0Q0PVVHRDw7OhSAJZkjHJJkyyCUkSY4O6ousGuqqhuTR0w4DKqpVANikoJhlZkUWbrSOGO+wVhm6gG7qnXpFAQkKSJWRZ1KtAIAg/xGxSEPLoukHhoRJy9uRTml/hmSy5X+JVHLnB3WwzkdAsltQ2CdiirX4tbyhRWlDOlmV72LV6PyX55e6LEsiy5B4sSYDh/g4AZEUmuWU8nQe1oV2fFpjMQlTxhmEYFGeXkr2ngJK8cnRVd984us16/gGTVSG+SQypbRKJjLP5ucShQ3mxnc2LdrJ1yW4Ks4rdv/vKNgtUNlpdO9xmZYmkFvF0Pak9nYe0xRJhDlTRgxrDMNi/PoOVs9exc+Ve7CUOAGRFcs9EqxJ66tYWY6X9wNYMuLAXLXsIUcUXuqZTnl9BeUE5rgq16kaNzqAKk9VEZGIEkYkRQrw+BusObGHa4q/4c9NCckvzAVBkBVmqeocZhoGqawDE2KIY1q4/1wy7mFM7DUGWhWDlDcMwcKgOHGoFqq7++wdwC4FWkw2ryYYiizbrC03VcFa4cDlcVePZf0ExK1gjLJisJtHP+sAwDHRdR1XVWtcrgKIoKCZF9AUCgSAsEDH/BCGL6tTI2pVHzp4CVKdW9wwOC1cxSZGkdUgiPi2m3ssYqhzalcu6v7ezf/MhJCTq1E0crlezzUTnQW3oeUpHImOFWAWgqTo5e/LJ2p3vnuQfrqtaczh9ZLyNtHZJJDaPFQP9w+TsL2D175vYuXLf4VX9uuehmBW6DGtL39O7Epcq+gNwT0TX/LKRZd+uIW9fAbIiecS92lCZPrlVIoMu7kPfc7oL7+DDqA6VkuwyygvK69YPHEVEvI2Y1GjMQrgGQNd1vlvzOx8smMXaA5tRZAVNr/0YoTJ9i4Qm3HDSZVx70iVEmMU7DEDTNeyuCuyqnRNptGbFQoQ5ErMi2iwcFqCdKo5yJ5rrOMazh5EkCUukBWuERXgHH8YwDFRVRVOPv17h8G4MkwlFCbxwLWL+CQSC40WIf4KQpPBQCXvWZByf6Hc0hwWVhKYxtOrVtFFvr3TaXSz/aQNbl+1BkqU6rY56o3Jb8NCxvenQr2WjFqpK8srZvfogznJXveUZkxRJm77NsEZa6i3PUENzaaz4aQOrftsIUv20WVmWGHpRH3qN6tyoJ1BZu3KZ/czvZO3KrbtQfTSHP5/WIYUxD51Jatukeipl6GEYBqU5ZRQfKjmxOj2KmNRoYtKiG3Wb3Zd3kP9+8QRLd61GlmT3lr4TQJIkWiU0480rn2Bgm971VMrQo9LTr8xZUq/5Wk02oiyNOzyArutUFNvdYSnqCUmSiIi1YbY2bnFV0zRczvobcwHIsozZYg5omxXin0AgOF6E+CcIKVSXxr71h8g/UFT/mUugmGTa9G5GQrPY+s8/yMnYkcPfs1ZSUWI/Lq+pf6NFlzSGj+vX6LwAdU3nwOZssnfl13/m0uHJaY8mJLeOb3QTqOy9+fz54SIKs+tXRKkkrV0yp10/lPhG5gWoazqLPlvJ3zOWgsEJC6pHIikSEhKnTBjMsMsHNDovQNWhkr+vEFc9LgIcicmqkNAqAUtk45r0G4bBjCXf8vgPr+LS1Tp5+v0bymER8ZZTruKBs27FZm5coUJ0XaPUUYJLb5g2K0sy0dYYzErjW8Ry2V2Ul1Q0yPsLwGw1ERET0egWBAzDwOV0oesnJv4fC7PFHDAvQCH+CQSC40WIf4KQwWVX2bp4D/YyZ4MNlCpp0S2VJh2SG9ZIELF95V4WfLnK7ZzTQHUryRKRMVbO+c9wYpOjG8ZIkKG5NLYv20dpfkWD20ptl0jL7mmNRgDcuz6DX99dgK4b9SpOHYn7oCATF947mtTWiQ1iI9hQnSrfPf07W/7Z0eC2up3akTEPnYnSSGKDOsud5O7Mb7D26kGCpLaJ2GIah0il6zqPzH6Jjxd91aB2JEliSNu+zLj+FaJtUQ1qK1jQdJUiexHGCXpQ1oZoawxWU+NZHLSXOXCUORrcjqzIRCVENpqYdYZh4HQ46xau5jgxmUyYzP7fLSTEP4FAcLw0jjeBIORx2VU2L9ztF+EP4MCmbDK35TS8oSBg2/I9LPhildvDpwHr1tANyksc/PjW3xTnljacoSBBU3W2LtlLaUHDC38A2bvy2bcu0y8D3kCzZ91Bfn77bzRNb1AhpfLk1e9e/JPsPXkNZidY0FSNryb9zNaFDS/8AWz+eztfP/4zutbwwkKgcZY5yd2R1/DCH4ABebvysRfbG95WgDEMg4nfPNvgwl+lrWW713DZlNspd/inXw8kmq5SVFHoF+EPoNRRgt0V/m0W/Cf8gduTu6ygrEG94IIFfwp/AKqqorrqb7u2QCAQNDTC808Q9GiqzuZ/dmMvdfhF+DuS1r2aktImwb9G/cjeDRn8NWOZX+tVkiUiY21c+N+RRITpScuGYbBt8V5K8sr9brtpp2Sad0n1u11/cWhnDt+9NMc9kfFTu5UkCbPNxLiHzwrbLcCGYTD72d9ZP2erf/tZCXqd0ZULHzjDj0b9i8uhkrMt1z/C35FIkNI+CUtU+G6nfPbXd3hjzsd+tSlLMid3GMBnN70RtqfW6oZOYUWB34S/I4mxxmIxhefYAMBR7sRe6n+RU1ZkohOjwnZ3gL+FvyMxmU2YTP7zADzS8++yh9f4zW6ws/3X6wNdBEEtmLr1d7/ZuqHzmX6zFSoIzz9B0HNwczb2Ev8LfwD71h9yi45hSEWJ3ePx508M3aC82M7ib9f417AfydqZFxDhDyBzW27AbDc0LofK7x8swvCj8AeH4wc5VP6aujhsvSc2zt3G+r/8LPwBGLDu981smr/dz4b9g2EYFOwt9L/wB2BA/r5C9EDY9gOLd6b7XfgDtzC2YPtyPlz4hd9t+wPDMCh1lARE+AO3B+CJHtQSrGiqFhDhD9wegOE6ngVQXWrAdj6oLjVsxwYCgSC8EOKfIKgpySsje3cDHJRQSwwMdq86GHZbKQ3DYOE3a3DV4+lydbKvG+xZn8HutQcDYr8hqShxcHBzdkDLsHv1QTQ1/AaiS75bQ1lBeYNuT/eFoRtk7c5j3Zxt/jfewJTml/HLa3PdJ/IGAgl+fmUOZQXhJ1qX5pThqmiYgxL+v73zDo+q+Pr4994t2U3vvSek0VKA0ELvSJOOFCkCij8pCoqACnZFRBRFBCnSQQF96R1CJ4QWEiC991633fePJQub3Q0kJLt3N/N5njzK3XNnzp2dnTtz5sw5L4NUJEVpVtNmaGUDlTVVeG/3Z6Ap3U1jvzzyCxLyUnRWf3MhktZALBXprH4GDCpqDK/PMgyDylLdHhcXVYmaNKswW5BJZZBKmy7JT2MQi8QGt1YgEAiGBzH+EViLVCJD0u1M3SrBABXF1chpjkytOiTpbgZSY7J0443yHJF/R6NaS3FvtAHDPDUW61gPUaUYmXG6NUA2NZlPcnH/7GOdGP6e5+o/d1CcU6pbJZqYo2vPQlQl1ol3NQCAkR+FO/rTOR0p0DyIqyUozda9EaMivwI1Fboz5jQHXx1bj6ySXJ16iMkYGd7b/alBefzIGBkqanQfk1ckFaFGYjhzA0BueJOxYFOusrTKoIxUDMNAJNL9+MYwjM4NkAQCgfAiiPGPwFoKM0rkC1IWkPU432CC0jMMg6gTD3WtBgBAXC1G7JUkXavRZJTmVaCypFp3RpTnyE0qhLjGcHb4b/x3HxSt+1hFDMMg+kSsrtVoMnIS8/EoMlHnGwGMjEHcxXjkpRjORktZbjkrxgIAKGOBEbKpyCsrwNYrB3R+NFQqk+J2agwi42/qVI+mpFpcBYYlnbZKVGEwRiqGYViz0SlPZMWOuXVTwCaDmy6PHhMIBMLLQIx/BFbCMAyrvO2kYimKDOToVHZiPkrzK3StBgB5duHYK4kGY1jNTSzU3dHJOjAMUJBWrGs1moTinFJkxOXo3EAFyBdOj64loaZS954GTUHUv/dAc9jRaSkOhah/7+lajSZBJpGhqpg9GWFrykWQGMhmwK4b/7Jmgc2hOVrJNKwNGIZBtZg9fVbKSCGRGUafFVfr0LNaDTVVhvH+YhgGUgl7jH8ADGY+SyAQDBNi/COwkoqiKnmSDxahy9iDTcnDy4ms8KCqpaq8BqkPs3WtxitTUylCCYs8fQAgJ7GQNYvkV+HBhSes6rNSiQxxV/XfY7WmogZ3T8RCJmVHH2GkDO4ci4HIABamFUWVrBoLAKDCABIBSWVSbIncp3Ovv1qkMilOPLyIzOIcXavyyoikNazx+quFTcbIV4FtY5pMIoNEzC6jWWNgZAzr5jgSiWEYrAkEgmFCjH8EVlKQVsIaD6paKoqqUK3ncZNE1WKkPNB9rL/noSgKj2/qf9D0gnT29VlxtQTler7gZxgGsZd1fyy1Lg8j43WtwisTF5nAOm8wcbUEcZGJulbjlaksYJ/RoqKwknUL5YZyJSEKOWX5ulZDCQoU/r59TNdqvDI1Yt1koa0PkbRG7/usVCJlZQIucbV+z2cBdh35rYVhGIOKA0ogEAwLrRn/evXqBYqi4OnpqXT9/PnzoCgKFEVh69at2lKHwHLKCzV7Tew/uhsj3hqAbmNCMGXRWETHRNVbVtSDm5iyaCy6jQnBiNkD8fexvSoyZ6+cxLh5w9B1dDDGzRuGc1dPqy2rooh9C7qGUJBRrHEiHdjFC+OWDsC0r4ZjxPxecPCyqbcsR28bjJjfC9O+Go6xHw1AQGdPFRnPts54/YO+ePPr4Xj9g77waOOkIsMwDHJT9N9DraKoip19lkVHDxtDSV65xtifbXq2wpSvhmPO+vEYu2wQnHzt6i3L2c8eY5cNwpz14zH5y+Fo3cNXRcY71A0TPxuKuevHY+JnQ+EV7Kq2rKLMEr3PmpgRmw2ao34aEDa8Hd7d+SaWHp+HWRsmwK2tc71lubdzwawNE7D0+Dy8u+NNhA5rq/S5nac1xnw2FP/bNR0rzs5Hp9HBasuhOTQy4/TbE1gmlWk0qm7buxVdhoTDp5MXBk8ciOu3r2ssZ+GKBXANdlb56/N6L7Xyh48fgmuwM2YumK72c0bKQKrn3j63U2PAUZPht7N3CLbNWIPoFUeRtfomBrXu+cKyuniH4sSC7Uj6OhLXlh7C1C6vq8gMbdsbFxbvRfI3l3Fh8V4MbtNLg14PGvwsbIJhmHqP2P658U+Etu4AFxs39OneD1cvX6u3vM2/b0aX0G5wtXVHeEgX7N2l+g4rKS7BkoUfIsinDVxs3NAltBtOnVB9j+n70d/6fnObtvyBdh3awsHdHj3798CVa1deqsxrN67Bxtka3ft0V/msuKQYH3z0Pvzb+sHB3R6dunfEydMnVeQMwfOvPiPb77//joDAAFhaWaJr166IvBxZb1kbNmxAcEgwrKyt0K59O+zcuVPp84cPH2LCxAnwD/CH0FiIn3/5WWNZbNus1CYlqWeRfOFDJJycg7Qrq1BV+Lhe+bLMa0i9/CkSTr6NpHOLkHP/T0hFz5IO1ZRlICt6PZLPL0H88ZkoTj7V3I+gkV9//RVeXl4QCAQICwvDpUuX6pW/cOECwsLCIBAI4O3tjQ0bNqjI/P333wgKCoKRkRGCgoJw8ODB5lKf8JSGfI+RkZHo1q0bbGxsIBQKERAQgB9//FFJ5p9//kGHDh1gaWkJExMTBAcH46+//mrux2g0BuX5x4ZsT4RXRyaVoapc/ZHfk5eOYc3mbzB97Gzs+PEAgoNCMX/VHGTnqc8KnJGTjgWr3kZwUCh2/HgA08e8hdWbvsLZK88mQvfi7uDj7z/A4N7DseunfzC493As/f59PHikHHuKooBKPTek5KcXg1LjnebV3gXhw9vhzplHOLT2HLKTCjBwZleYWArVlmNqZYwBM7siO6kAh9aew92zj9B5RHt4PmcgsPewRu83OiI+Kg0H15xFfFQa+kzuBDs3K5XyaipFqCxln9dBQ9BkGNZlnwX03/inKQGEbwd3dB8filtHY7Dv82PIepKLYe/1gqm1sVp5MxsTvPa/Xsh6kot9nx9D1LEYREwIg3eom0LGwdsWA9/qhkfXkrDn82N4dC0JA+d0V2sIZxj570mfyYjNVhufKKhXKwyc1wORO2/ij9m7kHo/E5O+GQFzezO15Vg6mmPi1yOQej8Tf8zehchdNzHo3Z4IiHhmXOUa8VCUVYKzf1xGWYHmmKMyqQwZsfpt/BNXqzdW/HviMD77/lP8b9Z7OL7nJDqFhGPKvDeQkZWuVn7lklW4ffqO4u/GiVuwtLDC0P6vqcimZ6bj8zWfIzw0vH7dKvU70P+9tIdq91iM+UI8zHyMZQe/f6ly3KydsWPWWlxPvIMBP07GujNb8PmIDzC0bW+FTJhHW2yY/BUORB1Dvx8m4UDUMfw+5WuEuLdWKkvGyHA7Rb+NfzJGpvHI78EDh7DswxVYuHgBzl0+gy5dO2PC6xOQnqa+3/75xxZ8/tmXWPLxYkTevIgPP16CJYs+wvGjJxQyIpEIo4ePRWpqGrbs2Ixr0Vfw4y8/wMnZUaU8iUy/+6wmr79/Dv2NpSuW4oMFH+Di6UvoEt4VYyeOQVp6Wr3llZSWYO67c9AzQtXALRKJMGrcSKSmpWLb5u24efkWfvphHZycVDdeZRKZXm+6MozmI7/7D+zH4iWL8eGSD3Ht6jV07dYVI0fK20UdGzduxCeffoJly5bhdtRtLF++HAsWLsCRI0cUMpWVlfDy8sLnn38ORwfVfvo8bAlLoG3Ksm4gL3YPrLyHwq3rpxBYtUJm1FqIqwrUylcVPUHOvU0wd4mAe/dVcAx+GzUlSch9sFUhw8hE4AntYOM/GhwjCy09iSp79+7FggULsGzZMkRHRyMiIgKDBw9Gaqr6PpWUlIQhQ4YgIiIC0dHR+Pjjj/Hee+/h77//VshcvXoV48ePx5QpU3D37l1MmTIF48aNw/XrmjcFCa9GQ79HExMTvPvuu7h48SJiY2OxfPlyLF++HBs3blTIWFtbY9myZbh69Sru3buH6dOnY/r06Thx4oTaMnUN64x/FRUVGDlyJLy8vGBiYgIjIyO0atUKn3zyiZJxr9aTcMqUKVi8eDHs7e3h7+8PAPD09FR8tmjRIlhYWMDFxQVbtmxBVlYWhg4dChMTE7Rv3x6XL19Wqj8yMhIDBgyAhYUFjIyMEBgYiNWrVyu5lteW/+GHH+Ldd9+FjY0N7O3tMX/+fEWsh+7du4OiKEyePFlxn1Qqhb29PSiKwjfffNOczajXVJXWaPSg2nV4G0b0G42RA8bAy80H789aCgdbJxxQ4xkFAP8c3wtHOye8P2spvNx8MHLAGAzv+zp2HNqqkNn971/oFNwF08e8BU9Xb0wf8xY6tgvH7v+2K5XFMAZgSEkrgrqzqW16+OLxzWQ8vpGCktwyXP/3PiqKqxDYxUttOYFdvFBRVIXr/95HSW4ZHt9IweObKWjbs5VCpnV3H2Q8ycW9c49RkleOe+ceIzM+D60jfNSWqc+GFFG1GBKR+l10XfZZQP+9VXNTCtUmpAjuH4DYyETERiagKLsUkftuo6yoEm2e64PP06ZnK5QVViBy320UZZciNjIBsZcTEdI/UCHTvq8/0mKzcfv4QxRnl+L28YdIj81Gu77+qgVSQF6q/sYBlUqkyE1SPyHvPDYU0cdicOdoDPJTi3By/UWU5pajw/C2auXDhrVFaW4ZTq6/iPzUItw5GoM7xx6iy7hQhUzWoxyc+T0SMecev9D7LCdBv7OrazKwbfxrIyaMmohJr7+BVt6tsHLJKjg7OmP7ftXfLQCYm5nD3tZe8Xcv5i5KSosxfsQEJTmpVIr/fTwP77/9PtxdPOrVTZMXrb4QlfJA7cL6bNwVfHt8A44+OPdS5Uzt8joyirLxyb9r8CQ3GbtuHMaem/9ibs9nc7a3Iibi4pMb+PnsVsTnpeDns1sR+eQm3oqYqFJeblkB8suLGv9gOqY+77rfftmAN6ZOwpQ3J8MvwA9ffvcFnF1csGXTVrXy+/fsx7QZUzFqzEh4enni9bGjMHnqG/j5x2eeUju370JxURH+2rMN4V3C4ebuhs5dO6NN2zaqukkN0/Nv/Yb1mDJpCqZOngZ/P39888U3cHFxwZ9bN9db3sIPFmDM62PRsUMnlc927P4LRUVF2Ll1Fzp36gx3N3d0Ce+Ctq3Vj90yFh5HflnqM1yuW7cOb057E9OnT0dAQABWf78arq6u+OOPP9TK79q9CzNnzsTYMWPh5eWFcWPHYdq0afhhzQ8KmQ4dOuDrr77GuLHjwDfi16tbSz32W5x8EuauEbBw6wG+qTPsAieCK7BGSep5tfLVxQngCm1h6dkPPGM7CK1awdytF2pKkxUyAgsv2AaMg5lTOCiKq50HUcOaNWswc+ZMzJo1C4GBgVi7di3c3Nzw22+/qZXfsGED3N3dsXbtWgQGBmLWrFmYMWMGVq9erZBZu3Yt+vfvj6VLlyIgIABLly5F3759sXbtWi09Vcujod9jSEgIJk6ciNatW8PT0xOTJ0/GwIEDlbwFe/XqhVGjRiEwMBA+Pj6YP38+2rVrh8jI+r2NdQXrjH9VVVU4fPgwqqqq4OfnB3t7e8THx+Pzzz/HsmXLVOT37duHn376CQ4ODrC0tFT6bP/+/fjrr79gbGyMzMxMvPXWW+jVqxfu3r0LPp+Pe/fuYeLEiRCL5ZPh8+fPo3fv3jh16hQ4HA48PDwQFxeHxYsXY+7cuSp1//jjj9i9ezeEQiHy8vKwbt06bNmyBQDwzjvvAJC7gpaUlAAALl26hLy8PNA0rWQUJCijKYumWCxCXMJDhAd3VboeHtwV9+LuqL3nftxdFfnOId3wMD4GEon8e7//6A4615HpEtJNbZn6HvOvJK9cZcJEcyjYulgi43Gu0vWMxzmw91B/9NfewxoZj3NU5G1dLRWJGeQyymWmP8qBg6dqmRSFer2B2E5NhfoFNRv6rKhKote7+6V5ZSoJKWgODTt3a6Q+zFK6nvYwG44+tmrLcfS2RVqdxDKpMVmw87RWGBcdfWyRplJmFpx8VI8T0zSFkrxylev6Qll+hdqFH82l4eRnj8RbyrugCbdS4Npa1XsEAFxaOyHhVoqKvJO/vcZjxfUhFUvloR/0FIlIorLHIhKLcD/2Hnp0UfbW6dG5J27dvfVS5e45tBsR4RFwdVY+iv7j72tgbWWDiaMmvbAMaY3+HvWTSCVNFu+vg0dbXHis7F1x/tE1tHcLApfmPJN5dK2OzFV09GyntsyUAvWecPqATKa+X4hEItyNvovefXspXe/dtxduXLup9p6aGhEERgKlawKhALdvRSvm2yeOnkCHTh2wZOFHCPQKQveOPfDj92vVxnCTMvrbZwH12V9FIhHu3LuD3r36KF3v3bMPrt+6obGsHbt3ICklCR998JHaz4+dOIZOHTrhg4/eR6vWvujSozN+WLtaY2w8fd5k0XS0ViQSITo6Gn379lW63rdvX1y7pv64ukhNnxUKhbh165aizzaFboYMI5OgpjQFxrbKntHGtkGoLlYfI1lg6QtJdREq8u7JQw/UlKA8+xaM7dSPsbpCJBIhKioKAwYMULo+YMAAXLmi/qj+1atXVeQHDhyo1Kc0yWgqk/BqNOZ7rEt0dDSuXLmCnj3VhxZhGAZnzpzBo0eP0KNHj1fWuTnQuvEvJSVFEeOPoij07t1b6XNzc3PExMQgOzsb0dHRSEtLUxjK9uzZo1IewzC4fv067t+/j1u3bqmU9eTJE4V1ViqVgsfjISEhAQcOHAAApKWlISEhAQDw6aefQiKRwMPDA4mJiXj8+DHmz58PANi8eTMSE5WDkLu6uiIxMRHx8fFwdpYfdzxz5gwAYMyYMbCzs0NVVRV2794NAApX3z59+sDVVX0cKQI0Zp4sLi2GVCaFtaWy8cjG0gYFReoXBAXF+bCpI29taQOpVILi0mKFTN0yrTWUybAkK2ZjUbcDLTAxAs2hUVUnu3JVeQ2EZkZqyxGaCVSOZleV1YDm0BCY8J/J1C2zTEOZFKXX8Wc0TaDZ0GcB/Z6IqvOoFJg+7bN1jopXlVbB2Fz9UXVjCwGqSqvqyFeDw6EhMJX3SWNzgcrx88rSahibKy8KapFq8PbUBzTFKzS2EILm0PJstc9RUVQFU2sTtfeYWhmreJhWFFWCw+XA2EJ92zVWP32AkTEq3uuFRYWQSqWws1Y2TtvZ2CEvX3mTRB05eTk4d/mcioHvZvQN7Dm0B99/8nLHXfV5I6BG0nSbb3ZmNsgrU/Z8zSsrBI/DhbWJ5TOZcmXv3rzyQtiZqd8UqxHr7+agpiO/BQVP+6298gaInb0dcnPV99s+/Xrjr207cCf6LhiGQfTtO9i1fRfEYjEKCuTtmZyUgv8O/R9kMil2/7Mbi5YsxK8//4Y13/2oWqAe91lA/W+uoLBAfhrIzl7pur2dHXJz1WeOTkhMwMovPsMfv24Cl6veAyo5JRmH/+8wpFIp9u/ajw8WfoBfNvyC1WtXq5VnW3bnhqBJ9/z8fHnbOii3rYO9A3Jy1Ldtv379sHXrVty+fRsMwyAqKgrbt2+HWCxGfj67EgyxFamoDGBk4PDNla5z+BaQ1pSovUdo5QvH9m8h+84GJJycg+Rzi8DhGcMu8MUbWdqktk85ODgoXXdwcEB2tvowJdnZ2WrlJRKJok9pktFUJuHVaMz3WIurqyuMjIzQoUMHzJs3D7NmzVL6vKSkBKampuDz+Rg6dCh+/vln9O/fv8mfoSnQuvGPz+cjPDxc8RcYGKj0OYfDwY4dO+Dn5wcjIyNQFIUdO3YAADIzVWNk9e7dGyEhIYp7n6d79+6wtLRUSjIyYMAAGBkZwdvbW3Gt9mVw86Z8F3PIkCEKL8JJk+QDUO3L4HmGDx8OCwsLCAQCeHl5KZXF5/MxY8YMAMCff/4JhmEUQTynTZv2Mk3Vgql/MkLVCVrHMIzKtTo3qC+fel6kbpmq116sGftpyoWfSlEvkemWojTP4/V5UfoidNlnaz/TV+rTXeUjilJ3VXNZtc31/HWmrgilsUR97rMvUr3us8l/u/V9Geo/a2wT6bPBuj4aPBY8Zf+/+2BuZo6BfQYprpVXlOO9Zf/Dd598D2ur+hM0PauvYfqyiab+vakMB5TqdZXfASiNehhynC+1/VbDS//9Dxeh34C+GNR7MBwtnTFl/FRMmCw/qs6h5csOGSODrZ0t1vz8A4JD2uP1saOwcPECtUeJ9bjLvpC6bahpPJBKpZj19kwsXbIUvj6qiapqkclksLO1w08/rENw+xCMHjUG7y/4QPNRYgNu3IaMtUuXLsWAAQPQs1dPmJmbYey4sQrHk7prS0JDYdTMaeWIyjORF7sL1r7D4dZ1BZzCFkJcmY/cGHYmS2jo+1udfN3rjZ0TEBpPY9r80qVLuHXrFjZs2IC1a9cqHLtqMTMzw507d3Dz5k18+eWXWLRoEc6fP9/UqjcJWj887+TkpOR2XXvUtpZvvvkGX3/9NQDAw8MDjo6OSE9PR0ZGhtoYCo6OmoOumpvLdx+e3yGrvfb8l6y6yHm5H93zx4xr63i+rLlz5+L777/HzZs3sWnTJmRkZMDU1BSvv66aUY7wDIpWb5O2NLcEh+aoeDcVlhSqeEHVYmNpqypfXAgOhwtLM0uNMkUlBWrLpGn9HpC5PNVJTHVFDWRSmYpHntDUSMVzr5aqsmoYq5GXSWWKo9FVZdUqZQpMjVCtLpkLo143fUFdTDqAHX22Pv30AS5fTZ8tl/fZuh55QjNVz71aKkuqYWwhVJGXSmWorpD3ycrSahVPNaG5kYqHoUI3Pe6z6toVACpLqiCTylS8/IwthSregLWUF1XCpE6iFRMrY0glUo1t90L9jHQX2+dVUTeHsLayBofDQW5BntL1/MJ82NrUn6WaYRjsObQHo4eOAZ/3LNZUSloy0jLTMH3+sw3F2nmSR5gbLhy6BE83T2Xd9PgdZsRT74neGPLKCmBfx4PP1tQaYqkERRXF9chYIb9cfaxPQRPqp200GfJsbJ722xxlL7/8vHwVb8BahEIh1v32E35Ytxp5uXlwcHTAtj+3w9TMFDa28vZ0cHAAj8dVMqz4+fshNycXIpEIfP6zfq73C2E1e1I21jbgcDjIyVP2RMvLz4ddHW9AACgrL0P0nWjcu38Pi5cuBiD/rTMMAxtna/yz9yB6RvSEg4MjeFzldvVv5Y+c3ByVdgX0u2019VlbW1t522Yrt21uXi7s7VXbFpD32d9//x2//PILcnJy4OTkhM2bN8PMzAy2tupDiRCU4fDNAIqGVFSqdF0qKlXxBqylKPEIBJa+sPKSb2oZmbmB5hoh4/o3sGk1ClyBZXOr/VLU9qm63mG5ubkqXmS1ODo6qpXncrmwsbGpV0ZTmYRXozHfYy21Tl5t27ZFTk4OPvvsM0yc+Cz+L03T8PWVb8wEBwcjNjYWX3/9NXr16tW0D9EEsC7mX61h0M/PD8nJybhy5Qrat2+vUb4pX1wdO3YEABw5cgTFxcUAoLDsUhSFsLCwBpXn6emJQYPkA9rChQsByI8DGxurz0ZJkMMXql/08Xh8BPgE4fpd5XP5N+5cQbuAYLX3tA1ojxt3lOWv37mCIN/W4HJ5chn/YFy/e1VJ5pqGMvlC3ks+BTsxtTJW8dCTSRnkZxTDpZXypMjZzx65KeoTAuSmFMLZT1nexc8e+enFCo+d3JRClTJd/OyRk6xaJsMwMLFQf1xTH+AL1PcLNvRZLp+j1xN8U0uhivFSJpUhL7UQbkHKmz9ugY7ITlB/RCc7MR9ugcry7kFOyEsuVIQayE7Ih1ugclw7tyAnZCUoG2wAuWeaiZX+juWmVsZqN+NlEhmyHufCO8xd6bp3mDvSY7JUbwCQEZOlKt/BHVmPchsVU4rmUBozjesDHDVGYT6Pj7aB7XDp6kWl65euX0SH9h3qLe/qratITkvChFHKiSZ8vHxx+sBZnNh7SvE3oOcAdO3YDSf2noKzo7NKWRwe66Z9Lw2X5sBCqD7jdEO5lXIfPfyUEyb09AvH3bSHkDyNfyeXUc6e3NO/M24mq2ZVBwBHC/WGBX2A1rDpyufz0T6kPc6fvaB0/fzZC+jUuWO9ZfJ4PDi7OIPD4eDggUMYMGiAop7wLp2QlJistKmf8CQBDo4OKgYqmtLfPguob1s+n4/gdsE4f0E5Qc35i+cQriaRh7mZOa6cv4pLZyIVfzOmzUAr31a4dCYSHULlY0jnjuFITE5Satf4hHg4OjiqtCsAUHq8MahpXsPn8xESEoKzZ88qXT979iw6d+5cb5k8Hg+urq7gcDjYf2A/Bg8erPG30RjdDBmK5sLI3AOV+TFK1yvzH0Jgqd5bVSYVgVL5fas7kqFb+Hw+wsLCcOrUKaXrp06dQteuXdXe06VLFxX5kydPokOHDuDxePXKaCqT8Go05ntUB8MwqKlR7xzTEBldwbo3art28iCfjx8/hpeXF9zd3TUGaG1qVq5cCS6Xi5SUFHh7e8PPz0+RcWfmzJlKR4VflrfffhuAPIsxQI78vgz1xYiaNGIaDp/6G/+e/gdJaQlYs+kbZOdnYfSg8QCAX7b/iE9/XKqQf33QeGTlZeHHzd8iKS0B/57+B4dP/43JI99UyEwYNhnXo69g29+bkJyeiG1/b8KNu9cwcdhU5copwMRKfxekAGDraqV2UvLgYjz8OnmiVUcPWNibIXxYW5haGiPuahIAoMPgIPSY8Mz4HXs1CaZWxggf1hYW9mZo1dEDfh09cf/CE4VMTGQCXPzs0a5XK1jYmaJdr1ZwaWWPmEsJGnSzbNqH1SJ8Yx5orvrhVKd9FvrfZ+08rNXGAb1zKg5B3X0Q2M0bVo7m6DYuFGbWxoh52gc7j2qPvtO7KOQfXHgCMxsTdBsbCitHcwR280Zgd29En4pVyNw78whuQY4IGRgIS0dzhAwMhGugI+6deaRSP8PIk9roKzwBD9auVmo/u7b/NkKGtEb7QUGwdbdC/3d6wMLBDFH/3QcA9JnVFSM+ehYwOeq/+7BwMEf/tyNg626F9oOCEDK4Na7uu62Qobk0HHxs4eBjCw6XhpmtKRx8bGHlbKFSv627Nbh8/fX84xmr3wyYPWU2dh/chT2HduNJ4hN89v2nyMjKwJQx8t/t1+u+wvzl76nct+fQboS0DUWAb4DSdYGRAAG+AUp/5mYWMDU2QYBvgJKXYC36vIFFURSC3Vqr9fgx5gvR2tkPrZ39AADu1s5o7ewHF0v5bv7Hg+dh3YTPFPLbr/4DVysnfDZsAVrZe2JCx2GY2GkENlzYoZDZdGkPevqFY17vqfC188C83lMR0aoT/rikfNwHAMyFZoq69BEurfn39va7c7Fj207s3L4Lj+MeY9mHK5CRno43Z8rns59/+gXeeWueQj7+SQL27dmPhPhE3L51G7OmzUZcbByWf/axQmb6rDdRWFiIjxcvQ/yTBJw8fgprV6/FzNkzVOrn0frbZwH1mwEAMG/uPGzfuR1/7foLjx4/wtIVS5Geno7p0+RtsPKLzzDn3TkA5AbEoMAgpT9bWzsYGQkQFBgEExO5p/aMN2eiqLAQHy77EPEJ8Thx6gTW/PQDZk2fpVYHDld/vdfr82J+7733sGXrFmzbtk2euHHJYqSlpSnidK34ZAVmzpqpkH/y5Al2796N+Ph43Lx5E1OmTsHDhw+xauUqhYxIJMLdu3dx9+5diEQiZGZm4u7du4q48c/TGIOhIWDpOQCl6ZdQmn7p6ZHePZBUF8LCXZ4cIf/R38i5t0khb2LXHuU5t1GSeg7iyjxUFT1BfuxuGFl4gSuQz0/kiURSUVOaCoaRQFJdhJrSVIgq1MdvbC4WLVqETZs24c8//0RsbCwWLlyI1NRURULQpUuXYurUZ3PwuXPnIiUlBYsWLUJsbCz+/PNPbN68GR988IFCZv78+Th58iS+/fZbxMXF4dtvv8Xp06exYMECrT5bS6Kh3+P69evx33//4cmTJ3jy5Am2bNmC1atXKyVu/frrr3Hq1CkkJiYiLi4Oa9aswfbt21mb3JV1s+uPP/4Y6enp+Pfff1FaWorp06dDKBTiiy++aPa6e/XqhbNnz+Lzzz/HtWvXkJycjICAAMyYMQOLFi1qVJlDhgyBp6cnkpOT4eHhoTE7DOEZHC4HRsY81FSqZtgaEDEYJWXF2LT3N+QX5sHHoxXWfrIBTvZyD4f8ojxk5z/zTnFxcMXaT37Dj5u/xf6ju2FnbY8PZn2MPl2fLVzbB4bgyw++x287f8aGXT/D1dEdXy1ejTb+dbJNMfUbJvUBWzdLtbG0ku5mQGDMR0g/fxibC1CUXYqTm6+gvFgexF9oLoDpc5445UWVOLn5CsKHtUNgVy9Ullbj2uG7SL7/LC5nbkohzu28ibBBQQgdGISyggqc3XETeWlFKvVz+RyY2ahPJqAPUBQFE0sByvJVj0XqtM9S0GsPKgAaM07H30qFwMQIHYa2gYmFEAWZJfjv5/Moe5ol1thCCLPnjqKWFVTg/34+j+7jQtG2VytUlFTh0p4oJN5OU8hkJ+bj5B+XET6yHcJHtENJXjlOboxETpJ6D1hbN/XGM33BNcgRRZnFKsbVh+efQGguRI+p4TC1NkZecgF2Lz2MkpwyAICptQnM7Z95YBVnl2L30sMYMK8HOoxoh7KCChz/5QLiLj3L8GdmY4LZf7yh+HfX8WHoOj4MyXfS8deivxXXaQ4Nl0DN4Tz0AU0GtuEDR6CouAhrf/8Rufm58Pf1x/Zfdiiy9+bm5SIjK0PpntKyUhw9cwQrF3/eJLppMkzqCyHuQbgcf1PhnVdLe7dA/PP274p/rxwhn7Ptvfl/WLB3JezNbeFi9axfpRVmYvKmBVg5fCHe7DYWOaV5WHF4NY7cf+aJdSvlHubuXIaPBr2NJQPnIqUgHXP/+hjRqcqeLRQoBLsF6bW3D01pNgKNGjMSRYWFWP3ND8jJzkFAUAB2/70bbu5uAICc7Bykpz3rtzKpFL+t+w3xTxLA5XHRvUc3HD19BO4ez7yDXVxdcODwPiz/6BP07NwLTs6OmP3ObLy36H8q9XPqMUzqA1weB+Jq1fns6yNHo7CoEN+t+Q45OdkIDAjEvl374e4mb6fs3BykZzQsg7Sriyv+2XsQH3+yFN16d4WToxPmvjUXC/63UEWW5tB63WcpilJ7pBoAxo4Zi8KCQnz19VfIzs5G66DWOHTwEDzcPQDIEy2kpT1790ulUvz00094/OQxeDweevTogXNnz8HDw0Mhk5WVhc5dnnkOrl27FmvXrkVERAROnjiprJseh1d4FcycOkEmLkdh/H+Q1JTAyMwFzmHzwRPKj05La4ohrnoWNsHctTtk0hqUpJ5Fftw+0DwhhNaBsPUfo5CRVBcj7cpKxb+Lk0+gOPkEBFb+cA1forVnGz9+PAoKCrBq1SpkZWWhTZs2OHr0qKKPZGVlITU1VSHv5eWFo0ePYuHChVi/fj2cnZ2xbt06jB49WiHTtWtX7NmzB8uXL8eKFSvg4+ODvXv3Ijw8XKV+QtPQ0O9RJpNh6dKlSEpKApfLhY+PD7755hvMmTNHIVNRUYF33nkH6enpEAqFCAgIwI4dOzB+/HitP9/LQDH6HLFcTxg0aBBOnDiBFStWYNWqVS++gYDE2xkozChhk9c3ACCop7deGwCrymuwa+VRXauhDAU4etli6NsRutbklUh/mIPshALW9VnfcDdYOjTNUTldIJPKsPF/+yCVsCuYvpmNCaZ+PULXarwSNw/dxfGfz7Orz1LAkPm9ETa83YtlWUz2wxxIxezqsxQFOLV11OsF//EHFzB96wcvFtQiHJqDd3tPw0eD39a1Kq9ESVURJDL2Zdm2MrbR66O/UrEU5UUVulZDBZ6AB2Nz/d4cFIlEjQot0dzwjfjN6v13+/ZthIWFISoqCuOX3Wm2evSNJ8dUPYcJ7GPzoxNaq2um/0Ct1aUv6O/bVA/48ssvMXDgQJw4cQLGxsaYN2/ei28iAACsXczZtSAFYGTCh9BcfwN6A/KkHI7etpoSb+kGBvANddO1Fq+MtYsF6/osh0fD3FZ/PSoBuXeCbwd3Vu2kUxQF/y5eulbjlQmI8GWdIYimKQREaM5mqS8IWXjcXmgpZN333VB6+IXD1IhdY5pUJsXI4P66VuOVMeKyb2OTS/P02vAHyEMesOn9VQvPSL+9gAF2ZuKlKErvx1kCgWC46PcbleWcOnUKp06dgq+vL/bt20ey9zQAC3tT8ATsOurh4G1tEC/0oG7eYJO/L5fPgXeIq67VeGWMLQQwsWTR4okC7DysQHP0f5hv08tP7XF13cGgtQEYqMxsTBAQ4cOabNA0h0Jgz1Z6nUilFhMb9j2DiZ5vBACAMV+AN8JHgEOzY9FPUzQ6erZHgJP+jwdGXPZtbgp57DOiNxSKomBkrBp/U5dQNKUx47s+wcbYehyufidZIxAIhg37Rk0D4vz585DJZHjy5AmGDh2qa3X0CoqiYO/FnmD6FE3B2lU1ML0+4tHaCQJTdkzyKZqCfydP8PQ4uP/z2Hurj0+nExi58c8QcPCygY2rpUqmal1A0RQ827vKM2cbAB1HtlebUEUXyKQMOo5sr2s1mgQunwuBGTvGWQDgCbng63m8v1qmdhkNaZ2Yf7pCxsgws/s4XavRJFAUzSrvP4qiwOOwy2jWWPgCdj2HkTHfIAxUFEWBy2XX/JGN3ogEAoFQCzH+EViLrbslOBoyqGobey8rcDVkbNM3aA6Ndr1a6VoNAPKJW1C3hmfRZitWTmbgC1kwEaUAK2dzGJmwa8HRWCiKQtiQ1qw4Vs3IGIQOCtK1Gk2GezsXOPnZg9bxsTSaQ8El0BGurZ10qkdTYmpvqmsVFJixSJdXxdvOHYPb9NK59x9N0XCzcsLgNr11qkdTwiZPOyHP2CAMVIB804g1mbYpgMcyY+SrwKaMxcTrj0AgsB12WFYIBDXwjLhwb6f7hSBfyIOzv72u1WhSWnf3gY2Lpc7j0HQYHARzW8NZlNIcGp4hLrpWAxwuDfe2+p0xtS6+Ye7wbOei0z5LUUD7vv5w9LbVmQ5NDUVRGPHRAOg6EChFURj+4QCDWjgZmfJhzILjvwILIwj0OFGVOr5+/UMIeQJQOnQHZhgZfp60CnwuS4w6TQCH5sKYp/vj4RyaCwGXPYbIpkBgItD5nAsAhGZCnW/2NCUURYHH0/1vkI1eiAQCgVAXYvwjsBprF3NYOJjq9LifV6gzazwQmwqaQ6PXxDCdrfcpmoKdm5VBxE2ri7mtCey9dHvc1qOdE3hGhjUJpSgKvaZ00tlzURQFU2sThBvIsdTnsfO0Qa8ZXXSqQ+9Z3WDrbhjH1J/HwskMHJ7u3h8UTcHSxcKgjKoA4GBui29GfwhGR+7ANEVhVsREhHsF66T+5kTAE4JD6/b9YWZkZnB9lqIpnWfX5fK54At0byhramgOrfP4fzwez+D6LIFAMDwMy6JBMDgoioJne2f5kVsdvFMdfGxgZqP7XfDmwNLBHB2HttF6vRQl90zrMSHMoHafn8cl0AFGJjyd9FkrZ3NYOZtrv2ItYGIhRO8p4bqpnAL6z+xqcEbVWrqMC4Vrayete6ZQNAW3Ns4IHx2s1Xq1Bc2hYeVuqbP6rdwswDGQkBV1eT1kEIa27QNaywtuDs2Bp60bPhr8jlbr1RYURcHUyExn9RvzTXVufGwuuHyuzo7/UhQFoblheQDXQlEUeHzdGTU5XI5BJFcjEAiGD8UwbMr7SSCop6q0GrGRyZBJZVqL+2XtYg6vUBeD3sljGAY3jzzA/Qvx2qmQkmdnGzy7m0EdnVSHqEqM2EtJENdItNZnzWyN0Src3eAnoXfPxCFy723tVUgBg2Z3h0+Yu/bq1AFVZdXY+t5+FKQVaSW7MkVTsPWwxps/jWVNEqLmorK4CkUpxVqt08LFHKYGkOG3PqrFNZj4x3u4kXQHMkbW7PVxaA7szWxw5L0tcLIwrHAgdRFLRSitLtFqnQKeECZ8wwkFog6GYVBZWgVJjUR7lVKAqZUJq+LjNQcymQyiGpFW66RpGjy+dr3+bt++jbCwMERFRSE0NFRr9RIIBP3HsFeIBINBaC5AQDdP+cRFC+9XG1cLeIUYtuEPkO+WdhzaBm17Nn8CELnHHweD3upq8IY/QB4rMqCbp/yIjRa6kbmdCXw7Gb7hDwDa9w1A93HNP+GlKLmBamALMPwBgNBMgKk/joa9p02zewBSNAUHH1tMXTPa4A1/AGBsKdSqB2BLMPwBgIBnhJ0z16KrT1izewByaA5cLB1weN4mgzf8AQCPw4e5wEJr9Ql5QlbEG2xuKEp+/FdbXuQURbUIwx8gN8TxjbSXzITmaN/wRyAQCK+C4a8SCQaDsYUAgRGeEJo107EFSv7n7G8HzxBnVgRm1gZyA2BrdBnZHjSHbp7npgBTaxO89k4POPnYNX35LMXIhI+ACE+YNXPQf3svK/iGuxtcbMr6aN8vAANmdwNPwG2WPktRFIRmAgxf0Bu+LcDwV4uJpTGm/TQGgT2exuNs6qZ9Wl5Qz1aY+uMYGFsYVlD/+jC2EsLG2xp0M/5OKZqCtYdlizD81WJsJMSOWWsxpfNoAPIsvM1BN58w/N///oSbte4TkWkLHocPC4Fls7VpLSZ8UxjzTVuMEUV+BFcII+PmNVTRXBomLcTwV0utAbC5+xKXyyVx/ggEgt5Bjv0S9A5GxiA7oQAZcblPLzRNuQJTPrzDXFrUYrQupfnluLAnCrkphU1SHkVRYMCgbY9WCB0YKI/d2AJhGAb5qcVIe5ANmYxpsj7LE3LhFeIC8xa00K9LRXEVzv11HSn3M+WGpVdsW4oCGAYI6OqN7uNCm31xxmZiLz7B//1wBjUVoiY5BkzRFASmRnjt/b4IMMBkPy+LTCpDcUYpqoqqmrRcgbkRLF0NN8bfyxD55Cbe2/MZckrzm+QYMIfmwIjLx+cj3sfETsNb7EKfYRhUiipQLWnaPsuluTA1MgeHbrl9ViqWorK0Sh7WpgkRmBiBb9z8RjC2wjAMpBIpJJKmPV5dG19QlwlGyLFfAoHQWIjxj6C3VJVWIyMuD8XZZY0r4KmhgGvEgYO3DRx8bAw2AUVDYGQM4q4l4d75JygvqgRFUw1e+Nfe49zKDmEDg2DvYd1M2uoXNZViZMTloiijBK8y8nK4NOy8rOHUyrZFeftpgmEYPLmZgltHYlCUVfJKfdbB2xadhrWBe2vnZtJWv6gsqcKFrddw5/hDeYyqhhpYn8rzjLgIHtwaPaaFt+gNluepLq1GaU45xJXiVyqHK+DCzN4UQktBi13oP09FTSXWnvkT264cQFl1BWiKgqyBAy5FUeDSHIwKHoglg+fCxdKxmbTVL8RSMSpFFZDIXq3P0hQNIc8YRlzSZwH5O6ymUgRRpQivuizj8rkQmBq1KG+/+pDJZJCIJZDJXt24yuVyweFydN5nifGPQCA0FmL8I+g9oiox8lKKkJdcBIlIKr+oboFa55qpjTEcvK1h6WDWYo74NgRGxiDjSS4eXklEemy2wlilzrDy/DWegAv/Tp4I7OIFc1vDDtzdWMQ1EhSkFSM3qRCiqqe70i9hVDG2FMDByxpWzuYtIrZfQ2EYBtmJ+bh/9jESbqcpPClompJ7XD4HzaEgk8qvcXkc+Hf1QpuerWDraqV1vfWBmkoR7p+Kw42Dd1CQWgRA/rsHA6XFau1YWjse2HpYo9Oo9mjTL6BFe1HWh6hKjIr8SlQVVb78pgAFCC0EMLE1Ad+YHD1TR5W4Gv/dPYPNkXtxLz0WwLMjwc97BVKgQNM0pDL5/MHVyhEzuo3D+I7DYG1iqXW99QGpTIJqcTVqJNVgGrAbwOPwIeAJwaNJn1UHwzCQ1EhQUyWCVCx96fsoigJfyANfyCdzAw0wDAOJRAKp5OXbFZC/07hcLmiaZk2fJcY/AoHQWIjxj2AwMAwDUaUYFSXVqCyuQlVZDWRSGRgZIw/Ka8SFsYUAxpYCGFsIyK5oA5CIpSjMLEF+ejHyM4pQWVoNqUgqnxTxObCwM4OtqyVsXS1hbmNKjKkvCcMwEFdLUFFcjcqSKlSV1kAqkYGRyUBzaHD5HAjNBTCxFMDYQggun/TZl0UqkaIwowS5qYXITS5EeVEFxDUS0BQFrhEX5namsHe3hp2HNawciTG1IVQUVSLrcS6yHuciJyEP1RUiSEQSuceJCR8OvnZw8rOHk589TCybN96lIcEwDCTVEoiqxBBXiiERSZ8aURlQNA0OnwO+kAeekNdssS4NleLKUtzPiMO99Dg8yHiEosoSVItrwOfyYWpkjEAnX7RzDUA710A4mtuxZpHPdhiGgYyRQiKTQCKVQCqTKEyBFACa5oBLc8GhueDSXNKuDYCRyY+tSiVSSMUyJc81iqLA4dLgcDng8DigaIq07UvCMIziTyaTrxGeN2BTlHwzgKZo1rYrMf4RCITGQox/BAKBQCAQCAQCgUAgsBxi/CMQCI2FuDoQCAQCgUAgEAgEAoFAIBAIBgox/hEIBAKBQCAQCAQCgUAgEAgGCjH+EQgEAoFAIBAIBAKBQCAQCAZKg41/WVlZuH//vsbPq6qqcPv2bZSXl2uUefjwIdLT00kdpA5SB6mD1EHqIHWQOkgdpA5SB6mD1EHqIHWQOkgdpA5SRyPreCmYBvLpp58yLi4uGj9/8OABA4C5cuWKRpmgoCBm4cKFpA5SB6mD1EHqIHWQOkgdpA5SB6mD1EHqIHWQOl6ijqioKAYAExUVpdfPQeogdZA6mraOl6HBxr/MzEzm3r17Gj+vrKxkoqKimLKyMo0yMTExTFpaGqmD1EHqIHWQOkgdpA5SB6mD1EHqIHWQOkgdpI6XqEOd8U8fn4PUQeogdTRtHS8DxTAM82q+gwQCgUAgEAgEAoFAIBCak9u3byMsLAxRUVEIDQ3VtToEAkGPIAk/CAQCgUAgEAgEAoFAIBAIBAOFq2sFCISmhJEfZYdMJpP/P545tlIUBZqiQdM0KIrSoZb6ibhGgrKCCpQVVEJUJYZMyoCiAJpDw9hCADMbY5hYCkFzyJ5CQ2AYBpIaCUSVYkiqJJDJGIBhQNEUKA4FvpAHnjEfHB7ptw2FYRjIGJliPHgemqJB0fIxgbRrw1CMs4wMjKzOOAtKMcbW/hFenprKGqTEpCMxOhm5qfkQV4vBMAx4Ah5sXazhHewJz7buEJoJdK2qXsEwDGQSGSQ1EkhqJPJ+ywCg5HMDrhEHXCMuODwO6bMNRCKSIOtRDtJiMpGfUghxtXx+wDXiwtzOFG5tnOES5AQTS2Ndq6p3VJVVoyCjBIWZJaiuFEEmkYGiKXD5HFjYmcLGxRIWdqZk3tVApBIpcuLzkPYgAzkJeRBViyGTyMDlc2FqbQzX1s5wa+MCM1tTXatKIBAITQox/hH0HoZhIJVJIZFIVBb49cHhcMDlcEHTZNKkiaqyGmQ8ykVuUiFqKsXyi08XS/L1PgNQFBiZvN0pCjC1Noaznx3svazB5XF0pjubYRgG1SXVKM+vhKi8Bmq7LQU8Z1MBxaEgNBfA1M4EPGMeWaBqgGEYSKQSSKXSescDKaSK/6coClwOFxwOWfhronZTRSKVQCaT1S/8rGlB07RinCVtq57yonKc33UZ53deRsbjLDAMI9+s4tLPxgAKkEnlxlZQgKOXPSLGd0GfyRGwcrTUpfqspXZjpaq4CqJKseI9VS8UwBPwILQUgG/MJ31WAzUVNYj67x6u7YtCZlwOZFIZQAEcDv18l4VMxija3dLJHCFD26LrhI6wcbPSme5spyi7FI+uJyM1JgvVFSIAkG8GQmlKoGhXmkPD1tUSfuEe8GjtBA6XzLvUIa4R4+7xGFzefROp99IhFctfVDT32RqAwtN3nVTetma2pmg/qDW6TeoEp1YOulCbQCAQmhQS84+gtzAMA4lEAolU8krlUBQFHpdHFqfPUZhVitQH2SjKLFUxQr0sNJeGk68t3Ns4QmDCb3Id9RGZVIbyvAqU51VAJnmBAaUeeEIuTO1MYWwtJH32KTKZDGKJ+MWGqRfAoTngcsmmQC0Mw0AqlUIibdjmSl2IgVWVjEeZ+Pfn47h84DqkElXv1BdB0XLPyk6vhWLY/wbBJ8SzeRTVMxiGQU1ZDSqLqyAVSV98gwZoDg2BhQDGlkJQNOmzAFCUWYxzmy/j+oFoiKvFDZ4fUBz5ZmFARCv0ntkNrTp7NZuu+gTDMEh9mI2HkQnISy0CRVMvZ6x+CkUBDAPwhTz4d/JAYHcfCIzJvAsAygsrcO7Py7iy+waqSqsb3LY0h4ZMKoN3mAd6z+qONn0DdP4OIzH/CARCYyHGP4JeIpVKIRKLmrRMmqbB57XsnX6xSIL4G2nITihotNHveSgKoDg0WnVyg5OvbYtu2+qyGhSlFEEqfjXj1PPwTXiw9rAC16jlOnE31SZAXbhcLrgcbovuszKZDCKx6JWMfnWhKAp8Hr9FG1elEin++/kE9n9zCAzwShsBgHxxysgYvPbuQIz9aAT4Al7TKKqHSEVSlOaWQVLddOMBzaVh5mAGvrDltivDMLi2LwqHvjoOqVgq9/R7BWgOBZmUQfiYEAz/aFCLPsZeWVqNq4fuIuNRrsKI9ypQFAW+kIsuo4LhHuTYNErqKXePx2Dv8kOoKq8GI321hq01GrbtF4hxn4/Q6ZFgYvwjEAiNhRj/CHoFwzAQiUWv7N1THzweD1xOyzOmFGSUIDYyCeIaySsb/dRh5WSOwG6eMGphXoAymQwlGaWoyK9sngoowNLFAia2xi3OUNUcxqnnaamGquYyqD4Pl8MFl9vyjKsZjzLx89xNSL6f2uTjLEVRcPCyw/9+fws+oS3Lo4phGFSVVKOioKJZ3l8AILQQwMTGpMV5ARZllWD3RwcRfy2pycumaAqm1iaY9N3r8O/m0+Tls53EO+m4dvg+pBJpg7zRXsjTzVvPds4IH94WRsKWNe+qKKrEvk8O4+7xmCbZyH4emkODb8zDuM9HInRo26YruAEQ4x+BQGgsxPhH0BsYhkGNqKbZFvrP09K8fjIf5+HR1ZRmrYN6GkspZKA/jC1axi6/TCJDfkIBRLXxEpsRExtjWLpZtJg+2xzev5ow4hu1GAOgNjZYamlp3taPrj/B12PXyoPLv6LnlCZoDg2aQ2HRtnkIHdCuWepgGwzDoDyvHNWlNc1eF1fAhYWTeYtJsJCTkIdfp25BRVFVs/VZipa7u43/ciQ6jQ5pljrYBsMwuHf2Me6efdys9VAUBTNbEwyY0QXG5i1j3lWcXYr1UzajIK1QEbuvyXlqUBy6qB/6ze2p9XcYMf4RCITG0jJmLwS9h2EYVNdUa8XwB0Du9SJpPq8XNpHxqPkNf4D8KIu4Woyoo7GoLKlu9vp0jUwqQ158vlYMfwBQUVCJotRirf1GdIk2DX8AUCOq0YoxTNcwDAORSDuGP6D5PTfZxKMb8fhi1A+oqRI1mxEFkI87UrEMqyf/gqjjd5qtHrbAMAzKcrVj+AMASbUEJZklLWI8yEnIw7qJm1BRVNmsfbY28/Kejw/h2v6oZquHTdw5/ajZDX/A099HQQWOb7yMqnLt/EZ0SUluGX4a/zsK0oqaz/AHKDwJj6w5jRO/nGu+eggEAqGJIZ5/BNajTY+/uvC4PHC5hnsEODelCDHnE7RbKQXwBTx0HBZksDGUGIZB3pMCiCq0Z6CqxczBFBbO5lqvV1tIZVKIRNpvV8CwPQC16fFXF0P3AMx4lIll/b9ETZWoaY/21QcFcLkcrPh3Mfw7+WqnTh1Qnl+BquIqrdfLE/Jg4WxusH22NLcMP4zagIqiiuY1otSFAqb/MgFt+wVqr04tE3slETePxGi1ToqmYGFrisFvdwePb5hz2pqKGvzw+gbkpxQ0q7FaHWM+G4bub4RrrT7i+df8TL5wQdcqqLCjZ09dq9AknM082izl9nEe0izlGhqGuYohGBRisVhnniFNkT2UrdRUihB3uelj+LwQBhBVixF3NdlgPX7Kcsp1YvirrbumzDB3+Gs903SFIXupSWVSnY11MpkMUlnjs7KyGalEip/n/AFRtVh7hj8AYORegD+/tRHVFYY5HogqRTox/AGAuEqss7qbG4ZhsHf54acef9of73Z/eBBl+eVar1cbFOWU4taxh1qvl5ExKM4rQ/TJOK3XrS3+/e4E8pLztW74A4CDXxxBTkKe1uslEAiEhkKMfwRWI5VKdb4oNMQFP8MweHQl5ZWzTDZeAaAgrQS5SYW6qb8ZEVeJUZpVplMdClOKdDIBbm7EYu0codYEwzDNmgRDVzAMo/O21eUmT3Py77rjSL6fppPfo0zGoCCzCHs+/1vrdTc3MpkMZTm6NRBVFFRCIjK88eDW4buIvfBEN+8QBhBVibD/k/8MbjyQSWWI3BetOwUYIO5qEnKSCnSnQzPx+GoCLu+6od0NludgGGDH4gMGOe8iEAiGBTH+EVhL7TE0XWOIC/6cpEIUZJRA13PrR9dSIarSrdGhKWEYBoUpRbpWA1KxTOcGyKaGDRsBgDweqKF5A7NhnAXYo0dTkR6Xif3fHNapDoyMwfE/ziL2avPHF9MmFfkVrFhol+WUGZSRqjS3DP+sOiJPaKAjZFIGD87E4c7RB7pTohmIiUxAUXapzgxUgDzxWuT+aIMyWtdUirBz8d86zcItk8qQdj8D57dc0ZkOBAKB8DIQ4x+BtUilul/o1yKRSAxmgs8wDJKiM3StBgD5kbiMR7m6VqPJqC6tgbiKHZPq8rwKSMXs+Q29KmxKwMMmXV4VmUzGGmMmm3RpCg7/dEzXKgAAaA6Fv7//T9dqNBlSiUxrCT5ehKRGCrGWkjppg8id1+Ubcrqe7lDA8XXnDGbeJRFL8eBCvK7VAMMAFSVVSLqXqWtVmoxbh+6gJEe3RtVaTv12HpIaw5kfEAgEw4MY/wishI3edmzwOmoKirLLUF3OEg8bBsiIyzOYBX95XoWuVVCioqBS1yo0CTKZDDKGPX1EKpMazqKUZeMs2/RpLKUFZbhy8AYrvNNkUgYPLsQiKyFH16o0CdWl7MoWX1ViGLH/JCIJruy+xQojChggL7kACTdTdK1Jk5B8PxNithiFKHnSEUN4hzEMg4vbr+rUU/V5qkqrcee4YXmsEggEw4IY/wisRMbIWDcxMRRvn4y4XLApQaG4RoL81GJdq/HKSGokrEu0UZ5fwbrfUWNgo0GITZ7JjYVhGNY9h1RqGIbVC7sus8LwVwvNoXF663ldq/HKMAzDOmObqFJsEF7W907GopJFbUtzaFzeeV3XajQJcVcSWWOgAgMU55QhP71Y15q8MklRKfJEGyx5ZVA0hUt/XdO1GgQCgaARvTX+9erVCxRF4c0339S1KnrFm2++CYqi4OnpqWtV6oVtC1JAvujQdw81sUiC/LRincf6U4ICsuLzda3FK1NZxJ5FUy0ysQw1bPHybCRsNFAB7DRINhQ2titgGF7W53ZGssOD6ikyqQznd17We8OquEoMRgcZaF9ENcs2fhrDjX+idRo3rS4yqQz3Tsaiuly/27YkrwyFWaWsMVABciNVwu00Xavxytw8dAc0lz1LWUbGIOVuOvJSDC+pCoFAMAy0NmLWGuvqGp1qjVFUA12RgoKCEB4eDh8fnwbrUlvf1q1bG3yvNqltm169eulaFa1Tn5Ht999/R2BAIKwsrdC1a1dcjrysUfbK5Svo07sPXF1cYW1ljeD2wfh53c9KMn/++Sf69e0HZydnODs5Y+iQobh586Z6vVh09LAxlBdUapyAHj6zH5M+GIGBs7phzqdTcO+R5qx0BcX5+GLDckz9aDT6Tu+EX3b+oCKz8Os56PNmR5W/pWsWKAsyQGme/nuo1VRoNrJt27cVXV/rDN/O3hgyaRCu39bszZCTl4N3P56HnqMi4B7mis++/0RF5lHCI8z+4C10GRoOt1AXbNr5h8byRJX6b/zTREPGAgCoqanBp59+Cn8/f1haWKJ1UGts27ZNrez+ffthLDTGuLHjNOql731W03gWGRmJ0aNHw9vLG8ZCY/z7778vLOvSpUvo2rUrrCytEBQYhD/+UO2Thw4eQmhIKCwtLBEaEorDh9Unw9D3TZaqsmpkxmer/az/jF5Yd/trbM/4DV+dWYGAzq3qLSuwqx++OrMC2zN+w09RX6Pfmz1VZDoNC8XqK6vwV+ZvWH1lFToODVFbVkVJJXJT9HujRVyt2ej+584/0aF3GNxau6LfyL64dvNqvWVduX4Z/Ub2hVtrV3To3QFbd21Vkfnv+H/oPqgbXINc0H1QNxw5eURtWZJq/Y77xzAMUu+mazRYd53UEcvOLMC395Zj4d9z4BXmXm95Ph09sPDvOfj23nIsOz0fXSZ0UJFpNyAQS47Mw3f3V2DJkXlo2y9AVS8Zg4zYrMY9FEvITyvW+Jl/uAdGvd8Xb3w2BEPfiYC9h3W9ZTl42mDoOxF447MhGPV+H/h18lCRcW/thOHze+GNlUMwfH4vuAU5qsgwMgZ5qbpPTvaqJN5KgUyi/n3RbVInrDj7Pr5/8CneP/g2vDuottXz+HTyxPsH38b3Dz7F8rOL0HViRxWZdgOD8NGx97A65jN8dOw9tO0fqLas1LvpDX+YJuTXX3+Fl5cXBAIBwsLCcOnSpXrlL1y4gLCwMAgEAnh7e2PDhg0qMn///TeCgoJgZGSEoKAgHDx4sLnUJzSAhn7XtVy+fBlcLhfBwcFK17du3aqwkzz/V13NrnAbL0tD2ueff/5B//79YWdnB3Nzc3Tp0gUnTpxQkqm1Z9X9Gzp0aHM/SpPBnu2SBvLrr7/i2rVrWLFiha5VaRAikX4vxLVBfYvqA/sPYMniJVjy4RJcvXYV3bp2w8iRI5GWqn4H09jEGHPnzsXJUycRfScaH370IVauXInNmzcrZC5dvISx48bi2PFjOHf+HFzdXDF82HBkZKgmxdD3RWlZQaXaoyfnrp/E+l1r8Maw6di4agfa+gXjozXzkVOgfgErFotgaWaJycNmwMdN/eJ15f++w4G1xxR/m7/cA5rmoGfHviqyEpEUNXoeNF1coV7/f08cxsrVn+F/M9/DsV0n0CmkE6b+bzIystQnXRGJRbCxssH/Zr6HIL8gtTJV1VVwd3HHR+99DHtb+/r10vN21WSgauhYAACTJ0/G+XPn8duG33D33l1s3bYV/n7+KnKpKalYunQpunXrVq9uem/80zCeVVRUoG3btljz45qXKic5ORmjRo5Ct67dcPXaVSxeshgfvP8BDh08pJC5fu06pkyZgomTJuL6jeuYOGkipkyeghs3bry0XvpC8oNUtZssXUZ2xLQvJ+DgmqP4qPcqxF17jI/2zoeNi/oFv527LT7cM18u13sVDv14FG9+PRGdhoUqZFp18Mb8TXNwad9VfNhzJS7tu4r5m+fAN8xLbZlJd/U7hpqkRv14dujIQaz4cjkWvL0AZw6fRecOnTFh1gSkZ6pfhKekpWDSW5PQuUNnnDl8Fgveno9lX3yM/44/S4xyM/omZi94C2NHjsW5/85j7MixeGv+LETdiVIpjzXx3BpJUUaxRg+74MGtMXLpIJz+7SJ+GLkBSVEpmP3HZFg6WaiVt3a1xKyNk5EUlYIfRm7A6Q2XMGrZYLQb8MxQ4hHsiik/jkXU4XtYPeI3RB2+h6lrx8G9nYtSWRRNIT1Gv5NTFGSWqPWo9GzrjA5D2uD+hSf4v/UXkZNciL7TwmFiIVRbjqmVEH2mdUJOciH+b/1F3L8Qj45D28C9tZNCxtbNCj3GhyIxOh3//XwRidHp6DkhDLaulirlFeeWQarBcKYPiKrFyE1Sv5kRMqQNRi0bglO/ncfqEb8i8VYK5myaWk+ftcLsP6Yi8VYKVo/4Fad/u4DXlw9Fu4HP5mCewW6YtnY8bh26g++G/YJbh+7gzZ8mwKO9q1JZNJdGmg777N69e7FgwQIsW7YM0dHRiIiIwODBg5GamqpWPikpCUOGDEFERASio6Px8ccf47333sPff/+tkLl69SrGjx+PKVOm4O7du5gyZQrGjRuH69cN41i+vtLQ77qWkpISTJ06FX37qq7HAMDc3BxZWVlKfwKBoDkeoVlpaPtcvHgR/fv3x9GjRxEVFYXevXtj2LBhiI5+5gzzzz//KLXLgwcPwOFwMHbsWG091ivDOuPf895uv/zyCzw9PWFmZobXXnsN2dnPDBF1j/0mJycrefS99tprMDY2hpeXl8LQc/78eSUPw+nTp6t4Ix47dgw9e/aEmZkZhEIhIiIicO7cOSUd7927hy5dukAgEKB9+/a4dOmSou7PPvtMqS6KorB//3506tQJfD4fu3btQkpKCgYPHgw3NzcIhUIIhUK0adMGa9euVSwmPT09FR4pFy5cUJR1/vx5AEBmZiZmzJgBZ2dn8Pl8eHt74/PPP1eKS1dTU4M5c+bA3Nwc9vb2WLlypV4sVuvTcd26dZj25jRMnz4dAQEB+H7193B1dVXrZQIAwcHBGDd+HIKCguDh4YGJEyeiX79+uHL5ikJmy9YtmDNnDtq3bw9/f3/8+uuvkMlkirZ+Hn1flJYWqE9Isf/ELgzuMQJDe46Eh7MX3n3jfdhbO+DfswfUyjvaOePdNz7AgG5DYSI0VStjbmoBa0tbxV/Ug+sQ8AXo2amfWvkyDbrpA1KxVGN8rz92/oHxIydg4qhJaOXdCp8tXgVnB2f8dWC7Wnk3ZzesXLwKY14bCzNTc7Uywa2DsXzhCowYOAJ8Hr9e3UT1eCTqA5o8URo6Fpw8eRKRlyJx8NBB9OnTBx4eHujYsSM6d+msJCeVSjF9+nQsX7EcXl7qDSi16PN4UN8my8CBA/HZZ59h5MiRL1XWpj82wc3NDd+v/h4BAQGYPn06pk6birVr1ypkfvnlF/Tp2weLFy+Gv78/Fi9ejF69e2H9L+sbpJs+kHQ3Re1if+g7/XFuZyTO7biEzMdZ2L5sLwoyi9B/Ri+15fSf3hMFGYXYvmwvMh9n4dyOSzi3MxKvzRuokBkytz/un3+Iw2uPIfNJNg6vPYYHF+MweI7qOMvhcpB4J7mpHlMnaPL82/DnBkwa8wYmj5sCP18/fLH8S7g4umDrri1q5bft3gYXJxd8sfxL+Pn6YfK4KZg4ehJ+3fyrQmbj1t/Rs1tPzJ+7AK18WmH+3AWI6BKBjVt/VymPkTIaPZD0gbQYzd51Pad3xfW/o3H9wG3kJubj0FfHUZxdim5qPKMAoOuEjijOKsGhr44jNzEf1w/cxo1/otFrxrPNlB7TuuDxlUSc2XgJuYn5OLPxEp5cS0SPaV2UyqIoIO2Bvnv+Fal9jwV280Z8VCrib6WiJK8ct47GoKKkCn7h6j3U/Dp5oqK4CreOxqAkrxzxt1IRfzsVrbt7K2SCunohKyEfDy7GozS/HA8uxiMrIR+BXb1VymNkDIpzSpvuQbVMZly2xvlBrxndcP1AFK7tj0JOQh4OfnkUxdkl6D6pk1r5bhM7ojirGAe/PIqchDxc2x+F63/fRp+Z3RUyPd/siseXE3D694vITczH6d8v4vHVBPR8s6tSWTKJTKeef2vWrMHMmTMxa9YsBAYGYu3atXBzc8Nvv/2mVn7Dhg1wd3fH2rVrERgYiFmzZmHGjBlYvXq1Qmbt2rXo378/li5dioCAACxduhR9+/ZVescTtE9Dv+ta5syZg0mTJqFLly5qP6coCo6Ojkp/+khD22ft2rVYsmQJOnbsiFatWuGrr75Cq1at8N9/zzYFra2tldrl1KlTMDY2Jsa/puDKlStYvHgx+Hw+ysvLceTIEbz//vsvde/s2bMRExMDHo+H5ORkzJ49G3FxcTA3N0d4eLhCztvbG+Hh4QgJkR+R2bt3L4YOHYqLFy/CxsYGTk5OiIyMRP/+/RUGwKqqKgwZMgTXrl2DTCaDWCzGa6+9Vq8+kydPRlpaGnx8fEBRFPLy8nD8+HEAQGBgIMzNzRETE4OFCxfi11/lE8+QkBDY2toCAMzMzBAeHo7w8HCYm5sjPz8fnTt3xpYtW1BeXo7AwECkpaXhk08+wezZsxX1fvzxx9i4cSPKyspgZmaGtWvXKu3ksBVNnj4ikQjR0dEqOxV9+/bFtWsvF2D3zp07uHb9GrpHdNcoU1lZCbFYDCsrK5XP9HlBCsgzkdX1SBFLxHicHIcObcKVrndoE46Y+HtNVvexS/+id3h/CI3U7GpT+h0zSaLB60MkFuF+7D306Kx8VK9Hl564dfeWNlSDVMy+5DkNQd140Jix4MiRIwgNDcWPa36Ej7cP2rVth6UfLUVVlXKsxq+++gq2trYvFU9Wn9u1KXW/fv26ynfRr18/3L59G2KxWCHTr6+yQap/v/4vPXbrE7nJeaA5ytMrDo8Dr/YeuHcuRun6vXMx8OuoPnxJqw4+auW9gz3A4XLkMh29ce/cQ2WZszHw6+SrUp5MJtPrY78Mw6iN9ycSiXA35i56de+ldL1X9164eVt9CI9b0TdV5HtH9MbdB3cUffZW9C306t67jkwf3IxWX6ZUor+xKgvSCkFxVA3WHB4Hrq2d8DgyXun6o8sJ8AxxU1uWR7ArHl1OUJa/FA+3Ns6K+Gyewa54FKksE3dJtUyZlEFesv72WQAoK1Td2KQ5FGycLZAZn6d0PSs+D3buGjyB3ayQVUc+80kebFwsFZsNdu7WyHyiKmPnrjqfBYDyosqXfg62UZBWqPa6vM86I65On42LjIdnqPrj6p4h7qryl57ArY3Lsz4b4qZGJh6eIapl6irmn0gkQlRUFAYMGKB0fcCAAbhy5Yrae65evaoiP3DgQNy6dUsxFmqS0VQmoflpzHcNAFu2bEFCQgI+/fRTjTLl5eXw8PCAq6srXnvtNSXPN32hse3zPDKZDGVlZbC21hyOYfPmzZgwYQJMTExeSV9twlrjn1QqxdWrV/H48WOMGjUKAHDmzJmXunf48OFITExUnOuu9eIKDQ1VWmisWLEC165dU8Qt+Oijj8AwDGbMmIGkpCQkJCRg1KhRkEql+OQTedytXbt2KY6DHjx4EA8fPsSaNfUfjRo1ahTS09MRGxuLyZMnw9fXF0lJSUhLS8Pt27eRlZWFHj16AAD27NmjKLv2/Hit3teuXUNoaCjWr1+PtLQ0ODg4ICEhAXfv3sWBA3IPra1btyI+Ph4VFRVYv17uUTFhwgQkJCTg8ePHMDIyeqk21Cka1qT5+fmQSqVwsHdQum7vYI+cnJx6i/T18YWlhSW6d+uOOXPmYPr06RplV6xYAWdnZ/Tp06fBqrMddUc8SsqKIZNJYWWuPLhZmdugsKRpJjCxiTFISk/AkJ4j1X5OAZCyMIj7y6Jp97mwuBBSqRR2NrZK122tbZFXkKsN1eTob9OqpTFjQVJSEq5cuYKYhzHYs3cPvvv+Oxw8eBALFixQyFy9chXbtm7D+l9VvdHUwRhawzaSnJwc2DsoHz93sHeARCJBfn7+Mxl7ZRl7e83flz4bVkU1EpXfnLmNKThcDkpylT1tSvJKYemg/iiapb05SvLqyOeWgsvjwszG9KmMBUrySuqUWQJLe1WvYUbGQKzh2KxeoKFLFBY9HWdt7ZSu29naITdf/Tibm5+rVl4ikaCwqOCZjE0dGRs75OapL5NNCV4airhaojb2tomVMThcjopnfll+Oczs1Hv9m9maoiy/XFm+oAIcHgcmVsYKmfICZZnygnKYqymzvjiP+oC6eZeRMR80h1Y5al1VXgOhqfp5utDMCFV15KvLa0BzaAhM5CcABKZGKmVWl9dAaKa+TH0+9qupXyj6bN0+mF8Bc9v6+qxqH+fwODB9rs+WFdTt1+r7rKYN4eZGMTdyUJ4bOTg4KJ2ee57s7Gy18s+/vzXJaCqT0Pw05rt+8uQJPvroI+zcuRNcLletTEBAALZu3Yp///0Xu3fvhkAgQLdu3fDkyZMmf4bmpDHtU5cffvgBFRUVGDdOfezvGzdu4MGDB5g1a9Yr66tNtGb8a2hCj7Zt2yqCUAYFyWMu5Oa+3GJ58uTJoChKcR+AFxqH8vLykJycDECeAIKmadA0rTAM1sY1iImR78IbGxsrjHOaOkUt8+fPB4cj36XncDjg8Xj47rvv4OHhAR6PBw6Hg4sXLwKQH+d9EbUxkmoXUxRFKY5nMQyD69evIyEhATU18gnA66+/DgCws7MziOQhdfsSwzAv7F+nz5xG5OVIrPt5Hdb/sh779u5TK7fmhzXYv28/du/ZrZfxDV4Fte2qLkBgIzh28TC8XH0Q6N26Hin9XTi9iLrt+DJ9lvCUerpFQ8YCRib/bMuWLejYsSMGDRqEb779Bjv+2oGqqiqUlZVhxowZWP/reoXXNeHlUfdd1L3emLFbL2EYaOq4KkZNiqrX0KlOvu51ldspSmNGd03hCfSBFxnbG9q/NPVZtMQ++4K2rdsPqRf0W5XiKNXrqn1bvdFfn42qAOptWtWf9wv6loayni9H5XdC1XefPrftC3RXM3TW+7hq+rjKZTXfl9o+q+P5bFONhS3y/a1nvOz3IpVKMWnSJKxcuRJ+fn4ay+vcuTMmT56M9u3bIyIiAvv27YOfnx9+/vlnjfewmcb22927d+Ozzz7D3r17VTaua9m8eTPatGmDTp3UhxNgK+rNvs1ArTtkYaGym3ZBgXyH1dRUeefE0tJS8f+11umXfUnV3vu8VftF9z7/ube3N+zs7FRknk/W0ZABr+5Z+QULFmDTpk0AgFatWsHa2hoJCQkKK/WLqNXVzMxMycBZi7GxsdLzPK+rXrzoNTStra0tOBwOsnOULfZ5uXkaf5i11MZ1bNOmDXJzc/Hll19i3Hhlo+3aH9fi+++/x/8d+T+0bdu20eqzmbpH0QDAwswSNM1R8fIrLiuElUX9medehuqaapy7fhJvjpqjUYbRoJu+oC6+FwBYW1qDw+Egt0D5GE5BUQFsrVXHmGZDn+dnahYujRkLHB0d4ezsDAuLZ15WAQEBYBgGGRkZqKioQEpKCsaMHqP4vDamn5mpGe7euwtvb9W4SQT5TmpOtvIGW25eLrhcLmxsbJ7J1NmEy8vT/H3p86KCZ8RTMiABQGlBOaQSqYqXn4WtmYo3YC3FuaWwtK8jb2cGiViC8qdHCYtzS1RlbFU9BgF5m/KF9ccIZTOa+oS11dNxto5HXn5BvornXi32tvZq5blcLqwtrZ/J1PEczC/MV/EYfJF++gDPiKfWllJRVAmpRKriMWVqY4LyfPVxetV5BZpZm0AqlqKiuPKZjK2ZcpnWqt5XAMAT8hryKKyD5tKAWHluX1MpgkwqU/HIE5jwVbz7aqkqU/XgE5gaQSaVoaZSvj6pLq+B0FR541pgouoxWEtt+AB9hGekvl/U9tm6fdDUxkTFc68WdX3W1EZdn60jY22ivs/ytba8VkIxN6rj2ZSbm6viAVWLo6OjWvnn39+aZDSVSWh+Gvpdl5WV4datW4iOjsa7774LQD7HZRgGXC4XJ0+eVHvijaZpdOzYUe88/xrzW6hl7969mDlzJvbv349+/dTHqa+srMSePXuwatWqJtNZW2httV3rxVdWVoZNmzZBIpEgKipKEUuvffv22lIFQqE85lhFxbMB297eHh4e8iC7oaGhiIyMVBy13b59Oz7//HPw+Xy0adNGce/JkycBAPv2qfciq6XuhLD26PGAAQPw+PFjnD9/Hi4uLir3GRsbq+gJQGFh5nK52LNnj0LPU6dO4Z133sGoUaPg6+urOOJb672Yn5+PCxcuvKh5dI6mCTSfz0dISAjOnj2rdP3s2bPo3Lmz2nvUwTCMwiuylh/X/IhvvvkGhw8fRlhYWIN10xeEpkYqhiAelwc/zwBExShn7YqKuYHWvu1euc7zN05BJBajX9fBmoUYKI6t6CMcnvoJNJ/HR9vAdrh0/aLS9UvXLqJD+w7aUA00l9brfqtO98aMBZ27dEZWVhbKy59N/p88eQKapuHi4gJ/f3/cvHUT165fU/wNHToUPXv2xLXr1+Dq6qpSpqG1a2MJDw9X+S7OnDmD0NBQ8Hg8hcyZs8qhO06fOd2gsVtfsHGxAlPHw04qliLpbgra9lLesGvbKwiPbyrHPqvlya0EFfl2vVsj8U6KIr7ck5uJamSC8PiGcmwqQL7BYu2sPvaXvqBuo4XP56N96/a4cFl5fnPh8gV0DFWflKJDSEcV+fOR59G+TbCiz3YI6YALl8/XkTmHjiHqy6yNDaaPWDiaq/UKlYqlSI/Jgl835biUfl29kRytPrN6yp10+NVJMOHX3RdpDzIVSVGS76TDv5uyjH93H5UyKZqCtYtlQx+HVajL3iuTMijILIGzr7Ih2cnXDnmp6mPZ5aUVwamOvLOvHQoyihXekXmphXDyVfZcd25lh7zUIg266e8JF02Ze+V9NhP+3ZTjnvp380XybfVZPpOjU1XkA7r7Iu1BxrM+G50G/zq/g4DuvkiOVi3T0tnyZR+jSeHz+QgLC8OpU6eUrp86dQpdu3ZVe0+XLl1U5E+ePIkOHTooxkJNMprKJDQ/Df2uzc3Ncf/+fdy5c0fxN3fuXPj7++POnTtKORGeh2EY3LlzB05OTmo/ZyuN+S0Aco+/N998E7t27VKc8FTHvn37UFNTg8mTJzeZztpCazOVuXPnKgImvvXWW+Dz+ejQoQMqKipAURSWLl2qLVUQEBAAQB7jr1OnTvj4448ByAO9A8CBAwfg7OyMkJAQODo6wt/fHzt37gQATJo0SWGoGzZsGFq3bo2FCxc2qP527eQGlZMnT8Lf3x9ubm5IS1OdRNXqeevWLbRt2xadO3dGVVUV5s2bBxcXFxQVFcHf3x/BwcHw8fGBjY0Npk2bBkDuafn2228DkMcp9PX1hZ+fn4ohkY3QlOZu+d5772Hrlq3Ytm0b4uLisGTxEqSlpSnO23+y4hPMmvns7P2GDRtw5MgRxMfHIz4+Htu3b8dPa3/ChIkTFDJrfliDlStXyjNeebgjOzsb2dnZSkYChW60/k7uAcDM1ljt9bEDJ+HohcM4dvFfpGQmYf2uNcgpyMaw3qMBAH/s/wVfb1QODhuf8gjxKY9QVVOFkrIixKc8QnJGokrZxy79i+6hPWFhalm/bjb6Eyy1Lhw+R6P331tvvIU9B3djz6E9eJL4BJ+t/hQZ2RmYPHoKAOCbn7/GghXvKd0T8+gBYh49QEVlBQqKCxHz6AEeJz5WfC4SixQyIrEY2bnZiHn0AEmpSSr184313GtCw2+uoWPB+PHjYW1tjTmz5yA2NhaRkZFY9vEyTJ02FUKhEAKBAK1bt1b6s7S0hKmpKVq3bg0+X9U4rc/jQW0GeXWUl5fj7t27uHv3LgAgJTkFd+/eRVqq/D1Vt21nvTULqamp+HDJh4iLi8O2bduwbes2pXiK8+bNw5nTZ/DD6h/w6NEj/LD6B5w7ew7z3p3XIN30Aa/2npCpOap45NdT6DM5Ar0mdYOznxOmfjEeti7WOL3lPABgworX8c6vMxTyp7ZcgK2rDaZ8Pg7Ofk7oNakber/RHf+3/oRC5tjvp9GudxCGvzcIzq0cMfy9QWjTMxDHfj+tUr9UIoVPsGeTP6+2oCgKXIF6j5q5M+Zi5/4d2LV/Jx7HP8aKL5cjPSsd0ya+CQD4YvXnmLf4WV+bNnEa0jPTseKrFXgc/xi79u/ErgM78c7MdxQyb02bjfOR57Hu93V4kvAE635fh4tXLmL2m6pe7BRN6bXxz621s8bPLmy5gvAxoeg0OgT23rYYsXQQrJwscGWPPPHJ0EX9MPHbUQr5K3tuwsrZEsM/Ggh7b1t0Gh2C8NEhOP/nZYXMpe3X4NfNB33e6g57b1v0eas7/Lp44+K2q6q6tdGsmz5g52aldn4QezkRvmHu8A1zg4WdKToMaQ0TCyEe30gBAIQMCEC3McEK+cc3kmFiKUSHwUGwsDOFb5gbfMPcERP5bN4VezUJzr52aB3hA3NbU7SO8IGTjy1ir6jOzUABVo6qsUH1BdcgJ42nGs7/eRmdx4YhfEwoHHzsMPLjwbByssDl3fI++9r7/fHGd6MV8pd3y/vsyKWD4eBjh/AxoQgfE4azmyMVMhe2XYF/d1/0nR0Be29b9J0dAb+uPriwVTl5AM2l4RmsPhmONli0aBE2bdqEP//8E7GxsVi4cCFSU1Mxd+5cAMDSpUsxdepUhfzcuXORkpKCRYsWITY2Fn/++Sc2b96MDz74QCEzf/58nDx5Et9++y3i4uLw7bff4vTp00rveIL2ach3TdM02rRpo/Rnb28PgUCANm3aKE5orly5EidOnEBiYiLu3LmDmTNnKgyF+kZDfwu7d+/G1KlT8cMPP6Bz584Ke0BJSYlK2Zs3b8bIkSMV3rH6hNb8kl1dXXHlyhV8+umnOH/+PPLz82FqaoqwsDAsWbIEAwcO1JYqWLduHd555x08evQIN2/ehLu7PFPTpEmTYGFhge+//x5RUVF49OgRXFxcMHDgQMWCUiAQ4OjRo5g9ezaio6NB0zR2796tyPhb61VYH2vWrEFFRQXOnDmDsrIyLF68GA8fPsS2bduU5GbMmIGLFy/i9OnTePDgAQD5mX07Oztcu3YNn3zyCY4fP46YmBjY2dkhIiICw4YNU9z/9ddfo7y8HHv27EFxcTFmz56NzMxM/PXXX03Sjs0FRVGgQKmNmTFm7BgUFBbg66++RnZ2NoJaB+HgoYNw95B/h9nZ2UqGVEbG4NNPPkVycjK4XC68vL2w6vNVSsE5N27cCJFIhEmTJinV9fGyj7F8+XKla/UZJvUBMxsTtUd7eocPQGl5CbYf3oTCknx4uvjg60Vr4Wgr3+kpLM5HboGy6/TsT5/tdjxOjsWZayfgYOOE3T/8q7ielp2C+4/v4LsPfqlXLw6PhsBUfz3/KIoC35iHmnKRymfDB45AUUkRfvrjR+Tm58Lfxx/b1v0FV2e5J1lOfg4yspVjfQ6a+Gw8vB97D4eOHYSrkyuuHpF7Z+bk5SjJ/P7XBvz+1wZ0DuuC/X8cUCqLr8celYDm31xDxwJTU1P835H/w/uL3kf3bt1hbW2N0aNH49PPNGc8a6xu+gJN02pDTdy+fRuDBg5S/PvDDz8EII+nu/GPjSpt6+npiYOHDmLJkiX4/fff4eTkhNU/rMbIUSMVMp27dMb27duxcuVKrFq1Ct7e3tj+13a1sVL02agKAF7t1WeUvHroJkytTTB68TBYOlggLTYT30z4Cfnpck8fKwcL2Lo8m0jmpebj2wk/YeoX4zFgZm8UZRdj69LduPHfbYXM45sJWDdrI8YtG4lxS0ciJzkPP83aiPgo1Y0AuW4eTfik2odnxIW4UjVpyciho1BYXIQf1v+AnNwcBPgFYPcfu+HmIl+E5+TmICMzXSHv4eaBXX/swoqvVmDLjj/h6OCIL5d/hWGDns2hOoV2wsYfN+LrtV/j25++gaebJzau/QNhwaqnA7gCrl4brG09rcET8CCuVm3bO8diYGxljAHv9IS5vRmyHufij9k7UZQpXxCZ2ZnC6jkvrML0YmyavQMjlg5C9zc6oSS3DAe/PIZ7J2MVMsnRafhr0QEMXtAHg97rjYK0ImxfuB+p9zKU6mZkjN4b/6xdLMDcVJ14Jd/PhJExD+16+0FoZoTinDKc2X4dFcXyDPRCM4GS12B5URXObruBDkNbw7+zJypLa3DzyAOkxmQpZPJSi3Bx722E9A9AcL8AlBVW4OKeKOSnF6vUb25rCq6Ojqc2BUYmRrBxs0aBGk/J6KMPYGxpjIHzej/tszn4/a2/UJRZDAAwtzeD1XPeeYXpRdj41naM/HgIuk8OR0lOGf754gjunXiWST05Og3bF+7DkAX9MHh+XxSkFWLbgr1IuZuuVLdMIoNrPcb05mb8+PEoKCjAqlWrkJWVhTZt2uDo0aOK021ZWVlITX3mrejl5YWjR49i4cKFWL9+PZydnbFu3TqMHv3MONq1a1fs2bMHy5cvx4oVK+Dj44O9e/dq9BYjaIeGftcvQ629IDs7GxYWFggJCcHFixf1Lq4d0PD2+f333yGRSDBv3jzMm/fcZuG0adi6davi348fP0ZkZKTiBKi+QTF6EQSOXcTHx8PHx0cx0du5c6fC7fP48eNaNWQaKiKRCFLZi+MfahsjvpFeL0xF1WJc3ntX12qoYOlohpCB/rpW45UoySxFWY76eDK6xMbbGkI9PtrDMAyqa6p1rYYKFEVBYKS/7QoAEokEYgn7sr/yuDyNmej0hXfbL1EY9diCkZCPLam/6PU7rKaiBqVZZbpWQwVjKyFM9Nh7HQB+nrQZSbdTWZd76/PrH8LEUv2pBX2gILMER9ZffLGgFqFoCt7Brug2OljXqrwSOz7Yj9v/d591iYw+PPI/OPk1Xzy827dvIywsDFFRUQgNDW22eloyk1kYJmtHz566VqFJOJt5tFnK7eM8pFnKNTT0dwaoQz744AP4+Phg+PDhiIiIwJQp8uN7PXr0wIABA3SsnWFQmx2ZTej7UTQA4At4sHQ0Y10CCEdv/XObrovQ6sVev9qG4lAQ1AkQrm9QFAUOzb7xgI1jVENh6zOwVa+GEDG+K6uSGNEcGl1Hh+u14Q8A+EK+xhALusRIz8dZAAgb3o5Vhj+aQ8Gvm49eG/4AwNrJHGbW7HoGRsbAq71qrHF9I/S1duwy/FGAvbcdHFvVn4SQQCAQdIV+zwJ1RK9evWBkZITTp0/j5s2b8Pf3x4oVK3Ds2DG9Nw6xBTYuULgc/T7WU4trgD2rJvgcLg17L/0OQg8AfCGPdfH1TG1NWLlQbihs9ALjctinU0OhKIp1Yy1N63eCmlr6TuuhCMLPBmRSGQbM6KVrNV4ZiqYgMGeXxy1PwNXr45O1hA1rB56APe8wmZRBxGT9P1ZIURQCunjpWg0lTK2M4eRt+2JBlhMQ0Upj4g+dwAA9pnY2iHcYgUAwTNg169cTFixYgNjYWFRWVqK6uhqxsbFYtWqVIjsv4dWhKIp1C35D8EYBABs3S/A0BE3XOhTg5GcHDtcw2tbUjl3Hvkw0JHjRN9hmEGKbPq8C28ZZtunTWGxdrBE6qB0rvP8omoJ3iKfex/urhW1hDISW7PP6bgxGJkYIHxMCmsOOsc3c3gyBPVvpWo0mwSfEjVUJYQK6eBrExiDNoRExmT3GNp6Ahw4jgnWtBoFAIGiEPW8iAqEObPKsMRSvPwCgaQoebdmRsp2iKLknooEgtBSCw2eHIVNoJTAIb5RaeFz2eKSwSZdXhabYY8ikKErvk6g8z4j5QyCT6f5IGiNj8PqiobpWo8ng8DisSWREc2nW6NIURLDIa6nf3AhWGM+bAr6Qh4DOnqwIucIX8uAbqj4pkT7SeWwYBKZGOm9biqLQY1oXuS4EAoHAUgzjrUowSCiKAo+n+0U2G70QXxXXAHuY25pA13N8nzBXCA0gVlItFE3B2sNS12qA5lCwdGXRUZgmgKZpVhxR5XK4rNCjqaAoCnweO4wXfB6fNYaHpsCvow8Gz+6nUw8bmkOj84gO6DAkRGc6NAdmdqas8FwydzAzqD5r52GDIYv66VQHmkPDM8QNXSd21KkeTU1wX3+YWAh1Pu/qMqo9+ELdz62bChMrY4z9fIROw9lQNAUbNysMfLe37pQgEAiEl8BwVjAEg4QNC20ej2dQk3tAPlEJ7O4Fnc1CKcDczgSugYbj9VeLkamRzo//WrlbGsxR6lrYYKQyxI0AQG5Y1fVz8bg8nY/1zcGE5aNg62qtk2ejKApCMwFmfP+G1utubmguDVM7U53qILQUgmdARpRaer7ZBe7tXHTmdUdzKEz8dpTBjQdcPhfdx4aA0ZGRiqIoeLR1hkdrdpz8aEpChrRBuwFBujuyzjCYvHos+CyKmUkgEAjqMKw3K8Eg0eWCn8vhsjLTaFNgbCGAb0c37VdMARwOjcDuXgZnVK3F3NkMXCPdGFOEVkKDiUFVF10bAA3NM+15uByuzo7c0hRtMDFV62JkbIR3f38LFA2t9x0GDN7+ZQbMbcy0Wq+2MDLlw8hUN+MBh8+BCcsyuDYVNIfGpG9fB5fP0Yl35ciPB8POw0br9WoDB08btI7w0Xq9FEVBYMpH+LA2Wq9bG1AUhbGrhsPEykQnBsB+c3vCM0QH82kCgUBoIBTD6GoPikB4eWQyGWpENVqtk0NzDNLrry6Jt9ORcj9ba/XRHArBA/xhYa9br43mRiqWIvdRHqRi7cX8MjIzgq23NSuOwzUnEokEYolYq3XyeXyDNVDVwjAMakQ10Oa0gKIoGPGNDH6cvfF/t/Hjm78BgNbad9aaKeg3radW6tIVDMOgJLMU4irtjQc0l4aVqyWrEjg0B4m3UrBh+jZIJTKtZa7u/05PDJ7fRyt16QpGxuDy33eQeCddK/VRFAWegIshc7vD3Naw513Z8bn4afxG1FTUQCbVTp/tNDoUE78epdV32O3btxEWFoaoqCiEhoZqrV4CgaD/GPbMhWAw0DQNI772YsO1FMMfAHiFuMCjnRaOgVDyRVP7AX4Gb/gD5EHp7fxstZYARGDeMgx/gDwjrDaTbrQEwx+gfUNcSzH8AUCn10KxcMtcUDTVvL9RSv7XEgx/gLwPWTiZg2esnfGA5tGwdLUweMMfAHh38MCcP6eCa8QFrYX3ysD/9cKg9ww/ZhpFU+j6env4hDa/pxhFUzAy5mHQ7G4Gb/gDAEdfe7y3+y0IzYVaObbeZXwHTPhyZIt4hxEIBMPA8GcvBIOh1gDY3C9ZLpfbYgx/gHzx5B3iAv8uHqA5VLOFATQ2FyBscAAs7Q3zCJo6uHwu7P1sYdTMSU1M7Uxg00IMf7VwuVytHAHm81uG4a+WWoNcc8fb0tZ4ziY6DQvD8oPvw9Leoll+qzSHhomFMT7YPq9FGP5qoWi5AVBoIWjWenjGPFi5Gl481frw6eiJ93bPhI27dbPMDWgODZ6Ai/FfjsDAd3u3mPGA5tDoOqo9gvv5N+uGgK2LJYa8HdGi5l1Ofg5YeGAuXFs7N0v5NIcGzaXx2gcDMO7zEQaTkZpAILQMyLFfgt7BMAwkUgkkEkmTllsbT8zQgkw3hKryGsRFJqE4p7xJyqMogGEAj3ZO8Gzn1GInSQzDoLKwCsXpJU16fIrD58Daw0pnca/YAMMwEIlFkMma9nh1S/L+1YRUKoVILGrycluKJ6UmKkursPOz/Tiz7SIomnrlMaG2jM4jOmDGd2/A3LblLPTrIq4SozSnDDJJ040HFEXB1N4ERqYty1j9PBKRBCfXn8eZjZGgKLz6kUoKAAO06uyF8V+NhLWLZVOoqZcUZZcicn80irJLm6Q8iqZAURTCBgUioLNXi9oUfB6ZVIYLW6/g/344BUbGQCZtmjHBNcgJb6weA6dWDk1SXmMgx34JBEJjIcY/gt4ik8kgloibZNHP4/LA4XBa7MT+eRiGQXZ8AVIeZKGqtEYxSW8QT++xcbWAV7AzzGx0m/2WLUhFUpRkl6KysKrhbfocNIeGqZ0JzBxMW+zEvi5SqRRiifiV46nRlDzzbUs2Tj0PwzCQSCSQSF99s4XL4YLL5ZJx9ikPLsbi7+/+Q+zVx6A5dIMXpzSXhkwig3ewB0Yteg0dh4Y0k6b6BSNjUFlUiaqS6lczrFKAwEwAY2tjcFrAMd+XIe1+Bo7/cg6xF56AohpuuK7t53ZeNug7OwIdRwWT8QByQ1Xc1SQ8vJyIytJqeds29F1GPc3o28YJwf0CYE7mXQCAnMQ8HF93FnePx4BhmEb0WQoyKQNLJwv0ntEN3SeH69z7lxj/CARCYyHGP4Le01hPQJqm5RkuaZpMPtXAMAyKc8qREZeL/NRixURU3aS01sMPAHhGXDj72cLZzw4CU+3FadQnZBIZKgorUZ5fAWmN9KXv45vwYGpnCqGlgPRZDchkMkgkEkhlL9+uAMDhcBTjAUEVhmEglUohkUoatCilKEqeNZ1srmgk41EmTm05j/O7r6C6vBoAwOFyIJVKlTYJODwOpGJ5v+YJeOg+Ohz9Z/SCd7CnDrRmPwzDoKZchKqSKkiqX35+wOHREFoIYWRm1GK91V9EYXoRru6LwtW9t1BZXAXgqTFaKlPqs7UGagDgcGm06R+I7m90gncHDzIeqEEmY5D5OBdxV5OQlZCnmFepeAg/NfTVXjO2EMA/3BO+Ye4QknmXWsryy3Ft/y1E7rqBkqdeljSHVjEIPt+PKZpCQHdfREztgoAIX9bMD4jxj0AgNBZi/CMYFAzDQCaTQSaTyV/oYOQT0acTJZqiFcY+MvF8eWRSGSqKq1FWUIGygkqIqsSQSmWgKPkiVWhuBHMbE5jZGMPIhE/atgFIxVKIq8QQVYohrpKAkckzK1IcGjSHAk/IA9+YB56QRxaiDYBhGPl4wDwbD2rHAkDu4UfR8jGBjAcNQzHOMvK+qjTOglK0K9lYaRgymQw5SXlIvJOMxLspyEvJR02VCAzDwEjIh42LNbzbe8A72BPOrRzJeNAAGBkDSY0E4hoJJDUSeb+VMfJEVDQFDp8LnhEXXAGXtGsDYBgGRRnFSIvJQnpMJvKSCyCqEkMmlYEv5MHc1hSubZzh1sYZjr724PCIR/XLIhFLUZRdioKMEhRmlqCmsgYSkRQ0hwbXiAsLO1PYOFvAxsUSxubNG+/S0CjJKUXag0ykPchATkIeRFUiSERS8I35MLU2hmuQM9zauMA5wAE8I+0lF3tZiPGPQCA0FmL8IxAIBAKBQCAQCAQCgeUQ4x+BQGgsZHuTQCAQCAQCgUAgEAgEAoFAMFCI8Y9AIBAIBAKBQCAQCAQCgUAwUIjxj0AgEAgEAoFAIBAIBAKBQDBQuA0RrqysRFxcXHPpQiAQCAQCgUAgEAgEAkENsbGxSv8lEAgtm4CAABgbG7+UbIMSftQGGCUQCAQCgUAgEAgEAoFAIBAIuqEhyX8aZPwjnn8EAoFAIBAIBAKBQCBon6qqKiQnJ8PT0xNCoVDX6hAIBB3TbJ5/BAKBQCAQCAQCgUAgEAgEAkF/IAk/CAQCgUAgEAgEAoFAIBAIBAOFGP8IBAKBQCAQCAQCgUAgEAgEA4UY/wgEAoFAIBAIBAKBQCAQCAQDhRj/CAQCgUAgEAgEAoFAIBAIBAOFGP8IBAKBQCAQCAQCgUAgEAgEA4UY/wgEAoFAIBAIBAKBQCAQCAQDhRj/CAQCgUAgEAgEAoFAIBAIBAOFGP8IBAKBQCAQCAQCgUAgEAgEA4UY/wgEAoFAIBAIBAKBQCAQCAQD5f8BeGYXcEwOJL4AAAAASUVORK5CYII=",
      "text/plain": [
       "<Figure size 1625x450 with 16 Axes>"
      ]
     },
     "metadata": {},
     "output_type": "display_data"
    },
    {
     "data": {
      "text/plain": [
       "<plottable.table.Table at 0x543ba5640>"
      ]
     },
     "execution_count": 78,
     "metadata": {},
     "output_type": "execute_result"
    }
   ],
   "source": [
    "bm.plot_results_table()\n"
   ]
  },
  {
   "cell_type": "code",
   "execution_count": null,
   "metadata": {},
   "outputs": [],
   "source": [
    "import scvi.autotune import ModelTuner\n",
    "from ray import tune"
   ]
  },
  {
   "cell_type": "code",
   "execution_count": null,
   "metadata": {},
   "outputs": [],
   "source": [
    "sc.pp.filter_genes(adatas, min_cells = 50)"
   ]
  },
  {
   "cell_type": "code",
   "execution_count": null,
   "metadata": {},
   "outputs": [],
   "source": [
    "model_cls = scvi.model.SCVI\n",
    "model_cls.setup_anndata(adata, categorical_covariate_keys = ['dataset_origin'],\n",
    "                             continuous_covariate_keys=['percent.mito', 'percent_ribo'])\n",
    "\n",
    "tuner = ModelTuner(model_cls) "
   ]
  },
  {
   "cell_type": "code",
   "execution_count": null,
   "metadata": {},
   "outputs": [],
   "source": [
    "search_space = {\n",
    "    \"n_hidden\": tune.choice([92, 128, 192, 256]),\n",
    "    \"n_latent\": tune.choice([10, 20, 30, 40, 50, 60]),\n",
    "    \"n_layers\": tune.choice([1, 2, 3]),\n",
    "    \"lr\": tune.loguniform(1e-4, 1e-2),\n",
    "    \"gene_likelihood\": tune.choice([\"nb\", \"zinb\"])}"
   ]
  },
  {
   "cell_type": "code",
   "execution_count": null,
   "metadata": {},
   "outputs": [],
   "source": [
    "results = tuner.fit(adata, metric=\"validation_loss\",\n",
    "                    resources = {'gpu': 1}, #have to specify gpu or might not use\n",
    "                    search_space = search_space,\n",
    "                   num_samples = 100,\n",
    "                   max_epochs = 20)"
   ]
  },
  {
   "cell_type": "code",
   "execution_count": null,
   "metadata": {},
   "outputs": [],
   "source": [
    "best_vl = 10000\n",
    "best_i = 0\n",
    "for i, res in enumerate(results.results):\n",
    "    vl = res.metrics['validation_loss']\n",
    "\n",
    "    if vl < best_vl:\n",
    "        best_vl = vl\n",
    "        best_i = i"
   ]
  },
  {
   "cell_type": "code",
   "execution_count": null,
   "metadata": {},
   "outputs": [],
   "source": [
    "results.results[best_i]\n"
   ]
  },
  {
   "cell_type": "code",
   "execution_count": null,
   "metadata": {},
   "outputs": [],
   "source": [
    "scvi.model.SCVI.setup_anndata(adatas,\n",
    "                              categorical_covariate_keys = ['dataset_origin'],\n",
    "                             continuous_covariate_keys=['percent.mito', 'percent_ribo'])\n"
   ]
  },
  {
   "cell_type": "code",
   "execution_count": null,
   "metadata": {},
   "outputs": [],
   "source": [
    "model = scvi.model.SCVI(adatas, n_hidden = 256, n_latent = 10, n_layers = 3, gene_likelihood = 'zinb')\n"
   ]
  },
  {
   "cell_type": "code",
   "execution_count": null,
   "metadata": {},
   "outputs": [],
   "source": [
    "kwargs = {'lr': 0.0026}"
   ]
  },
  {
   "cell_type": "code",
   "execution_count": null,
   "metadata": {},
   "outputs": [],
   "source": [
    "model.train(max_epochs = 200, early_stopping = True, plan_kwargs = kwargs)\n"
   ]
  },
  {
   "cell_type": "code",
   "execution_count": null,
   "metadata": {},
   "outputs": [],
   "source": [
    "model.save('the_model')\n"
   ]
  },
  {
   "cell_type": "code",
   "execution_count": null,
   "metadata": {},
   "outputs": [],
   "source": [
    "y = model.history['reconstruction_loss_validation']['reconstruction_loss_validation'].min()\n"
   ]
  },
  {
   "cell_type": "code",
   "execution_count": null,
   "metadata": {},
   "outputs": [],
   "source": [
    "\n",
    "plt.plot(model.history['reconstruction_loss_train']['reconstruction_loss_train'], label='train')\n",
    "plt.plot(model.history['reconstruction_loss_validation']['reconstruction_loss_validation'], label='validation')\n",
    "\n",
    "plt.axhline(y, c = 'k')\n",
    "\n",
    "plt.legend()\n",
    "plt.show()"
   ]
  },
  {
   "cell_type": "code",
   "execution_count": null,
   "metadata": {},
   "outputs": [],
   "source": [
    "adatas.write_h5ad('temp.h5ad')\n"
   ]
  },
  {
   "cell_type": "code",
   "execution_count": null,
   "metadata": {},
   "outputs": [],
   "source": [
    "adatas.obsm['X_scVI'] = model.get_latent_representation()\n",
    "adatas.obsm['X_scVI'].shape\n",
    "sc.pp.neighbors(adatas, use_rep = 'X_scVI')\n",
    "sc.tl.leiden(adatas, resolution = 3, key_added = 'overcluster')\n",
    "sc.tl.umap(adatas)\n",
    "adatas.layers['counts'] = adatas.X.copy()\n",
    "sc.pp.normalize_total(adatas)\n",
    "sc.pp.log1p(adatas)\n",
    "adatas.write_h5ad('temp.h5ad')\n",
    "adatas.obs['low_major'] = adatas.obs.groupby('overcluster')['low_label'].transform(lambda x: x.mode()[0])\n",
    "sc.pl.umap(adatas, color = ['low_major'], s = 5)\n"
   ]
  },
  {
   "cell_type": "code",
   "execution_count": null,
   "metadata": {},
   "outputs": [],
   "source": [
    "model = scvi.model.SCVI.load('the_model/', adatas)\n"
   ]
  },
  {
   "cell_type": "code",
   "execution_count": 79,
   "metadata": {},
   "outputs": [],
   "source": [
    "adatas.write('/Users/andson/Mouse_Atlas_Intestine/merged_LI_scib.h5ad')"
   ]
  }
 ],
 "metadata": {
  "kernelspec": {
   "display_name": "mouseatlas",
   "language": "python",
   "name": "python3"
  },
  "language_info": {
   "codemirror_mode": {
    "name": "ipython",
    "version": 3
   },
   "file_extension": ".py",
   "mimetype": "text/x-python",
   "name": "python",
   "nbconvert_exporter": "python",
   "pygments_lexer": "ipython3",
   "version": "3.12.3"
  }
 },
 "nbformat": 4,
 "nbformat_minor": 2
}
