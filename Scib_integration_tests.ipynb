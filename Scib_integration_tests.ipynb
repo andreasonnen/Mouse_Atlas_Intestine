{
 "cells": [
  {
   "cell_type": "markdown",
   "metadata": {},
   "source": [
    "Merge from Seurat couldn't handle joining the datasets. Using Scanpy instead."
   ]
  },
  {
   "cell_type": "code",
   "execution_count": 1,
   "metadata": {},
   "outputs": [
    {
     "name": "stderr",
     "output_type": "stream",
     "text": [
      "/Users/andson/miniconda3/envs/mouseatlas/lib/python3.12/site-packages/tqdm/auto.py:21: TqdmWarning: IProgress not found. Please update jupyter and ipywidgets. See https://ipywidgets.readthedocs.io/en/stable/user_install.html\n",
      "  from .autonotebook import tqdm as notebook_tqdm\n"
     ]
    }
   ],
   "source": [
    "import os\n",
    "import tempfile\n",
    "import scanpy as sc\n",
    "import scvi\n",
    "import seaborn as sns\n",
    "import torch\n",
    "from rich import print\n",
    "from scib_metrics.benchmark import Benchmarker\n"
   ]
  },
  {
   "cell_type": "code",
   "execution_count": 4,
   "metadata": {},
   "outputs": [],
   "source": [
    "Colonic_Stroma = sc.read_h5ad(\"/Users/andson/Mouse_Atlas_Intestine/Colonic_Stroma.h5ad\")\n",
    "Epi_Imm_Stro_colon = sc.read_h5ad(\"/Users/andson/Mouse_Atlas_Intestine/Epi_Imm_Stro_colon.h5ad\")\n",
    "Stromal_Colon = sc.read_h5ad(\"/Users/andson/Mouse_Atlas_Intestine/Stromal_Colon.h5ad\")\n",
    "Epithelial_Colon = sc.read_h5ad(\"/Users/andson/Mouse_Atlas_Intestine/Epithelial_Colon.h5ad\")\n",
    "Fibroblasts_DSS = sc.read_h5ad(\"/Users/andson/Mouse_Atlas_Intestine/Fibroblasts_DSS.h5ad\")\n",
    "Fibroblasts_ctrl = sc.read_h5ad(\"/Users/andson/Mouse_Atlas_Intestine/Fibroblasts_ctrl.h5ad\")\n",
    "siLP = sc.read_h5ad(\"/Users/andson/Mouse_Atlas_Intestine/siLP.h5ad\")"
   ]
  },
  {
   "cell_type": "code",
   "execution_count": 5,
   "metadata": {},
   "outputs": [],
   "source": [
    "#Some categories where dropped due to it only being one value. \n",
    "# Add the single-category metadata manually\n",
    "siLP.obs['Treatment'] = 'ctrl'\n",
    "Fibroblasts_ctrl.obs['Treatment'] = 'ctrl'\n",
    "Fibroblasts_DSS.obs['Treatment'] = 'DSS'\n",
    "Stromal_Colon.obs['Treatment'] = 'DSS'\n",
    "Epithelial_Colon.obs['Treatment'] = 'DSS'"
   ]
  },
  {
   "cell_type": "code",
   "execution_count": 6,
   "metadata": {},
   "outputs": [
    {
     "data": {
      "text/html": [
       "<pre style=\"white-space:pre;overflow-x:auto;line-height:normal;font-family:Menlo,'DejaVu Sans Mono',consolas,'Courier New',monospace\"><span style=\"color: #800080; text-decoration-color: #800080; font-weight: bold\">Index</span><span style=\"font-weight: bold\">([</span><span style=\"color: #008000; text-decoration-color: #008000\">'Colonic_Stroma_M1_Distal_H2O_AAACATACCGAGAG'</span>,\n",
       "       <span style=\"color: #008000; text-decoration-color: #008000\">'Colonic_Stroma_M1_Distal_H2O_AAACGGCTGGTAGG'</span>,\n",
       "       <span style=\"color: #008000; text-decoration-color: #008000\">'Colonic_Stroma_M1_Distal_H2O_AAAGACGAGCAGAG'</span>,\n",
       "       <span style=\"color: #008000; text-decoration-color: #008000\">'Colonic_Stroma_M1_Distal_H2O_AAAGACGATGCCTC'</span>,\n",
       "       <span style=\"color: #008000; text-decoration-color: #008000\">'Colonic_Stroma_M1_Distal_H2O_AAAGAGACTGTTCT'</span>,\n",
       "       <span style=\"color: #008000; text-decoration-color: #008000\">'Colonic_Stroma_M1_Distal_H2O_AAAGCCTGTCCGTC'</span>,\n",
       "       <span style=\"color: #008000; text-decoration-color: #008000\">'Colonic_Stroma_M1_Distal_H2O_AAATTGACTTCGCC'</span>,\n",
       "       <span style=\"color: #008000; text-decoration-color: #008000\">'Colonic_Stroma_M1_Distal_H2O_AACAGCACCTCTAT'</span>,\n",
       "       <span style=\"color: #008000; text-decoration-color: #008000\">'Colonic_Stroma_M1_Distal_H2O_AACAGCACGCATCA'</span>,\n",
       "       <span style=\"color: #008000; text-decoration-color: #008000\">'Colonic_Stroma_M1_Distal_H2O_AACCAGTGAGAGGC'</span>,\n",
       "       <span style=\"color: #808000; text-decoration-color: #808000\">...</span>\n",
       "       <span style=\"color: #008000; text-decoration-color: #008000\">'siLP_SI_S02_TTTGTTGAGTCATGCT'</span>, <span style=\"color: #008000; text-decoration-color: #008000\">'siLP_SI_S02_TTTGTTGCACAAGTGG'</span>,\n",
       "       <span style=\"color: #008000; text-decoration-color: #008000\">'siLP_SI_S02_TTTGTTGCACGGTGTC'</span>, <span style=\"color: #008000; text-decoration-color: #008000\">'siLP_SI_S02_TTTGTTGCACGTCTCT'</span>,\n",
       "       <span style=\"color: #008000; text-decoration-color: #008000\">'siLP_SI_S02_TTTGTTGCATACAGAA'</span>, <span style=\"color: #008000; text-decoration-color: #008000\">'siLP_SI_S02_TTTGTTGGTCCATCTC'</span>,\n",
       "       <span style=\"color: #008000; text-decoration-color: #008000\">'siLP_SI_S02_TTTGTTGGTCGGATTT'</span>, <span style=\"color: #008000; text-decoration-color: #008000\">'siLP_SI_S02_TTTGTTGTCAGCAGAG'</span>,\n",
       "       <span style=\"color: #008000; text-decoration-color: #008000\">'siLP_SI_S02_TTTGTTGTCGTTCTGC'</span>, <span style=\"color: #008000; text-decoration-color: #008000\">'siLP_SI_S02_TTTGTTGTCTCCGCAT'</span><span style=\"font-weight: bold\">]</span>,\n",
       "      <span style=\"color: #808000; text-decoration-color: #808000\">dtype</span>=<span style=\"color: #008000; text-decoration-color: #008000\">'object'</span>, <span style=\"color: #808000; text-decoration-color: #808000\">length</span>=<span style=\"color: #008080; text-decoration-color: #008080; font-weight: bold\">115939</span><span style=\"font-weight: bold\">)</span>\n",
       "</pre>\n"
      ],
      "text/plain": [
       "\u001b[1;35mIndex\u001b[0m\u001b[1m(\u001b[0m\u001b[1m[\u001b[0m\u001b[32m'Colonic_Stroma_M1_Distal_H2O_AAACATACCGAGAG'\u001b[0m,\n",
       "       \u001b[32m'Colonic_Stroma_M1_Distal_H2O_AAACGGCTGGTAGG'\u001b[0m,\n",
       "       \u001b[32m'Colonic_Stroma_M1_Distal_H2O_AAAGACGAGCAGAG'\u001b[0m,\n",
       "       \u001b[32m'Colonic_Stroma_M1_Distal_H2O_AAAGACGATGCCTC'\u001b[0m,\n",
       "       \u001b[32m'Colonic_Stroma_M1_Distal_H2O_AAAGAGACTGTTCT'\u001b[0m,\n",
       "       \u001b[32m'Colonic_Stroma_M1_Distal_H2O_AAAGCCTGTCCGTC'\u001b[0m,\n",
       "       \u001b[32m'Colonic_Stroma_M1_Distal_H2O_AAATTGACTTCGCC'\u001b[0m,\n",
       "       \u001b[32m'Colonic_Stroma_M1_Distal_H2O_AACAGCACCTCTAT'\u001b[0m,\n",
       "       \u001b[32m'Colonic_Stroma_M1_Distal_H2O_AACAGCACGCATCA'\u001b[0m,\n",
       "       \u001b[32m'Colonic_Stroma_M1_Distal_H2O_AACCAGTGAGAGGC'\u001b[0m,\n",
       "       \u001b[33m...\u001b[0m\n",
       "       \u001b[32m'siLP_SI_S02_TTTGTTGAGTCATGCT'\u001b[0m, \u001b[32m'siLP_SI_S02_TTTGTTGCACAAGTGG'\u001b[0m,\n",
       "       \u001b[32m'siLP_SI_S02_TTTGTTGCACGGTGTC'\u001b[0m, \u001b[32m'siLP_SI_S02_TTTGTTGCACGTCTCT'\u001b[0m,\n",
       "       \u001b[32m'siLP_SI_S02_TTTGTTGCATACAGAA'\u001b[0m, \u001b[32m'siLP_SI_S02_TTTGTTGGTCCATCTC'\u001b[0m,\n",
       "       \u001b[32m'siLP_SI_S02_TTTGTTGGTCGGATTT'\u001b[0m, \u001b[32m'siLP_SI_S02_TTTGTTGTCAGCAGAG'\u001b[0m,\n",
       "       \u001b[32m'siLP_SI_S02_TTTGTTGTCGTTCTGC'\u001b[0m, \u001b[32m'siLP_SI_S02_TTTGTTGTCTCCGCAT'\u001b[0m\u001b[1m]\u001b[0m,\n",
       "      \u001b[33mdtype\u001b[0m=\u001b[32m'object'\u001b[0m, \u001b[33mlength\u001b[0m=\u001b[1;36m115939\u001b[0m\u001b[1m)\u001b[0m\n"
      ]
     },
     "metadata": {},
     "output_type": "display_data"
    },
    {
     "data": {
      "text/html": [
       "<pre style=\"white-space:pre;overflow-x:auto;line-height:normal;font-family:Menlo,'DejaVu Sans Mono',consolas,'Courier New',monospace\">Colonic_Stroma_M1_Distal_H2O_AAACATACCGAGAG    Colonic_Stroma\n",
       "Colonic_Stroma_M1_Distal_H2O_AAACGGCTGGTAGG    Colonic_Stroma\n",
       "Colonic_Stroma_M1_Distal_H2O_AAAGACGAGCAGAG    Colonic_Stroma\n",
       "Colonic_Stroma_M1_Distal_H2O_AAAGACGATGCCTC    Colonic_Stroma\n",
       "Colonic_Stroma_M1_Distal_H2O_AAAGAGACTGTTCT    Colonic_Stroma\n",
       "                                                    <span style=\"color: #808000; text-decoration-color: #808000\">...</span>      \n",
       "siLP_SI_S02_TTTGTTGGTCCATCTC                             siLP\n",
       "siLP_SI_S02_TTTGTTGGTCGGATTT                             siLP\n",
       "siLP_SI_S02_TTTGTTGTCAGCAGAG                             siLP\n",
       "siLP_SI_S02_TTTGTTGTCGTTCTGC                             siLP\n",
       "siLP_SI_S02_TTTGTTGTCTCCGCAT                             siLP\n",
       "Name: dataset_origin, Length: <span style=\"color: #008080; text-decoration-color: #008080; font-weight: bold\">115939</span>, dtype: object\n",
       "</pre>\n"
      ],
      "text/plain": [
       "Colonic_Stroma_M1_Distal_H2O_AAACATACCGAGAG    Colonic_Stroma\n",
       "Colonic_Stroma_M1_Distal_H2O_AAACGGCTGGTAGG    Colonic_Stroma\n",
       "Colonic_Stroma_M1_Distal_H2O_AAAGACGAGCAGAG    Colonic_Stroma\n",
       "Colonic_Stroma_M1_Distal_H2O_AAAGACGATGCCTC    Colonic_Stroma\n",
       "Colonic_Stroma_M1_Distal_H2O_AAAGAGACTGTTCT    Colonic_Stroma\n",
       "                                                    \u001b[33m...\u001b[0m      \n",
       "siLP_SI_S02_TTTGTTGGTCCATCTC                             siLP\n",
       "siLP_SI_S02_TTTGTTGGTCGGATTT                             siLP\n",
       "siLP_SI_S02_TTTGTTGTCAGCAGAG                             siLP\n",
       "siLP_SI_S02_TTTGTTGTCGTTCTGC                             siLP\n",
       "siLP_SI_S02_TTTGTTGTCTCCGCAT                             siLP\n",
       "Name: dataset_origin, Length: \u001b[1;36m115939\u001b[0m, dtype: object\n"
      ]
     },
     "metadata": {},
     "output_type": "display_data"
    }
   ],
   "source": [
    "import anndata as ad\n",
    "import pandas as pd\n",
    "\n",
    "# Create a dictionary with the dataset names and corresponding AnnData objects\n",
    "adatas = {\n",
    "    \"Colonic_Stroma\": Colonic_Stroma,\n",
    "    \"Epi_Imm_Stro_colon\": Epi_Imm_Stro_colon,\n",
    "    \"Stromal_Colon\": Stromal_Colon,\n",
    "    \"Epithelial_Colon\": Epithelial_Colon,\n",
    "    \"Fibroblasts_DSS\": Fibroblasts_DSS,\n",
    "    \"Fibroblasts_ctrl\": Fibroblasts_ctrl,\n",
    "    \"siLP\" : siLP\n",
    "}\n",
    "\n",
    "# Update the observation names with the dataset name prefix\n",
    "for key in adatas:\n",
    "    adatas[key].obs_names = [f\"{key}_{obs}\" for obs in adatas[key].obs_names]\n",
    "\n",
    "for key in adatas:\n",
    "    adatas[key].obs['dataset_origin'] = key\n",
    "\n",
    "\n",
    "# Merge the datasets, preserving the unique observation names\n",
    "adatas = ad.concat(adatas, label=\"LI_merged\", join=\"outer\")\n",
    "\n",
    "# Ensure no further duplicates\n",
    "adatas.obs_names_make_unique()\n",
    "\n",
    "# If desired, print the updated observation names to check\n",
    "print(adatas.obs_names)\n",
    "\n",
    "print(adatas.obs['dataset_origin'])\n"
   ]
  },
  {
   "cell_type": "code",
   "execution_count": 42,
   "metadata": {},
   "outputs": [
    {
     "data": {
      "text/html": [
       "<pre style=\"white-space:pre;overflow-x:auto;line-height:normal;font-family:Menlo,'DejaVu Sans Mono',consolas,'Courier New',monospace\"><span style=\"color: #800080; text-decoration-color: #800080; font-weight: bold\">Index</span><span style=\"font-weight: bold\">([</span><span style=\"color: #008000; text-decoration-color: #008000\">'M1_Distal_H2O_AAACATACCGAGAG_0_0'</span>, <span style=\"color: #008000; text-decoration-color: #008000\">'M1_Distal_H2O_AAACGGCTGGTAGG_0_0'</span>,\n",
       "       <span style=\"color: #008000; text-decoration-color: #008000\">'M1_Distal_H2O_AAAGACGAGCAGAG_0_0'</span>, <span style=\"color: #008000; text-decoration-color: #008000\">'M1_Distal_H2O_AAAGACGATGCCTC_0_0'</span>,\n",
       "       <span style=\"color: #008000; text-decoration-color: #008000\">'M1_Distal_H2O_AAAGAGACTGTTCT_0_0'</span>, <span style=\"color: #008000; text-decoration-color: #008000\">'M1_Distal_H2O_AAAGCCTGTCCGTC_0_0'</span>,\n",
       "       <span style=\"color: #008000; text-decoration-color: #008000\">'M1_Distal_H2O_AAATTGACTTCGCC_0_0'</span>, <span style=\"color: #008000; text-decoration-color: #008000\">'M1_Distal_H2O_AACAGCACCTCTAT_0_0'</span>,\n",
       "       <span style=\"color: #008000; text-decoration-color: #008000\">'M1_Distal_H2O_AACAGCACGCATCA_0_0'</span>, <span style=\"color: #008000; text-decoration-color: #008000\">'M1_Distal_H2O_AACCAGTGAGAGGC_0_0'</span>,\n",
       "       <span style=\"color: #808000; text-decoration-color: #808000\">...</span>\n",
       "       <span style=\"color: #008000; text-decoration-color: #008000\">'TTTGGTTAGTACACCT-3_0_0'</span>, <span style=\"color: #008000; text-decoration-color: #008000\">'TTTGGTTAGTTCGATC-3_0_0'</span>,\n",
       "       <span style=\"color: #008000; text-decoration-color: #008000\">'TTTGGTTCACCTTGTC-3_0_0'</span>, <span style=\"color: #008000; text-decoration-color: #008000\">'TTTGGTTCACGGCGTT-3_0_0'</span>,\n",
       "       <span style=\"color: #008000; text-decoration-color: #008000\">'TTTGGTTCATGGTAGG-3_0_0'</span>, <span style=\"color: #008000; text-decoration-color: #008000\">'TTTGTCAAGAGACTTA-3_0_0'</span>,\n",
       "       <span style=\"color: #008000; text-decoration-color: #008000\">'TTTGTCAGTATCAGTC-3_0_0'</span>, <span style=\"color: #008000; text-decoration-color: #008000\">'TTTGTCAGTCAGAATA-3_0_0'</span>,\n",
       "       <span style=\"color: #008000; text-decoration-color: #008000\">'TTTGTCATCGCTTGTC-3_0_0'</span>, <span style=\"color: #008000; text-decoration-color: #008000\">'TTTGTCATCGTCCAGG-3_0_0'</span><span style=\"font-weight: bold\">]</span>,\n",
       "      <span style=\"color: #808000; text-decoration-color: #808000\">dtype</span>=<span style=\"color: #008000; text-decoration-color: #008000\">'object'</span>, <span style=\"color: #808000; text-decoration-color: #808000\">length</span>=<span style=\"color: #008080; text-decoration-color: #008080; font-weight: bold\">57678</span><span style=\"font-weight: bold\">)</span>\n",
       "</pre>\n"
      ],
      "text/plain": [
       "\u001b[1;35mIndex\u001b[0m\u001b[1m(\u001b[0m\u001b[1m[\u001b[0m\u001b[32m'M1_Distal_H2O_AAACATACCGAGAG_0_0'\u001b[0m, \u001b[32m'M1_Distal_H2O_AAACGGCTGGTAGG_0_0'\u001b[0m,\n",
       "       \u001b[32m'M1_Distal_H2O_AAAGACGAGCAGAG_0_0'\u001b[0m, \u001b[32m'M1_Distal_H2O_AAAGACGATGCCTC_0_0'\u001b[0m,\n",
       "       \u001b[32m'M1_Distal_H2O_AAAGAGACTGTTCT_0_0'\u001b[0m, \u001b[32m'M1_Distal_H2O_AAAGCCTGTCCGTC_0_0'\u001b[0m,\n",
       "       \u001b[32m'M1_Distal_H2O_AAATTGACTTCGCC_0_0'\u001b[0m, \u001b[32m'M1_Distal_H2O_AACAGCACCTCTAT_0_0'\u001b[0m,\n",
       "       \u001b[32m'M1_Distal_H2O_AACAGCACGCATCA_0_0'\u001b[0m, \u001b[32m'M1_Distal_H2O_AACCAGTGAGAGGC_0_0'\u001b[0m,\n",
       "       \u001b[33m...\u001b[0m\n",
       "       \u001b[32m'TTTGGTTAGTACACCT-3_0_0'\u001b[0m, \u001b[32m'TTTGGTTAGTTCGATC-3_0_0'\u001b[0m,\n",
       "       \u001b[32m'TTTGGTTCACCTTGTC-3_0_0'\u001b[0m, \u001b[32m'TTTGGTTCACGGCGTT-3_0_0'\u001b[0m,\n",
       "       \u001b[32m'TTTGGTTCATGGTAGG-3_0_0'\u001b[0m, \u001b[32m'TTTGTCAAGAGACTTA-3_0_0'\u001b[0m,\n",
       "       \u001b[32m'TTTGTCAGTATCAGTC-3_0_0'\u001b[0m, \u001b[32m'TTTGTCAGTCAGAATA-3_0_0'\u001b[0m,\n",
       "       \u001b[32m'TTTGTCATCGCTTGTC-3_0_0'\u001b[0m, \u001b[32m'TTTGTCATCGTCCAGG-3_0_0'\u001b[0m\u001b[1m]\u001b[0m,\n",
       "      \u001b[33mdtype\u001b[0m=\u001b[32m'object'\u001b[0m, \u001b[33mlength\u001b[0m=\u001b[1;36m57678\u001b[0m\u001b[1m)\u001b[0m\n"
      ]
     },
     "metadata": {},
     "output_type": "display_data"
    }
   ],
   "source": [
    "#import pandas as pd\n",
    "#adatas.obs_names = pd.Index(adatas.obs_names + '_' + adatas.obs_names.duplicated().cumsum().astype(str))\n",
    "#print(adatas.obs_names)\n",
    "\n"
   ]
  },
  {
   "cell_type": "code",
   "execution_count": 7,
   "metadata": {},
   "outputs": [
    {
     "data": {
      "text/html": [
       "<pre style=\"white-space:pre;overflow-x:auto;line-height:normal;font-family:Menlo,'DejaVu Sans Mono',consolas,'Courier New',monospace\">Matrix shape:\n",
       "<span style=\"font-weight: bold\">(</span><span style=\"color: #008080; text-decoration-color: #008080; font-weight: bold\">115939</span>, <span style=\"color: #008080; text-decoration-color: #008080; font-weight: bold\">29549</span><span style=\"font-weight: bold\">)</span>\n",
       "</pre>\n"
      ],
      "text/plain": [
       "Matrix shape:\n",
       "\u001b[1m(\u001b[0m\u001b[1;36m115939\u001b[0m, \u001b[1;36m29549\u001b[0m\u001b[1m)\u001b[0m\n"
      ]
     },
     "metadata": {},
     "output_type": "display_data"
    },
    {
     "data": {
      "text/html": [
       "<pre style=\"white-space:pre;overflow-x:auto;line-height:normal;font-family:Menlo,'DejaVu Sans Mono',consolas,'Courier New',monospace\">Number of non-zero elements: <span style=\"color: #008080; text-decoration-color: #008080; font-weight: bold\">194239263</span>\n",
       "</pre>\n"
      ],
      "text/plain": [
       "Number of non-zero elements: \u001b[1;36m194239263\u001b[0m\n"
      ]
     },
     "metadata": {},
     "output_type": "display_data"
    },
    {
     "data": {
      "text/html": [
       "<pre style=\"white-space:pre;overflow-x:auto;line-height:normal;font-family:Menlo,'DejaVu Sans Mono',consolas,'Courier New',monospace\">Observations <span style=\"font-weight: bold\">(</span>cells<span style=\"font-weight: bold\">)</span>:\n",
       "<span style=\"font-weight: bold\">(</span><span style=\"color: #008080; text-decoration-color: #008080; font-weight: bold\">115939</span>, <span style=\"color: #008080; text-decoration-color: #008080; font-weight: bold\">83</span><span style=\"font-weight: bold\">)</span>\n",
       "</pre>\n"
      ],
      "text/plain": [
       "Observations \u001b[1m(\u001b[0mcells\u001b[1m)\u001b[0m:\n",
       "\u001b[1m(\u001b[0m\u001b[1;36m115939\u001b[0m, \u001b[1;36m83\u001b[0m\u001b[1m)\u001b[0m\n"
      ]
     },
     "metadata": {},
     "output_type": "display_data"
    },
    {
     "data": {
      "text/html": [
       "<pre style=\"white-space:pre;overflow-x:auto;line-height:normal;font-family:Menlo,'DejaVu Sans Mono',consolas,'Courier New',monospace\">Variables <span style=\"font-weight: bold\">(</span>genes<span style=\"font-weight: bold\">)</span>:\n",
       "<span style=\"font-weight: bold\">(</span><span style=\"color: #008080; text-decoration-color: #008080; font-weight: bold\">29549</span>, <span style=\"color: #008080; text-decoration-color: #008080; font-weight: bold\">0</span><span style=\"font-weight: bold\">)</span>\n",
       "</pre>\n"
      ],
      "text/plain": [
       "Variables \u001b[1m(\u001b[0mgenes\u001b[1m)\u001b[0m:\n",
       "\u001b[1m(\u001b[0m\u001b[1;36m29549\u001b[0m, \u001b[1;36m0\u001b[0m\u001b[1m)\u001b[0m\n"
      ]
     },
     "metadata": {},
     "output_type": "display_data"
    },
    {
     "data": {
      "text/html": [
       "<pre style=\"white-space:pre;overflow-x:auto;line-height:normal;font-family:Menlo,'DejaVu Sans Mono',consolas,'Courier New',monospace\">Layers: Layers with keys: \n",
       "</pre>\n"
      ],
      "text/plain": [
       "Layers: Layers with keys: \n"
      ]
     },
     "metadata": {},
     "output_type": "display_data"
    },
    {
     "data": {
      "text/html": [
       "<pre style=\"white-space:pre;overflow-x:auto;line-height:normal;font-family:Menlo,'DejaVu Sans Mono',consolas,'Courier New',monospace\">AnnData object with n_obs × n_vars = <span style=\"color: #008080; text-decoration-color: #008080; font-weight: bold\">115939</span> × <span style=\"color: #008080; text-decoration-color: #008080; font-weight: bold\">29549</span>\n",
       "    obs: <span style=\"color: #008000; text-decoration-color: #008000\">'orig.ident'</span>, <span style=\"color: #008000; text-decoration-color: #008000\">'nCount_RNA'</span>, <span style=\"color: #008000; text-decoration-color: #008000\">'nFeature_RNA'</span>, <span style=\"color: #008000; text-decoration-color: #008000\">'Sample'</span>, <span style=\"color: #008000; text-decoration-color: #008000\">'percent.mito'</span>, <span style=\"color: #008000; text-decoration-color: #008000\">'Site'</span>, <span style=\"color: #008000; text-decoration-color: #008000\">'Treatment'</span>, <span style=\"color: #008000; text-decoration-color: #008000\">'batch'</span>, \n",
       "<span style=\"color: #008000; text-decoration-color: #008000\">'Celltype_Stroma_Atlas'</span>, <span style=\"color: #008000; text-decoration-color: #008000\">'Celltype_Endothelium_Atlas'</span>, <span style=\"color: #008000; text-decoration-color: #008000\">'Celltype_Fibroblast_Atlas'</span>, <span style=\"color: #008000; text-decoration-color: #008000\">'percent.mt'</span>, <span style=\"color: #008000; text-decoration-color: #008000\">'percent_ribo'</span>, \n",
       "<span style=\"color: #008000; text-decoration-color: #008000\">'celltype'</span>, <span style=\"color: #008000; text-decoration-color: #008000\">'unintegrated_clusters'</span>, <span style=\"color: #008000; text-decoration-color: #008000\">'seurat_clusters'</span>, <span style=\"color: #008000; text-decoration-color: #008000\">'harmony_clusters'</span>, <span style=\"color: #008000; text-decoration-color: #008000\">'cellType'</span>, <span style=\"color: #008000; text-decoration-color: #008000\">'celltype_general'</span>, \n",
       "<span style=\"color: #008000; text-decoration-color: #008000\">'celltype_integration'</span>, <span style=\"color: #008000; text-decoration-color: #008000\">'covariate'</span>, <span style=\"color: #008000; text-decoration-color: #008000\">'dataset_origin'</span>, <span style=\"color: #008000; text-decoration-color: #008000\">'exptCond'</span>, <span style=\"color: #008000; text-decoration-color: #008000\">'tissueLayer'</span>, <span style=\"color: #008000; text-decoration-color: #008000\">'condition'</span>, <span style=\"color: #008000; text-decoration-color: #008000\">'nCount_SCT'</span>, \n",
       "<span style=\"color: #008000; text-decoration-color: #008000\">'nFeature_SCT'</span>, <span style=\"color: #008000; text-decoration-color: #008000\">'SCT_snn_res.0.5'</span>, <span style=\"color: #008000; text-decoration-color: #008000\">'SCT_snn_res.0.4'</span>, <span style=\"color: #008000; text-decoration-color: #008000\">'celltype_integration_2'</span>, <span style=\"color: #008000; text-decoration-color: #008000\">'mouse'</span>, <span style=\"color: #008000; text-decoration-color: #008000\">'p28'</span>, <span style=\"color: #008000; text-decoration-color: #008000\">'percent_mito'</span>, \n",
       "<span style=\"color: #008000; text-decoration-color: #008000\">'log10GenesPerUMI'</span>, <span style=\"color: #008000; text-decoration-color: #008000\">'S.Score'</span>, <span style=\"color: #008000; text-decoration-color: #008000\">'G2M.Score'</span>, <span style=\"color: #008000; text-decoration-color: #008000\">'Phase'</span>, <span style=\"color: #008000; text-decoration-color: #008000\">'pANN'</span>, <span style=\"color: #008000; text-decoration-color: #008000\">'DF_classifications'</span>, <span style=\"color: #008000; text-decoration-color: #008000\">'RNA_snn_res.0.2'</span>, \n",
       "<span style=\"color: #008000; text-decoration-color: #008000\">'th17_signature1'</span>, <span style=\"color: #008000; text-decoration-color: #008000\">'th1_signature1'</span>, <span style=\"color: #008000; text-decoration-color: #008000\">'th2_signature1'</span>, <span style=\"color: #008000; text-decoration-color: #008000\">'treg_signature1'</span>, <span style=\"color: #008000; text-decoration-color: #008000\">'RNA_snn_res.0.8'</span>, <span style=\"color: #008000; text-decoration-color: #008000\">'cc.exp'</span>, \n",
       "<span style=\"color: #008000; text-decoration-color: #008000\">'integrated_snn_res.0'</span>, <span style=\"color: #008000; text-decoration-color: #008000\">'integrated_snn_res.0.1'</span>, <span style=\"color: #008000; text-decoration-color: #008000\">'integrated_snn_res.0.2'</span>, <span style=\"color: #008000; text-decoration-color: #008000\">'integrated_snn_res.0.3'</span>, \n",
       "<span style=\"color: #008000; text-decoration-color: #008000\">'integrated_snn_res.0.4'</span>, <span style=\"color: #008000; text-decoration-color: #008000\">'integrated_snn_res.0.5'</span>, <span style=\"color: #008000; text-decoration-color: #008000\">'integrated_snn_res.0.6'</span>, <span style=\"color: #008000; text-decoration-color: #008000\">'integrated_snn_res.0.7'</span>, \n",
       "<span style=\"color: #008000; text-decoration-color: #008000\">'integrated_snn_res.0.8'</span>, <span style=\"color: #008000; text-decoration-color: #008000\">'integrated_snn_res.0.9'</span>, <span style=\"color: #008000; text-decoration-color: #008000\">'integrated_snn_res.1'</span>, <span style=\"color: #008000; text-decoration-color: #008000\">'r1_res.0.3'</span>, <span style=\"color: #008000; text-decoration-color: #008000\">'r1_res.0.1'</span>, \n",
       "<span style=\"color: #008000; text-decoration-color: #008000\">'clusterID'</span>, <span style=\"color: #008000; text-decoration-color: #008000\">'segment'</span>, <span style=\"color: #008000; text-decoration-color: #008000\">'dataset'</span>, <span style=\"color: #008000; text-decoration-color: #008000\">'RNA_snn_res.0.5'</span>, <span style=\"color: #008000; text-decoration-color: #008000\">'Th1sig1'</span>, <span style=\"color: #008000; text-decoration-color: #008000\">'Th2sig1'</span>, <span style=\"color: #008000; text-decoration-color: #008000\">'Th17sig1'</span>, <span style=\"color: #008000; text-decoration-color: #008000\">'Tfhsig1'</span>, <span style=\"color: #008000; text-decoration-color: #008000\">'Tregsig1'</span>, \n",
       "<span style=\"color: #008000; text-decoration-color: #008000\">'NKTsig1'</span>, <span style=\"color: #008000; text-decoration-color: #008000\">'IFNsig1'</span>, <span style=\"color: #008000; text-decoration-color: #008000\">'Prolif1'</span>, <span style=\"color: #008000; text-decoration-color: #008000\">'Tcmsig1'</span>, <span style=\"color: #008000; text-decoration-color: #008000\">'Temsig1'</span>, <span style=\"color: #008000; text-decoration-color: #008000\">'CD81fib1'</span>, <span style=\"color: #008000; text-decoration-color: #008000\">'Fgfr2fib1'</span>, <span style=\"color: #008000; text-decoration-color: #008000\">'PDGFRafib1'</span>, <span style=\"color: #008000; text-decoration-color: #008000\">'Igfbp5fib1'</span>, \n",
       "<span style=\"color: #008000; text-decoration-color: #008000\">'Pericytes1'</span>, <span style=\"color: #008000; text-decoration-color: #008000\">'SMCs1'</span>, <span style=\"color: #008000; text-decoration-color: #008000\">'integrated.harmony'</span>, <span style=\"color: #008000; text-decoration-color: #008000\">'cell_type_sub'</span>, <span style=\"color: #008000; text-decoration-color: #008000\">'cell_type_general'</span>, <span style=\"color: #008000; text-decoration-color: #008000\">'LI_merged'</span>\n",
       "    obsm: <span style=\"color: #008000; text-decoration-color: #008000\">'X_harmony'</span>, <span style=\"color: #008000; text-decoration-color: #008000\">'X_pca'</span>, <span style=\"color: #008000; text-decoration-color: #008000\">'X_umap.harmony'</span>, <span style=\"color: #008000; text-decoration-color: #008000\">'X_umap.unintegrated'</span>, <span style=\"color: #008000; text-decoration-color: #008000\">'X_umap'</span>\n",
       "</pre>\n"
      ],
      "text/plain": [
       "AnnData object with n_obs × n_vars = \u001b[1;36m115939\u001b[0m × \u001b[1;36m29549\u001b[0m\n",
       "    obs: \u001b[32m'orig.ident'\u001b[0m, \u001b[32m'nCount_RNA'\u001b[0m, \u001b[32m'nFeature_RNA'\u001b[0m, \u001b[32m'Sample'\u001b[0m, \u001b[32m'percent.mito'\u001b[0m, \u001b[32m'Site'\u001b[0m, \u001b[32m'Treatment'\u001b[0m, \u001b[32m'batch'\u001b[0m, \n",
       "\u001b[32m'Celltype_Stroma_Atlas'\u001b[0m, \u001b[32m'Celltype_Endothelium_Atlas'\u001b[0m, \u001b[32m'Celltype_Fibroblast_Atlas'\u001b[0m, \u001b[32m'percent.mt'\u001b[0m, \u001b[32m'percent_ribo'\u001b[0m, \n",
       "\u001b[32m'celltype'\u001b[0m, \u001b[32m'unintegrated_clusters'\u001b[0m, \u001b[32m'seurat_clusters'\u001b[0m, \u001b[32m'harmony_clusters'\u001b[0m, \u001b[32m'cellType'\u001b[0m, \u001b[32m'celltype_general'\u001b[0m, \n",
       "\u001b[32m'celltype_integration'\u001b[0m, \u001b[32m'covariate'\u001b[0m, \u001b[32m'dataset_origin'\u001b[0m, \u001b[32m'exptCond'\u001b[0m, \u001b[32m'tissueLayer'\u001b[0m, \u001b[32m'condition'\u001b[0m, \u001b[32m'nCount_SCT'\u001b[0m, \n",
       "\u001b[32m'nFeature_SCT'\u001b[0m, \u001b[32m'SCT_snn_res.0.5'\u001b[0m, \u001b[32m'SCT_snn_res.0.4'\u001b[0m, \u001b[32m'celltype_integration_2'\u001b[0m, \u001b[32m'mouse'\u001b[0m, \u001b[32m'p28'\u001b[0m, \u001b[32m'percent_mito'\u001b[0m, \n",
       "\u001b[32m'log10GenesPerUMI'\u001b[0m, \u001b[32m'S.Score'\u001b[0m, \u001b[32m'G2M.Score'\u001b[0m, \u001b[32m'Phase'\u001b[0m, \u001b[32m'pANN'\u001b[0m, \u001b[32m'DF_classifications'\u001b[0m, \u001b[32m'RNA_snn_res.0.2'\u001b[0m, \n",
       "\u001b[32m'th17_signature1'\u001b[0m, \u001b[32m'th1_signature1'\u001b[0m, \u001b[32m'th2_signature1'\u001b[0m, \u001b[32m'treg_signature1'\u001b[0m, \u001b[32m'RNA_snn_res.0.8'\u001b[0m, \u001b[32m'cc.exp'\u001b[0m, \n",
       "\u001b[32m'integrated_snn_res.0'\u001b[0m, \u001b[32m'integrated_snn_res.0.1'\u001b[0m, \u001b[32m'integrated_snn_res.0.2'\u001b[0m, \u001b[32m'integrated_snn_res.0.3'\u001b[0m, \n",
       "\u001b[32m'integrated_snn_res.0.4'\u001b[0m, \u001b[32m'integrated_snn_res.0.5'\u001b[0m, \u001b[32m'integrated_snn_res.0.6'\u001b[0m, \u001b[32m'integrated_snn_res.0.7'\u001b[0m, \n",
       "\u001b[32m'integrated_snn_res.0.8'\u001b[0m, \u001b[32m'integrated_snn_res.0.9'\u001b[0m, \u001b[32m'integrated_snn_res.1'\u001b[0m, \u001b[32m'r1_res.0.3'\u001b[0m, \u001b[32m'r1_res.0.1'\u001b[0m, \n",
       "\u001b[32m'clusterID'\u001b[0m, \u001b[32m'segment'\u001b[0m, \u001b[32m'dataset'\u001b[0m, \u001b[32m'RNA_snn_res.0.5'\u001b[0m, \u001b[32m'Th1sig1'\u001b[0m, \u001b[32m'Th2sig1'\u001b[0m, \u001b[32m'Th17sig1'\u001b[0m, \u001b[32m'Tfhsig1'\u001b[0m, \u001b[32m'Tregsig1'\u001b[0m, \n",
       "\u001b[32m'NKTsig1'\u001b[0m, \u001b[32m'IFNsig1'\u001b[0m, \u001b[32m'Prolif1'\u001b[0m, \u001b[32m'Tcmsig1'\u001b[0m, \u001b[32m'Temsig1'\u001b[0m, \u001b[32m'CD81fib1'\u001b[0m, \u001b[32m'Fgfr2fib1'\u001b[0m, \u001b[32m'PDGFRafib1'\u001b[0m, \u001b[32m'Igfbp5fib1'\u001b[0m, \n",
       "\u001b[32m'Pericytes1'\u001b[0m, \u001b[32m'SMCs1'\u001b[0m, \u001b[32m'integrated.harmony'\u001b[0m, \u001b[32m'cell_type_sub'\u001b[0m, \u001b[32m'cell_type_general'\u001b[0m, \u001b[32m'LI_merged'\u001b[0m\n",
       "    obsm: \u001b[32m'X_harmony'\u001b[0m, \u001b[32m'X_pca'\u001b[0m, \u001b[32m'X_umap.harmony'\u001b[0m, \u001b[32m'X_umap.unintegrated'\u001b[0m, \u001b[32m'X_umap'\u001b[0m\n"
      ]
     },
     "metadata": {},
     "output_type": "display_data"
    }
   ],
   "source": [
    "#Explore merged data\n",
    "print(\"Matrix shape:\", adatas.X.shape)\n",
    "print(\"Number of non-zero elements:\", adatas.X.nnz)\n",
    "print(\"Observations (cells):\", adatas.obs.shape)\n",
    "print(\"Variables (genes):\", adatas.var.shape)\n",
    "print(\"Layers:\", adatas.layers)\n",
    "print(adatas)"
   ]
  },
  {
   "cell_type": "code",
   "execution_count": 87,
   "metadata": {},
   "outputs": [
    {
     "data": {
      "text/html": [
       "<pre style=\"white-space:pre;overflow-x:auto;line-height:normal;font-family:Menlo,'DejaVu Sans Mono',consolas,'Courier New',monospace\"><span style=\"color: #800080; text-decoration-color: #800080; font-weight: bold\">KeysView</span><span style=\"font-weight: bold\">(</span>AxisArrays with keys: X_harmony, X_pca, X_umap.harmony, X_umap.unintegrated, X_umap<span style=\"font-weight: bold\">)</span>\n",
       "</pre>\n"
      ],
      "text/plain": [
       "\u001b[1;35mKeysView\u001b[0m\u001b[1m(\u001b[0mAxisArrays with keys: X_harmony, X_pca, X_umap.harmony, X_umap.unintegrated, X_umap\u001b[1m)\u001b[0m\n"
      ]
     },
     "metadata": {},
     "output_type": "display_data"
    }
   ],
   "source": [
    "print(adatas.obsm.keys())"
   ]
  },
  {
   "cell_type": "code",
   "execution_count": 8,
   "metadata": {},
   "outputs": [],
   "source": [
    "#remove reductions\n",
    "# Remove specific reductions from obsm\n",
    "del adatas.obsm['X_harmony']\n",
    "del adatas.obsm['X_pca']\n",
    "del adatas.obsm['X_umap.harmony']\n",
    "del adatas.obsm['X_umap.unintegrated']"
   ]
  },
  {
   "cell_type": "code",
   "execution_count": 89,
   "metadata": {},
   "outputs": [],
   "source": [
    "adatas.write('/Users/andson/Mouse_Atlas_Intestine/merged_LI.h5ad')"
   ]
  },
  {
   "cell_type": "code",
   "execution_count": 9,
   "metadata": {},
   "outputs": [
    {
     "name": "stderr",
     "output_type": "stream",
     "text": [
      "/Users/andson/miniconda3/envs/mouseatlas/lib/python3.12/site-packages/scanpy/preprocessing/_pca.py:385: FutureWarning: Argument `use_highly_variable` is deprecated, consider using the mask argument. Use_highly_variable=True can be called through mask_var=\"highly_variable\". Use_highly_variable=False can be called through mask_var=None\n",
      "  warn(msg, FutureWarning)\n"
     ]
    }
   ],
   "source": [
    "sc.pp.highly_variable_genes(adatas, n_top_genes=2000, flavor=\"seurat\", batch_key=\"dataset_origin\")\n",
    "sc.tl.pca(adatas, n_comps=30, use_highly_variable=True)"
   ]
  },
  {
   "cell_type": "code",
   "execution_count": 10,
   "metadata": {},
   "outputs": [],
   "source": [
    "adatas = adatas[:, adatas.var.highly_variable].copy()\n",
    "adatas.obsm[\"Unintegrated\"] = adatas.obsm[\"X_pca\"]\n"
   ]
  },
  {
   "cell_type": "code",
   "execution_count": 11,
   "metadata": {},
   "outputs": [
    {
     "name": "stdout",
     "output_type": "stream",
     "text": [
      "Found 2000 genes among all datasets\n",
      "[[0.00000000e+00 1.37590687e-01 6.45406226e-03 7.51162155e-01\n",
      "  3.59214767e-01 4.89257317e-01 5.92820388e-02]\n",
      " [0.00000000e+00 0.00000000e+00 3.88952164e-01 2.46923708e-01\n",
      "  2.68971579e-01 1.02520724e-01 3.58528767e-02]\n",
      " [0.00000000e+00 0.00000000e+00 0.00000000e+00 7.59301443e-04\n",
      "  2.92997363e-04 2.16545424e-01 3.79650721e-04]\n",
      " [0.00000000e+00 0.00000000e+00 0.00000000e+00 0.00000000e+00\n",
      "  4.74979491e-01 5.05879136e-02 1.16762374e-01]\n",
      " [0.00000000e+00 0.00000000e+00 0.00000000e+00 0.00000000e+00\n",
      "  0.00000000e+00 2.81570466e-01 7.47143276e-02]\n",
      " [0.00000000e+00 0.00000000e+00 0.00000000e+00 0.00000000e+00\n",
      "  0.00000000e+00 0.00000000e+00 4.20571815e-01]\n",
      " [0.00000000e+00 0.00000000e+00 0.00000000e+00 0.00000000e+00\n",
      "  0.00000000e+00 0.00000000e+00 0.00000000e+00]]\n",
      "Processing datasets (0, 3)\n",
      "Processing datasets (0, 5)\n",
      "Processing datasets (3, 4)\n",
      "Processing datasets (5, 6)\n",
      "Processing datasets (1, 2)\n",
      "Processing datasets (0, 4)\n",
      "Processing datasets (4, 5)\n",
      "Processing datasets (1, 4)\n",
      "Processing datasets (1, 3)\n",
      "Processing datasets (2, 5)\n",
      "Processing datasets (0, 1)\n",
      "Processing datasets (3, 6)\n",
      "Processing datasets (1, 5)\n"
     ]
    }
   ],
   "source": [
    "#Scanorama\n",
    "import scanorama\n",
    "import numpy as np\n",
    "\n",
    "# List of adata per batch\n",
    "batch_cats = adatas.obs.dataset_origin.cat.categories\n",
    "adata_list = [adatas[adatas.obs.dataset_origin == b].copy() for b in batch_cats]\n",
    "scanorama.integrate_scanpy(adata_list)\n",
    "\n",
    "adatas.obsm[\"Scanorama\"] = np.zeros((adatas.shape[0], adata_list[0].obsm[\"X_scanorama\"].shape[1]))\n",
    "for i, b in enumerate(batch_cats):\n",
    "    adatas.obsm[\"Scanorama\"][adatas.obs.dataset_origin == b] = adata_list[i].obsm[\"X_scanorama\"]"
   ]
  },
  {
   "cell_type": "code",
   "execution_count": 12,
   "metadata": {},
   "outputs": [
    {
     "name": "stdout",
     "output_type": "stream",
     "text": [
      "\tInitialization is completed.\n",
      "\tCompleted 1 / 10 iteration(s).\n",
      "\tCompleted 2 / 10 iteration(s).\n",
      "\tCompleted 3 / 10 iteration(s).\n",
      "\tCompleted 4 / 10 iteration(s).\n",
      "Reach convergence after 4 iteration(s).\n"
     ]
    }
   ],
   "source": [
    "from harmony import harmonize\n",
    "\n",
    "adatas.obsm[\"Harmony\"] = harmonize(adatas.obsm[\"X_pca\"], adatas.obs, batch_key=\"dataset_origin\")\n"
   ]
  },
  {
   "cell_type": "code",
   "execution_count": 13,
   "metadata": {},
   "outputs": [
    {
     "data": {
      "text/plain": [
       "<Compressed Sparse Row sparse matrix of dtype 'float64'\n",
       "\twith 26947510 stored elements and shape (115939, 2000)>"
      ]
     },
     "execution_count": 13,
     "metadata": {},
     "output_type": "execute_result"
    }
   ],
   "source": [
    "adatas.X"
   ]
  },
  {
   "cell_type": "code",
   "execution_count": 14,
   "metadata": {},
   "outputs": [
    {
     "name": "stderr",
     "output_type": "stream",
     "text": [
      "/Users/andson/miniconda3/envs/mouseatlas/lib/python3.12/site-packages/scvi/data/fields/_base_field.py:64: UserWarning: adata.layers[counts] does not contain unnormalized count data. Are you sure this is what you want?\n",
      "  self.validate_field(adata)\n",
      "GPU available: True (mps), used: False\n",
      "TPU available: False, using: 0 TPU cores\n",
      "IPU available: False, using: 0 IPUs\n",
      "HPU available: False, using: 0 HPUs\n",
      "/Users/andson/miniconda3/envs/mouseatlas/lib/python3.12/site-packages/lightning/pytorch/trainer/setup.py:201: UserWarning: MPS available but not used. Set `accelerator` and `devices` using `Trainer(accelerator='mps', devices=1)`.\n",
      "  rank_zero_warn(\n"
     ]
    },
    {
     "name": "stdout",
     "output_type": "stream",
     "text": [
      "Epoch 69/69: 100%|██████████| 69/69 [22:23<00:00, 19.10s/it, v_num=1, train_loss_step=607, train_loss_epoch=549]"
     ]
    },
    {
     "name": "stderr",
     "output_type": "stream",
     "text": [
      "`Trainer.fit` stopped: `max_epochs=69` reached.\n"
     ]
    },
    {
     "name": "stdout",
     "output_type": "stream",
     "text": [
      "Epoch 69/69: 100%|██████████| 69/69 [22:23<00:00, 19.46s/it, v_num=1, train_loss_step=607, train_loss_epoch=549]\n"
     ]
    }
   ],
   "source": [
    "import scvi\n",
    "adatas.layers[\"counts\"] = adatas.X.copy()\n",
    "scvi.model.SCVI.setup_anndata(adatas, layer=\"counts\", batch_key=\"dataset_origin\")\n",
    "vae = scvi.model.SCVI(adatas, gene_likelihood=\"nb\", n_layers=2, n_latent=30)\n",
    "vae.train()\n",
    "adatas.obsm[\"scVI\"] = vae.get_latent_representation()"
   ]
  },
  {
   "cell_type": "markdown",
   "metadata": {},
   "source": [
    "If you want to finetune parameters:"
   ]
  },
  {
   "cell_type": "code",
   "execution_count": 15,
   "metadata": {},
   "outputs": [
    {
     "name": "stdout",
     "output_type": "stream",
     "text": [
      "\u001b[34mINFO    \u001b[0m Training for \u001b[1;36m20\u001b[0m epochs.                                                                                   \n"
     ]
    },
    {
     "name": "stderr",
     "output_type": "stream",
     "text": [
      "/var/folders/3h/p1kf8x4n11lfvm53slv8wr340000gp/T/ipykernel_76783/420869213.py:2: FutureWarning: A value is trying to be set on a copy of a DataFrame or Series through chained assignment using an inplace method.\n",
      "The behavior will change in pandas 3.0. This inplace method will never work because the intermediate object on which we are setting values always behaves as a copy.\n",
      "\n",
      "For example, when doing 'df[col].method(value, inplace=True)', try using 'df.method({col: value}, inplace=True)' or df[col] = df[col].method(value) instead, to perform the operation inplace on the original object.\n",
      "\n",
      "\n",
      "  adatas.obs['celltype_integration'].fillna('unknown', inplace=True)\n",
      "/Users/andson/miniconda3/envs/mouseatlas/lib/python3.12/site-packages/scvi/data/fields/_base_field.py:64: UserWarning: adata.layers[counts] does not contain unnormalized count data. Are you sure this is what you want?\n",
      "  self.validate_field(adata)\n",
      "/Users/andson/miniconda3/envs/mouseatlas/lib/python3.12/site-packages/scvi/data/fields/_dataframe_field.py:186: UserWarning: Category 31 in adata.obs['_scvi_labels'] has fewer than 3 cells. Models may not train properly.\n",
      "  categorical_mapping = _make_column_categorical(\n",
      "/Users/andson/miniconda3/envs/mouseatlas/lib/python3.12/site-packages/scvi/data/fields/_scanvi.py:56: UserWarning: Category 31 in adata.obs['_scvi_labels'] has fewer than 3 cells. Models may not train properly.\n",
      "  mapping = _make_column_categorical(\n",
      "GPU available: True (mps), used: False\n",
      "TPU available: False, using: 0 TPU cores\n",
      "IPU available: False, using: 0 IPUs\n",
      "HPU available: False, using: 0 HPUs\n",
      "/Users/andson/miniconda3/envs/mouseatlas/lib/python3.12/site-packages/lightning/pytorch/trainer/setup.py:201: UserWarning: MPS available but not used. Set `accelerator` and `devices` using `Trainer(accelerator='mps', devices=1)`.\n",
      "  rank_zero_warn(\n"
     ]
    },
    {
     "name": "stdout",
     "output_type": "stream",
     "text": [
      "Epoch 20/20: 100%|██████████| 20/20 [28:02<00:00, 81.74s/it, v_num=1, train_loss_step=572, train_loss_epoch=539]"
     ]
    },
    {
     "name": "stderr",
     "output_type": "stream",
     "text": [
      "`Trainer.fit` stopped: `max_epochs=20` reached.\n"
     ]
    },
    {
     "name": "stdout",
     "output_type": "stream",
     "text": [
      "Epoch 20/20: 100%|██████████| 20/20 [28:02<00:00, 84.11s/it, v_num=1, train_loss_step=572, train_loss_epoch=539]\n"
     ]
    }
   ],
   "source": [
    "adatas.obs['celltype_integration'] = adatas.obs['celltype_integration'].cat.add_categories('unknown')\n",
    "adatas.obs['celltype_integration'].fillna('unknown', inplace=True)\n",
    "\n",
    "lvae = scvi.model.SCANVI.from_scvi_model(\n",
    "    vae,\n",
    "    adata=adatas,\n",
    "    labels_key=\"celltype_integration\",\n",
    "    unlabeled_category=\"unknown\",\n",
    ")\n",
    "lvae.train(max_epochs=20, n_samples_per_label=100)\n",
    "adatas.obsm[\"scANVI\"] = lvae.get_latent_representation()"
   ]
  },
  {
   "cell_type": "code",
   "execution_count": 2,
   "metadata": {},
   "outputs": [],
   "source": [
    "adatas = sc.read_h5ad(\"/Users/andson/Mouse_Atlas_Intestine/merged_LI_scib_2.h5ad\")\n"
   ]
  },
  {
   "cell_type": "code",
   "execution_count": 3,
   "metadata": {},
   "outputs": [
    {
     "name": "stderr",
     "output_type": "stream",
     "text": [
      "/Users/andson/miniconda3/envs/mouseatlas/lib/python3.12/site-packages/scanpy/preprocessing/_pca.py:385: FutureWarning: Argument `use_highly_variable` is deprecated, consider using the mask argument. Use_highly_variable=True can be called through mask_var=\"highly_variable\". Use_highly_variable=False can be called through mask_var=None\n",
      "  warn(msg, FutureWarning)\n",
      "Computing neighbors: 100%|██████████| 5/5 [01:08<00:00, 13.80s/it]\n",
      "Embeddings:   0%|\u001b[32m          \u001b[0m| 0/5 [00:00<?, ?it/s]"
     ]
    },
    {
     "name": "stdout",
     "output_type": "stream",
     "text": [
      "\u001b[34mINFO    \u001b[0m ActNeutrophil consists of a single batch or is too small. Skip.                                           \n",
      "\u001b[34mINFO    \u001b[0m AltEnteroPC consists of a single batch or is too small. Skip.                                             \n"
     ]
    },
    {
     "name": "stderr",
     "output_type": "stream",
     "text": [
      "/Users/andson/miniconda3/envs/mouseatlas/lib/python3.12/site-packages/scib_metrics/_kbet.py:181: FutureWarning: pandas.value_counts is deprecated and will be removed in a future version. Use pd.Series(obj).value_counts() instead.\n",
      "  comp_size = pd.value_counts(labs)\n"
     ]
    },
    {
     "name": "stdout",
     "output_type": "stream",
     "text": [
      "\u001b[34mINFO    \u001b[0m BasalGoblet consists of a single batch or is too small. Skip.                                             \n",
      "\u001b[34mINFO    \u001b[0m Bcell_IgM consists of a single batch or is too small. Skip.                                               \n",
      "\u001b[34mINFO    \u001b[0m DC consists of a single batch or is too small. Skip.                                                      \n"
     ]
    },
    {
     "name": "stderr",
     "output_type": "stream",
     "text": [
      "/Users/andson/miniconda3/envs/mouseatlas/lib/python3.12/site-packages/scib_metrics/_kbet.py:181: FutureWarning: pandas.value_counts is deprecated and will be removed in a future version. Use pd.Series(obj).value_counts() instead.\n",
      "  comp_size = pd.value_counts(labs)\n"
     ]
    },
    {
     "name": "stdout",
     "output_type": "stream",
     "text": [
      "\u001b[34mINFO    \u001b[0m EnteroPrecur consists of a single batch or is too small. Skip.                                            \n"
     ]
    },
    {
     "name": "stderr",
     "output_type": "stream",
     "text": [
      "/Users/andson/miniconda3/envs/mouseatlas/lib/python3.12/site-packages/scib_metrics/_kbet.py:181: FutureWarning: pandas.value_counts is deprecated and will be removed in a future version. Use pd.Series(obj).value_counts() instead.\n",
      "  comp_size = pd.value_counts(labs)\n",
      "/Users/andson/miniconda3/envs/mouseatlas/lib/python3.12/site-packages/scib_metrics/_kbet.py:181: FutureWarning: pandas.value_counts is deprecated and will be removed in a future version. Use pd.Series(obj).value_counts() instead.\n",
      "  comp_size = pd.value_counts(labs)\n",
      "/Users/andson/miniconda3/envs/mouseatlas/lib/python3.12/site-packages/scib_metrics/_kbet.py:181: FutureWarning: pandas.value_counts is deprecated and will be removed in a future version. Use pd.Series(obj).value_counts() instead.\n",
      "  comp_size = pd.value_counts(labs)\n",
      "/Users/andson/miniconda3/envs/mouseatlas/lib/python3.12/site-packages/scib_metrics/_kbet.py:181: FutureWarning: pandas.value_counts is deprecated and will be removed in a future version. Use pd.Series(obj).value_counts() instead.\n",
      "  comp_size = pd.value_counts(labs)\n",
      "/Users/andson/miniconda3/envs/mouseatlas/lib/python3.12/site-packages/scib_metrics/_kbet.py:181: FutureWarning: pandas.value_counts is deprecated and will be removed in a future version. Use pd.Series(obj).value_counts() instead.\n",
      "  comp_size = pd.value_counts(labs)\n"
     ]
    },
    {
     "name": "stdout",
     "output_type": "stream",
     "text": [
      "\u001b[34mINFO    \u001b[0m InjuryMono consists of a single batch or is too small. Skip.                                              \n"
     ]
    },
    {
     "name": "stderr",
     "output_type": "stream",
     "text": [
      "/Users/andson/miniconda3/envs/mouseatlas/lib/python3.12/site-packages/scib_metrics/_kbet.py:181: FutureWarning: pandas.value_counts is deprecated and will be removed in a future version. Use pd.Series(obj).value_counts() instead.\n",
      "  comp_size = pd.value_counts(labs)\n",
      "/Users/andson/miniconda3/envs/mouseatlas/lib/python3.12/site-packages/scib_metrics/_kbet.py:181: FutureWarning: pandas.value_counts is deprecated and will be removed in a future version. Use pd.Series(obj).value_counts() instead.\n",
      "  comp_size = pd.value_counts(labs)\n"
     ]
    },
    {
     "name": "stdout",
     "output_type": "stream",
     "text": [
      "\u001b[34mINFO    \u001b[0m Macrophage consists of a single batch or is too small. Skip.                                              \n"
     ]
    },
    {
     "name": "stderr",
     "output_type": "stream",
     "text": [
      "/Users/andson/miniconda3/envs/mouseatlas/lib/python3.12/site-packages/scib_metrics/_kbet.py:181: FutureWarning: pandas.value_counts is deprecated and will be removed in a future version. Use pd.Series(obj).value_counts() instead.\n",
      "  comp_size = pd.value_counts(labs)\n",
      "/Users/andson/miniconda3/envs/mouseatlas/lib/python3.12/site-packages/scib_metrics/_kbet.py:181: FutureWarning: pandas.value_counts is deprecated and will be removed in a future version. Use pd.Series(obj).value_counts() instead.\n",
      "  comp_size = pd.value_counts(labs)\n"
     ]
    },
    {
     "name": "stdout",
     "output_type": "stream",
     "text": [
      "\u001b[34mINFO    \u001b[0m Plasma_IgA consists of a single batch or is too small. Skip.                                              \n"
     ]
    },
    {
     "name": "stderr",
     "output_type": "stream",
     "text": [
      "/Users/andson/miniconda3/envs/mouseatlas/lib/python3.12/site-packages/scib_metrics/_kbet.py:181: FutureWarning: pandas.value_counts is deprecated and will be removed in a future version. Use pd.Series(obj).value_counts() instead.\n",
      "  comp_size = pd.value_counts(labs)\n",
      "/Users/andson/miniconda3/envs/mouseatlas/lib/python3.12/site-packages/scib_metrics/_kbet.py:181: FutureWarning: pandas.value_counts is deprecated and will be removed in a future version. Use pd.Series(obj).value_counts() instead.\n",
      "  comp_size = pd.value_counts(labs)\n",
      "/Users/andson/miniconda3/envs/mouseatlas/lib/python3.12/site-packages/scib_metrics/_kbet.py:181: FutureWarning: pandas.value_counts is deprecated and will be removed in a future version. Use pd.Series(obj).value_counts() instead.\n",
      "  comp_size = pd.value_counts(labs)\n",
      "/Users/andson/miniconda3/envs/mouseatlas/lib/python3.12/site-packages/scib_metrics/_kbet.py:181: FutureWarning: pandas.value_counts is deprecated and will be removed in a future version. Use pd.Series(obj).value_counts() instead.\n",
      "  comp_size = pd.value_counts(labs)\n",
      "/Users/andson/miniconda3/envs/mouseatlas/lib/python3.12/site-packages/scib_metrics/_kbet.py:181: FutureWarning: pandas.value_counts is deprecated and will be removed in a future version. Use pd.Series(obj).value_counts() instead.\n",
      "  comp_size = pd.value_counts(labs)\n"
     ]
    },
    {
     "name": "stdout",
     "output_type": "stream",
     "text": [
      "\u001b[34mINFO    \u001b[0m VascEndo consists of a single batch or is too small. Skip.                                                \n",
      "\u001b[34mINFO    \u001b[0m VascSmMuscle1 consists of a single batch or is too small. Skip.                                           \n",
      "\u001b[34mINFO    \u001b[0m VascSmMuscle2 consists of a single batch or is too small. Skip.                                           \n"
     ]
    },
    {
     "name": "stderr",
     "output_type": "stream",
     "text": [
      "/Users/andson/miniconda3/envs/mouseatlas/lib/python3.12/site-packages/scib_metrics/_kbet.py:181: FutureWarning: pandas.value_counts is deprecated and will be removed in a future version. Use pd.Series(obj).value_counts() instead.\n",
      "  comp_size = pd.value_counts(labs)\n",
      "/Users/andson/miniconda3/envs/mouseatlas/lib/python3.12/site-packages/scib_metrics/_graph_connectivity.py:30: FutureWarning: pandas.value_counts is deprecated and will be removed in a future version. Use pd.Series(obj).value_counts() instead.\n",
      "  tab = pd.value_counts(comps)\n",
      "/Users/andson/miniconda3/envs/mouseatlas/lib/python3.12/site-packages/scib_metrics/_pcr_comparison.py:49: UserWarning: PCR comparison score is negative, meaning variance contribution increased after integration. Setting to 0.\n",
      "  warnings.warn(\n",
      "Embeddings:  20%|\u001b[32m██        \u001b[0m| 1/5 [01:56<07:45, 116.40s/it]"
     ]
    },
    {
     "name": "stdout",
     "output_type": "stream",
     "text": [
      "\u001b[34mINFO    \u001b[0m ActNeutrophil consists of a single batch or is too small. Skip.                                           \n",
      "\u001b[34mINFO    \u001b[0m AltEnteroPC consists of a single batch or is too small. Skip.                                             \n"
     ]
    },
    {
     "name": "stderr",
     "output_type": "stream",
     "text": [
      "/Users/andson/miniconda3/envs/mouseatlas/lib/python3.12/site-packages/scib_metrics/_kbet.py:181: FutureWarning: pandas.value_counts is deprecated and will be removed in a future version. Use pd.Series(obj).value_counts() instead.\n",
      "  comp_size = pd.value_counts(labs)\n"
     ]
    },
    {
     "name": "stdout",
     "output_type": "stream",
     "text": [
      "\u001b[34mINFO    \u001b[0m BasalGoblet consists of a single batch or is too small. Skip.                                             \n",
      "\u001b[34mINFO    \u001b[0m Bcell_IgM consists of a single batch or is too small. Skip.                                               \n",
      "\u001b[34mINFO    \u001b[0m DC consists of a single batch or is too small. Skip.                                                      \n"
     ]
    },
    {
     "name": "stderr",
     "output_type": "stream",
     "text": [
      "/Users/andson/miniconda3/envs/mouseatlas/lib/python3.12/site-packages/scib_metrics/_kbet.py:181: FutureWarning: pandas.value_counts is deprecated and will be removed in a future version. Use pd.Series(obj).value_counts() instead.\n",
      "  comp_size = pd.value_counts(labs)\n"
     ]
    },
    {
     "name": "stdout",
     "output_type": "stream",
     "text": [
      "\u001b[34mINFO    \u001b[0m EnteroPrecur consists of a single batch or is too small. Skip.                                            \n"
     ]
    },
    {
     "name": "stderr",
     "output_type": "stream",
     "text": [
      "/Users/andson/miniconda3/envs/mouseatlas/lib/python3.12/site-packages/scib_metrics/_kbet.py:181: FutureWarning: pandas.value_counts is deprecated and will be removed in a future version. Use pd.Series(obj).value_counts() instead.\n",
      "  comp_size = pd.value_counts(labs)\n",
      "/Users/andson/miniconda3/envs/mouseatlas/lib/python3.12/site-packages/scib_metrics/_kbet.py:181: FutureWarning: pandas.value_counts is deprecated and will be removed in a future version. Use pd.Series(obj).value_counts() instead.\n",
      "  comp_size = pd.value_counts(labs)\n",
      "/Users/andson/miniconda3/envs/mouseatlas/lib/python3.12/site-packages/scib_metrics/_kbet.py:181: FutureWarning: pandas.value_counts is deprecated and will be removed in a future version. Use pd.Series(obj).value_counts() instead.\n",
      "  comp_size = pd.value_counts(labs)\n",
      "/Users/andson/miniconda3/envs/mouseatlas/lib/python3.12/site-packages/scib_metrics/_kbet.py:181: FutureWarning: pandas.value_counts is deprecated and will be removed in a future version. Use pd.Series(obj).value_counts() instead.\n",
      "  comp_size = pd.value_counts(labs)\n"
     ]
    },
    {
     "name": "stdout",
     "output_type": "stream",
     "text": [
      "\u001b[34mINFO    \u001b[0m InjuryMono consists of a single batch or is too small. Skip.                                              \n"
     ]
    },
    {
     "name": "stderr",
     "output_type": "stream",
     "text": [
      "/Users/andson/miniconda3/envs/mouseatlas/lib/python3.12/site-packages/scib_metrics/_kbet.py:181: FutureWarning: pandas.value_counts is deprecated and will be removed in a future version. Use pd.Series(obj).value_counts() instead.\n",
      "  comp_size = pd.value_counts(labs)\n",
      "/Users/andson/miniconda3/envs/mouseatlas/lib/python3.12/site-packages/scib_metrics/_kbet.py:181: FutureWarning: pandas.value_counts is deprecated and will be removed in a future version. Use pd.Series(obj).value_counts() instead.\n",
      "  comp_size = pd.value_counts(labs)\n"
     ]
    },
    {
     "name": "stdout",
     "output_type": "stream",
     "text": [
      "\u001b[34mINFO    \u001b[0m Macrophage consists of a single batch or is too small. Skip.                                              \n"
     ]
    },
    {
     "name": "stderr",
     "output_type": "stream",
     "text": [
      "/Users/andson/miniconda3/envs/mouseatlas/lib/python3.12/site-packages/scib_metrics/_kbet.py:181: FutureWarning: pandas.value_counts is deprecated and will be removed in a future version. Use pd.Series(obj).value_counts() instead.\n",
      "  comp_size = pd.value_counts(labs)\n",
      "/Users/andson/miniconda3/envs/mouseatlas/lib/python3.12/site-packages/scib_metrics/_kbet.py:181: FutureWarning: pandas.value_counts is deprecated and will be removed in a future version. Use pd.Series(obj).value_counts() instead.\n",
      "  comp_size = pd.value_counts(labs)\n",
      "/Users/andson/miniconda3/envs/mouseatlas/lib/python3.12/site-packages/scib_metrics/_kbet.py:181: FutureWarning: pandas.value_counts is deprecated and will be removed in a future version. Use pd.Series(obj).value_counts() instead.\n",
      "  comp_size = pd.value_counts(labs)\n"
     ]
    },
    {
     "name": "stdout",
     "output_type": "stream",
     "text": [
      "\u001b[34mINFO    \u001b[0m Plasma_IgA consists of a single batch or is too small. Skip.                                              \n"
     ]
    },
    {
     "name": "stderr",
     "output_type": "stream",
     "text": [
      "/Users/andson/miniconda3/envs/mouseatlas/lib/python3.12/site-packages/scib_metrics/_kbet.py:181: FutureWarning: pandas.value_counts is deprecated and will be removed in a future version. Use pd.Series(obj).value_counts() instead.\n",
      "  comp_size = pd.value_counts(labs)\n",
      "/Users/andson/miniconda3/envs/mouseatlas/lib/python3.12/site-packages/scib_metrics/_kbet.py:181: FutureWarning: pandas.value_counts is deprecated and will be removed in a future version. Use pd.Series(obj).value_counts() instead.\n",
      "  comp_size = pd.value_counts(labs)\n",
      "/Users/andson/miniconda3/envs/mouseatlas/lib/python3.12/site-packages/scib_metrics/_kbet.py:181: FutureWarning: pandas.value_counts is deprecated and will be removed in a future version. Use pd.Series(obj).value_counts() instead.\n",
      "  comp_size = pd.value_counts(labs)\n",
      "/Users/andson/miniconda3/envs/mouseatlas/lib/python3.12/site-packages/scib_metrics/_kbet.py:181: FutureWarning: pandas.value_counts is deprecated and will be removed in a future version. Use pd.Series(obj).value_counts() instead.\n",
      "  comp_size = pd.value_counts(labs)\n",
      "/Users/andson/miniconda3/envs/mouseatlas/lib/python3.12/site-packages/scib_metrics/_kbet.py:181: FutureWarning: pandas.value_counts is deprecated and will be removed in a future version. Use pd.Series(obj).value_counts() instead.\n",
      "  comp_size = pd.value_counts(labs)\n"
     ]
    },
    {
     "name": "stdout",
     "output_type": "stream",
     "text": [
      "\u001b[34mINFO    \u001b[0m VascEndo consists of a single batch or is too small. Skip.                                                \n",
      "\u001b[34mINFO    \u001b[0m VascSmMuscle1 consists of a single batch or is too small. Skip.                                           \n",
      "\u001b[34mINFO    \u001b[0m VascSmMuscle2 consists of a single batch or is too small. Skip.                                           \n"
     ]
    },
    {
     "name": "stderr",
     "output_type": "stream",
     "text": [
      "/Users/andson/miniconda3/envs/mouseatlas/lib/python3.12/site-packages/scib_metrics/_kbet.py:181: FutureWarning: pandas.value_counts is deprecated and will be removed in a future version. Use pd.Series(obj).value_counts() instead.\n",
      "  comp_size = pd.value_counts(labs)\n",
      "/Users/andson/miniconda3/envs/mouseatlas/lib/python3.12/site-packages/scib_metrics/_graph_connectivity.py:30: FutureWarning: pandas.value_counts is deprecated and will be removed in a future version. Use pd.Series(obj).value_counts() instead.\n",
      "  tab = pd.value_counts(comps)\n",
      "Embeddings:  40%|\u001b[32m████      \u001b[0m| 2/5 [5:46:05<10:09:43, 12194.34s/it]"
     ]
    },
    {
     "name": "stdout",
     "output_type": "stream",
     "text": [
      "\u001b[34mINFO    \u001b[0m ActNeutrophil consists of a single batch or is too small. Skip.                                           \n",
      "\u001b[34mINFO    \u001b[0m AltEnteroPC consists of a single batch or is too small. Skip.                                             \n"
     ]
    },
    {
     "name": "stderr",
     "output_type": "stream",
     "text": [
      "/Users/andson/miniconda3/envs/mouseatlas/lib/python3.12/site-packages/scib_metrics/_kbet.py:181: FutureWarning: pandas.value_counts is deprecated and will be removed in a future version. Use pd.Series(obj).value_counts() instead.\n",
      "  comp_size = pd.value_counts(labs)\n"
     ]
    },
    {
     "name": "stdout",
     "output_type": "stream",
     "text": [
      "\u001b[34mINFO    \u001b[0m BasalGoblet consists of a single batch or is too small. Skip.                                             \n",
      "\u001b[34mINFO    \u001b[0m Bcell_IgM consists of a single batch or is too small. Skip.                                               \n",
      "\u001b[34mINFO    \u001b[0m DC consists of a single batch or is too small. Skip.                                                      \n"
     ]
    },
    {
     "name": "stderr",
     "output_type": "stream",
     "text": [
      "/Users/andson/miniconda3/envs/mouseatlas/lib/python3.12/site-packages/scib_metrics/_kbet.py:181: FutureWarning: pandas.value_counts is deprecated and will be removed in a future version. Use pd.Series(obj).value_counts() instead.\n",
      "  comp_size = pd.value_counts(labs)\n"
     ]
    },
    {
     "name": "stdout",
     "output_type": "stream",
     "text": [
      "\u001b[34mINFO    \u001b[0m EnteroPrecur consists of a single batch or is too small. Skip.                                            \n"
     ]
    },
    {
     "name": "stderr",
     "output_type": "stream",
     "text": [
      "/Users/andson/miniconda3/envs/mouseatlas/lib/python3.12/site-packages/scib_metrics/_kbet.py:181: FutureWarning: pandas.value_counts is deprecated and will be removed in a future version. Use pd.Series(obj).value_counts() instead.\n",
      "  comp_size = pd.value_counts(labs)\n",
      "/Users/andson/miniconda3/envs/mouseatlas/lib/python3.12/site-packages/scib_metrics/_kbet.py:181: FutureWarning: pandas.value_counts is deprecated and will be removed in a future version. Use pd.Series(obj).value_counts() instead.\n",
      "  comp_size = pd.value_counts(labs)\n",
      "/Users/andson/miniconda3/envs/mouseatlas/lib/python3.12/site-packages/scib_metrics/_kbet.py:181: FutureWarning: pandas.value_counts is deprecated and will be removed in a future version. Use pd.Series(obj).value_counts() instead.\n",
      "  comp_size = pd.value_counts(labs)\n",
      "/Users/andson/miniconda3/envs/mouseatlas/lib/python3.12/site-packages/scib_metrics/_kbet.py:181: FutureWarning: pandas.value_counts is deprecated and will be removed in a future version. Use pd.Series(obj).value_counts() instead.\n",
      "  comp_size = pd.value_counts(labs)\n",
      "/Users/andson/miniconda3/envs/mouseatlas/lib/python3.12/site-packages/scib_metrics/_kbet.py:181: FutureWarning: pandas.value_counts is deprecated and will be removed in a future version. Use pd.Series(obj).value_counts() instead.\n",
      "  comp_size = pd.value_counts(labs)\n",
      "/Users/andson/miniconda3/envs/mouseatlas/lib/python3.12/site-packages/scib_metrics/_kbet.py:181: FutureWarning: pandas.value_counts is deprecated and will be removed in a future version. Use pd.Series(obj).value_counts() instead.\n",
      "  comp_size = pd.value_counts(labs)\n"
     ]
    },
    {
     "name": "stdout",
     "output_type": "stream",
     "text": [
      "\u001b[34mINFO    \u001b[0m InjuryMono consists of a single batch or is too small. Skip.                                              \n"
     ]
    },
    {
     "name": "stderr",
     "output_type": "stream",
     "text": [
      "/Users/andson/miniconda3/envs/mouseatlas/lib/python3.12/site-packages/scib_metrics/_kbet.py:181: FutureWarning: pandas.value_counts is deprecated and will be removed in a future version. Use pd.Series(obj).value_counts() instead.\n",
      "  comp_size = pd.value_counts(labs)\n",
      "/Users/andson/miniconda3/envs/mouseatlas/lib/python3.12/site-packages/scib_metrics/_kbet.py:181: FutureWarning: pandas.value_counts is deprecated and will be removed in a future version. Use pd.Series(obj).value_counts() instead.\n",
      "  comp_size = pd.value_counts(labs)\n"
     ]
    },
    {
     "name": "stdout",
     "output_type": "stream",
     "text": [
      "\u001b[34mINFO    \u001b[0m Macrophage consists of a single batch or is too small. Skip.                                              \n"
     ]
    },
    {
     "name": "stderr",
     "output_type": "stream",
     "text": [
      "/Users/andson/miniconda3/envs/mouseatlas/lib/python3.12/site-packages/scib_metrics/_kbet.py:181: FutureWarning: pandas.value_counts is deprecated and will be removed in a future version. Use pd.Series(obj).value_counts() instead.\n",
      "  comp_size = pd.value_counts(labs)\n",
      "/Users/andson/miniconda3/envs/mouseatlas/lib/python3.12/site-packages/scib_metrics/_kbet.py:181: FutureWarning: pandas.value_counts is deprecated and will be removed in a future version. Use pd.Series(obj).value_counts() instead.\n",
      "  comp_size = pd.value_counts(labs)\n",
      "/Users/andson/miniconda3/envs/mouseatlas/lib/python3.12/site-packages/scib_metrics/_kbet.py:181: FutureWarning: pandas.value_counts is deprecated and will be removed in a future version. Use pd.Series(obj).value_counts() instead.\n",
      "  comp_size = pd.value_counts(labs)\n"
     ]
    },
    {
     "name": "stdout",
     "output_type": "stream",
     "text": [
      "\u001b[34mINFO    \u001b[0m Plasma_IgA consists of a single batch or is too small. Skip.                                              \n"
     ]
    },
    {
     "name": "stderr",
     "output_type": "stream",
     "text": [
      "/Users/andson/miniconda3/envs/mouseatlas/lib/python3.12/site-packages/scib_metrics/_kbet.py:181: FutureWarning: pandas.value_counts is deprecated and will be removed in a future version. Use pd.Series(obj).value_counts() instead.\n",
      "  comp_size = pd.value_counts(labs)\n",
      "/Users/andson/miniconda3/envs/mouseatlas/lib/python3.12/site-packages/scib_metrics/_kbet.py:181: FutureWarning: pandas.value_counts is deprecated and will be removed in a future version. Use pd.Series(obj).value_counts() instead.\n",
      "  comp_size = pd.value_counts(labs)\n",
      "/Users/andson/miniconda3/envs/mouseatlas/lib/python3.12/site-packages/scib_metrics/_kbet.py:181: FutureWarning: pandas.value_counts is deprecated and will be removed in a future version. Use pd.Series(obj).value_counts() instead.\n",
      "  comp_size = pd.value_counts(labs)\n",
      "/Users/andson/miniconda3/envs/mouseatlas/lib/python3.12/site-packages/scib_metrics/_kbet.py:181: FutureWarning: pandas.value_counts is deprecated and will be removed in a future version. Use pd.Series(obj).value_counts() instead.\n",
      "  comp_size = pd.value_counts(labs)\n"
     ]
    },
    {
     "name": "stdout",
     "output_type": "stream",
     "text": [
      "\u001b[34mINFO    \u001b[0m VascEndo consists of a single batch or is too small. Skip.                                                \n",
      "\u001b[34mINFO    \u001b[0m VascSmMuscle1 consists of a single batch or is too small. Skip.                                           \n",
      "\u001b[34mINFO    \u001b[0m VascSmMuscle2 consists of a single batch or is too small. Skip.                                           \n"
     ]
    },
    {
     "name": "stderr",
     "output_type": "stream",
     "text": [
      "/Users/andson/miniconda3/envs/mouseatlas/lib/python3.12/site-packages/scib_metrics/_kbet.py:181: FutureWarning: pandas.value_counts is deprecated and will be removed in a future version. Use pd.Series(obj).value_counts() instead.\n",
      "  comp_size = pd.value_counts(labs)\n",
      "/Users/andson/miniconda3/envs/mouseatlas/lib/python3.12/site-packages/scib_metrics/_kbet.py:181: FutureWarning: pandas.value_counts is deprecated and will be removed in a future version. Use pd.Series(obj).value_counts() instead.\n",
      "  comp_size = pd.value_counts(labs)\n",
      "/Users/andson/miniconda3/envs/mouseatlas/lib/python3.12/site-packages/scib_metrics/_graph_connectivity.py:30: FutureWarning: pandas.value_counts is deprecated and will be removed in a future version. Use pd.Series(obj).value_counts() instead.\n",
      "  tab = pd.value_counts(comps)\n",
      "Embeddings:  60%|\u001b[32m██████    \u001b[0m| 3/5 [5:47:45<3:42:23, 6671.79s/it]  "
     ]
    },
    {
     "name": "stdout",
     "output_type": "stream",
     "text": [
      "\u001b[34mINFO    \u001b[0m ActNeutrophil consists of a single batch or is too small. Skip.                                           \n",
      "\u001b[34mINFO    \u001b[0m AltEnteroPC consists of a single batch or is too small. Skip.                                             \n",
      "\u001b[34mINFO    \u001b[0m BasalGoblet consists of a single batch or is too small. Skip.                                             \n",
      "\u001b[34mINFO    \u001b[0m Bcell_IgM consists of a single batch or is too small. Skip.                                               \n",
      "\u001b[34mINFO    \u001b[0m DC consists of a single batch or is too small. Skip.                                                      \n"
     ]
    },
    {
     "name": "stderr",
     "output_type": "stream",
     "text": [
      "/Users/andson/miniconda3/envs/mouseatlas/lib/python3.12/site-packages/scib_metrics/_kbet.py:181: FutureWarning: pandas.value_counts is deprecated and will be removed in a future version. Use pd.Series(obj).value_counts() instead.\n",
      "  comp_size = pd.value_counts(labs)\n",
      "/Users/andson/miniconda3/envs/mouseatlas/lib/python3.12/site-packages/scib_metrics/_kbet.py:181: FutureWarning: pandas.value_counts is deprecated and will be removed in a future version. Use pd.Series(obj).value_counts() instead.\n",
      "  comp_size = pd.value_counts(labs)\n"
     ]
    },
    {
     "name": "stdout",
     "output_type": "stream",
     "text": [
      "\u001b[34mINFO    \u001b[0m EnteroPrecur consists of a single batch or is too small. Skip.                                            \n"
     ]
    },
    {
     "name": "stderr",
     "output_type": "stream",
     "text": [
      "/Users/andson/miniconda3/envs/mouseatlas/lib/python3.12/site-packages/scib_metrics/_kbet.py:181: FutureWarning: pandas.value_counts is deprecated and will be removed in a future version. Use pd.Series(obj).value_counts() instead.\n",
      "  comp_size = pd.value_counts(labs)\n",
      "/Users/andson/miniconda3/envs/mouseatlas/lib/python3.12/site-packages/scib_metrics/_kbet.py:181: FutureWarning: pandas.value_counts is deprecated and will be removed in a future version. Use pd.Series(obj).value_counts() instead.\n",
      "  comp_size = pd.value_counts(labs)\n",
      "/Users/andson/miniconda3/envs/mouseatlas/lib/python3.12/site-packages/scib_metrics/_kbet.py:181: FutureWarning: pandas.value_counts is deprecated and will be removed in a future version. Use pd.Series(obj).value_counts() instead.\n",
      "  comp_size = pd.value_counts(labs)\n",
      "/Users/andson/miniconda3/envs/mouseatlas/lib/python3.12/site-packages/scib_metrics/_kbet.py:181: FutureWarning: pandas.value_counts is deprecated and will be removed in a future version. Use pd.Series(obj).value_counts() instead.\n",
      "  comp_size = pd.value_counts(labs)\n"
     ]
    },
    {
     "name": "stdout",
     "output_type": "stream",
     "text": [
      "\u001b[34mINFO    \u001b[0m InjuryMono consists of a single batch or is too small. Skip.                                              \n"
     ]
    },
    {
     "name": "stderr",
     "output_type": "stream",
     "text": [
      "/Users/andson/miniconda3/envs/mouseatlas/lib/python3.12/site-packages/scib_metrics/_kbet.py:181: FutureWarning: pandas.value_counts is deprecated and will be removed in a future version. Use pd.Series(obj).value_counts() instead.\n",
      "  comp_size = pd.value_counts(labs)\n"
     ]
    },
    {
     "name": "stdout",
     "output_type": "stream",
     "text": [
      "\u001b[34mINFO    \u001b[0m Macrophage consists of a single batch or is too small. Skip.                                              \n"
     ]
    },
    {
     "name": "stderr",
     "output_type": "stream",
     "text": [
      "/Users/andson/miniconda3/envs/mouseatlas/lib/python3.12/site-packages/scib_metrics/_kbet.py:181: FutureWarning: pandas.value_counts is deprecated and will be removed in a future version. Use pd.Series(obj).value_counts() instead.\n",
      "  comp_size = pd.value_counts(labs)\n",
      "/Users/andson/miniconda3/envs/mouseatlas/lib/python3.12/site-packages/scib_metrics/_kbet.py:181: FutureWarning: pandas.value_counts is deprecated and will be removed in a future version. Use pd.Series(obj).value_counts() instead.\n",
      "  comp_size = pd.value_counts(labs)\n",
      "/Users/andson/miniconda3/envs/mouseatlas/lib/python3.12/site-packages/scib_metrics/_kbet.py:181: FutureWarning: pandas.value_counts is deprecated and will be removed in a future version. Use pd.Series(obj).value_counts() instead.\n",
      "  comp_size = pd.value_counts(labs)\n"
     ]
    },
    {
     "name": "stdout",
     "output_type": "stream",
     "text": [
      "\u001b[34mINFO    \u001b[0m Plasma_IgA consists of a single batch or is too small. Skip.                                              \n"
     ]
    },
    {
     "name": "stderr",
     "output_type": "stream",
     "text": [
      "/Users/andson/miniconda3/envs/mouseatlas/lib/python3.12/site-packages/scib_metrics/_kbet.py:181: FutureWarning: pandas.value_counts is deprecated and will be removed in a future version. Use pd.Series(obj).value_counts() instead.\n",
      "  comp_size = pd.value_counts(labs)\n",
      "/Users/andson/miniconda3/envs/mouseatlas/lib/python3.12/site-packages/scib_metrics/_kbet.py:181: FutureWarning: pandas.value_counts is deprecated and will be removed in a future version. Use pd.Series(obj).value_counts() instead.\n",
      "  comp_size = pd.value_counts(labs)\n",
      "/Users/andson/miniconda3/envs/mouseatlas/lib/python3.12/site-packages/scib_metrics/_kbet.py:181: FutureWarning: pandas.value_counts is deprecated and will be removed in a future version. Use pd.Series(obj).value_counts() instead.\n",
      "  comp_size = pd.value_counts(labs)\n",
      "/Users/andson/miniconda3/envs/mouseatlas/lib/python3.12/site-packages/scib_metrics/_kbet.py:181: FutureWarning: pandas.value_counts is deprecated and will be removed in a future version. Use pd.Series(obj).value_counts() instead.\n",
      "  comp_size = pd.value_counts(labs)\n"
     ]
    },
    {
     "name": "stdout",
     "output_type": "stream",
     "text": [
      "\u001b[34mINFO    \u001b[0m VascEndo consists of a single batch or is too small. Skip.                                                \n",
      "\u001b[34mINFO    \u001b[0m VascSmMuscle1 consists of a single batch or is too small. Skip.                                           \n",
      "\u001b[34mINFO    \u001b[0m VascSmMuscle2 consists of a single batch or is too small. Skip.                                           \n"
     ]
    },
    {
     "name": "stderr",
     "output_type": "stream",
     "text": [
      "/Users/andson/miniconda3/envs/mouseatlas/lib/python3.12/site-packages/scib_metrics/_kbet.py:181: FutureWarning: pandas.value_counts is deprecated and will be removed in a future version. Use pd.Series(obj).value_counts() instead.\n",
      "  comp_size = pd.value_counts(labs)\n",
      "/Users/andson/miniconda3/envs/mouseatlas/lib/python3.12/site-packages/scib_metrics/_kbet.py:181: FutureWarning: pandas.value_counts is deprecated and will be removed in a future version. Use pd.Series(obj).value_counts() instead.\n",
      "  comp_size = pd.value_counts(labs)\n",
      "/Users/andson/miniconda3/envs/mouseatlas/lib/python3.12/site-packages/scib_metrics/_graph_connectivity.py:30: FutureWarning: pandas.value_counts is deprecated and will be removed in a future version. Use pd.Series(obj).value_counts() instead.\n",
      "  tab = pd.value_counts(comps)\n",
      "Embeddings:  80%|\u001b[32m████████  \u001b[0m| 4/5 [5:49:27<1:07:58, 4078.27s/it]"
     ]
    },
    {
     "name": "stdout",
     "output_type": "stream",
     "text": [
      "\u001b[34mINFO    \u001b[0m ActNeutrophil consists of a single batch or is too small. Skip.                                           \n",
      "\u001b[34mINFO    \u001b[0m AltEnteroPC consists of a single batch or is too small. Skip.                                             \n",
      "\u001b[34mINFO    \u001b[0m BasalGoblet consists of a single batch or is too small. Skip.                                             \n",
      "\u001b[34mINFO    \u001b[0m Bcell_IgM consists of a single batch or is too small. Skip.                                               \n",
      "\u001b[34mINFO    \u001b[0m DC consists of a single batch or is too small. Skip.                                                      \n",
      "\u001b[34mINFO    \u001b[0m EnteroPrecur consists of a single batch or is too small. Skip.                                            \n"
     ]
    },
    {
     "name": "stderr",
     "output_type": "stream",
     "text": [
      "/Users/andson/miniconda3/envs/mouseatlas/lib/python3.12/site-packages/scib_metrics/_kbet.py:181: FutureWarning: pandas.value_counts is deprecated and will be removed in a future version. Use pd.Series(obj).value_counts() instead.\n",
      "  comp_size = pd.value_counts(labs)\n",
      "/Users/andson/miniconda3/envs/mouseatlas/lib/python3.12/site-packages/scib_metrics/_kbet.py:181: FutureWarning: pandas.value_counts is deprecated and will be removed in a future version. Use pd.Series(obj).value_counts() instead.\n",
      "  comp_size = pd.value_counts(labs)\n",
      "/Users/andson/miniconda3/envs/mouseatlas/lib/python3.12/site-packages/scib_metrics/_kbet.py:181: FutureWarning: pandas.value_counts is deprecated and will be removed in a future version. Use pd.Series(obj).value_counts() instead.\n",
      "  comp_size = pd.value_counts(labs)\n",
      "/Users/andson/miniconda3/envs/mouseatlas/lib/python3.12/site-packages/scib_metrics/_kbet.py:181: FutureWarning: pandas.value_counts is deprecated and will be removed in a future version. Use pd.Series(obj).value_counts() instead.\n",
      "  comp_size = pd.value_counts(labs)\n"
     ]
    },
    {
     "name": "stdout",
     "output_type": "stream",
     "text": [
      "\u001b[34mINFO    \u001b[0m InjuryMono consists of a single batch or is too small. Skip.                                              \n"
     ]
    },
    {
     "name": "stderr",
     "output_type": "stream",
     "text": [
      "/Users/andson/miniconda3/envs/mouseatlas/lib/python3.12/site-packages/scib_metrics/_kbet.py:181: FutureWarning: pandas.value_counts is deprecated and will be removed in a future version. Use pd.Series(obj).value_counts() instead.\n",
      "  comp_size = pd.value_counts(labs)\n"
     ]
    },
    {
     "name": "stdout",
     "output_type": "stream",
     "text": [
      "\u001b[34mINFO    \u001b[0m Macrophage consists of a single batch or is too small. Skip.                                              \n"
     ]
    },
    {
     "name": "stderr",
     "output_type": "stream",
     "text": [
      "/Users/andson/miniconda3/envs/mouseatlas/lib/python3.12/site-packages/scib_metrics/_kbet.py:181: FutureWarning: pandas.value_counts is deprecated and will be removed in a future version. Use pd.Series(obj).value_counts() instead.\n",
      "  comp_size = pd.value_counts(labs)\n"
     ]
    },
    {
     "name": "stdout",
     "output_type": "stream",
     "text": [
      "\u001b[34mINFO    \u001b[0m Plasma_IgA consists of a single batch or is too small. Skip.                                              \n"
     ]
    },
    {
     "name": "stderr",
     "output_type": "stream",
     "text": [
      "/Users/andson/miniconda3/envs/mouseatlas/lib/python3.12/site-packages/scib_metrics/_kbet.py:181: FutureWarning: pandas.value_counts is deprecated and will be removed in a future version. Use pd.Series(obj).value_counts() instead.\n",
      "  comp_size = pd.value_counts(labs)\n",
      "/Users/andson/miniconda3/envs/mouseatlas/lib/python3.12/site-packages/scib_metrics/_kbet.py:181: FutureWarning: pandas.value_counts is deprecated and will be removed in a future version. Use pd.Series(obj).value_counts() instead.\n",
      "  comp_size = pd.value_counts(labs)\n",
      "/Users/andson/miniconda3/envs/mouseatlas/lib/python3.12/site-packages/scib_metrics/_kbet.py:181: FutureWarning: pandas.value_counts is deprecated and will be removed in a future version. Use pd.Series(obj).value_counts() instead.\n",
      "  comp_size = pd.value_counts(labs)\n",
      "/Users/andson/miniconda3/envs/mouseatlas/lib/python3.12/site-packages/scib_metrics/_kbet.py:181: FutureWarning: pandas.value_counts is deprecated and will be removed in a future version. Use pd.Series(obj).value_counts() instead.\n",
      "  comp_size = pd.value_counts(labs)\n"
     ]
    },
    {
     "name": "stdout",
     "output_type": "stream",
     "text": [
      "\u001b[34mINFO    \u001b[0m VascEndo consists of a single batch or is too small. Skip.                                                \n",
      "\u001b[34mINFO    \u001b[0m VascSmMuscle1 consists of a single batch or is too small. Skip.                                           \n",
      "\u001b[34mINFO    \u001b[0m VascSmMuscle2 consists of a single batch or is too small. Skip.                                           \n"
     ]
    },
    {
     "name": "stderr",
     "output_type": "stream",
     "text": [
      "/Users/andson/miniconda3/envs/mouseatlas/lib/python3.12/site-packages/scib_metrics/_kbet.py:181: FutureWarning: pandas.value_counts is deprecated and will be removed in a future version. Use pd.Series(obj).value_counts() instead.\n",
      "  comp_size = pd.value_counts(labs)\n",
      "/Users/andson/miniconda3/envs/mouseatlas/lib/python3.12/site-packages/scib_metrics/_graph_connectivity.py:30: FutureWarning: pandas.value_counts is deprecated and will be removed in a future version. Use pd.Series(obj).value_counts() instead.\n",
      "  tab = pd.value_counts(comps)\n",
      "Embeddings: 100%|\u001b[32m██████████\u001b[0m| 5/5 [5:51:07<00:00, 4213.58s/it]  \n"
     ]
    }
   ],
   "source": [
    "bm = Benchmarker(\n",
    "    adatas,\n",
    "    batch_key=\"dataset_origin\",\n",
    "    label_key=\"celltype_integration\",\n",
    "    embedding_obsm_keys=[\"Unintegrated\", \"Scanorama\", \"Harmony\", \"scVI\", \"scANVI\"],\n",
    "    n_jobs=4,\n",
    ")\n",
    "bm.benchmark()"
   ]
  },
  {
   "cell_type": "code",
   "execution_count": 4,
   "metadata": {},
   "outputs": [
    {
     "name": "stderr",
     "output_type": "stream",
     "text": [
      "/Users/andson/miniconda3/envs/mouseatlas/lib/python3.12/site-packages/scib_metrics/benchmark/_core.py:268: FutureWarning: Setting an item of incompatible dtype is deprecated and will raise an error in a future version of pandas. Value 'Aggregate score' has dtype incompatible with float64, please explicitly cast to a compatible dtype first.\n",
      "  df.loc[_METRIC_TYPE, per_class_score.columns] = _AGGREGATE_SCORE\n",
      "/Users/andson/miniconda3/envs/mouseatlas/lib/python3.12/site-packages/scib_metrics/benchmark/_core.py:268: FutureWarning: Setting an item of incompatible dtype is deprecated and will raise an error in a future version of pandas. Value 'Aggregate score' has dtype incompatible with float64, please explicitly cast to a compatible dtype first.\n",
      "  df.loc[_METRIC_TYPE, per_class_score.columns] = _AGGREGATE_SCORE\n",
      "/Users/andson/miniconda3/envs/mouseatlas/lib/python3.12/site-packages/scib_metrics/benchmark/_core.py:268: FutureWarning: Setting an item of incompatible dtype is deprecated and will raise an error in a future version of pandas. Value 'Aggregate score' has dtype incompatible with float64, please explicitly cast to a compatible dtype first.\n",
      "  df.loc[_METRIC_TYPE, per_class_score.columns] = _AGGREGATE_SCORE\n"
     ]
    },
    {
     "data": {
      "image/png": "[encoded data removed]",
      "text/plain": [
       "<Figure size 1625x450 with 16 Axes>"
      ]
     },
     "metadata": {},
     "output_type": "display_data"
    },
    {
     "data": {
      "text/plain": [
       "<plottable.table.Table at 0x316dff1d0>"
      ]
     },
     "execution_count": 4,
     "metadata": {},
     "output_type": "execute_result"
    }
   ],
   "source": [
    "bm.plot_results_table()\n"
   ]
  },
  {
   "cell_type": "code",
   "execution_count": null,
   "metadata": {},
   "outputs": [],
   "source": [
    "import scvi.autotune import ModelTuner\n",
    "from ray import tune"
   ]
  },
  {
   "cell_type": "code",
   "execution_count": null,
   "metadata": {},
   "outputs": [],
   "source": [
    "sc.pp.filter_genes(adatas, min_cells = 50)"
   ]
  },
  {
   "cell_type": "code",
   "execution_count": null,
   "metadata": {},
   "outputs": [],
   "source": [
    "model_cls = scvi.model.SCVI\n",
    "model_cls.setup_anndata(adata, categorical_covariate_keys = ['dataset_origin'],\n",
    "                             continuous_covariate_keys=['percent.mito', 'percent_ribo'])\n",
    "\n",
    "tuner = ModelTuner(model_cls) "
   ]
  },
  {
   "cell_type": "code",
   "execution_count": null,
   "metadata": {},
   "outputs": [],
   "source": [
    "search_space = {\n",
    "    \"n_hidden\": tune.choice([92, 128, 192, 256]),\n",
    "    \"n_latent\": tune.choice([10, 20, 30, 40, 50, 60]),\n",
    "    \"n_layers\": tune.choice([1, 2, 3]),\n",
    "    \"lr\": tune.loguniform(1e-4, 1e-2),\n",
    "    \"gene_likelihood\": tune.choice([\"nb\", \"zinb\"])}"
   ]
  },
  {
   "cell_type": "code",
   "execution_count": null,
   "metadata": {},
   "outputs": [],
   "source": [
    "results = tuner.fit(adata, metric=\"validation_loss\",\n",
    "                    resources = {'gpu': 1}, #have to specify gpu or might not use\n",
    "                    search_space = search_space,\n",
    "                   num_samples = 100,\n",
    "                   max_epochs = 20)"
   ]
  },
  {
   "cell_type": "code",
   "execution_count": null,
   "metadata": {},
   "outputs": [],
   "source": [
    "best_vl = 10000\n",
    "best_i = 0\n",
    "for i, res in enumerate(results.results):\n",
    "    vl = res.metrics['validation_loss']\n",
    "\n",
    "    if vl < best_vl:\n",
    "        best_vl = vl\n",
    "        best_i = i"
   ]
  },
  {
   "cell_type": "code",
   "execution_count": null,
   "metadata": {},
   "outputs": [],
   "source": [
    "results.results[best_i]\n"
   ]
  },
  {
   "cell_type": "code",
   "execution_count": null,
   "metadata": {},
   "outputs": [],
   "source": [
    "scvi.model.SCVI.setup_anndata(adatas,\n",
    "                              categorical_covariate_keys = ['dataset_origin'],\n",
    "                             continuous_covariate_keys=['percent.mito', 'percent_ribo'])\n"
   ]
  },
  {
   "cell_type": "code",
   "execution_count": null,
   "metadata": {},
   "outputs": [],
   "source": [
    "model = scvi.model.SCVI(adatas, n_hidden = 256, n_latent = 10, n_layers = 3, gene_likelihood = 'zinb')\n"
   ]
  },
  {
   "cell_type": "code",
   "execution_count": null,
   "metadata": {},
   "outputs": [],
   "source": [
    "kwargs = {'lr': 0.0026}"
   ]
  },
  {
   "cell_type": "code",
   "execution_count": null,
   "metadata": {},
   "outputs": [],
   "source": [
    "model.train(max_epochs = 200, early_stopping = True, plan_kwargs = kwargs)\n"
   ]
  },
  {
   "cell_type": "code",
   "execution_count": null,
   "metadata": {},
   "outputs": [],
   "source": [
    "model.save('the_model')\n"
   ]
  },
  {
   "cell_type": "code",
   "execution_count": null,
   "metadata": {},
   "outputs": [],
   "source": [
    "y = model.history['reconstruction_loss_validation']['reconstruction_loss_validation'].min()\n"
   ]
  },
  {
   "cell_type": "code",
   "execution_count": null,
   "metadata": {},
   "outputs": [],
   "source": [
    "\n",
    "plt.plot(model.history['reconstruction_loss_train']['reconstruction_loss_train'], label='train')\n",
    "plt.plot(model.history['reconstruction_loss_validation']['reconstruction_loss_validation'], label='validation')\n",
    "\n",
    "plt.axhline(y, c = 'k')\n",
    "\n",
    "plt.legend()\n",
    "plt.show()"
   ]
  },
  {
   "cell_type": "code",
   "execution_count": null,
   "metadata": {},
   "outputs": [],
   "source": [
    "adatas.write_h5ad('temp.h5ad')\n"
   ]
  },
  {
   "cell_type": "code",
   "execution_count": null,
   "metadata": {},
   "outputs": [],
   "source": [
    "adatas.obsm['X_scVI'] = model.get_latent_representation()\n",
    "adatas.obsm['X_scVI'].shape\n",
    "sc.pp.neighbors(adatas, use_rep = 'X_scVI')\n",
    "sc.tl.leiden(adatas, resolution = 3, key_added = 'overcluster')\n",
    "sc.tl.umap(adatas)\n",
    "adatas.layers['counts'] = adatas.X.copy()\n",
    "sc.pp.normalize_total(adatas)\n",
    "sc.pp.log1p(adatas)\n",
    "adatas.write_h5ad('temp.h5ad')\n",
    "adatas.obs['low_major'] = adatas.obs.groupby('overcluster')['low_label'].transform(lambda x: x.mode()[0])\n",
    "sc.pl.umap(adatas, color = ['low_major'], s = 5)\n"
   ]
  },
  {
   "cell_type": "code",
   "execution_count": null,
   "metadata": {},
   "outputs": [],
   "source": [
    "model = scvi.model.SCVI.load('the_model/', adatas)\n"
   ]
  },
  {
   "cell_type": "code",
   "execution_count": 17,
   "metadata": {},
   "outputs": [],
   "source": [
    "adatas.write('/Users/andson/Mouse_Atlas_Intestine/merged_LI_scib_2.h5ad')"
   ]
  }
 ],
 "metadata": {
  "kernelspec": {
   "display_name": "mouseatlas",
   "language": "python",
   "name": "python3"
  },
  "language_info": {
   "codemirror_mode": {
    "name": "ipython",
    "version": 3
   },
   "file_extension": ".py",
   "mimetype": "text/x-python",
   "name": "python",
   "nbconvert_exporter": "python",
   "pygments_lexer": "ipython3",
   "version": "3.12.3"
  }
 },
 "nbformat": 4,
 "nbformat_minor": 2
}
